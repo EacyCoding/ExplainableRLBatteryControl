{
 "cells": [
  {
   "cell_type": "code",
   "execution_count": 5,
   "metadata": {},
   "outputs": [],
   "source": [
    "from copy import deepcopy\n",
    "from pathlib import Path\n",
    "import pickle\n",
    "import sys\n",
    "sys.path.append('..')\n",
    "import numpy as np\n",
    "from citylearn import  CityLearn\n",
    "from agents.marlisa import MARLISA\n",
    "from agents.rbc import RBC"
   ]
  },
  {
   "cell_type": "code",
   "execution_count": 2,
   "metadata": {},
   "outputs": [],
   "source": [
    "# Load environment\n",
    "climate_zone = 5\n",
    "params = {\n",
    "        'data_path':Path(\"../data/Climate_Zone_\"+str(climate_zone)), \n",
    "        'building_attributes':'building_attributes.json', \n",
    "        'weather_file':'weather_data.csv', \n",
    "        'solar_profile':'solar_generation_1kW.csv', \n",
    "        'carbon_intensity':'carbon_intensity.csv',\n",
    "        'building_ids':[\"Building_\"+str(i) for i in [1,2,3,4,5,6,7,8,9]],\n",
    "        'buildings_states_actions':'../buildings_state_action_space.json', \n",
    "        'simulation_period': (0, 8760*4-1),\n",
    "        'cost_function': ['ramping','1-load_factor','average_daily_peak','peak_demand','net_electricity_consumption','carbon_emissions'], \n",
    "        'central_agent': False,\n",
    "        'save_memory': False\n",
    "}\n",
    "\n",
    "# Contain the lower and upper bounds of the states and actions, to be provided to the agent \n",
    "# to normalize the variables between 0 and 1.\n",
    "# Can be obtained using observations_spaces[i].low or .high\n",
    "env = CityLearn(**params)\n",
    "observations_spaces, actions_spaces = env.get_state_action_spaces()\n",
    "\n",
    "# Provides information on Building type, Climate Zone, Annual DHW demand, \n",
    "# Annual Cooling Demand, Annual Electricity Demand, Solar Capacity, and correllations among buildings\n",
    "building_info = env.get_building_information()"
   ]
  },
  {
   "attachments": {},
   "cell_type": "markdown",
   "metadata": {},
   "source": [
    "# RBC"
   ]
  },
  {
   "cell_type": "code",
   "execution_count": null,
   "metadata": {},
   "outputs": [],
   "source": [
    "results_id = 'rbc'\n",
    "data = {\n",
    "    'env': None,\n",
    "    'agents': None,\n",
    "    'actions': [],\n",
    "    'rewards': [],\n",
    "}\n",
    "\n",
    "# initialize control agent\n",
    "params_agent = {\n",
    "    'actions_spaces':actions_spaces, \n",
    "}\n",
    "agents = RBC(**params_agent)\n",
    "state = env.reset()\n",
    "done = False\n",
    "hour_ix = 2\n",
    "hour_state = np.array([[state[0][hour_ix]]])\n",
    "action = agents.select_action(hour_state)\n",
    "data['actions'].append(action)\n",
    "  \n",
    "while not done:\n",
    "    print(f'\\rTime step: {env.time_step}/{env.simulation_period[1]}', end=' '*20)\n",
    "    next_state, _, done, _ = env.step(action)\n",
    "    hour_state = np.array([[state[0][hour_ix]]])\n",
    "    action_next = agents.select_action(hour_state)\n",
    "    state = next_state\n",
    "    action = action_next\n",
    "    data['actions'].append(action)\n",
    "\n",
    "print()\n",
    "rbc_cost = deepcopy(env.cost())\n",
    "\n",
    "# save env\n",
    "filepath = f'{results_id}.pkl'\n",
    "print(f'Saving simulation results...')\n",
    "\n",
    "with open(filepath, 'wb') as f:\n",
    "    data['env'] = env\n",
    "    data['agents'] = agents\n",
    "    pickle.dump(data, f)\n",
    "\n",
    "print(f'Saved simulation results to {filepath}')"
   ]
  },
  {
   "attachments": {},
   "cell_type": "markdown",
   "metadata": {},
   "source": [
    "# MARLISA"
   ]
  },
  {
   "cell_type": "code",
   "execution_count": null,
   "metadata": {},
   "outputs": [],
   "source": [
    "results_id = 'marlisa'\n",
    "data = {\n",
    "    'env': None,\n",
    "    'agents': None,\n",
    "    'actions': [],\n",
    "    'rewards': [],\n",
    "}\n",
    "\n",
    "# initialize control agent\n",
    "params_agent = {\n",
    "    'building_ids':[\"Building_\"+str(i) for i in [1,2,3,4,5,6,7,8,9]],\n",
    "    'buildings_states_actions':'../buildings_state_action_space.json', \n",
    "    'building_info':building_info,\n",
    "    'observation_spaces':observations_spaces, \n",
    "    'action_spaces':actions_spaces, \n",
    "    'hidden_dim':[256,256], \n",
    "    'discount':0.99, \n",
    "    'tau':5e-3, \n",
    "    'lr':3e-4, \n",
    "    'batch_size':256, \n",
    "    'replay_buffer_capacity':1e5, \n",
    "    'regression_buffer_capacity':3e4, \n",
    "    'start_training':600, # Start updating actor-critic networks\n",
    "    'exploration_period':7500, # Just taking random actions\n",
    "    'start_regression':500, # Start training the regression model\n",
    "    'information_sharing':True, # If True -> set the appropriate 'reward_function_ma' in reward_function.py\n",
    "    'pca_compression':.95, \n",
    "    'action_scaling_coef':0.5, # Actions are multiplied by this factor to prevent too aggressive actions\n",
    "    'reward_scaling':5., # Rewards are normalized and multiplied by this factor\n",
    "    'update_per_step':2, # How many times the actor-critic networks are updated every hourly time-step\n",
    "    'iterations_as':2,# Iterations of the iterative action selection (see MARLISA paper for more info)\n",
    "    'safe_exploration':True\n",
    "}\n",
    "agents = MARLISA(**params_agent)\n",
    "state = env.reset()\n",
    "done = False\n",
    "j = 0\n",
    "is_evaluating = False\n",
    "action, coordination_vars = agents.select_action(state, deterministic=is_evaluating)\n",
    "data['actions'].append(action)\n",
    "  \n",
    "while not done:\n",
    "    print(f'\\rTime step: {env.time_step}/{env.simulation_period[1]}', end=' '*20)\n",
    "    next_state, reward, done, _ = env.step(action)\n",
    "    action_next, coordination_vars_next = agents.select_action(next_state, deterministic=is_evaluating)\n",
    "    agents.add_to_buffer(state, action, reward, next_state, done, coordination_vars, coordination_vars_next)\n",
    "    coordination_vars = coordination_vars_next\n",
    "    state = next_state\n",
    "    action = action_next\n",
    "    data['actions'].append(action)\n",
    "    data['rewards'].append(reward)\n",
    "    is_evaluating = (j > 3*8760)\n",
    "    j += 1\n",
    "\n",
    "print()\n",
    "marlisa_cost = deepcopy(env.cost())\n",
    "\n",
    "# save env\n",
    "filepath = f'{results_id}.pkl'\n",
    "print(f'Saving simulation results...')\n",
    "\n",
    "with open(filepath, 'wb') as f:\n",
    "    data['env'] = env\n",
    "    data['agents'] = agents\n",
    "    pickle.dump(data, f)\n",
    "\n",
    "print(f'Saved simulation results to {filepath}')"
   ]
  },
  {
   "attachments": {},
   "cell_type": "markdown",
   "metadata": {},
   "source": [
    "# Cost"
   ]
  },
  {
   "cell_type": "code",
   "execution_count": 11,
   "metadata": {},
   "outputs": [
    {
     "name": "stdout",
     "output_type": "stream",
     "text": [
      "[{'ramping': 0.91902566, '1-load_factor': 0.9305743334008743, 'average_daily_peak': 0.86097056, 'peak_demand': 1.0063878, 'net_electricity_consumption': 0.98314023, 'carbon_emissions': 1.001453, 'total': 0.9503686274101599, 'coordination_score': 0.929548887851526}, {'ramping_last_yr': 0.79039854, '1-load_factor_last_yr': 0.9030067580400817, 'average_daily_peak_last_yr': 0.8035298, 'peak_demand_last_yr': 0.86645424, 'net_electricity_consumption_last_yr': 0.98141176, 'carbon_emissions_last_yr': 1.005203, 'coordination_score_last_yr': 0.8415331317480884, 'total_last_yr': 0.8842199533268318}]\n"
     ]
    }
   ],
   "source": [
    "# marlisa w.r.t. rbc\n",
    "cost = [{\n",
    "    r_k: m_v/r_v for (r_k, r_v), (_, m_v) in zip(r.items(), m.items())\n",
    "} for r, m in zip(rbc_cost, marlisa_cost)]\n",
    "print(cost)"
   ]
  }
 ],
 "metadata": {
  "kernelspec": {
   "display_name": "env",
   "language": "python",
   "name": "python3"
  },
  "language_info": {
   "codemirror_mode": {
    "name": "ipython",
    "version": 3
   },
   "file_extension": ".py",
   "mimetype": "text/x-python",
   "name": "python",
   "nbconvert_exporter": "python",
   "pygments_lexer": "ipython3",
   "version": "3.7.7"
  },
  "orig_nbformat": 4,
  "vscode": {
   "interpreter": {
    "hash": "903d05255d8294b96a131e0b2ab3ed3699077eee651cc5603c1bec354c40f9fd"
   }
  }
 },
 "nbformat": 4,
 "nbformat_minor": 2
}
