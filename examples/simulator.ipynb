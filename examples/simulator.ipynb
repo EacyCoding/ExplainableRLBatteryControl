{
 "cells": [
  {
   "attachments": {},
   "cell_type": "markdown",
   "metadata": {},
   "source": [
    "# How to Run a Simulation Using the Simulator\n",
    "\n",
    "`citylearn.citylearn.simulator.Simulator` provides an interface through its `citylearn.citylearn.simulator.Simulator.simulate` method that abstracts the source code needed to run a CityLearn simulation. See beloe for how to make use of the interface:"
   ]
  },
  {
   "cell_type": "code",
   "execution_count": 1,
   "metadata": {},
   "outputs": [
    {
     "name": "stdout",
     "output_type": "stream",
     "text": [
      "Building_1 : [{'carbon_emissions': 1.134, 'electricity_consumption': 1.184, 'pricing': 1.043, 'zero_net_energy': 1.118}]\n",
      "Building_2 : [{'carbon_emissions': 1.158, 'electricity_consumption': 1.215, 'pricing': 1.063, 'zero_net_energy': 1.101}]\n",
      "Building_3 : [{'carbon_emissions': 1.272, 'electricity_consumption': 1.346, 'pricing': 1.145, 'zero_net_energy': 1.294}]\n",
      "Building_4 : [{'carbon_emissions': 1.181, 'electricity_consumption': 1.237, 'pricing': 1.097, 'zero_net_energy': 1.085}]\n",
      "Building_5 : [{'carbon_emissions': 1.186, 'electricity_consumption': 1.262, 'pricing': 1.075, 'zero_net_energy': 1.145}]\n",
      "District : [{'1 - load_factor': 0.987, 'average_daily_peak': 1.15, 'carbon_emissions': 1.186, 'electricity_consumption': 1.249, 'peak_demand': 1.052, 'pricing': 1.085, 'ramping': 1.162, 'zero_net_energy': 1.148}]\n"
     ]
    }
   ],
   "source": [
    "from citylearn.citylearn import CityLearnEnv\n",
    "from citylearn.simulator import Simulator\n",
    "\n",
    "# initialize environment\n",
    "schema = 'citylearn_challenge_2022_phase_1'\n",
    "env = CityLearnEnv(schema)\n",
    "\n",
    "# intialize agent as defined in schema, \n",
    "# Alternatively, import and initialize the agent before initializing the simulator.\n",
    "agent = env.load_agent()\n",
    "\n",
    "# initialize simulator\n",
    "simulator = Simulator(env, agent, episodes=1) \n",
    "simulator.simulate()\n",
    "\n",
    "# print cost functions\n",
    "for n, nd in env.evaluate().groupby('name'):\n",
    "    nd = nd.pivot(index='name', columns='cost_function', values='value').round(3)\n",
    "    print(n, ':', nd.to_dict('records'))"
   ]
  }
 ],
 "metadata": {
  "kernelspec": {
   "display_name": "test_env",
   "language": "python",
   "name": "python3"
  },
  "language_info": {
   "codemirror_mode": {
    "name": "ipython",
    "version": 3
   },
   "file_extension": ".py",
   "mimetype": "text/x-python",
   "name": "python",
   "nbconvert_exporter": "python",
   "pygments_lexer": "ipython3",
   "version": "3.7.7 (v3.7.7:d7c567b08f, Mar 10 2020, 02:56:16) \n[Clang 6.0 (clang-600.0.57)]"
  },
  "orig_nbformat": 4,
  "vscode": {
   "interpreter": {
    "hash": "24d13602916ce501dab33551801634a98323f75b1378db411e4ca12af6dc15d7"
   }
  }
 },
 "nbformat": 4,
 "nbformat_minor": 2
}
