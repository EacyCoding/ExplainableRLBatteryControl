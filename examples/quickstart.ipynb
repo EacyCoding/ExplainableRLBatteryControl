{
 "cells": [
  {
   "attachments": {},
   "cell_type": "markdown",
   "metadata": {},
   "source": [
    "<a href=\"https://colab.research.google.com/github/intelligent-environments-lab/CityLearn/blob/master/examples/quickstart.ipynb\" target=\"_parent\"><img src=\"https://colab.research.google.com/assets/colab-badge.svg\" alt=\"Open In Colab\"/></a>"
   ]
  },
  {
   "attachments": {},
   "cell_type": "markdown",
   "metadata": {},
   "source": [
    "# QuickStart\n",
    "\n",
    "Install the latest CityLearn version from PyPi with the :code:`pip` command:"
   ]
  },
  {
   "cell_type": "code",
   "execution_count": null,
   "metadata": {
    "mystnb": {
     "remove_code_outputs": true
    },
    "vscode": {
     "languageId": "shellscript"
    }
   },
   "outputs": [],
   "source": [
    "pip install CityLearn"
   ]
  },
  {
   "attachments": {},
   "cell_type": "markdown",
   "metadata": {},
   "source": [
    "## Centralized RBC\n",
    "Run the following to simulate an environment controlled by centralized RBC agent for a single episode:"
   ]
  },
  {
   "cell_type": "code",
   "execution_count": 1,
   "metadata": {},
   "outputs": [
    {
     "name": "stdout",
     "output_type": "stream",
     "text": [
      "Building_1 : [{'carbon_emissions': 1.134, 'cost': 1.043, 'electricity_consumption': 1.184, 'zero_net_energy': 1.118}]\n",
      "Building_2 : [{'carbon_emissions': 1.158, 'cost': 1.063, 'electricity_consumption': 1.215, 'zero_net_energy': 1.101}]\n",
      "Building_3 : [{'carbon_emissions': 1.272, 'cost': 1.145, 'electricity_consumption': 1.346, 'zero_net_energy': 1.294}]\n",
      "Building_4 : [{'carbon_emissions': 1.181, 'cost': 1.097, 'electricity_consumption': 1.237, 'zero_net_energy': 1.085}]\n",
      "Building_5 : [{'carbon_emissions': 1.186, 'cost': 1.075, 'electricity_consumption': 1.262, 'zero_net_energy': 1.145}]\n",
      "District : [{'1 - load_factor': 0.987, 'average_daily_peak': 1.15, 'carbon_emissions': 1.186, 'cost': 1.085, 'electricity_consumption': 1.249, 'peak_demand': 1.052, 'ramping': 1.162, 'zero_net_energy': 1.148}]\n"
     ]
    }
   ],
   "source": [
    "from citylearn.citylearn import CityLearnEnv\n",
    "from citylearn.agents.rbc import BasicRBC as RBCAgent\n",
    "\n",
    "dataset_name = 'citylearn_challenge_2022_phase_1'\n",
    "env = CityLearnEnv(dataset_name, central_agent=True)\n",
    "model = RBCAgent(env)\n",
    "model.learn(episodes=1)\n",
    "\n",
    "# print cost functions at the end of episode\n",
    "for n, nd in env.evaluate().groupby('name'):\n",
    "    nd = nd.pivot(index='name', columns='cost_function', values='value').round(3)\n",
    "    print(n, ':', nd.to_dict('records'))"
   ]
  },
  {
   "attachments": {},
   "cell_type": "markdown",
   "metadata": {},
   "source": [
    "## Decentralized-Independent SAC\n",
    "\n",
    "Run the following to simulate an environment controlled by decentralized-independent SAC agents for 1 training episode:"
   ]
  },
  {
   "cell_type": "code",
   "execution_count": 2,
   "metadata": {},
   "outputs": [
    {
     "name": "stdout",
     "output_type": "stream",
     "text": [
      "Building_1 : [{'carbon_emissions': 0.953, 'cost': 0.944, 'electricity_consumption': 0.951, 'zero_net_energy': 1.079}]\n",
      "Building_2 : [{'carbon_emissions': 0.989, 'cost': 0.985, 'electricity_consumption': 0.987, 'zero_net_energy': 1.056}]\n",
      "Building_3 : [{'carbon_emissions': 1.007, 'cost': 0.985, 'electricity_consumption': 0.989, 'zero_net_energy': 1.181}]\n",
      "Building_4 : [{'carbon_emissions': 1.04, 'cost': 1.027, 'electricity_consumption': 1.024, 'zero_net_energy': 1.045}]\n",
      "Building_5 : [{'carbon_emissions': 0.975, 'cost': 0.926, 'electricity_consumption': 0.983, 'zero_net_energy': 1.063}]\n",
      "District : [{'1 - load_factor': 0.994, 'average_daily_peak': 0.951, 'carbon_emissions': 0.993, 'cost': 0.974, 'electricity_consumption': 0.987, 'peak_demand': 0.943, 'ramping': 1.049, 'zero_net_energy': 1.085}]\n"
     ]
    }
   ],
   "source": [
    "from citylearn.citylearn import CityLearnEnv\n",
    "from citylearn.agents.sac import SAC as RLAgent\n",
    "\n",
    "dataset_name = 'citylearn_challenge_2022_phase_1'\n",
    "env = CityLearnEnv(dataset_name)\n",
    "model = RLAgent(env)\n",
    "model.learn(episodes=2, deterministic_finish=True)\n",
    "\n",
    "for n, nd in env.evaluate().groupby('name'):\n",
    "    nd = nd.pivot(index='name', columns='cost_function', values='value').round(3)\n",
    "    print(n, ':', nd.to_dict('records'))"
   ]
  },
  {
   "attachments": {},
   "cell_type": "markdown",
   "metadata": {},
   "source": [
    "## Decentralized-Cooperative MARLISA\n",
    "\n",
    "Run the following to simulate an environment controlled by decentralized-cooperative MARLISA agents for 1 training episode:"
   ]
  },
  {
   "cell_type": "code",
   "execution_count": 3,
   "metadata": {},
   "outputs": [
    {
     "name": "stdout",
     "output_type": "stream",
     "text": [
      "Building_1 : [{'carbon_emissions': 1.025, 'cost': 1.016, 'electricity_consumption': 1.03, 'zero_net_energy': 1.019}]\n",
      "Building_2 : [{'carbon_emissions': 1.0, 'cost': 1.0, 'electricity_consumption': 1.0, 'zero_net_energy': 1.0}]\n",
      "Building_3 : [{'carbon_emissions': 0.998, 'cost': 0.995, 'electricity_consumption': 0.999, 'zero_net_energy': 1.016}]\n",
      "Building_4 : [{'carbon_emissions': 1.0, 'cost': 0.999, 'electricity_consumption': 1.0, 'zero_net_energy': 1.002}]\n",
      "Building_5 : [{'carbon_emissions': 1.0, 'cost': 1.0, 'electricity_consumption': 1.0, 'zero_net_energy': 1.0}]\n",
      "District : [{'1 - load_factor': 1.0, 'average_daily_peak': 1.002, 'carbon_emissions': 1.005, 'cost': 1.002, 'electricity_consumption': 1.006, 'peak_demand': 1.0, 'ramping': 1.016, 'zero_net_energy': 1.007}]\n"
     ]
    }
   ],
   "source": [
    "from citylearn.citylearn import CityLearnEnv\n",
    "from citylearn.agents.marlisa import MARLISA as RLAgent\n",
    "\n",
    "dataset_name = 'citylearn_challenge_2022_phase_1'\n",
    "env = CityLearnEnv(dataset_name)\n",
    "model = RLAgent(env)\n",
    "model.learn(episodes=2, deterministic_finish=True)\n",
    "\n",
    "for n, nd in env.evaluate().groupby('name'):\n",
    "    nd = nd.pivot(index='name', columns='cost_function', values='value').round(3)\n",
    "    print(n, ':', nd.to_dict('records'))"
   ]
  },
  {
   "attachments": {},
   "cell_type": "markdown",
   "metadata": {},
   "source": [
    "# Stable Baselines3 Reinforcement Learning Algorithms\n",
    "\n",
    "Install the latest version of Stable Baselines3:"
   ]
  },
  {
   "cell_type": "code",
   "execution_count": null,
   "metadata": {
    "vscode": {
     "languageId": "shellscript"
    }
   },
   "outputs": [],
   "source": [
    "pip install stable-baselines3"
   ]
  },
  {
   "attachments": {},
   "cell_type": "markdown",
   "metadata": {},
   "source": [
    "Before the environment is ready for use in Stable Baselines3, it needs to be wrapped. Firstly, wrap the environment using the `NormalizedObservationWrapper` (see [docs](https://www.citylearn.net/api/citylearn.wrappers.html#citylearn.wrappers.NormalizedObservationWrapper)) to ensure that observations served to the agent are min-max normalized between [0, 1] and cyclical observations e.g. hour, are encoded using the cosine transformation.\n",
    "\n",
    "Next, we wrap with the `StableBaselines3Wrapper` (see [docs](https://www.citylearn.net/api/citylearn.wrappers.html#citylearn.wrappers.StableBaselines3Wrapper)) that ensures observations, actions and rewards are served in manner that is compatible with Stable Baselines3 interface.\n",
    "\n",
    "> ⚠️ **NOTE**: `central_agent` in the `env` must be `True` when using Stable Baselines3  as it does not support multi-agents."
   ]
  },
  {
   "cell_type": "code",
   "execution_count": 4,
   "metadata": {},
   "outputs": [
    {
     "name": "stdout",
     "output_type": "stream",
     "text": [
      "Building_1 : [{'carbon_emissions': 1.107, 'cost': 1.104, 'electricity_consumption': 1.08, 'zero_net_energy': 1.129}]\n",
      "Building_2 : [{'carbon_emissions': 1.078, 'cost': 0.998, 'electricity_consumption': 1.075, 'zero_net_energy': 1.087}]\n",
      "Building_3 : [{'carbon_emissions': 1.211, 'cost': 1.191, 'electricity_consumption': 1.191, 'zero_net_energy': 1.235}]\n",
      "Building_4 : [{'carbon_emissions': 1.269, 'cost': 1.402, 'electricity_consumption': 1.204, 'zero_net_energy': 1.087}]\n",
      "Building_5 : [{'carbon_emissions': 1.273, 'cost': 1.205, 'electricity_consumption': 1.277, 'zero_net_energy': 1.12}]\n",
      "District : [{'1 - load_factor': 1.012, 'average_daily_peak': 1.106, 'carbon_emissions': 1.188, 'cost': 1.18, 'electricity_consumption': 1.165, 'peak_demand': 1.261, 'ramping': 1.45, 'zero_net_energy': 1.132}]\n"
     ]
    }
   ],
   "source": [
    "from stable_baselines3.sac import SAC\n",
    "from citylearn.citylearn import CityLearnEnv\n",
    "from citylearn.wrappers import NormalizedObservationWrapper, StableBaselines3Wrapper\n",
    "\n",
    "dataset_name = 'citylearn_challenge_2022_phase_1'\n",
    "env = CityLearnEnv(dataset_name, central_agent=True)\n",
    "env = NormalizedObservationWrapper(env)\n",
    "env = StableBaselines3Wrapper(env)\n",
    "model = SAC('MlpPolicy', env)\n",
    "model.learn(total_timesteps=env.time_steps*2)\n",
    "\n",
    "observations = env.reset()\n",
    "\n",
    "while not env.done:\n",
    "    actions, _ = model.predict(observations, deterministic=True)\n",
    "    observations, _, _, _ = env.step(actions)\n",
    "\n",
    "for n, nd in env.evaluate().groupby('name'):\n",
    "    nd = nd.pivot(index='name', columns='cost_function', values='value').round(3)\n",
    "    print(n, ':', nd.to_dict('records'))"
   ]
  }
 ],
 "metadata": {
  "kernelspec": {
   "display_name": "test_env",
   "language": "python",
   "name": "python3"
  },
  "language_info": {
   "codemirror_mode": {
    "name": "ipython",
    "version": 3
   },
   "file_extension": ".py",
   "mimetype": "text/x-python",
   "name": "python",
   "nbconvert_exporter": "python",
   "pygments_lexer": "ipython3",
   "version": "3.7.7"
  },
  "orig_nbformat": 4,
  "vscode": {
   "interpreter": {
    "hash": "24d13602916ce501dab33551801634a98323f75b1378db411e4ca12af6dc15d7"
   }
  }
 },
 "nbformat": 4,
 "nbformat_minor": 2
}
