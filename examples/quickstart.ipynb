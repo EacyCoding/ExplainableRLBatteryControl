{
 "cells": [
  {
   "attachments": {},
   "cell_type": "markdown",
   "metadata": {},
   "source": [
    "# QuickStart\n",
    "\n",
    "Install the latest CityLearn version from PyPi with the :code:`pip` command:"
   ]
  },
  {
   "cell_type": "code",
   "execution_count": null,
   "metadata": {
    "mystnb": {
     "remove_code_outputs": true
    },
    "vscode": {
     "languageId": "shellscript"
    }
   },
   "outputs": [],
   "source": [
    "pip install CityLearn"
   ]
  },
  {
   "attachments": {},
   "cell_type": "markdown",
   "metadata": {},
   "source": [
    "## Centralized RBC\n",
    "Run the following to simulate an environment controlled by centralized RBC agent for a single episode:"
   ]
  },
  {
   "cell_type": "code",
   "execution_count": 9,
   "metadata": {},
   "outputs": [
    {
     "name": "stdout",
     "output_type": "stream",
     "text": [
      "Building_1 : [{'carbon_emissions': 1.134, 'electricity_consumption': 1.184, 'pricing': 1.043, 'zero_net_energy': 1.118}]\n",
      "Building_2 : [{'carbon_emissions': 1.158, 'electricity_consumption': 1.215, 'pricing': 1.063, 'zero_net_energy': 1.101}]\n",
      "Building_3 : [{'carbon_emissions': 1.272, 'electricity_consumption': 1.346, 'pricing': 1.145, 'zero_net_energy': 1.294}]\n",
      "Building_4 : [{'carbon_emissions': 1.181, 'electricity_consumption': 1.237, 'pricing': 1.097, 'zero_net_energy': 1.085}]\n",
      "Building_5 : [{'carbon_emissions': 1.186, 'electricity_consumption': 1.262, 'pricing': 1.075, 'zero_net_energy': 1.145}]\n",
      "District : [{'1 - load_factor': 0.987, 'average_daily_peak': 1.15, 'carbon_emissions': 1.186, 'electricity_consumption': 1.249, 'peak_demand': 1.052, 'pricing': 1.085, 'ramping': 1.162, 'zero_net_energy': 1.148}]\n"
     ]
    }
   ],
   "source": [
    "from citylearn.citylearn import CityLearnEnv\n",
    "from citylearn.agents.rbc import BasicRBC as RBCAgent\n",
    "\n",
    "dataset_name = 'citylearn_challenge_2022_phase_1'\n",
    "env = CityLearnEnv(dataset_name, central_agent=True)\n",
    "agents = RBCAgent(\n",
    "    action_space=env.action_space,\n",
    "    observation_space=env.observation_space,\n",
    "    building_information=env.get_building_information(),\n",
    "    observation_names=env.observation_names,\n",
    ")\n",
    "observations = env.reset()\n",
    "\n",
    "while not env.done:\n",
    "    actions = agents.select_actions(observations)\n",
    "\n",
    "    # apply actions to env\n",
    "    observations, rewards, _, _ = env.step(actions)\n",
    "\n",
    "# print cost functions at the end of episode\n",
    "for n, nd in env.evaluate().groupby('name'):\n",
    "    nd = nd.pivot(index='name', columns='cost_function', values='value').round(3)\n",
    "    print(n, ':', nd.to_dict('records'))"
   ]
  },
  {
   "attachments": {},
   "cell_type": "markdown",
   "metadata": {},
   "source": [
    "## Decentralized-Independent SAC\n",
    "\n",
    "Run the following to simulate an environment controlled by decentralized-independent SAC agents for 1 training episode:"
   ]
  },
  {
   "cell_type": "code",
   "execution_count": 10,
   "metadata": {},
   "outputs": [
    {
     "name": "stdout",
     "output_type": "stream",
     "text": [
      "Episode: 0\n",
      "Building_1 : [{'carbon_emissions': 1.262, 'electricity_consumption': 1.277, 'pricing': 1.227, 'zero_net_energy': 1.195}]\n",
      "Building_2 : [{'carbon_emissions': 1.303, 'electricity_consumption': 1.321, 'pricing': 1.273, 'zero_net_energy': 1.163}]\n",
      "Building_3 : [{'carbon_emissions': 1.514, 'electricity_consumption': 1.534, 'pricing': 1.477, 'zero_net_energy': 1.474}]\n",
      "Building_4 : [{'carbon_emissions': 1.399, 'electricity_consumption': 1.394, 'pricing': 1.406, 'zero_net_energy': 1.134}]\n",
      "Building_5 : [{'carbon_emissions': 1.469, 'electricity_consumption': 1.494, 'pricing': 1.425, 'zero_net_energy': 1.224}]\n",
      "District : [{'1 - load_factor': 1.007, 'average_daily_peak': 1.33, 'carbon_emissions': 1.389, 'electricity_consumption': 1.404, 'peak_demand': 1.343, 'pricing': 1.361, 'ramping': 2.178, 'zero_net_energy': 1.238}]\n"
     ]
    }
   ],
   "source": [
    "from citylearn.citylearn import CityLearnEnv\n",
    "from citylearn.agents.sac import SAC as RLAgent\n",
    "\n",
    "dataset_name = 'citylearn_challenge_2022_phase_1'\n",
    "env = CityLearnEnv(dataset_name)\n",
    "agents = RLAgent(\n",
    "    action_space=env.action_space,\n",
    "    observation_space=env.observation_space,\n",
    "    building_information=env.get_building_information(),\n",
    "    observation_names=env.observation_names,\n",
    ")\n",
    "episodes = 1 # number of training episodes\n",
    "\n",
    "# train agents\n",
    "for e in range(episodes):\n",
    "    observations = env.reset()\n",
    "\n",
    "    while not env.done:\n",
    "        actions = agents.select_actions(observations)\n",
    "\n",
    "        # apply actions to env\n",
    "        next_observations, rewards, _, _ = env.step(actions)\n",
    "\n",
    "        # update policies\n",
    "        agents.add_to_buffer(observations, actions, rewards, next_observations, done=env.done)\n",
    "        observations = [o for o in next_observations]\n",
    "\n",
    "    # print cost functions at the end of episode\n",
    "    print(f'Episode: {e}')\n",
    "    \n",
    "    for n, nd in env.evaluate().groupby('name'):\n",
    "        nd = nd.pivot(index='name', columns='cost_function', values='value').round(3)\n",
    "        print(n, ':', nd.to_dict('records'))"
   ]
  },
  {
   "attachments": {},
   "cell_type": "markdown",
   "metadata": {},
   "source": [
    "## Decentralized-Cooperative MARLISA\n",
    "\n",
    "Run the following to simulate an environment controlled by decentralized-cooperative MARLISA agents for 1 training episode:"
   ]
  },
  {
   "cell_type": "code",
   "execution_count": 11,
   "metadata": {},
   "outputs": [
    {
     "name": "stdout",
     "output_type": "stream",
     "text": [
      "Episode: 0\n",
      "Building_1 : [{'carbon_emissions': 1.271, 'electricity_consumption': 1.283, 'pricing': 1.236, 'zero_net_energy': 1.184}]\n",
      "Building_2 : [{'carbon_emissions': 1.316, 'electricity_consumption': 1.33, 'pricing': 1.289, 'zero_net_energy': 1.158}]\n",
      "Building_3 : [{'carbon_emissions': 1.524, 'electricity_consumption': 1.537, 'pricing': 1.511, 'zero_net_energy': 1.458}]\n",
      "Building_4 : [{'carbon_emissions': 1.394, 'electricity_consumption': 1.395, 'pricing': 1.392, 'zero_net_energy': 1.131}]\n",
      "Building_5 : [{'carbon_emissions': 1.481, 'electricity_consumption': 1.501, 'pricing': 1.441, 'zero_net_energy': 1.222}]\n",
      "District : [{'1 - load_factor': 1.005, 'average_daily_peak': 1.342, 'carbon_emissions': 1.397, 'electricity_consumption': 1.409, 'peak_demand': 1.232, 'pricing': 1.374, 'ramping': 2.201, 'zero_net_energy': 1.23}]\n"
     ]
    }
   ],
   "source": [
    "from citylearn.citylearn import CityLearnEnv\n",
    "from citylearn.agents.marlisa import MARLISA as RLAgent\n",
    "\n",
    "dataset_name = 'citylearn_challenge_2022_phase_1'\n",
    "env = CityLearnEnv(dataset_name)\n",
    "agents = RLAgent(\n",
    "    action_space=env.action_space,\n",
    "    observation_space=env.observation_space,\n",
    "    building_information=env.get_building_information(),\n",
    "    observation_names=env.observation_names,\n",
    ")\n",
    "episodes = 1 # number of training episodes\n",
    "\n",
    "# train agents\n",
    "for e in range(episodes):\n",
    "    observations = env.reset()\n",
    "\n",
    "    while not env.done:\n",
    "        actions = agents.select_actions(observations)\n",
    "\n",
    "        # apply actions to env\n",
    "        next_observations, rewards, _, _ = env.step(actions)\n",
    "\n",
    "        # update policies\n",
    "        agents.add_to_buffer(observations, actions, rewards, next_observations, done=env.done)\n",
    "        observations = [o for o in next_observations]\n",
    "\n",
    "    # print cost functions at the end of episode\n",
    "    print(f'Episode: {e}')\n",
    "    \n",
    "    for n, nd in env.evaluate().groupby('name'):\n",
    "        nd = nd.pivot(index='name', columns='cost_function', values='value').round(3)\n",
    "        print(n, ':', nd.to_dict('records'))"
   ]
  }
 ],
 "metadata": {
  "kernelspec": {
   "display_name": "test_env",
   "language": "python",
   "name": "python3"
  },
  "language_info": {
   "codemirror_mode": {
    "name": "ipython",
    "version": 3
   },
   "file_extension": ".py",
   "mimetype": "text/x-python",
   "name": "python",
   "nbconvert_exporter": "python",
   "pygments_lexer": "ipython3",
   "version": "3.7.7 (v3.7.7:d7c567b08f, Mar 10 2020, 02:56:16) \n[Clang 6.0 (clang-600.0.57)]"
  },
  "orig_nbformat": 4,
  "vscode": {
   "interpreter": {
    "hash": "24d13602916ce501dab33551801634a98323f75b1378db411e4ca12af6dc15d7"
   }
  }
 },
 "nbformat": 4,
 "nbformat_minor": 2
}
