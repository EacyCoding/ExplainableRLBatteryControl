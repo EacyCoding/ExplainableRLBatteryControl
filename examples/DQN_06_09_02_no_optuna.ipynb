{
 "cells": [
  {
   "cell_type": "markdown",
   "id": "681b71d8",
   "metadata": {},
   "source": [
    "#### Imports"
   ]
  },
  {
   "cell_type": "code",
   "execution_count": 1,
   "id": "e81f853b",
   "metadata": {},
   "outputs": [
    {
     "name": "stdout",
     "output_type": "stream",
     "text": [
      "Couldn't import dot_parser, loading of dot files will not be possible.\n"
     ]
    },
    {
     "name": "stderr",
     "output_type": "stream",
     "text": [
      "2025-09-02 12:56:49.119025: I tensorflow/core/util/port.cc:153] oneDNN custom operations are on. You may see slightly different numerical results due to floating-point round-off errors from different computation orders. To turn them off, set the environment variable `TF_ENABLE_ONEDNN_OPTS=0`.\n",
      "2025-09-02 12:56:49.133043: E external/local_xla/xla/stream_executor/cuda/cuda_fft.cc:467] Unable to register cuFFT factory: Attempting to register factory for plugin cuFFT when one has already been registered\n",
      "WARNING: All log messages before absl::InitializeLog() is called are written to STDERR\n",
      "E0000 00:00:1756810609.147244 1022934 cuda_dnn.cc:8579] Unable to register cuDNN factory: Attempting to register factory for plugin cuDNN when one has already been registered\n",
      "E0000 00:00:1756810609.151386 1022934 cuda_blas.cc:1407] Unable to register cuBLAS factory: Attempting to register factory for plugin cuBLAS when one has already been registered\n",
      "W0000 00:00:1756810609.163044 1022934 computation_placer.cc:177] computation placer already registered. Please check linkage and avoid linking the same target more than once.\n",
      "W0000 00:00:1756810609.163056 1022934 computation_placer.cc:177] computation placer already registered. Please check linkage and avoid linking the same target more than once.\n",
      "W0000 00:00:1756810609.163058 1022934 computation_placer.cc:177] computation placer already registered. Please check linkage and avoid linking the same target more than once.\n",
      "W0000 00:00:1756810609.163059 1022934 computation_placer.cc:177] computation placer already registered. Please check linkage and avoid linking the same target more than once.\n",
      "2025-09-02 12:56:49.167031: I tensorflow/core/platform/cpu_feature_guard.cc:210] This TensorFlow binary is optimized to use available CPU instructions in performance-critical operations.\n",
      "To enable the following instructions: AVX2 AVX512F AVX512_VNNI FMA, in other operations, rebuild TensorFlow with the appropriate compiler flags.\n"
     ]
    },
    {
     "name": "stdout",
     "output_type": "stream",
     "text": [
      "Python: 3.11.7\n",
      "Torch : 2.7.0+cu126\n",
      "CityLearn: 2.4.1\n",
      "Optuna installed.\n"
     ]
    },
    {
     "name": "stderr",
     "output_type": "stream",
     "text": [
      "\n",
      "\u001b[1m[\u001b[0m\u001b[34;49mnotice\u001b[0m\u001b[1;39;49m]\u001b[0m\u001b[39;49m A new release of pip is available: \u001b[0m\u001b[31;49m25.1.1\u001b[0m\u001b[39;49m -> \u001b[0m\u001b[32;49m25.2\u001b[0m\n",
      "\u001b[1m[\u001b[0m\u001b[34;49mnotice\u001b[0m\u001b[1;39;49m]\u001b[0m\u001b[39;49m To update, run: \u001b[0m\u001b[32;49m/hkfs/home/haicore/iai/cj9272/citylearn_env/bin/python -m pip install --upgrade pip\u001b[0m\n"
     ]
    }
   ],
   "source": [
    "import sys, subprocess\n",
    "# System operations\n",
    "import os\n",
    "\n",
    "# Type hinting\n",
    "from typing import Any, List, Mapping, Tuple, Union\n",
    "\n",
    "# Data visualization\n",
    "import matplotlib.pyplot as plt\n",
    "\n",
    "# Data manipulation\n",
    "import numpy as np\n",
    "import pandas as pd\n",
    "import gymnasium as gym\n",
    "import torch as th\n",
    "import copy, time, json, pickle\n",
    "\n",
    "# CityLearn\n",
    "import citylearn\n",
    "from citylearn.data import DataSet\n",
    "from citylearn.wrappers import NormalizedObservationWrapper, StableBaselines3Wrapper\n",
    "from citylearn.citylearn import CityLearnEnv\n",
    "\n",
    "# Baseline RL algorithms\n",
    "from stable_baselines3 import DQN\n",
    "from stable_baselines3.common.callbacks import BaseCallback\n",
    "from stable_baselines3.common.monitor import Monitor\n",
    "\n",
    "# Utils\n",
    "from utils.env_utils import DiscretizeActionWrapper, keep_only_electrical_storage, keep_only_core_observations\n",
    "\n",
    "print('Python:', sys.version.split()[0])\n",
    "print('Torch :', th.__version__)\n",
    "print('CityLearn:', citylearn.__version__)\n",
    "subprocess.check_call([sys.executable, \"-m\", \"pip\", \"install\", \"-q\", \"optuna\", \"optuna-dashboard\"])\n",
    "print(\"Optuna installed.\")"
   ]
  },
  {
   "cell_type": "markdown",
   "id": "21e2f110",
   "metadata": {},
   "source": [
    "#### Variables"
   ]
  },
  {
   "cell_type": "code",
   "execution_count": 2,
   "id": "4530515b",
   "metadata": {},
   "outputs": [],
   "source": [
    "DATASET_NAME = 'citylearn_challenge_2023_phase_3_1'  # adjust if needed\n",
    "ROOT_DIR = r'/hkfs/home/haicore/iai/cj9272/Bachelorthesis_DQN_Agent/data/datasets/citylearn_challenge_2023_phase_3_1'\n",
    "EVAL_FILE = \"dqn_eval_results.pkl\"\n",
    "REWARD_FN = {  # CostReward \n",
    "    'type': 'citylearn.reward_function.CostReward',\n",
    "    'attributes': {}\n",
    "}\n",
    "PRICING_FILE = 'pricing_germany_2023_june_to_august.csv'\n",
    "ACTION_LABELS = ['100%_discharge','50%_discharge','idle','50%_charge','100%_charge']\n",
    "NAME_TO_FRAC = {\n",
    "    '100%_discharge': -1.0,\n",
    "    '50%_discharge': -0.5,\n",
    "    'idle': 0.0,\n",
    "    '50%_charge': 0.5,\n",
    "    '100%_charge': 1.0,\n",
    "}\n",
    "INT_TO_FRAC = np.array([NAME_TO_FRAC[n] for n in ACTION_LABELS], dtype=np.float32)\n",
    "EVAL_EPISODES = 10"
   ]
  },
  {
   "cell_type": "code",
   "execution_count": 3,
   "id": "dcff422f",
   "metadata": {},
   "outputs": [],
   "source": [
    "observations = [\n",
    "    # building_df\n",
    "    'month', 'hour', 'day_type', 'daylight_savings_status',\n",
    "    'indoor_dry_bulb_temperature',\n",
    "    'average_unmet_cooling_setpoint_difference',\n",
    "    'indoor_relative_humidity',\n",
    "    'non_shiftable_load', 'dhw_demand',\n",
    "    'cooling_demand', 'heating_demand',\n",
    "    'solar_generation', 'occupant_count',\n",
    "    'indoor_dry_bulb_temperature_cooling_set_point',\n",
    "    'indoor_dry_bulb_temperature_heating_set_point', 'hvac_mode',\n",
    "    # weather_df\n",
    "    'outdoor_dry_bulb_temperature',\n",
    "    'outdoor_relative_humidity',\n",
    "    'diffuse_solar_irradiance',\n",
    "    'direct_solar_irradiance',\n",
    "    'outdoor_dry_bulb_temperature_predicted_1',\n",
    "    'outdoor_dry_bulb_temperature_predicted_2',\n",
    "    'outdoor_dry_bulb_temperature_predicted_3',\n",
    "    'outdoor_relative_humidity_predicted_1',\n",
    "    'outdoor_relative_humidity_predicted_2',\n",
    "    'outdoor_relative_humidity_predicted_3',\n",
    "    'diffuse_solar_irradiance_predicted_1',\n",
    "    'diffuse_solar_irradiance_predicted_2',\n",
    "    'diffuse_solar_irradiance_predicted_3',\n",
    "    'direct_solar_irradiance_predicted_1',\n",
    "    'direct_solar_irradiance_predicted_2',\n",
    "    'direct_solar_irradiance_predicted_3',\n",
    "    # carbon_df \n",
    "    'carbon_intensity',\n",
    "    # pricing_df\n",
    "    'electricity_pricing',\n",
    "    'electricity_pricing_predicted_1',\n",
    "    'electricity_pricing_predicted_2',\n",
    "    'electricity_pricing_predicted_3'\n",
    "]\n",
    "bld_cols = [\n",
    "            'month', 'hour', 'day_type', 'daylight_savings_status',\n",
    "            'indoor_dry_bulb_temperature',\n",
    "            'average_unmet_cooling_setpoint_difference',\n",
    "            'indoor_relative_humidity', 'non_shiftable_load',\n",
    "            'dhw_demand', 'cooling_demand', 'heating_demand',\n",
    "            'solar_generation', 'occupant_count',\n",
    "            'indoor_dry_bulb_temperature_cooling_set_point',\n",
    "            'indoor_dry_bulb_temperature_heating_set_point',\n",
    "            'hvac_mode'\n",
    "]\n",
    "wth_cols = [\n",
    "    'outdoor_dry_bulb_temperature',\n",
    "    'outdoor_relative_humidity',\n",
    "    'diffuse_solar_irradiance',\n",
    "    'direct_solar_irradiance'\n",
    "]"
   ]
  },
  {
   "cell_type": "code",
   "execution_count": 4,
   "id": "69b053b2",
   "metadata": {},
   "outputs": [
    {
     "name": "stderr",
     "output_type": "stream",
     "text": [
      "INFO:root:Go here /home/iai/cj9272/.cache/citylearn/v2.4.1/datasets/citylearn_challenge_2023_phase_3_1/schema.json \n"
     ]
    }
   ],
   "source": [
    "# --- Load schema ---\n",
    "dataset = DataSet()\n",
    "schema = dataset.get_schema(DATASET_NAME)\n",
    "schema['root_directory'] = ROOT_DIR\n",
    "schema['reward_function'] = REWARD_FN\n",
    "\n",
    "price_file = PRICING_FILE # Set pricing file\n",
    "if 'buildings' not in schema:\n",
    "    raise RuntimeError(\"schema does not contain 'buildings' (make sure schema is loaded first)\")\n",
    "for bname, bconf in schema['buildings'].items():\n",
    "    bconf['pricing'] = price_file\n",
    "\n",
    "schema = keep_only_electrical_storage(schema) # Activate only the electrical storage control (fix \"Expected 18 actions but got 1\")\n",
    "schema = keep_only_core_observations(schema, extra_keep=['carbon_intensity', 'non_shiftable_load'], drop_predictions=False)"
   ]
  },
  {
   "cell_type": "code",
   "execution_count": 5,
   "id": "ec41d2c4",
   "metadata": {},
   "outputs": [],
   "source": [
    "class TrainLoggerCallback(BaseCallback):\n",
    "    \"\"\"Logging State, Action, Reward per step and Loss per update phase.\"\"\"\n",
    "    def __init__(self, verbose=0):\n",
    "        super().__init__(verbose)\n",
    "        # Will collect a dict per env-step\n",
    "        self.rows = []\n",
    "        # Loss values and their timesteps (global)\n",
    "        self.losses = []\n",
    "        self.loss_timesteps = []\n",
    "        # Completed episode returns (global list)\n",
    "        self.episode_rewards = []\n",
    "        # Placeholders for per-env tracking\n",
    "        self._current_ep_rewards = []         # sum of rewards in current episode per env\n",
    "        self._current_ep_counts = []          # episode index per env\n",
    "        self._current_step_in_episode = []    # step counter (0..T-1) per env\n",
    "\n",
    "        # DataFrames to populate at end\n",
    "        self.df = pd.DataFrame()\n",
    "        self.ep_df = pd.DataFrame()\n",
    "\n",
    "    def _on_training_start(self) -> None:\n",
    "        try:\n",
    "            n_envs = self.training_env.num_envs\n",
    "        except AttributeError:\n",
    "            n_envs = 1\n",
    "        # initialize counters per sub-env\n",
    "        self._current_ep_rewards = [0.0] * n_envs\n",
    "        self._current_ep_counts = [1] * n_envs\n",
    "        self._current_step_in_episode = [0] * n_envs\n",
    "        super()._on_training_start()\n",
    "\n",
    "    def _on_step(self) -> bool:\n",
    "        obs_vec = self.locals.get(\"new_obs\")\n",
    "        acts    = self.locals.get(\"actions\")\n",
    "        rews    = self.locals.get(\"rewards\")\n",
    "        dones   = self.locals.get(\"dones\")\n",
    "        step    = int(self.num_timesteps)\n",
    "\n",
    "        # log loss if present\n",
    "        loss_val = self.logger.name_to_value.get(\"train/loss\")\n",
    "        if loss_val is not None:\n",
    "            self.losses.append(float(loss_val))\n",
    "            self.loss_timesteps.append(step)\n",
    "\n",
    "        # iterate each sub-env\n",
    "        for idx, (obs, act, rew, done) in enumerate(zip(obs_vec, acts, rews, dones)):\n",
    "            # flatten observation\n",
    "            flat = obs.flatten().tolist()\n",
    "            # build row with metadata\n",
    "            row = {f\"x{i}\": flat[i] for i in range(len(flat))}\n",
    "            row.update({\n",
    "                \"env_id\": idx,\n",
    "                \"episode\": self._current_ep_counts[idx],\n",
    "                \"step_in_ep\": self._current_step_in_episode[idx],\n",
    "                \"action\": int(act),\n",
    "                \"reward\": float(rew),\n",
    "                \"global_step\": step\n",
    "            })\n",
    "            row['action_name'] = ACTION_LABELS[int(act)]\n",
    "            row['action_frac'] = NAME_TO_FRAC[row['action_name']]\n",
    "            self.rows.append(row)\n",
    "\n",
    "            # accumulate per-episode reward\n",
    "            self._current_ep_rewards[idx] += float(rew)\n",
    "            # increment step in episode\n",
    "            self._current_step_in_episode[idx] += 1\n",
    "\n",
    "            # if end of episode for this env\n",
    "            if done:\n",
    "                # log reward and finalize episode\n",
    "                print(f\"Env {idx} Episode {self._current_ep_counts[idx]} done at global step {step}, total reward: {self._current_ep_rewards[idx]:.3f}\")\n",
    "                self.episode_rewards.append(self._current_ep_rewards[idx])\n",
    "                # reset for next episode\n",
    "                self._current_ep_rewards[idx] = 0.0\n",
    "                self._current_ep_counts[idx] += 1\n",
    "                self._current_step_in_episode[idx] = 0\n",
    "\n",
    "        return True\n",
    "\n",
    "    def _on_training_end(self) -> None:\n",
    "        # build full-step DataFrame\n",
    "        self.df = pd.DataFrame(self.rows)\n",
    "        # build episodes summary DataFrame\n",
    "        self.ep_df = pd.DataFrame({\n",
    "            \"episode_global\": range(1, len(self.episode_rewards) + 1),\n",
    "            \"return\": self.episode_rewards\n",
    "        })\n",
    "        super()._on_training_end()"
   ]
  },
  {
   "cell_type": "code",
   "execution_count": null,
   "id": "9d722e58",
   "metadata": {},
   "outputs": [
    {
     "name": "stdout",
     "output_type": "stream",
     "text": [
      "/hkfs/home/haicore/iai/cj9272/Bachelorthesis_DQN_Agent/data/datasets/citylearn_challenge_2023_phase_3_1\n",
      "Dataset '/hkfs/home/haicore/iai/cj9272/Bachelorthesis_DQN_Agent/data/datasets/citylearn_challenge_2023_phase_3_1' copied to '/hkfs/home/haicore/iai/cj9272/Bachelorthesis_DQN_Agent/data/datasets/citylearn_challenge_2023_phase_3_1/../../../../results/2025-09-02_12-57-08'\n",
      "Using cuda device\n",
      "Wrapping the env in a DummyVecEnv.\n"
     ]
    }
   ],
   "source": [
    "# Keep only one building: 1-D action\n",
    "one_building = \"Building_1\"\n",
    "schema_1b = dict(schema)  # shallow copy\n",
    "schema_1b['buildings'] = {k: v for k, v in schema['buildings'].items() if k == one_building}\n",
    "if not schema_1b['buildings']:\n",
    "    raise RuntimeError(f\"{one_building} not found in schema['buildings']\")\n",
    "\n",
    "train_env = CityLearnEnv(schema_1b, central_agent=True)\n",
    "train_env = NormalizedObservationWrapper(train_env)\n",
    "train_env = StableBaselines3Wrapper(train_env)\n",
    "# Discretize action space for DQN\n",
    "train_env = DiscretizeActionWrapper(train_env, n_bins=5)\n",
    "train_env = Monitor(train_env)\n",
    "\n",
    "train_callback = TrainLoggerCallback()\n",
    "\n",
    "T = train_env.unwrapped.time_steps  # 2208\n",
    "num_episodes = 10\n",
    "TOTAL_TIMESTEPS = num_episodes * T\n",
    "\n",
    "model = DQN(\n",
    "    policy='MlpPolicy',\n",
    "    env=train_env,\n",
    "    seed=0,\n",
    "    #learning_starts=1000,\n",
    "    #learning_rate=3e-4,\n",
    "    verbose=1, # logging: info\n",
    "    policy_kwargs=dict(net_arch=[256, 256, 256], activation_fn=th.nn.ReLU),\n",
    "    exploration_fraction=\n",
    ")"
   ]
  },
  {
   "cell_type": "code",
   "execution_count": null,
   "id": "f78d8a9b",
   "metadata": {},
   "outputs": [],
   "source": [
    "start_time = time.time()\n",
    "model.learn(total_timesteps=TOTAL_TIMESTEPS, callback=train_callback)\n",
    "print(f\"Total time elapsed for {TOTAL_TIMESTEPS} steps: {(time.time()-start_time):.2f} seconds\")\n",
    "model.save(\"dqn_01\")\n",
    "try:\n",
    "    model.save_replay_buffer(\"dqn_01_replaybuffer.pkl\")\n",
    "except Exception as e:\n",
    "    print(\"Replay buffer not saved:\", e)\n",
    "print(\"---------------Train callback: \\n\", train_callback.df)\n",
    "print(\"---------------Episode rewards: \\n\", train_callback.ep_df)\n",
    "# Save training logs\n",
    "train_callback.df.to_csv(\"train_steps.csv\", index=False)\n",
    "train_callback.ep_df.to_csv(\"train_episodes.csv\", index=False)"
   ]
  },
  {
   "cell_type": "markdown",
   "id": "73fbc354",
   "metadata": {},
   "source": [
    "#### Evaluation"
   ]
  },
  {
   "cell_type": "code",
   "execution_count": 10,
   "id": "12693856",
   "metadata": {},
   "outputs": [
    {
     "name": "stdout",
     "output_type": "stream",
     "text": [
      "/hkfs/home/haicore/iai/cj9272/Bachelorthesis_DQN_Agent/data/datasets/citylearn_challenge_2023_phase_3_1\n",
      "Dataset '/hkfs/home/haicore/iai/cj9272/Bachelorthesis_DQN_Agent/data/datasets/citylearn_challenge_2023_phase_3_1' copied to '/hkfs/home/haicore/iai/cj9272/Bachelorthesis_DQN_Agent/data/datasets/citylearn_challenge_2023_phase_3_1/../../../../results/2025-09-02_09-48-08'\n",
      "Wrapping the env with a `Monitor` wrapper\n",
      "Wrapping the env in a DummyVecEnv.\n"
     ]
    }
   ],
   "source": [
    "schema_eval = copy.deepcopy(schema_1b)\n",
    "eval_env = CityLearnEnv(schema_eval, central_agent=True)\n",
    "eval_env = NormalizedObservationWrapper(eval_env)\n",
    "eval_env = StableBaselines3Wrapper(eval_env)\n",
    "eval_env = DiscretizeActionWrapper(eval_env, n_bins=5)\n",
    "\n",
    "model = DQN.load(\"dqn_01\", env=eval_env)"
   ]
  },
  {
   "cell_type": "code",
   "execution_count": null,
   "id": "2b0fa494",
   "metadata": {},
   "outputs": [],
   "source": [
    "# Eval: collect discrete actions and rewards per step\n",
    "def eval_dqn(model, eval_env, schema, episodes=3, deterministic=True):\n",
    "    \"\"\"Deterministic eval that returns actions/rewards and per-step observation series for plots.\"\"\"\n",
    "    # unwrap to CityLearnEnv (inline to avoid external dependency order)\n",
    "    def _get_base_env(env):\n",
    "        cur, seen = env, set()\n",
    "        while cur is not None and id(cur) not in seen:\n",
    "            seen.add(id(cur))\n",
    "            if isinstance(cur, CityLearnEnv):\n",
    "                return cur\n",
    "            cur = getattr(cur, \"env\", getattr(cur, \"unwrapped\", None))\n",
    "        raise RuntimeError(\"CityLearnEnv not found inside wrappers.\")\n",
    "\n",
    "    base = _get_base_env(eval_env)\n",
    "\n",
    "    # Building index (use Building_1 if present)\n",
    "    bld_names = [b.name for b in base.buildings]\n",
    "    building_name = 'Building_1' if 'Building_1' in bld_names else bld_names[0]\n",
    "    b_idx = bld_names.index(building_name)\n",
    "\n",
    "    # Observation indices for requested building\n",
    "    obs_names = getattr(base, 'observation_names', None)\n",
    "    if obs_names is None:\n",
    "        raise AttributeError(\"CityLearnEnv has no 'observation_names'.\")\n",
    "    obs_b = obs_names[b_idx]\n",
    "    name_to_idx = {n: i for i, n in enumerate(obs_b)}\n",
    "    i_net = name_to_idx.get('net_electricity_consumption')\n",
    "    if i_net is None:\n",
    "        i_net = name_to_idx.get('net_electricity_consumption_without_storage')\n",
    "    i_nsl   = name_to_idx.get('non_shiftable_load')\n",
    "    i_price = name_to_idx.get('electricity_pricing')\n",
    "    i_solar = name_to_idx.get('solar_generation')\n",
    "\n",
    "    ep_lengths, actions_disc_list, step_rewards_all = [], [], []\n",
    "    ep_action_fracs, ep_rewards_list = [], []\n",
    "    ep_net_load, ep_non_shiftable_load, ep_price, ep_solar_generation = [], [], [], []\n",
    "\n",
    "    for _ in range(episodes):\n",
    "        obs, _ = eval_env.reset()\n",
    "        done = False\n",
    "\n",
    "        ep_actions, ep_fracs, ep_rewards = [], [], []\n",
    "        ep_net, ep_nsl, ep_prc, ep_sol = [], [], [], []\n",
    "\n",
    "        while not done:\n",
    "            act_disc, _ = model.predict(obs, deterministic=deterministic)\n",
    "            obs, r, terminated, truncated, _ = eval_env.step(act_disc)\n",
    "            done = bool(terminated or truncated)\n",
    "\n",
    "            a_id = int(act_disc)\n",
    "            ep_actions.append(a_id)\n",
    "            ep_fracs.append(float(INT_TO_FRAC[a_id]))\n",
    "            ep_rewards.append(float(r))\n",
    "\n",
    "            raw = base.observations[b_idx]\n",
    "            ep_net.append(float(raw[i_net]) if i_net is not None else np.nan)\n",
    "            ep_nsl.append(float(raw[i_nsl]) if i_nsl is not None else np.nan)\n",
    "            ep_prc.append(float(raw[i_price]) if i_price is not None else np.nan)\n",
    "            ep_sol.append(float(raw[i_solar]) if i_solar is not None else np.nan)\n",
    "\n",
    "        ep_lengths.append(len(ep_rewards))\n",
    "        actions_disc_list.append(np.array(ep_actions, dtype=int))\n",
    "        step_rewards_all.extend(ep_rewards)\n",
    "        ep_action_fracs.append(np.array(ep_fracs, dtype=float))\n",
    "        ep_rewards_list.append(np.array(ep_rewards, dtype=float))\n",
    "        ep_net_load.append(np.array(ep_net, dtype=float))\n",
    "        ep_non_shiftable_load.append(np.array(ep_nsl, dtype=float))\n",
    "        ep_price.append(np.array(ep_prc, dtype=float))\n",
    "        ep_solar_generation.append(np.array(ep_sol, dtype=float))\n",
    "\n",
    "    # Pricing file info (kept for compatibility)\n",
    "    price_file = schema['buildings'][building_name]['pricing']\n",
    "    price_path = os.path.join(ROOT_DIR, price_file)\n",
    "    prc_df = pd.read_csv(price_path)\n",
    "    T = len(prc_df)\n",
    "\n",
    "    return {\n",
    "        'ep_lengths': np.array(ep_lengths, dtype=int),\n",
    "        'actions_disc_list': actions_disc_list,\n",
    "        'step_rewards': np.array(step_rewards_all, dtype=float),\n",
    "\n",
    "        # New per-episode, per-step series:\n",
    "        'ep_action_fracs': ep_action_fracs,\n",
    "        'ep_rewards_list': ep_rewards_list,\n",
    "        'ep_net_load': ep_net_load,\n",
    "        'ep_non_shiftable_load': ep_non_shiftable_load,\n",
    "        'ep_price': ep_price,\n",
    "        'ep_solar_generation': ep_solar_generation,\n",
    "\n",
    "        # Meta/compat fields:\n",
    "        'price_df': prc_df,\n",
    "        'episode_len': T,\n",
    "        'building_name': building_name,\n",
    "    }\n",
    "\n",
    "# Run eval and store results\n",
    "eval_results = eval_dqn(model, eval_env, schema_eval, episodes=10, deterministic=True)\n",
    "print('Eval episodes:', len(eval_results['ep_lengths']), 'total steps:', len(eval_results['step_rewards']))\n",
    "\n",
    "# Save eval results\n",
    "with open(EVAL_FILE, \"wb\") as f:\n",
    "    pickle.dump(eval_results, f)"
   ]
  },
  {
   "cell_type": "markdown",
   "id": "6f1575d1",
   "metadata": {},
   "source": [
    "#### Optuna Tuning"
   ]
  },
  {
   "cell_type": "code",
   "execution_count": 21,
   "id": "60bceb56",
   "metadata": {},
   "outputs": [
    {
     "name": "stderr",
     "output_type": "stream",
     "text": [
      "[I 2025-09-02 12:54:08,756] Using an existing study with name 'dqn_citylearn' instead of creating a new one.\n"
     ]
    },
    {
     "name": "stdout",
     "output_type": "stream",
     "text": [
      "Study ready: dqn_citylearn sqlite:////hkfs/home/haicore/iai/cj9272/artifacts/optuna_dqn.db\n"
     ]
    }
   ],
   "source": [
    "# Optuna objective for DQN on CityLearn (single building, same wrappers)\n",
    "import os, copy, json\n",
    "import numpy as np\n",
    "import optuna\n",
    "from stable_baselines3 import DQN\n",
    "from stable_baselines3.common.monitor import Monitor\n",
    "\n",
    "ART_DIR = os.path.join(os.getcwd(), \"artifacts\")\n",
    "os.makedirs(ART_DIR, exist_ok=True)\n",
    "STORAGE_URL = f\"sqlite:///{os.path.join(ART_DIR, 'optuna_dqn.db')}\"\n",
    "STUDY_NAME  = \"dqn_citylearn\"\n",
    "\n",
    "def make_env_one_building(schema_src, building_name=\"Building_1\", n_bins=5, monitor=False):\n",
    "    schema_1b = copy.deepcopy(schema_src)\n",
    "    schema_1b['buildings'] = {k: v for k, v in schema_src['buildings'].items() if k == building_name}\n",
    "    if not schema_1b['buildings']:\n",
    "        raise RuntimeError(f\"{building_name} not found in schema['buildings']\")\n",
    "    env = CityLearnEnv(schema_1b, central_agent=True)\n",
    "    env = NormalizedObservationWrapper(env)\n",
    "    env = StableBaselines3Wrapper(env)\n",
    "    env = DiscretizeActionWrapper(env, n_bins=n_bins)\n",
    "    if monitor:\n",
    "        env = Monitor(env)\n",
    "    return env\n",
    "\n",
    "def evaluate_mean_reward(model, env, episodes=2, deterministic=True):\n",
    "    rewards = []\n",
    "    for _ in range(episodes):\n",
    "        obs, _ = env.reset()\n",
    "        done = False\n",
    "        ep_ret = 0.0\n",
    "        while not done:\n",
    "            act, _ = model.predict(obs, deterministic=deterministic)\n",
    "            obs, r, terminated, truncated, _ = env.step(act)\n",
    "            ep_ret += float(r)\n",
    "            done = bool(terminated or truncated)\n",
    "        rewards.append(ep_ret)\n",
    "    return float(np.mean(rewards))\n",
    "\n",
    "class OptunaEvalPruningCallback:\n",
    "    def __init__(self, trial, model, eval_env, eval_every_steps, eval_episodes=2):\n",
    "        self.trial = trial\n",
    "        self.model = model\n",
    "        self.eval_env = eval_env\n",
    "        self.eval_every_steps = int(eval_every_steps)\n",
    "        self.eval_episodes = int(eval_episodes)\n",
    "        self._last_step = 0\n",
    "        self.is_pruned = False\n",
    "\n",
    "    def __call__(self, locals_, globals_):\n",
    "        # Called by SB3 when using callback= in learn (old-style callable)\n",
    "        step = int(locals_.get(\"self\").num_timesteps)\n",
    "        if step - self._last_step >= self.eval_every_steps:\n",
    "            self._last_step = step\n",
    "            mean_r = evaluate_mean_reward(self.model, self.eval_env, episodes=self.eval_episodes, deterministic=True)\n",
    "            self.trial.report(mean_r, step=step)\n",
    "            if self.trial.should_prune():\n",
    "                self.is_pruned = True\n",
    "                return False  # stop training\n",
    "        return True\n",
    "\n",
    "def objective(trial: optuna.Trial) -> float:\n",
    "    # Search space\n",
    "    lr      = trial.suggest_float(\"learning_rate\", 1e-5, 3e-3, log=True)\n",
    "    gamma   = trial.suggest_float(\"gamma\", 0.90, 0.9999)\n",
    "    buffer  = trial.suggest_int(\"buffer_size\", 50_000, 200_000, step=25_000)\n",
    "    batch   = trial.suggest_categorical(\"batch_size\", [32, 64, 128, 256])\n",
    "    tau     = trial.suggest_float(\"tau\", 0.005, 1.0, log=True)\n",
    "    tgt_upd = trial.suggest_int(\"target_update_interval\", 250, 5000, step=250)\n",
    "    train_f = trial.suggest_int(\"train_freq\", 1, 8)\n",
    "    grad_st = trial.suggest_int(\"gradient_steps\", 1, 4)\n",
    "    expl_fr = trial.suggest_float(\"exploration_fraction\", 0.05, 0.4)\n",
    "    expl_fin= trial.suggest_float(\"exploration_final_eps\", 0.01, 0.1)\n",
    "    starts  = trial.suggest_int(\"learning_starts\", 500, 5000, step=500)\n",
    "    arch    = trial.suggest_categorical(\"net_arch\", [(256,256), (256,256,256), (512,512)])\n",
    "\n",
    "    # Build train/eval envs\n",
    "    train_env = make_env_one_building(schema, building_name=\"Building_1\", n_bins=5, monitor=True)\n",
    "    eval_env  = make_env_one_building(schema, building_name=\"Building_1\", n_bins=5, monitor=False)\n",
    "    T = train_env.unwrapped.time_steps\n",
    "\n",
    "    # Episodes per trial (keep small for speed)\n",
    "    episodes_per_trial = 3\n",
    "    total_steps = episodes_per_trial * T\n",
    "\n",
    "    model = DQN(\n",
    "        policy=\"MlpPolicy\",\n",
    "        env=train_env,\n",
    "        seed=0,\n",
    "        learning_rate=lr,\n",
    "        gamma=gamma,\n",
    "        buffer_size=buffer,\n",
    "        batch_size=batch,\n",
    "        tau=tau,\n",
    "        target_update_interval=tgt_upd,\n",
    "        train_freq=train_f,\n",
    "        gradient_steps=grad_st,\n",
    "        exploration_fraction=expl_fr,\n",
    "        exploration_final_eps=expl_fin,\n",
    "        learning_starts=starts,\n",
    "        verbose=0,\n",
    "        policy_kwargs=dict(net_arch=list(arch), activation_fn=th.nn.ReLU),\n",
    "        device=\"auto\",\n",
    "    )\n",
    "\n",
    "    # Eval + pruning during training\n",
    "    cb = OptunaEvalPruningCallback(trial, model, eval_env, eval_every_steps=T//2, eval_episodes=2)\n",
    "    try:\n",
    "        model.learn(total_timesteps=total_steps, callback=cb)\n",
    "        if cb.is_pruned:\n",
    "            raise optuna.TrialPruned()\n",
    "    finally:\n",
    "        # Ensure envs are closed\n",
    "        try: train_env.close()\n",
    "        except: pass\n",
    "        try: eval_env.close()\n",
    "        except: pass\n",
    "\n",
    "    # Final score\n",
    "    eval_env = make_env_one_building(schema, building_name=\"Building_1\", n_bins=5, monitor=False)\n",
    "    score = evaluate_mean_reward(model, eval_env, episodes=3, deterministic=True)\n",
    "    eval_env.close()\n",
    "\n",
    "    # Save best-so-far model snapshot\n",
    "    trial.set_user_attr(\"final_mean_reward\", score)\n",
    "    return score\n",
    "\n",
    "# Create/continue a study\n",
    "study = optuna.create_study(\n",
    "    study_name=STUDY_NAME,\n",
    "    direction=\"maximize\",\n",
    "    storage=STORAGE_URL,\n",
    "    load_if_exists=True,\n",
    "    sampler=optuna.samplers.TPESampler(seed=0),\n",
    "    pruner=optuna.pruners.MedianPruner(n_startup_trials=5, n_warmup_steps=1), # NopPruner()\n",
    ")\n",
    "print(\"Study ready:\", STUDY_NAME, STORAGE_URL)"
   ]
  },
  {
   "cell_type": "code",
   "execution_count": 10,
   "id": "f150ce2a",
   "metadata": {},
   "outputs": [],
   "source": [
    "# Optuna hyperparameter optimization\n",
    "\n",
    "N_TRIALS = 3  # increase as needed\n",
    "#study.optimize(objective, n_trials=N_TRIALS, gc_after_trial=True)\n",
    "#print(\"Done. Trials now:\", len(study.trials))"
   ]
  },
  {
   "cell_type": "code",
   "execution_count": 22,
   "id": "e34e2e33",
   "metadata": {},
   "outputs": [
    {
     "name": "stderr",
     "output_type": "stream",
     "text": [
      "/hkfs/home/haicore/iai/cj9272/citylearn_env/lib64/python3.11/site-packages/optuna/distributions.py:518: UserWarning: Choices for a categorical distribution should be a tuple of None, bool, int, float and str for persistent storage but contains [256, 256] which is of type list.\n",
      "  warnings.warn(message)\n",
      "/hkfs/home/haicore/iai/cj9272/citylearn_env/lib64/python3.11/site-packages/optuna/distributions.py:518: UserWarning: Choices for a categorical distribution should be a tuple of None, bool, int, float and str for persistent storage but contains [256, 256, 256] which is of type list.\n",
      "  warnings.warn(message)\n",
      "/hkfs/home/haicore/iai/cj9272/citylearn_env/lib64/python3.11/site-packages/optuna/distributions.py:518: UserWarning: Choices for a categorical distribution should be a tuple of None, bool, int, float and str for persistent storage but contains [512, 512] which is of type list.\n",
      "  warnings.warn(message)\n"
     ]
    },
    {
     "name": "stdout",
     "output_type": "stream",
     "text": [
      "Best value: -263.07821044774175\n",
      "Best params: {'learning_rate': 1.1131267357743944e-05, 'gamma': 0.9617017861578802, 'buffer_size': 150000, 'batch_size': 64, 'tau': 0.05065165487856718, 'target_update_interval': 3500, 'train_freq': 1, 'gradient_steps': 3, 'exploration_fraction': 0.2847232543663558, 'exploration_final_eps': 0.028934430496645687, 'learning_starts': 1000, 'net_arch': [512, 512]}\n",
      "Importances: {'tau': np.float64(0.15804816064196833), 'learning_rate': np.float64(0.14277050678787717), 'train_freq': np.float64(0.13372159180295215), 'exploration_fraction': np.float64(0.12403459535610804), 'net_arch': np.float64(0.11641826458289736), 'gamma': np.float64(0.11450090241232029), 'target_update_interval': np.float64(0.06265013143326971), 'learning_starts': np.float64(0.05393334122702177), 'batch_size': np.float64(0.052925473762737145), 'buffer_size': np.float64(0.026393188829452692), 'exploration_final_eps': np.float64(0.014522619467064107), 'gradient_steps': np.float64(8.12236963312983e-05)}\n"
     ]
    },
    {
     "name": "stderr",
     "output_type": "stream",
     "text": [
      "/hkfs/home/haicore/iai/cj9272/citylearn_env/lib64/python3.11/site-packages/optuna/distributions.py:518: UserWarning: Choices for a categorical distribution should be a tuple of None, bool, int, float and str for persistent storage but contains [256, 256] which is of type list.\n",
      "  warnings.warn(message)\n",
      "/hkfs/home/haicore/iai/cj9272/citylearn_env/lib64/python3.11/site-packages/optuna/distributions.py:518: UserWarning: Choices for a categorical distribution should be a tuple of None, bool, int, float and str for persistent storage but contains [256, 256, 256] which is of type list.\n",
      "  warnings.warn(message)\n",
      "/hkfs/home/haicore/iai/cj9272/citylearn_env/lib64/python3.11/site-packages/optuna/distributions.py:518: UserWarning: Choices for a categorical distribution should be a tuple of None, bool, int, float and str for persistent storage but contains [512, 512] which is of type list.\n",
      "  warnings.warn(message)\n"
     ]
    },
    {
     "data": {
      "application/vnd.plotly.v1+json": {
       "config": {
        "plotlyServerURL": "https://plot.ly"
       },
       "data": [
        {
         "mode": "markers",
         "name": "Objective Value",
         "type": "scatter",
         "x": [
          0,
          4,
          5,
          7,
          8,
          9
         ],
         "y": [
          -264.9435168108443,
          -264.1950055838423,
          -267.4419971243363,
          -264.1950055838423,
          -267.4419971243363,
          -263.07821044774175
         ]
        },
        {
         "mode": "lines",
         "name": "Best Value",
         "type": "scatter",
         "x": [
          0,
          1,
          2,
          3,
          4,
          5,
          6,
          7,
          8,
          9
         ],
         "y": [
          -264.9435168108443,
          -264.9435168108443,
          -264.9435168108443,
          -264.9435168108443,
          -264.1950055838423,
          -264.1950055838423,
          -264.1950055838423,
          -264.1950055838423,
          -264.1950055838423,
          -263.07821044774175
         ]
        },
        {
         "marker": {
          "color": "#cccccc"
         },
         "mode": "markers",
         "name": "Infeasible Trial",
         "showlegend": false,
         "type": "scatter",
         "x": [],
         "y": []
        }
       ],
       "layout": {
        "template": {
         "data": {
          "bar": [
           {
            "error_x": {
             "color": "#2a3f5f"
            },
            "error_y": {
             "color": "#2a3f5f"
            },
            "marker": {
             "line": {
              "color": "#E5ECF6",
              "width": 0.5
             },
             "pattern": {
              "fillmode": "overlay",
              "size": 10,
              "solidity": 0.2
             }
            },
            "type": "bar"
           }
          ],
          "barpolar": [
           {
            "marker": {
             "line": {
              "color": "#E5ECF6",
              "width": 0.5
             },
             "pattern": {
              "fillmode": "overlay",
              "size": 10,
              "solidity": 0.2
             }
            },
            "type": "barpolar"
           }
          ],
          "carpet": [
           {
            "aaxis": {
             "endlinecolor": "#2a3f5f",
             "gridcolor": "white",
             "linecolor": "white",
             "minorgridcolor": "white",
             "startlinecolor": "#2a3f5f"
            },
            "baxis": {
             "endlinecolor": "#2a3f5f",
             "gridcolor": "white",
             "linecolor": "white",
             "minorgridcolor": "white",
             "startlinecolor": "#2a3f5f"
            },
            "type": "carpet"
           }
          ],
          "choropleth": [
           {
            "colorbar": {
             "outlinewidth": 0,
             "ticks": ""
            },
            "type": "choropleth"
           }
          ],
          "contour": [
           {
            "colorbar": {
             "outlinewidth": 0,
             "ticks": ""
            },
            "colorscale": [
             [
              0,
              "#0d0887"
             ],
             [
              0.1111111111111111,
              "#46039f"
             ],
             [
              0.2222222222222222,
              "#7201a8"
             ],
             [
              0.3333333333333333,
              "#9c179e"
             ],
             [
              0.4444444444444444,
              "#bd3786"
             ],
             [
              0.5555555555555556,
              "#d8576b"
             ],
             [
              0.6666666666666666,
              "#ed7953"
             ],
             [
              0.7777777777777778,
              "#fb9f3a"
             ],
             [
              0.8888888888888888,
              "#fdca26"
             ],
             [
              1,
              "#f0f921"
             ]
            ],
            "type": "contour"
           }
          ],
          "contourcarpet": [
           {
            "colorbar": {
             "outlinewidth": 0,
             "ticks": ""
            },
            "type": "contourcarpet"
           }
          ],
          "heatmap": [
           {
            "colorbar": {
             "outlinewidth": 0,
             "ticks": ""
            },
            "colorscale": [
             [
              0,
              "#0d0887"
             ],
             [
              0.1111111111111111,
              "#46039f"
             ],
             [
              0.2222222222222222,
              "#7201a8"
             ],
             [
              0.3333333333333333,
              "#9c179e"
             ],
             [
              0.4444444444444444,
              "#bd3786"
             ],
             [
              0.5555555555555556,
              "#d8576b"
             ],
             [
              0.6666666666666666,
              "#ed7953"
             ],
             [
              0.7777777777777778,
              "#fb9f3a"
             ],
             [
              0.8888888888888888,
              "#fdca26"
             ],
             [
              1,
              "#f0f921"
             ]
            ],
            "type": "heatmap"
           }
          ],
          "histogram": [
           {
            "marker": {
             "pattern": {
              "fillmode": "overlay",
              "size": 10,
              "solidity": 0.2
             }
            },
            "type": "histogram"
           }
          ],
          "histogram2d": [
           {
            "colorbar": {
             "outlinewidth": 0,
             "ticks": ""
            },
            "colorscale": [
             [
              0,
              "#0d0887"
             ],
             [
              0.1111111111111111,
              "#46039f"
             ],
             [
              0.2222222222222222,
              "#7201a8"
             ],
             [
              0.3333333333333333,
              "#9c179e"
             ],
             [
              0.4444444444444444,
              "#bd3786"
             ],
             [
              0.5555555555555556,
              "#d8576b"
             ],
             [
              0.6666666666666666,
              "#ed7953"
             ],
             [
              0.7777777777777778,
              "#fb9f3a"
             ],
             [
              0.8888888888888888,
              "#fdca26"
             ],
             [
              1,
              "#f0f921"
             ]
            ],
            "type": "histogram2d"
           }
          ],
          "histogram2dcontour": [
           {
            "colorbar": {
             "outlinewidth": 0,
             "ticks": ""
            },
            "colorscale": [
             [
              0,
              "#0d0887"
             ],
             [
              0.1111111111111111,
              "#46039f"
             ],
             [
              0.2222222222222222,
              "#7201a8"
             ],
             [
              0.3333333333333333,
              "#9c179e"
             ],
             [
              0.4444444444444444,
              "#bd3786"
             ],
             [
              0.5555555555555556,
              "#d8576b"
             ],
             [
              0.6666666666666666,
              "#ed7953"
             ],
             [
              0.7777777777777778,
              "#fb9f3a"
             ],
             [
              0.8888888888888888,
              "#fdca26"
             ],
             [
              1,
              "#f0f921"
             ]
            ],
            "type": "histogram2dcontour"
           }
          ],
          "mesh3d": [
           {
            "colorbar": {
             "outlinewidth": 0,
             "ticks": ""
            },
            "type": "mesh3d"
           }
          ],
          "parcoords": [
           {
            "line": {
             "colorbar": {
              "outlinewidth": 0,
              "ticks": ""
             }
            },
            "type": "parcoords"
           }
          ],
          "pie": [
           {
            "automargin": true,
            "type": "pie"
           }
          ],
          "scatter": [
           {
            "fillpattern": {
             "fillmode": "overlay",
             "size": 10,
             "solidity": 0.2
            },
            "type": "scatter"
           }
          ],
          "scatter3d": [
           {
            "line": {
             "colorbar": {
              "outlinewidth": 0,
              "ticks": ""
             }
            },
            "marker": {
             "colorbar": {
              "outlinewidth": 0,
              "ticks": ""
             }
            },
            "type": "scatter3d"
           }
          ],
          "scattercarpet": [
           {
            "marker": {
             "colorbar": {
              "outlinewidth": 0,
              "ticks": ""
             }
            },
            "type": "scattercarpet"
           }
          ],
          "scattergeo": [
           {
            "marker": {
             "colorbar": {
              "outlinewidth": 0,
              "ticks": ""
             }
            },
            "type": "scattergeo"
           }
          ],
          "scattergl": [
           {
            "marker": {
             "colorbar": {
              "outlinewidth": 0,
              "ticks": ""
             }
            },
            "type": "scattergl"
           }
          ],
          "scattermap": [
           {
            "marker": {
             "colorbar": {
              "outlinewidth": 0,
              "ticks": ""
             }
            },
            "type": "scattermap"
           }
          ],
          "scattermapbox": [
           {
            "marker": {
             "colorbar": {
              "outlinewidth": 0,
              "ticks": ""
             }
            },
            "type": "scattermapbox"
           }
          ],
          "scatterpolar": [
           {
            "marker": {
             "colorbar": {
              "outlinewidth": 0,
              "ticks": ""
             }
            },
            "type": "scatterpolar"
           }
          ],
          "scatterpolargl": [
           {
            "marker": {
             "colorbar": {
              "outlinewidth": 0,
              "ticks": ""
             }
            },
            "type": "scatterpolargl"
           }
          ],
          "scatterternary": [
           {
            "marker": {
             "colorbar": {
              "outlinewidth": 0,
              "ticks": ""
             }
            },
            "type": "scatterternary"
           }
          ],
          "surface": [
           {
            "colorbar": {
             "outlinewidth": 0,
             "ticks": ""
            },
            "colorscale": [
             [
              0,
              "#0d0887"
             ],
             [
              0.1111111111111111,
              "#46039f"
             ],
             [
              0.2222222222222222,
              "#7201a8"
             ],
             [
              0.3333333333333333,
              "#9c179e"
             ],
             [
              0.4444444444444444,
              "#bd3786"
             ],
             [
              0.5555555555555556,
              "#d8576b"
             ],
             [
              0.6666666666666666,
              "#ed7953"
             ],
             [
              0.7777777777777778,
              "#fb9f3a"
             ],
             [
              0.8888888888888888,
              "#fdca26"
             ],
             [
              1,
              "#f0f921"
             ]
            ],
            "type": "surface"
           }
          ],
          "table": [
           {
            "cells": {
             "fill": {
              "color": "#EBF0F8"
             },
             "line": {
              "color": "white"
             }
            },
            "header": {
             "fill": {
              "color": "#C8D4E3"
             },
             "line": {
              "color": "white"
             }
            },
            "type": "table"
           }
          ]
         },
         "layout": {
          "annotationdefaults": {
           "arrowcolor": "#2a3f5f",
           "arrowhead": 0,
           "arrowwidth": 1
          },
          "autotypenumbers": "strict",
          "coloraxis": {
           "colorbar": {
            "outlinewidth": 0,
            "ticks": ""
           }
          },
          "colorscale": {
           "diverging": [
            [
             0,
             "#8e0152"
            ],
            [
             0.1,
             "#c51b7d"
            ],
            [
             0.2,
             "#de77ae"
            ],
            [
             0.3,
             "#f1b6da"
            ],
            [
             0.4,
             "#fde0ef"
            ],
            [
             0.5,
             "#f7f7f7"
            ],
            [
             0.6,
             "#e6f5d0"
            ],
            [
             0.7,
             "#b8e186"
            ],
            [
             0.8,
             "#7fbc41"
            ],
            [
             0.9,
             "#4d9221"
            ],
            [
             1,
             "#276419"
            ]
           ],
           "sequential": [
            [
             0,
             "#0d0887"
            ],
            [
             0.1111111111111111,
             "#46039f"
            ],
            [
             0.2222222222222222,
             "#7201a8"
            ],
            [
             0.3333333333333333,
             "#9c179e"
            ],
            [
             0.4444444444444444,
             "#bd3786"
            ],
            [
             0.5555555555555556,
             "#d8576b"
            ],
            [
             0.6666666666666666,
             "#ed7953"
            ],
            [
             0.7777777777777778,
             "#fb9f3a"
            ],
            [
             0.8888888888888888,
             "#fdca26"
            ],
            [
             1,
             "#f0f921"
            ]
           ],
           "sequentialminus": [
            [
             0,
             "#0d0887"
            ],
            [
             0.1111111111111111,
             "#46039f"
            ],
            [
             0.2222222222222222,
             "#7201a8"
            ],
            [
             0.3333333333333333,
             "#9c179e"
            ],
            [
             0.4444444444444444,
             "#bd3786"
            ],
            [
             0.5555555555555556,
             "#d8576b"
            ],
            [
             0.6666666666666666,
             "#ed7953"
            ],
            [
             0.7777777777777778,
             "#fb9f3a"
            ],
            [
             0.8888888888888888,
             "#fdca26"
            ],
            [
             1,
             "#f0f921"
            ]
           ]
          },
          "colorway": [
           "#636efa",
           "#EF553B",
           "#00cc96",
           "#ab63fa",
           "#FFA15A",
           "#19d3f3",
           "#FF6692",
           "#B6E880",
           "#FF97FF",
           "#FECB52"
          ],
          "font": {
           "color": "#2a3f5f"
          },
          "geo": {
           "bgcolor": "white",
           "lakecolor": "white",
           "landcolor": "#E5ECF6",
           "showlakes": true,
           "showland": true,
           "subunitcolor": "white"
          },
          "hoverlabel": {
           "align": "left"
          },
          "hovermode": "closest",
          "mapbox": {
           "style": "light"
          },
          "paper_bgcolor": "white",
          "plot_bgcolor": "#E5ECF6",
          "polar": {
           "angularaxis": {
            "gridcolor": "white",
            "linecolor": "white",
            "ticks": ""
           },
           "bgcolor": "#E5ECF6",
           "radialaxis": {
            "gridcolor": "white",
            "linecolor": "white",
            "ticks": ""
           }
          },
          "scene": {
           "xaxis": {
            "backgroundcolor": "#E5ECF6",
            "gridcolor": "white",
            "gridwidth": 2,
            "linecolor": "white",
            "showbackground": true,
            "ticks": "",
            "zerolinecolor": "white"
           },
           "yaxis": {
            "backgroundcolor": "#E5ECF6",
            "gridcolor": "white",
            "gridwidth": 2,
            "linecolor": "white",
            "showbackground": true,
            "ticks": "",
            "zerolinecolor": "white"
           },
           "zaxis": {
            "backgroundcolor": "#E5ECF6",
            "gridcolor": "white",
            "gridwidth": 2,
            "linecolor": "white",
            "showbackground": true,
            "ticks": "",
            "zerolinecolor": "white"
           }
          },
          "shapedefaults": {
           "line": {
            "color": "#2a3f5f"
           }
          },
          "ternary": {
           "aaxis": {
            "gridcolor": "white",
            "linecolor": "white",
            "ticks": ""
           },
           "baxis": {
            "gridcolor": "white",
            "linecolor": "white",
            "ticks": ""
           },
           "bgcolor": "#E5ECF6",
           "caxis": {
            "gridcolor": "white",
            "linecolor": "white",
            "ticks": ""
           }
          },
          "title": {
           "x": 0.05
          },
          "xaxis": {
           "automargin": true,
           "gridcolor": "white",
           "linecolor": "white",
           "ticks": "",
           "title": {
            "standoff": 15
           },
           "zerolinecolor": "white",
           "zerolinewidth": 2
          },
          "yaxis": {
           "automargin": true,
           "gridcolor": "white",
           "linecolor": "white",
           "ticks": "",
           "title": {
            "standoff": 15
           },
           "zerolinecolor": "white",
           "zerolinewidth": 2
          }
         }
        },
        "title": {
         "text": "Optimization History Plot"
        },
        "xaxis": {
         "title": {
          "text": "Trial"
         }
        },
        "yaxis": {
         "title": {
          "text": "Objective Value"
         }
        }
       }
      }
     },
     "metadata": {},
     "output_type": "display_data"
    },
    {
     "name": "stderr",
     "output_type": "stream",
     "text": [
      "/hkfs/home/haicore/iai/cj9272/citylearn_env/lib64/python3.11/site-packages/optuna/distributions.py:518: UserWarning:\n",
      "\n",
      "Choices for a categorical distribution should be a tuple of None, bool, int, float and str for persistent storage but contains [256, 256] which is of type list.\n",
      "\n",
      "/hkfs/home/haicore/iai/cj9272/citylearn_env/lib64/python3.11/site-packages/optuna/distributions.py:518: UserWarning:\n",
      "\n",
      "Choices for a categorical distribution should be a tuple of None, bool, int, float and str for persistent storage but contains [256, 256, 256] which is of type list.\n",
      "\n",
      "/hkfs/home/haicore/iai/cj9272/citylearn_env/lib64/python3.11/site-packages/optuna/distributions.py:518: UserWarning:\n",
      "\n",
      "Choices for a categorical distribution should be a tuple of None, bool, int, float and str for persistent storage but contains [512, 512] which is of type list.\n",
      "\n",
      "/hkfs/home/haicore/iai/cj9272/citylearn_env/lib64/python3.11/site-packages/optuna/distributions.py:518: UserWarning:\n",
      "\n",
      "Choices for a categorical distribution should be a tuple of None, bool, int, float and str for persistent storage but contains [256, 256] which is of type list.\n",
      "\n",
      "/hkfs/home/haicore/iai/cj9272/citylearn_env/lib64/python3.11/site-packages/optuna/distributions.py:518: UserWarning:\n",
      "\n",
      "Choices for a categorical distribution should be a tuple of None, bool, int, float and str for persistent storage but contains [256, 256, 256] which is of type list.\n",
      "\n",
      "/hkfs/home/haicore/iai/cj9272/citylearn_env/lib64/python3.11/site-packages/optuna/distributions.py:518: UserWarning:\n",
      "\n",
      "Choices for a categorical distribution should be a tuple of None, bool, int, float and str for persistent storage but contains [512, 512] which is of type list.\n",
      "\n"
     ]
    },
    {
     "data": {
      "application/vnd.plotly.v1+json": {
       "config": {
        "plotlyServerURL": "https://plot.ly"
       },
       "data": [
        {
         "cliponaxis": false,
         "hovertemplate": [
          "train_freq (IntDistribution): 0.01162152453817348<extra></extra>",
          "exploration_final_eps (FloatDistribution): 0.015273880304355598<extra></extra>",
          "gradient_steps (IntDistribution): 0.020176230939427366<extra></extra>",
          "net_arch (CategoricalDistribution): 0.06036264330249135<extra></extra>",
          "buffer_size (IntDistribution): 0.0629903230552624<extra></extra>",
          "gamma (FloatDistribution): 0.06866592492071512<extra></extra>",
          "batch_size (CategoricalDistribution): 0.07303563669968484<extra></extra>",
          "learning_rate (FloatDistribution): 0.09665863207016026<extra></extra>",
          "target_update_interval (IntDistribution): 0.10922855673391998<extra></extra>",
          "learning_starts (IntDistribution): 0.1348718775936322<extra></extra>",
          "tau (FloatDistribution): 0.14179508011270617<extra></extra>",
          "exploration_fraction (FloatDistribution): 0.20531968972947123<extra></extra>"
         ],
         "name": "Objective Value",
         "orientation": "h",
         "text": [
          "0.01",
          "0.02",
          "0.02",
          "0.06",
          "0.06",
          "0.07",
          "0.07",
          "0.10",
          "0.11",
          "0.13",
          "0.14",
          "0.21"
         ],
         "textposition": "outside",
         "type": "bar",
         "x": [
          0.01162152453817348,
          0.015273880304355598,
          0.020176230939427366,
          0.06036264330249135,
          0.0629903230552624,
          0.06866592492071512,
          0.07303563669968484,
          0.09665863207016026,
          0.10922855673391998,
          0.1348718775936322,
          0.14179508011270617,
          0.20531968972947123
         ],
         "y": [
          "train_freq",
          "exploration_final_eps",
          "gradient_steps",
          "net_arch",
          "buffer_size",
          "gamma",
          "batch_size",
          "learning_rate",
          "target_update_interval",
          "learning_starts",
          "tau",
          "exploration_fraction"
         ]
        }
       ],
       "layout": {
        "template": {
         "data": {
          "bar": [
           {
            "error_x": {
             "color": "#2a3f5f"
            },
            "error_y": {
             "color": "#2a3f5f"
            },
            "marker": {
             "line": {
              "color": "#E5ECF6",
              "width": 0.5
             },
             "pattern": {
              "fillmode": "overlay",
              "size": 10,
              "solidity": 0.2
             }
            },
            "type": "bar"
           }
          ],
          "barpolar": [
           {
            "marker": {
             "line": {
              "color": "#E5ECF6",
              "width": 0.5
             },
             "pattern": {
              "fillmode": "overlay",
              "size": 10,
              "solidity": 0.2
             }
            },
            "type": "barpolar"
           }
          ],
          "carpet": [
           {
            "aaxis": {
             "endlinecolor": "#2a3f5f",
             "gridcolor": "white",
             "linecolor": "white",
             "minorgridcolor": "white",
             "startlinecolor": "#2a3f5f"
            },
            "baxis": {
             "endlinecolor": "#2a3f5f",
             "gridcolor": "white",
             "linecolor": "white",
             "minorgridcolor": "white",
             "startlinecolor": "#2a3f5f"
            },
            "type": "carpet"
           }
          ],
          "choropleth": [
           {
            "colorbar": {
             "outlinewidth": 0,
             "ticks": ""
            },
            "type": "choropleth"
           }
          ],
          "contour": [
           {
            "colorbar": {
             "outlinewidth": 0,
             "ticks": ""
            },
            "colorscale": [
             [
              0,
              "#0d0887"
             ],
             [
              0.1111111111111111,
              "#46039f"
             ],
             [
              0.2222222222222222,
              "#7201a8"
             ],
             [
              0.3333333333333333,
              "#9c179e"
             ],
             [
              0.4444444444444444,
              "#bd3786"
             ],
             [
              0.5555555555555556,
              "#d8576b"
             ],
             [
              0.6666666666666666,
              "#ed7953"
             ],
             [
              0.7777777777777778,
              "#fb9f3a"
             ],
             [
              0.8888888888888888,
              "#fdca26"
             ],
             [
              1,
              "#f0f921"
             ]
            ],
            "type": "contour"
           }
          ],
          "contourcarpet": [
           {
            "colorbar": {
             "outlinewidth": 0,
             "ticks": ""
            },
            "type": "contourcarpet"
           }
          ],
          "heatmap": [
           {
            "colorbar": {
             "outlinewidth": 0,
             "ticks": ""
            },
            "colorscale": [
             [
              0,
              "#0d0887"
             ],
             [
              0.1111111111111111,
              "#46039f"
             ],
             [
              0.2222222222222222,
              "#7201a8"
             ],
             [
              0.3333333333333333,
              "#9c179e"
             ],
             [
              0.4444444444444444,
              "#bd3786"
             ],
             [
              0.5555555555555556,
              "#d8576b"
             ],
             [
              0.6666666666666666,
              "#ed7953"
             ],
             [
              0.7777777777777778,
              "#fb9f3a"
             ],
             [
              0.8888888888888888,
              "#fdca26"
             ],
             [
              1,
              "#f0f921"
             ]
            ],
            "type": "heatmap"
           }
          ],
          "histogram": [
           {
            "marker": {
             "pattern": {
              "fillmode": "overlay",
              "size": 10,
              "solidity": 0.2
             }
            },
            "type": "histogram"
           }
          ],
          "histogram2d": [
           {
            "colorbar": {
             "outlinewidth": 0,
             "ticks": ""
            },
            "colorscale": [
             [
              0,
              "#0d0887"
             ],
             [
              0.1111111111111111,
              "#46039f"
             ],
             [
              0.2222222222222222,
              "#7201a8"
             ],
             [
              0.3333333333333333,
              "#9c179e"
             ],
             [
              0.4444444444444444,
              "#bd3786"
             ],
             [
              0.5555555555555556,
              "#d8576b"
             ],
             [
              0.6666666666666666,
              "#ed7953"
             ],
             [
              0.7777777777777778,
              "#fb9f3a"
             ],
             [
              0.8888888888888888,
              "#fdca26"
             ],
             [
              1,
              "#f0f921"
             ]
            ],
            "type": "histogram2d"
           }
          ],
          "histogram2dcontour": [
           {
            "colorbar": {
             "outlinewidth": 0,
             "ticks": ""
            },
            "colorscale": [
             [
              0,
              "#0d0887"
             ],
             [
              0.1111111111111111,
              "#46039f"
             ],
             [
              0.2222222222222222,
              "#7201a8"
             ],
             [
              0.3333333333333333,
              "#9c179e"
             ],
             [
              0.4444444444444444,
              "#bd3786"
             ],
             [
              0.5555555555555556,
              "#d8576b"
             ],
             [
              0.6666666666666666,
              "#ed7953"
             ],
             [
              0.7777777777777778,
              "#fb9f3a"
             ],
             [
              0.8888888888888888,
              "#fdca26"
             ],
             [
              1,
              "#f0f921"
             ]
            ],
            "type": "histogram2dcontour"
           }
          ],
          "mesh3d": [
           {
            "colorbar": {
             "outlinewidth": 0,
             "ticks": ""
            },
            "type": "mesh3d"
           }
          ],
          "parcoords": [
           {
            "line": {
             "colorbar": {
              "outlinewidth": 0,
              "ticks": ""
             }
            },
            "type": "parcoords"
           }
          ],
          "pie": [
           {
            "automargin": true,
            "type": "pie"
           }
          ],
          "scatter": [
           {
            "fillpattern": {
             "fillmode": "overlay",
             "size": 10,
             "solidity": 0.2
            },
            "type": "scatter"
           }
          ],
          "scatter3d": [
           {
            "line": {
             "colorbar": {
              "outlinewidth": 0,
              "ticks": ""
             }
            },
            "marker": {
             "colorbar": {
              "outlinewidth": 0,
              "ticks": ""
             }
            },
            "type": "scatter3d"
           }
          ],
          "scattercarpet": [
           {
            "marker": {
             "colorbar": {
              "outlinewidth": 0,
              "ticks": ""
             }
            },
            "type": "scattercarpet"
           }
          ],
          "scattergeo": [
           {
            "marker": {
             "colorbar": {
              "outlinewidth": 0,
              "ticks": ""
             }
            },
            "type": "scattergeo"
           }
          ],
          "scattergl": [
           {
            "marker": {
             "colorbar": {
              "outlinewidth": 0,
              "ticks": ""
             }
            },
            "type": "scattergl"
           }
          ],
          "scattermap": [
           {
            "marker": {
             "colorbar": {
              "outlinewidth": 0,
              "ticks": ""
             }
            },
            "type": "scattermap"
           }
          ],
          "scattermapbox": [
           {
            "marker": {
             "colorbar": {
              "outlinewidth": 0,
              "ticks": ""
             }
            },
            "type": "scattermapbox"
           }
          ],
          "scatterpolar": [
           {
            "marker": {
             "colorbar": {
              "outlinewidth": 0,
              "ticks": ""
             }
            },
            "type": "scatterpolar"
           }
          ],
          "scatterpolargl": [
           {
            "marker": {
             "colorbar": {
              "outlinewidth": 0,
              "ticks": ""
             }
            },
            "type": "scatterpolargl"
           }
          ],
          "scatterternary": [
           {
            "marker": {
             "colorbar": {
              "outlinewidth": 0,
              "ticks": ""
             }
            },
            "type": "scatterternary"
           }
          ],
          "surface": [
           {
            "colorbar": {
             "outlinewidth": 0,
             "ticks": ""
            },
            "colorscale": [
             [
              0,
              "#0d0887"
             ],
             [
              0.1111111111111111,
              "#46039f"
             ],
             [
              0.2222222222222222,
              "#7201a8"
             ],
             [
              0.3333333333333333,
              "#9c179e"
             ],
             [
              0.4444444444444444,
              "#bd3786"
             ],
             [
              0.5555555555555556,
              "#d8576b"
             ],
             [
              0.6666666666666666,
              "#ed7953"
             ],
             [
              0.7777777777777778,
              "#fb9f3a"
             ],
             [
              0.8888888888888888,
              "#fdca26"
             ],
             [
              1,
              "#f0f921"
             ]
            ],
            "type": "surface"
           }
          ],
          "table": [
           {
            "cells": {
             "fill": {
              "color": "#EBF0F8"
             },
             "line": {
              "color": "white"
             }
            },
            "header": {
             "fill": {
              "color": "#C8D4E3"
             },
             "line": {
              "color": "white"
             }
            },
            "type": "table"
           }
          ]
         },
         "layout": {
          "annotationdefaults": {
           "arrowcolor": "#2a3f5f",
           "arrowhead": 0,
           "arrowwidth": 1
          },
          "autotypenumbers": "strict",
          "coloraxis": {
           "colorbar": {
            "outlinewidth": 0,
            "ticks": ""
           }
          },
          "colorscale": {
           "diverging": [
            [
             0,
             "#8e0152"
            ],
            [
             0.1,
             "#c51b7d"
            ],
            [
             0.2,
             "#de77ae"
            ],
            [
             0.3,
             "#f1b6da"
            ],
            [
             0.4,
             "#fde0ef"
            ],
            [
             0.5,
             "#f7f7f7"
            ],
            [
             0.6,
             "#e6f5d0"
            ],
            [
             0.7,
             "#b8e186"
            ],
            [
             0.8,
             "#7fbc41"
            ],
            [
             0.9,
             "#4d9221"
            ],
            [
             1,
             "#276419"
            ]
           ],
           "sequential": [
            [
             0,
             "#0d0887"
            ],
            [
             0.1111111111111111,
             "#46039f"
            ],
            [
             0.2222222222222222,
             "#7201a8"
            ],
            [
             0.3333333333333333,
             "#9c179e"
            ],
            [
             0.4444444444444444,
             "#bd3786"
            ],
            [
             0.5555555555555556,
             "#d8576b"
            ],
            [
             0.6666666666666666,
             "#ed7953"
            ],
            [
             0.7777777777777778,
             "#fb9f3a"
            ],
            [
             0.8888888888888888,
             "#fdca26"
            ],
            [
             1,
             "#f0f921"
            ]
           ],
           "sequentialminus": [
            [
             0,
             "#0d0887"
            ],
            [
             0.1111111111111111,
             "#46039f"
            ],
            [
             0.2222222222222222,
             "#7201a8"
            ],
            [
             0.3333333333333333,
             "#9c179e"
            ],
            [
             0.4444444444444444,
             "#bd3786"
            ],
            [
             0.5555555555555556,
             "#d8576b"
            ],
            [
             0.6666666666666666,
             "#ed7953"
            ],
            [
             0.7777777777777778,
             "#fb9f3a"
            ],
            [
             0.8888888888888888,
             "#fdca26"
            ],
            [
             1,
             "#f0f921"
            ]
           ]
          },
          "colorway": [
           "#636efa",
           "#EF553B",
           "#00cc96",
           "#ab63fa",
           "#FFA15A",
           "#19d3f3",
           "#FF6692",
           "#B6E880",
           "#FF97FF",
           "#FECB52"
          ],
          "font": {
           "color": "#2a3f5f"
          },
          "geo": {
           "bgcolor": "white",
           "lakecolor": "white",
           "landcolor": "#E5ECF6",
           "showlakes": true,
           "showland": true,
           "subunitcolor": "white"
          },
          "hoverlabel": {
           "align": "left"
          },
          "hovermode": "closest",
          "mapbox": {
           "style": "light"
          },
          "paper_bgcolor": "white",
          "plot_bgcolor": "#E5ECF6",
          "polar": {
           "angularaxis": {
            "gridcolor": "white",
            "linecolor": "white",
            "ticks": ""
           },
           "bgcolor": "#E5ECF6",
           "radialaxis": {
            "gridcolor": "white",
            "linecolor": "white",
            "ticks": ""
           }
          },
          "scene": {
           "xaxis": {
            "backgroundcolor": "#E5ECF6",
            "gridcolor": "white",
            "gridwidth": 2,
            "linecolor": "white",
            "showbackground": true,
            "ticks": "",
            "zerolinecolor": "white"
           },
           "yaxis": {
            "backgroundcolor": "#E5ECF6",
            "gridcolor": "white",
            "gridwidth": 2,
            "linecolor": "white",
            "showbackground": true,
            "ticks": "",
            "zerolinecolor": "white"
           },
           "zaxis": {
            "backgroundcolor": "#E5ECF6",
            "gridcolor": "white",
            "gridwidth": 2,
            "linecolor": "white",
            "showbackground": true,
            "ticks": "",
            "zerolinecolor": "white"
           }
          },
          "shapedefaults": {
           "line": {
            "color": "#2a3f5f"
           }
          },
          "ternary": {
           "aaxis": {
            "gridcolor": "white",
            "linecolor": "white",
            "ticks": ""
           },
           "baxis": {
            "gridcolor": "white",
            "linecolor": "white",
            "ticks": ""
           },
           "bgcolor": "#E5ECF6",
           "caxis": {
            "gridcolor": "white",
            "linecolor": "white",
            "ticks": ""
           }
          },
          "title": {
           "x": 0.05
          },
          "xaxis": {
           "automargin": true,
           "gridcolor": "white",
           "linecolor": "white",
           "ticks": "",
           "title": {
            "standoff": 15
           },
           "zerolinecolor": "white",
           "zerolinewidth": 2
          },
          "yaxis": {
           "automargin": true,
           "gridcolor": "white",
           "linecolor": "white",
           "ticks": "",
           "title": {
            "standoff": 15
           },
           "zerolinecolor": "white",
           "zerolinewidth": 2
          }
         }
        },
        "title": {
         "text": "Hyperparameter Importances"
        },
        "xaxis": {
         "title": {
          "text": "Hyperparameter Importance"
         }
        },
        "yaxis": {
         "title": {
          "text": "Hyperparameter"
         }
        }
       }
      }
     },
     "metadata": {},
     "output_type": "display_data"
    },
    {
     "ename": "TypeError",
     "evalue": "unhashable type: 'list'",
     "output_type": "error",
     "traceback": [
      "\u001b[31m---------------------------------------------------------------------------\u001b[39m",
      "\u001b[31mTypeError\u001b[39m                                 Traceback (most recent call last)",
      "\u001b[36mCell\u001b[39m\u001b[36m \u001b[39m\u001b[32mIn[22]\u001b[39m\u001b[32m, line 19\u001b[39m\n\u001b[32m     17\u001b[39m plot_optimization_history(study).show()\n\u001b[32m     18\u001b[39m plot_param_importances(study).show()\n\u001b[32m---> \u001b[39m\u001b[32m19\u001b[39m \u001b[43mplot_parallel_coordinate\u001b[49m\u001b[43m(\u001b[49m\u001b[43mstudy\u001b[49m\u001b[43m)\u001b[49m.show()\n\u001b[32m     20\u001b[39m plot_slice(study).show()\n",
      "\u001b[36mFile \u001b[39m\u001b[32m/hkfs/home/haicore/iai/cj9272/citylearn_env/lib64/python3.11/site-packages/optuna/visualization/_parallel_coordinate.py:84\u001b[39m, in \u001b[36mplot_parallel_coordinate\u001b[39m\u001b[34m(study, params, target, target_name)\u001b[39m\n\u001b[32m     57\u001b[39m \u001b[38;5;250m\u001b[39m\u001b[33;03m\"\"\"Plot the high-dimensional parameter relationships in a study.\u001b[39;00m\n\u001b[32m     58\u001b[39m \n\u001b[32m     59\u001b[39m \u001b[33;03mNote that, if a parameter contains missing values, a trial with missing values is not plotted.\u001b[39;00m\n\u001b[32m   (...)\u001b[39m\u001b[32m     80\u001b[39m \u001b[33;03m    of :class:`~optuna.study.Study` is ``minimize``.\u001b[39;00m\n\u001b[32m     81\u001b[39m \u001b[33;03m\"\"\"\u001b[39;00m\n\u001b[32m     83\u001b[39m _imports.check()\n\u001b[32m---> \u001b[39m\u001b[32m84\u001b[39m info = \u001b[43m_get_parallel_coordinate_info\u001b[49m\u001b[43m(\u001b[49m\u001b[43mstudy\u001b[49m\u001b[43m,\u001b[49m\u001b[43m \u001b[49m\u001b[43mparams\u001b[49m\u001b[43m,\u001b[49m\u001b[43m \u001b[49m\u001b[43mtarget\u001b[49m\u001b[43m,\u001b[49m\u001b[43m \u001b[49m\u001b[43mtarget_name\u001b[49m\u001b[43m)\u001b[49m\n\u001b[32m     85\u001b[39m \u001b[38;5;28;01mreturn\u001b[39;00m _get_parallel_coordinate_plot(info)\n",
      "\u001b[36mFile \u001b[39m\u001b[32m/hkfs/home/haicore/iai/cj9272/citylearn_env/lib64/python3.11/site-packages/optuna/visualization/_parallel_coordinate.py:221\u001b[39m, in \u001b[36m_get_parallel_coordinate_info\u001b[39m\u001b[34m(study, params, target, target_name)\u001b[39m\n\u001b[32m    219\u001b[39m     numeric_cat_params_indices.append(dim_index)\n\u001b[32m    220\u001b[39m \u001b[38;5;28;01melse\u001b[39;00m:\n\u001b[32m--> \u001b[39m\u001b[32m221\u001b[39m     values = \u001b[43m[\u001b[49m\u001b[43mvocab\u001b[49m\u001b[43m[\u001b[49m\u001b[43mv\u001b[49m\u001b[43m]\u001b[49m\u001b[43m \u001b[49m\u001b[38;5;28;43;01mfor\u001b[39;49;00m\u001b[43m \u001b[49m\u001b[43mv\u001b[49m\u001b[43m \u001b[49m\u001b[38;5;129;43;01min\u001b[39;49;00m\u001b[43m \u001b[49m\u001b[43mvalues\u001b[49m\u001b[43m]\u001b[49m\n\u001b[32m    222\u001b[39m     ticktext = [\u001b[38;5;28mstr\u001b[39m(v) \u001b[38;5;28;01mfor\u001b[39;00m v \u001b[38;5;129;01min\u001b[39;00m \u001b[38;5;28mlist\u001b[39m(\u001b[38;5;28msorted\u001b[39m(vocab.keys(), key=\u001b[38;5;28;01mlambda\u001b[39;00m x: vocab[x]))]\n\u001b[32m    223\u001b[39m dim = _DimensionInfo(\n\u001b[32m    224\u001b[39m     label=_truncate_label(p_name),\n\u001b[32m    225\u001b[39m     values=\u001b[38;5;28mtuple\u001b[39m(values),\n\u001b[32m   (...)\u001b[39m\u001b[32m    230\u001b[39m     ticktext=ticktext,\n\u001b[32m    231\u001b[39m )\n",
      "\u001b[36mFile \u001b[39m\u001b[32m/hkfs/home/haicore/iai/cj9272/citylearn_env/lib64/python3.11/site-packages/optuna/visualization/_parallel_coordinate.py:221\u001b[39m, in \u001b[36m<listcomp>\u001b[39m\u001b[34m(.0)\u001b[39m\n\u001b[32m    219\u001b[39m     numeric_cat_params_indices.append(dim_index)\n\u001b[32m    220\u001b[39m \u001b[38;5;28;01melse\u001b[39;00m:\n\u001b[32m--> \u001b[39m\u001b[32m221\u001b[39m     values = [\u001b[43mvocab\u001b[49m\u001b[43m[\u001b[49m\u001b[43mv\u001b[49m\u001b[43m]\u001b[49m \u001b[38;5;28;01mfor\u001b[39;00m v \u001b[38;5;129;01min\u001b[39;00m values]\n\u001b[32m    222\u001b[39m     ticktext = [\u001b[38;5;28mstr\u001b[39m(v) \u001b[38;5;28;01mfor\u001b[39;00m v \u001b[38;5;129;01min\u001b[39;00m \u001b[38;5;28mlist\u001b[39m(\u001b[38;5;28msorted\u001b[39m(vocab.keys(), key=\u001b[38;5;28;01mlambda\u001b[39;00m x: vocab[x]))]\n\u001b[32m    223\u001b[39m dim = _DimensionInfo(\n\u001b[32m    224\u001b[39m     label=_truncate_label(p_name),\n\u001b[32m    225\u001b[39m     values=\u001b[38;5;28mtuple\u001b[39m(values),\n\u001b[32m   (...)\u001b[39m\u001b[32m    230\u001b[39m     ticktext=ticktext,\n\u001b[32m    231\u001b[39m )\n",
      "\u001b[31mTypeError\u001b[39m: unhashable type: 'list'"
     ]
    }
   ],
   "source": [
    "# Load an existing study (SQLite) and inspect results\n",
    "import optuna\n",
    "study = optuna.load_study(study_name=STUDY_NAME, storage=STORAGE_URL)\n",
    "print(\"Best value:\", study.best_value)\n",
    "print(\"Best params:\", study.best_trial.params)\n",
    "\n",
    "# Parameter importance (which knobs matter most)\n",
    "from optuna.importance import get_param_importances\n",
    "imps = get_param_importances(study)\n",
    "print(\"Importances:\", imps)\n",
    "\n",
    "# Visualizations (in notebook)\n",
    "from optuna.visualization import (\n",
    "    plot_optimization_history, plot_param_importances,\n",
    "    plot_parallel_coordinate, plot_slice\n",
    ")\n",
    "plot_optimization_history(study).show()\n",
    "plot_param_importances(study).show()\n",
    "plot_parallel_coordinate(study).show()\n",
    "plot_slice(study).show()"
   ]
  },
  {
   "cell_type": "markdown",
   "id": "4e0bb38a",
   "metadata": {},
   "source": [
    "#### Plotting"
   ]
  },
  {
   "cell_type": "code",
   "execution_count": 16,
   "id": "815990fc",
   "metadata": {},
   "outputs": [
    {
     "name": "stdout",
     "output_type": "stream",
     "text": [
      "Using cached eval_results.\n"
     ]
    },
    {
     "data": {
      "image/png": "[encoded data removed]",
      "text/plain": [
       "<Figure size 700x300 with 1 Axes>"
      ]
     },
     "metadata": {},
     "output_type": "display_data"
    },
    {
     "data": {
      "image/png": "[encoded data removed]",
      "text/plain": [
       "<Figure size 400x300 with 1 Axes>"
      ]
     },
     "metadata": {},
     "output_type": "display_data"
    },
    {
     "name": "stdout",
     "output_type": "stream",
     "text": [
      "Using cached eval_results.\n"
     ]
    },
    {
     "data": {
      "image/png": "[encoded data removed]",
      "text/plain": [
       "<Figure size 1050x360 with 2 Axes>"
      ]
     },
     "metadata": {},
     "output_type": "display_data"
    },
    {
     "name": "stdout",
     "output_type": "stream",
     "text": [
      "Using cached eval_results.\n"
     ]
    },
    {
     "data": {
      "image/png": "[encoded data removed]",
      "text/plain": [
       "<Figure size 1200x350 with 2 Axes>"
      ]
     },
     "metadata": {},
     "output_type": "display_data"
    },
    {
     "data": {
      "image/png": "[encoded data removed]",
      "text/plain": [
       "<Figure size 1200x350 with 2 Axes>"
      ]
     },
     "metadata": {},
     "output_type": "display_data"
    },
    {
     "data": {
      "image/png": "[encoded data removed]",
      "text/plain": [
       "<Figure size 1200x350 with 2 Axes>"
      ]
     },
     "metadata": {},
     "output_type": "display_data"
    }
   ],
   "source": [
    "import os, copy, pickle\n",
    "from matplotlib.ticker import MultipleLocator\n",
    "import numpy as np\n",
    "import pandas as pd\n",
    "import matplotlib.pyplot as plt\n",
    "import gymnasium as gym\n",
    "from citylearn.citylearn import CityLearnEnv\n",
    "\n",
    "# ------------- Helpers -------------\n",
    "def unwrap_to_citylearn(env):\n",
    "    cur, seen = env, set()\n",
    "    while cur is not None and id(cur) not in seen:\n",
    "        seen.add(id(cur))\n",
    "        if isinstance(cur, CityLearnEnv):\n",
    "            return cur\n",
    "        cur = getattr(cur, \"env\", getattr(cur, \"unwrapped\", None))\n",
    "    raise RuntimeError(\"CityLearnEnv not found inside wrappers.\")\n",
    "\n",
    "# Use cached eval_results if available, else load from eval file\n",
    "def _ensure_eval_results(path=EVAL_FILE):\n",
    "    \"\"\"Return cached eval_results if present; else load from file. No quick-eval fallback.\"\"\"\n",
    "    global eval_results\n",
    "    if 'eval_results' in globals():\n",
    "        print(\"Using cached eval_results.\")\n",
    "        return eval_results\n",
    "    if os.path.exists(path):\n",
    "        with open(path, \"rb\") as f:\n",
    "            eval_results = pickle.load(f)\n",
    "            print(f\"Eval results loaded from {path}.\")\n",
    "        # Sanity check\n",
    "        required = {'ep_lengths','actions_disc_list','step_rewards','price_df','episode_len','building_name'}\n",
    "        missing = required - set(eval_results.keys())\n",
    "        if missing:\n",
    "            raise ValueError(f\"Loaded eval_results missing keys: {missing}\")\n",
    "        return eval_results\n",
    "    raise FileNotFoundError(f\"{path} not found. Run eval_dqn(...) and save eval_results first.\")\n",
    "\n",
    "def capture_ep_series_dqn(model, env, building_name=\"Building_1\", deterministic=True, max_steps=None, episode_idx=0):\n",
    "    \"\"\"Build per-step DataFrame from saved eval_results; no env stepping or model usage.\"\"\"\n",
    "    er = _ensure_eval_results()\n",
    "    needed = ['ep_action_fracs','ep_rewards_list','ep_net_load','ep_non_shiftable_load','ep_price','ep_solar_generation','actions_disc_list','building_name']\n",
    "    missing = [k for k in needed if k not in er]\n",
    "    if missing:\n",
    "        raise ValueError(f\"eval_results missing keys: {missing}. Re-run eval_dqn to regenerate with per-step series.\")\n",
    "    n_eps = len(er['ep_rewards_list'])\n",
    "    if not (0 <= episode_idx < n_eps):\n",
    "        raise IndexError(f\"episode_idx {episode_idx} out of range 0..{n_eps-1}\")\n",
    "\n",
    "    a_id   = np.asarray(er['actions_disc_list'][episode_idx], dtype=int)\n",
    "    a_frac = np.asarray(er['ep_action_fracs'][episode_idx], dtype=float)\n",
    "    rew    = np.asarray(er['ep_rewards_list'][episode_idx], dtype=float)\n",
    "    net    = np.asarray(er['ep_net_load'][episode_idx], dtype=float)\n",
    "    nsl    = np.asarray(er['ep_non_shiftable_load'][episode_idx], dtype=float)\n",
    "    price  = np.asarray(er['ep_price'][episode_idx], dtype=float)\n",
    "    solar  = np.asarray(er['ep_solar_generation'][episode_idx], dtype=float)\n",
    "\n",
    "    L = len(rew)\n",
    "    if max_steps is not None:\n",
    "        L = min(L, int(max_steps))\n",
    "        a_id, a_frac, rew, net, nsl, price, solar = a_id[:L], a_frac[:L], rew[:L], net[:L], nsl[:L], price[:L], solar[:L]\n",
    "\n",
    "    df = pd.DataFrame({\n",
    "        't': np.arange(L, dtype=int),\n",
    "        'action_id': a_id,\n",
    "        'action_frac': a_frac,\n",
    "        'reward': rew,\n",
    "        'net_load': net,\n",
    "        'non_shiftable_load': nsl,\n",
    "        'price': price,\n",
    "        'solar_generation': solar,\n",
    "    })\n",
    "    return df, er.get('building_name', building_name)\n",
    "\n",
    "er = _ensure_eval_results()\n",
    "actions_disc = np.concatenate(er['actions_disc_list'], axis=0)\n",
    "actions_frac = pd.Series(actions_disc).map({0:-1.0, 1:-0.5, 2:0.0, 3:0.5, 4:1.0}).to_numpy()\n",
    "hour_index = np.arange(len(actions_frac))\n",
    "building_name = er['building_name']\n",
    "\n",
    "# Plot 1: Actions over time (raw + MA)\n",
    "window = 500\n",
    "act_ma = pd.Series(actions_frac).rolling(window, min_periods=1).mean().to_numpy()\n",
    "plt.figure(figsize=(7,3))\n",
    "plt.scatter(hour_index, actions_frac, s=5, alpha=0.35, label='raw')\n",
    "plt.plot(hour_index, act_ma, color='C2', lw=2, label=f'ma {window}')\n",
    "plt.title(f'DQN Eval Actions over time (Raw + MA) - {building_name}')\n",
    "plt.xlabel('Timestep'); plt.ylabel('Action [-1..1]'); plt.grid(True); plt.legend(loc='upper right')\n",
    "plt.yticks(INT_TO_FRAC.tolist(), ACTION_LABELS)\n",
    "plt.tight_layout(); plt.show()\n",
    "\n",
    "# Plot 2: Action Distribution (5-bin)\n",
    "plt.figure(figsize=(4,3))\n",
    "counts = pd.Series(actions_disc).value_counts().reindex(range(5)).fillna(0).astype(int)\n",
    "ax = counts.plot(kind='bar', color=['C0','C1','C2','C3','C4'])\n",
    "ax.set_xticklabels(ACTION_LABELS, rotation=45, ha='right')\n",
    "total = counts.sum()\n",
    "ax.bar_label(ax.containers[0], labels=[f'{int(v)}\\n({v/total:.1%})' for v in counts.values])\n",
    "ax.set_ylim(0, counts.max()*1.5)\n",
    "plt.ylabel('Count'); plt.title('Action Distribution'); plt.tight_layout(); plt.show()\n",
    "\n",
    "def add_top_legend(ax_left, ax_right=None, ncol=3, y=1.50, top=0.84, loc='upper center', frameon=False):\n",
    "    \"\"\"Place a combined legend above the plot using lines from one or two axes.\"\"\"\n",
    "    handles = []\n",
    "    for ax in (ax_left, ax_right):\n",
    "        if ax is None:\n",
    "            continue\n",
    "        handles.extend(ax.get_lines())\n",
    "    labels = [h.get_label() for h in handles]\n",
    "    legend = ax_left.legend(handles, labels, loc=loc, bbox_to_anchor=(0.5, y), ncol=ncol, frameon=frameon)\n",
    "    if top is not None:\n",
    "        plt.subplots_adjust(top=top)\n",
    "    return legend\n",
    "\n",
    "def plot_first_30_steps_actions_vs_loads_dqn(model, env, building_name=\"Building_1\", deterministic=True):\n",
    "    df30, bname = capture_ep_series_dqn(model, env, building_name, deterministic=deterministic, max_steps=30)\n",
    "\n",
    "    t = df30['t'].to_numpy()\n",
    "    net = df30['net_load'].to_numpy()\n",
    "    nsl = df30['non_shiftable_load'].to_numpy()\n",
    "    act = df30['action_frac'].to_numpy()\n",
    "\n",
    "    fig, ax1 = plt.subplots(figsize=(10.5, 3.6))\n",
    "    ax1.plot(t, net, color='C4', marker='o', label='Net Load (with storage)')\n",
    "    ax1.plot(t, nsl, color='C1', ls='--', marker='x', label='Non-shiftable Load (baseline)')\n",
    "    ax1.set_xlabel('Timestep')\n",
    "    ax1.set_ylabel('Load')\n",
    "    ax1.set_xticks(t[::2])\n",
    "    ax1.set_ylim(-2, 4)  # enforce requested load range\n",
    "    ax1.yaxis.set_major_locator(MultipleLocator(2))  # enforce ticks every 2 units\n",
    "    ax1.grid(True, alpha=0.3)\n",
    "\n",
    "    ax2 = ax1.twinx()\n",
    "    ax2.step(t, act, where='mid', color='C0', label='Action')\n",
    "    ax2.set_ylabel('Action')\n",
    "    ax2.set_ylim(-1.1, 1.1)\n",
    "    ax2.set_yticks(INT_TO_FRAC.tolist())\n",
    "    ax2.set_yticklabels(ACTION_LABELS)\n",
    "    add_top_legend(ax1, ax2)\n",
    "    plt.title(f'DQN — first 30 steps — {bname} (deterministic={deterministic})')\n",
    "    plt.tight_layout()\n",
    "    plt.show()\n",
    "\n",
    "def plot_ep1_reward_vs_obs_dqn(model, env, building_name=\"Building_1\", deterministic=True, episode_idx=0):\n",
    "    \"\"\"Plot using stored eval_results only; no rollout or replay.\"\"\"\n",
    "    er = _ensure_eval_results()\n",
    "    req = ['ep_rewards_list','ep_price','ep_solar_generation','ep_net_load','building_name']\n",
    "    miss = [k for k in req if k not in er]\n",
    "    if miss:\n",
    "        raise ValueError(f\"eval_results missing keys: {miss}. Re-run eval_dqn to regenerate with per-step series.\")\n",
    "\n",
    "    n_eps = len(er['ep_rewards_list'])\n",
    "    if not (0 <= episode_idx < n_eps):\n",
    "        raise IndexError(f\"episode_idx {episode_idx} out of range 0..{n_eps-1}\")\n",
    "\n",
    "    rewards = np.asarray(er['ep_rewards_list'][episode_idx], dtype=float)\n",
    "    price   = np.asarray(er['ep_price'][episode_idx], dtype=float)\n",
    "    solar   = np.asarray(er['ep_solar_generation'][episode_idx], dtype=float)\n",
    "    net     = np.asarray(er['ep_net_load'][episode_idx], dtype=float)\n",
    "    t = np.arange(len(rewards))\n",
    "\n",
    "    window_reward = 200\n",
    "    window_x = 24\n",
    "    reward_ma = pd.Series(rewards).rolling(window_reward, min_periods=1).mean().to_numpy()\n",
    "    price_ma  = pd.Series(price).rolling(window_x, min_periods=1).mean().to_numpy()\n",
    "    solar_ma  = pd.Series(solar).rolling(window_x, min_periods=1).mean().to_numpy()\n",
    "    net_ma    = pd.Series(net).rolling(window_x, min_periods=1).mean().to_numpy()\n",
    "\n",
    "    # 4) Reward vs Net Load\n",
    "    fig, ax1 = plt.subplots(figsize=(12, 3.5))\n",
    "    ax1.plot(t, reward_ma, color='C3', label=f'Reward MA (w={window_reward})')\n",
    "    ax1.set_xlabel('Timestep'); ax1.set_ylabel(f'Reward MA ({window_reward})', color='C3')\n",
    "    ax1.tick_params(axis='y', labelcolor='C3'); ax1.grid(True, axis='x', alpha=0.3)\n",
    "    ax2 = ax1.twinx()\n",
    "    ax2.plot(t, net_ma, color='C4', label=f'Net Load MA (w={window_x})')\n",
    "    ax2.set_ylabel('Net Electricity Consumption', color='C4'); ax2.tick_params(axis='y', labelcolor='C4')\n",
    "    add_top_legend(ax1, ax2)\n",
    "    ax1.set_title(f'DQN Episode {episode_idx+1} — Reward vs Net Load — {building_name}')\n",
    "    plt.tight_layout(); plt.show()\n",
    "\n",
    "    # 5) Reward vs Electricity Price\n",
    "    fig, ax1 = plt.subplots(figsize=(12, 3.5))\n",
    "    ax1.plot(t, reward_ma, color='C3', label=f'Reward MA (w={window_reward})')\n",
    "    ax1.set_xlabel('Timestep'); ax1.set_ylabel(f'Reward MA ({window_reward})', color='C3')\n",
    "    ax1.tick_params(axis='y', labelcolor='C3'); ax1.grid(True, axis='x', alpha=0.3)\n",
    "    ax2 = ax1.twinx()\n",
    "    ax2.plot(t, price_ma, color='C0', label=f'Price MA (w={window_x})')\n",
    "    ax2.set_ylabel('Electricity Price', color='C0'); ax2.tick_params(axis='y', labelcolor='C0')\n",
    "    add_top_legend(ax1, ax2)\n",
    "    ax1.set_title(f'DQN Episode {episode_idx+1} — Reward vs Electricity Price — {building_name}')\n",
    "    plt.tight_layout(); plt.show()\n",
    "\n",
    "    # 6) Reward vs Solar Generation\n",
    "    fig, ax1 = plt.subplots(figsize=(12, 3.5))\n",
    "    ax1.plot(t, reward_ma, color='C3', label=f'Reward MA (w={window_reward})')\n",
    "    ax1.set_xlabel('Timestep'); ax1.set_ylabel(f'Reward MA ({window_reward})', color='C3')\n",
    "    ax1.tick_params(axis='y', labelcolor='C3'); ax1.grid(True, axis='x', alpha=0.3)\n",
    "    ax2 = ax1.twinx()\n",
    "    ax2.plot(t, solar_ma, color='C2', label=f'Solar Gen MA (w={window_x})')\n",
    "    ax2.set_ylabel('Solar Generation', color='C2'); ax2.tick_params(axis='y', labelcolor='C2')\n",
    "    add_top_legend(ax1, ax2)\n",
    "    ax1.set_title(f'DQN Episode {episode_idx+1} — Reward vs Solar Generation — {building_name}')\n",
    "    plt.tight_layout(); plt.show()\n",
    "\n",
    "\n",
    "# ----- Plot 3: Actions vs Loads (first 30 steps) -----\n",
    "plot_first_30_steps_actions_vs_loads_dqn(model, eval_env, building_name=\"Building_1\", deterministic=False)\n",
    "\n",
    "\n",
    "# ----- Plot 4,5,6: Actions vs Observations(Net Load, Price, Solar Generation) - first episode -----\n",
    "plot_ep1_reward_vs_obs_dqn(model, eval_env, building_name=\"Building_1\", deterministic=False, episode_idx=0)"
   ]
  },
  {
   "cell_type": "code",
   "execution_count": null,
   "id": "71234d3d",
   "metadata": {},
   "outputs": [
    {
     "name": "stdout",
     "output_type": "stream",
     "text": [
      "Loaded 22080 rows from /hkfs/home/haicore/iai/cj9272/train_steps.csv\n",
      "Fitting 5 folds for each of 2400 candidates, totalling 12000 fits\n",
      "Best CV balanced_accuracy: 0.44019691351152\n",
      "Best params: {'ccp_alpha': 0.0005, 'class_weight': 'balanced', 'criterion': 'entropy', 'max_depth': 6, 'min_samples_leaf': 10, 'min_samples_split': 2, 'splitter': 'best'}\n",
      "Surrogate Tree Accuracy: 0.380\n",
      "Confusion matrix (rows=true, cols=pred):\n",
      " [[1368  157  551  160   67]\n",
      " [1011  234  693  162   29]\n",
      " [ 226   60  324  102   42]\n",
      " [  17    3   30   88   42]\n",
      " [  16    1   11   45   81]]\n",
      "                precision    recall  f1-score   support\n",
      "\n",
      "100%_discharge       0.52      0.59      0.55      2303\n",
      " 50%_discharge       0.51      0.11      0.18      2129\n",
      "          idle       0.20      0.43      0.27       754\n",
      "    50%_charge       0.16      0.49      0.24       180\n",
      "   100%_charge       0.31      0.53      0.39       154\n",
      "\n",
      "      accuracy                           0.38      5520\n",
      "     macro avg       0.34      0.43      0.33      5520\n",
      "  weighted avg       0.46      0.38      0.36      5520\n",
      "\n",
      "\n",
      "Top feature importances:\n",
      "- net_electricity_consumption: 0.4772\n",
      "- electricity_pricing: 0.2746\n",
      "- non_shiftable_load: 0.1209\n",
      "- solar_generation: 0.0763\n",
      "- carbon_intensity: 0.0511\n",
      "True action: 0 (100%_discharge), Pred: 0 (100%_discharge), Proba: {'100%_discharge': np.float64(0.408), '50%_discharge': np.float64(0.37), 'idle': np.float64(0.144), '50%_charge': np.float64(0.036), '100%_charge': np.float64(0.042)}\n",
      "Decision path:\n",
      " - net_electricity_consumption: 0.2284 <= 0.2894 -> left\n",
      " - electricity_pricing: 0.3641 <= 0.0536 -> right\n",
      " - net_electricity_consumption: 0.2284 <= 0.2522 -> left\n",
      " - solar_generation: 0.0000 <= 0.0419 -> left\n",
      " - electricity_pricing: 0.3641 <= 0.2901 -> right\n",
      " - non_shiftable_load: 0.0038 <= 0.0075 -> left\n"
     ]
    },
    {
     "data": {
      "image/svg+xml": [
       "<svg xmlns=\"http://www.w3.org/2000/svg\" xmlns:xlink=\"http://www.w3.org/1999/xlink\" width=\"15836pt\" height=\"790pt\" viewBox=\"0.00 0.00 15835.50 790.00\">\n",
       "<g id=\"graph0\" class=\"graph\" transform=\"scale(1 1) rotate(0) translate(4 786)\">\n",
       "<title>Tree</title>\n",
       "<polygon fill=\"white\" stroke=\"transparent\" points=\"-4,4 -4,-786 15831.5,-786 15831.5,4 -4,4\"/>\n",
       "<!-- 0 -->\n",
       "<g id=\"node1\" class=\"node\">\n",
       "<title>0</title>\n",
       "<path fill=\"#ffffff\" stroke=\"black\" d=\"M8698,-782C8698,-782 8414,-782 8414,-782 8408,-782 8402,-776 8402,-770 8402,-770 8402,-711 8402,-711 8402,-705 8408,-699 8414,-699 8414,-699 8698,-699 8698,-699 8704,-699 8710,-705 8710,-711 8710,-711 8710,-770 8710,-770 8710,-776 8704,-782 8698,-782\"/>\n",
       "<text text-anchor=\"start\" x=\"8447.5\" y=\"-766.8\" font-family=\"helvetica\" font-size=\"14.00\">net_electricity_consumption ≤ 0.289</text>\n",
       "<text text-anchor=\"start\" x=\"8508.5\" y=\"-751.8\" font-family=\"helvetica\" font-size=\"14.00\">entropy = 2.322</text>\n",
       "<text text-anchor=\"start\" x=\"8503.5\" y=\"-736.8\" font-family=\"helvetica\" font-size=\"14.00\">samples = 16560</text>\n",
       "<text text-anchor=\"start\" x=\"8410\" y=\"-721.8\" font-family=\"helvetica\" font-size=\"14.00\">value = [3312.0, 3312.0, 3312.0, 3312.0, 3312.0]</text>\n",
       "<text text-anchor=\"start\" x=\"8485.5\" y=\"-706.8\" font-family=\"helvetica\" font-size=\"14.00\">class = 50%_discharge</text>\n",
       "</g>\n",
       "<!-- 1 -->\n",
       "<g id=\"node2\" class=\"node\">\n",
       "<title>1</title>\n",
       "<path fill=\"#fefffe\" stroke=\"black\" d=\"M6379.5,-663C6379.5,-663 6020.5,-663 6020.5,-663 6014.5,-663 6008.5,-657 6008.5,-651 6008.5,-651 6008.5,-592 6008.5,-592 6008.5,-586 6014.5,-580 6020.5,-580 6020.5,-580 6379.5,-580 6379.5,-580 6385.5,-580 6391.5,-586 6391.5,-592 6391.5,-592 6391.5,-651 6391.5,-651 6391.5,-657 6385.5,-663 6379.5,-663\"/>\n",
       "<text text-anchor=\"start\" x=\"6123.5\" y=\"-647.8\" font-family=\"helvetica\" font-size=\"14.00\">electricity_pricing ≤ 0.054</text>\n",
       "<text text-anchor=\"start\" x=\"6152.5\" y=\"-632.8\" font-family=\"helvetica\" font-size=\"14.00\">entropy = 2.248</text>\n",
       "<text text-anchor=\"start\" x=\"6147.5\" y=\"-617.8\" font-family=\"helvetica\" font-size=\"14.00\">samples = 14522</text>\n",
       "<text text-anchor=\"start\" x=\"6016.5\" y=\"-602.8\" font-family=\"helvetica\" font-size=\"14.00\">value = [3017.749, 3064.611, 2692.373, 1922.307, 1178.239]</text>\n",
       "<text text-anchor=\"start\" x=\"6129.5\" y=\"-587.8\" font-family=\"helvetica\" font-size=\"14.00\">class = 50%_discharge</text>\n",
       "</g>\n",
       "<!-- 0&#45;&gt;1 -->\n",
       "<g id=\"edge1\" class=\"edge\">\n",
       "<title>0-&gt;1</title>\n",
       "<path fill=\"none\" stroke=\"black\" d=\"M8401.87,-731.85C7989.94,-711.39 6863.47,-655.45 6401.61,-632.51\"/>\n",
       "<polygon fill=\"black\" stroke=\"black\" points=\"6401.66,-629.01 6391.5,-632.01 6401.31,-636 6401.66,-629.01\"/>\n",
       "<text text-anchor=\"middle\" x=\"6408.28\" y=\"-646.84\" font-family=\"helvetica\" font-size=\"14.00\">True</text>\n",
       "</g>\n",
       "<!-- 58 -->\n",
       "<g id=\"node59\" class=\"node\">\n",
       "<title>58</title>\n",
       "<path fill=\"#f9d2f1\" stroke=\"black\" d=\"M11347.5,-663C11347.5,-663 11010.5,-663 11010.5,-663 11004.5,-663 10998.5,-657 10998.5,-651 10998.5,-651 10998.5,-592 10998.5,-592 10998.5,-586 11004.5,-580 11010.5,-580 11010.5,-580 11347.5,-580 11347.5,-580 11353.5,-580 11359.5,-586 11359.5,-592 11359.5,-592 11359.5,-651 11359.5,-651 11359.5,-657 11353.5,-663 11347.5,-663\"/>\n",
       "<text text-anchor=\"start\" x=\"11070.5\" y=\"-647.8\" font-family=\"helvetica\" font-size=\"14.00\">net_electricity_consumption ≤ 0.335</text>\n",
       "<text text-anchor=\"start\" x=\"11131.5\" y=\"-632.8\" font-family=\"helvetica\" font-size=\"14.00\">entropy = 1.898</text>\n",
       "<text text-anchor=\"start\" x=\"11130.5\" y=\"-617.8\" font-family=\"helvetica\" font-size=\"14.00\">samples = 2038</text>\n",
       "<text text-anchor=\"start\" x=\"11006.5\" y=\"-602.8\" font-family=\"helvetica\" font-size=\"14.00\">value = [294.251, 247.389, 619.627, 1389.693, 2133.761]</text>\n",
       "<text text-anchor=\"start\" x=\"11113.5\" y=\"-587.8\" font-family=\"helvetica\" font-size=\"14.00\">class = 100%_charge</text>\n",
       "</g>\n",
       "<!-- 0&#45;&gt;58 -->\n",
       "<g id=\"edge58\" class=\"edge\">\n",
       "<title>0-&gt;58</title>\n",
       "<path fill=\"none\" stroke=\"black\" d=\"M8710.29,-732.62C9163.73,-712.39 10491.4,-653.17 10988.33,-631\"/>\n",
       "<polygon fill=\"black\" stroke=\"black\" points=\"10988.64,-634.49 10998.48,-630.55 10988.33,-627.5 10988.64,-634.49\"/>\n",
       "<text text-anchor=\"middle\" x=\"10981.6\" y=\"-645.3\" font-family=\"helvetica\" font-size=\"14.00\">False</text>\n",
       "</g>\n",
       "<!-- 2 -->\n",
       "<g id=\"node3\" class=\"node\">\n",
       "<title>2</title>\n",
       "<path fill=\"#c9c9f8\" stroke=\"black\" d=\"M3329,-544C3329,-544 3015,-544 3015,-544 3009,-544 3003,-538 3003,-532 3003,-532 3003,-473 3003,-473 3003,-467 3009,-461 3015,-461 3015,-461 3329,-461 3329,-461 3335,-461 3341,-467 3341,-473 3341,-473 3341,-532 3341,-532 3341,-538 3335,-544 3329,-544\"/>\n",
       "<text text-anchor=\"start\" x=\"3103\" y=\"-528.8\" font-family=\"helvetica\" font-size=\"14.00\">electricity_pricing ≤ 0.0</text>\n",
       "<text text-anchor=\"start\" x=\"3124.5\" y=\"-513.8\" font-family=\"helvetica\" font-size=\"14.00\">entropy = 1.983</text>\n",
       "<text text-anchor=\"start\" x=\"3123.5\" y=\"-498.8\" font-family=\"helvetica\" font-size=\"14.00\">samples = 1198</text>\n",
       "<text text-anchor=\"start\" x=\"3011\" y=\"-483.8\" font-family=\"helvetica\" font-size=\"14.00\">value = [158.148, 189.82, 360.35, 1071.349, 581.935]</text>\n",
       "<text text-anchor=\"start\" x=\"3110\" y=\"-468.8\" font-family=\"helvetica\" font-size=\"14.00\">class = 50%_charge</text>\n",
       "</g>\n",
       "<!-- 1&#45;&gt;2 -->\n",
       "<g id=\"edge2\" class=\"edge\">\n",
       "<title>1-&gt;2</title>\n",
       "<path fill=\"none\" stroke=\"black\" d=\"M6008.29,-613.09C5458.96,-591.87 3884.52,-531.03 3351.16,-510.42\"/>\n",
       "<polygon fill=\"black\" stroke=\"black\" points=\"3351.19,-506.92 3341.07,-510.03 3350.92,-513.92 3351.19,-506.92\"/>\n",
       "</g>\n",
       "<!-- 27 -->\n",
       "<g id=\"node28\" class=\"node\">\n",
       "<title>27</title>\n",
       "<path fill=\"#ffffff\" stroke=\"black\" d=\"M6372,-544C6372,-544 6028,-544 6028,-544 6022,-544 6016,-538 6016,-532 6016,-532 6016,-473 6016,-473 6016,-467 6022,-461 6028,-461 6028,-461 6372,-461 6372,-461 6378,-461 6384,-467 6384,-473 6384,-473 6384,-532 6384,-532 6384,-538 6378,-544 6372,-544\"/>\n",
       "<text text-anchor=\"start\" x=\"6091.5\" y=\"-528.8\" font-family=\"helvetica\" font-size=\"14.00\">net_electricity_consumption ≤ 0.252</text>\n",
       "<text text-anchor=\"start\" x=\"6152.5\" y=\"-513.8\" font-family=\"helvetica\" font-size=\"14.00\">entropy = 2.102</text>\n",
       "<text text-anchor=\"start\" x=\"6147.5\" y=\"-498.8\" font-family=\"helvetica\" font-size=\"14.00\">samples = 13324</text>\n",
       "<text text-anchor=\"start\" x=\"6024\" y=\"-483.8\" font-family=\"helvetica\" font-size=\"14.00\">value = [2859.601, 2874.791, 2332.023, 850.957, 596.304]</text>\n",
       "<text text-anchor=\"start\" x=\"6129.5\" y=\"-468.8\" font-family=\"helvetica\" font-size=\"14.00\">class = 50%_discharge</text>\n",
       "</g>\n",
       "<!-- 1&#45;&gt;27 -->\n",
       "<g id=\"edge27\" class=\"edge\">\n",
       "<title>1-&gt;27</title>\n",
       "<path fill=\"none\" stroke=\"black\" d=\"M6200,-579.91C6200,-571.65 6200,-562.86 6200,-554.3\"/>\n",
       "<polygon fill=\"black\" stroke=\"black\" points=\"6203.5,-554.02 6200,-544.02 6196.5,-554.02 6203.5,-554.02\"/>\n",
       "</g>\n",
       "<!-- 3 -->\n",
       "<g id=\"node4\" class=\"node\">\n",
       "<title>3</title>\n",
       "<path fill=\"#c4c3f7\" stroke=\"black\" d=\"M2014,-425C2014,-425 1700,-425 1700,-425 1694,-425 1688,-419 1688,-413 1688,-413 1688,-354 1688,-354 1688,-348 1694,-342 1700,-342 1700,-342 2014,-342 2014,-342 2020,-342 2026,-348 2026,-354 2026,-354 2026,-413 2026,-413 2026,-419 2020,-425 2014,-425\"/>\n",
       "<text text-anchor=\"start\" x=\"1782\" y=\"-409.8\" font-family=\"helvetica\" font-size=\"14.00\">solar_generation ≤ 0.778</text>\n",
       "<text text-anchor=\"start\" x=\"1809.5\" y=\"-394.8\" font-family=\"helvetica\" font-size=\"14.00\">entropy = 1.861</text>\n",
       "<text text-anchor=\"start\" x=\"1812\" y=\"-379.8\" font-family=\"helvetica\" font-size=\"14.00\">samples = 796</text>\n",
       "<text text-anchor=\"start\" x=\"1696\" y=\"-364.8\" font-family=\"helvetica\" font-size=\"14.00\">value = [98.723, 108.913, 238.769, 906.055, 495.722]</text>\n",
       "<text text-anchor=\"start\" x=\"1795\" y=\"-349.8\" font-family=\"helvetica\" font-size=\"14.00\">class = 50%_charge</text>\n",
       "</g>\n",
       "<!-- 2&#45;&gt;3 -->\n",
       "<g id=\"edge3\" class=\"edge\">\n",
       "<title>2-&gt;3</title>\n",
       "<path fill=\"none\" stroke=\"black\" d=\"M3002.78,-486.44C2753.78,-464.29 2290.75,-423.09 2036.18,-400.44\"/>\n",
       "<polygon fill=\"black\" stroke=\"black\" points=\"2036.36,-396.94 2026.09,-399.54 2035.74,-403.92 2036.36,-396.94\"/>\n",
       "</g>\n",
       "<!-- 18 -->\n",
       "<g id=\"node19\" class=\"node\">\n",
       "<title>18</title>\n",
       "<path fill=\"#e9e9fc\" stroke=\"black\" d=\"M3321.5,-425C3321.5,-425 3022.5,-425 3022.5,-425 3016.5,-425 3010.5,-419 3010.5,-413 3010.5,-413 3010.5,-354 3010.5,-354 3010.5,-348 3016.5,-342 3022.5,-342 3022.5,-342 3321.5,-342 3321.5,-342 3327.5,-342 3333.5,-348 3333.5,-354 3333.5,-354 3333.5,-413 3333.5,-413 3333.5,-419 3327.5,-425 3321.5,-425\"/>\n",
       "<text text-anchor=\"start\" x=\"3063.5\" y=\"-409.8\" font-family=\"helvetica\" font-size=\"14.00\">net_electricity_consumption ≤ 0.266</text>\n",
       "<text text-anchor=\"start\" x=\"3124.5\" y=\"-394.8\" font-family=\"helvetica\" font-size=\"14.00\">entropy = 2.231</text>\n",
       "<text text-anchor=\"start\" x=\"3127\" y=\"-379.8\" font-family=\"helvetica\" font-size=\"14.00\">samples = 402</text>\n",
       "<text text-anchor=\"start\" x=\"3018.5\" y=\"-364.8\" font-family=\"helvetica\" font-size=\"14.00\">value = [59.425, 80.907, 121.582, 165.294, 86.213]</text>\n",
       "<text text-anchor=\"start\" x=\"3110\" y=\"-349.8\" font-family=\"helvetica\" font-size=\"14.00\">class = 50%_charge</text>\n",
       "</g>\n",
       "<!-- 2&#45;&gt;18 -->\n",
       "<g id=\"edge18\" class=\"edge\">\n",
       "<title>2-&gt;18</title>\n",
       "<path fill=\"none\" stroke=\"black\" d=\"M3172,-460.91C3172,-452.65 3172,-443.86 3172,-435.3\"/>\n",
       "<polygon fill=\"black\" stroke=\"black\" points=\"3175.5,-435.02 3172,-425.02 3168.5,-435.02 3175.5,-435.02\"/>\n",
       "</g>\n",
       "<!-- 4 -->\n",
       "<g id=\"node5\" class=\"node\">\n",
       "<title>4</title>\n",
       "<path fill=\"#c2c1f7\" stroke=\"black\" d=\"M1092.5,-306C1092.5,-306 793.5,-306 793.5,-306 787.5,-306 781.5,-300 781.5,-294 781.5,-294 781.5,-235 781.5,-235 781.5,-229 787.5,-223 793.5,-223 793.5,-223 1092.5,-223 1092.5,-223 1098.5,-223 1104.5,-229 1104.5,-235 1104.5,-235 1104.5,-294 1104.5,-294 1104.5,-300 1098.5,-306 1092.5,-306\"/>\n",
       "<text text-anchor=\"start\" x=\"834.5\" y=\"-290.8\" font-family=\"helvetica\" font-size=\"14.00\">net_electricity_consumption ≤ 0.202</text>\n",
       "<text text-anchor=\"start\" x=\"895.5\" y=\"-275.8\" font-family=\"helvetica\" font-size=\"14.00\">entropy = 1.965</text>\n",
       "<text text-anchor=\"start\" x=\"898\" y=\"-260.8\" font-family=\"helvetica\" font-size=\"14.00\">samples = 566</text>\n",
       "<text text-anchor=\"start\" x=\"789.5\" y=\"-245.8\" font-family=\"helvetica\" font-size=\"14.00\">value = [67.572, 91.28, 187.499, 526.492, 251.453]</text>\n",
       "<text text-anchor=\"start\" x=\"881\" y=\"-230.8\" font-family=\"helvetica\" font-size=\"14.00\">class = 50%_charge</text>\n",
       "</g>\n",
       "<!-- 3&#45;&gt;4 -->\n",
       "<g id=\"edge4\" class=\"edge\">\n",
       "<title>3-&gt;4</title>\n",
       "<path fill=\"none\" stroke=\"black\" d=\"M1687.76,-360.84C1524.63,-339.95 1279.01,-308.51 1114.97,-287.51\"/>\n",
       "<polygon fill=\"black\" stroke=\"black\" points=\"1115.14,-284.01 1104.77,-286.21 1114.25,-290.95 1115.14,-284.01\"/>\n",
       "</g>\n",
       "<!-- 11 -->\n",
       "<g id=\"node12\" class=\"node\">\n",
       "<title>11</title>\n",
       "<path fill=\"#c8c7f8\" stroke=\"black\" d=\"M2003,-306C2003,-306 1711,-306 1711,-306 1705,-306 1699,-300 1699,-294 1699,-294 1699,-235 1699,-235 1699,-229 1705,-223 1711,-223 1711,-223 2003,-223 2003,-223 2009,-223 2015,-229 2015,-235 2015,-235 2015,-294 2015,-294 2015,-300 2009,-306 2003,-306\"/>\n",
       "<text text-anchor=\"start\" x=\"1783\" y=\"-290.8\" font-family=\"helvetica\" font-size=\"14.00\">carbon_intensity ≤ 0.512</text>\n",
       "<text text-anchor=\"start\" x=\"1809.5\" y=\"-275.8\" font-family=\"helvetica\" font-size=\"14.00\">entropy = 1.614</text>\n",
       "<text text-anchor=\"start\" x=\"1812\" y=\"-260.8\" font-family=\"helvetica\" font-size=\"14.00\">samples = 230</text>\n",
       "<text text-anchor=\"start\" x=\"1707\" y=\"-245.8\" font-family=\"helvetica\" font-size=\"14.00\">value = [31.15, 17.634, 51.269, 379.564, 244.269]</text>\n",
       "<text text-anchor=\"start\" x=\"1795\" y=\"-230.8\" font-family=\"helvetica\" font-size=\"14.00\">class = 50%_charge</text>\n",
       "</g>\n",
       "<!-- 3&#45;&gt;11 -->\n",
       "<g id=\"edge11\" class=\"edge\">\n",
       "<title>3-&gt;11</title>\n",
       "<path fill=\"none\" stroke=\"black\" d=\"M1857,-341.91C1857,-333.65 1857,-324.86 1857,-316.3\"/>\n",
       "<polygon fill=\"black\" stroke=\"black\" points=\"1860.5,-316.02 1857,-306.02 1853.5,-316.02 1860.5,-316.02\"/>\n",
       "</g>\n",
       "<!-- 5 -->\n",
       "<g id=\"node6\" class=\"node\">\n",
       "<title>5</title>\n",
       "<path fill=\"#fefeff\" stroke=\"black\" d=\"M596.5,-187C596.5,-187 327.5,-187 327.5,-187 321.5,-187 315.5,-181 315.5,-175 315.5,-175 315.5,-116 315.5,-116 315.5,-110 321.5,-104 327.5,-104 327.5,-104 596.5,-104 596.5,-104 602.5,-104 608.5,-110 608.5,-116 608.5,-116 608.5,-175 608.5,-175 608.5,-181 602.5,-187 596.5,-187\"/>\n",
       "<text text-anchor=\"start\" x=\"388\" y=\"-171.8\" font-family=\"helvetica\" font-size=\"14.00\">carbon_intensity ≤ 0.699</text>\n",
       "<text text-anchor=\"start\" x=\"414.5\" y=\"-156.8\" font-family=\"helvetica\" font-size=\"14.00\">entropy = 2.246</text>\n",
       "<text text-anchor=\"start\" x=\"417\" y=\"-141.8\" font-family=\"helvetica\" font-size=\"14.00\">samples = 152</text>\n",
       "<text text-anchor=\"start\" x=\"323.5\" y=\"-126.8\" font-family=\"helvetica\" font-size=\"14.00\">value = [19.169, 37.86, 42.48, 42.854, 21.553]</text>\n",
       "<text text-anchor=\"start\" x=\"400\" y=\"-111.8\" font-family=\"helvetica\" font-size=\"14.00\">class = 50%_charge</text>\n",
       "</g>\n",
       "<!-- 4&#45;&gt;5 -->\n",
       "<g id=\"edge5\" class=\"edge\">\n",
       "<title>4-&gt;5</title>\n",
       "<path fill=\"none\" stroke=\"black\" d=\"M781.5,-224.22C728.93,-211.43 670.71,-197.27 618.52,-184.57\"/>\n",
       "<polygon fill=\"black\" stroke=\"black\" points=\"619.05,-181.1 608.51,-182.14 617.4,-187.9 619.05,-181.1\"/>\n",
       "</g>\n",
       "<!-- 8 -->\n",
       "<g id=\"node9\" class=\"node\">\n",
       "<title>8</title>\n",
       "<path fill=\"#bbbaf6\" stroke=\"black\" d=\"M1089,-187C1089,-187 797,-187 797,-187 791,-187 785,-181 785,-175 785,-175 785,-116 785,-116 785,-110 791,-104 797,-104 797,-104 1089,-104 1089,-104 1095,-104 1101,-110 1101,-116 1101,-116 1101,-175 1101,-175 1101,-181 1095,-187 1089,-187\"/>\n",
       "<text text-anchor=\"start\" x=\"868\" y=\"-171.8\" font-family=\"helvetica\" font-size=\"14.00\">solar_generation ≤ 0.318</text>\n",
       "<text text-anchor=\"start\" x=\"895.5\" y=\"-156.8\" font-family=\"helvetica\" font-size=\"14.00\">entropy = 1.853</text>\n",
       "<text text-anchor=\"start\" x=\"898\" y=\"-141.8\" font-family=\"helvetica\" font-size=\"14.00\">samples = 414</text>\n",
       "<text text-anchor=\"start\" x=\"793\" y=\"-126.8\" font-family=\"helvetica\" font-size=\"14.00\">value = [48.403, 53.419, 145.019, 483.638, 229.9]</text>\n",
       "<text text-anchor=\"start\" x=\"881\" y=\"-111.8\" font-family=\"helvetica\" font-size=\"14.00\">class = 50%_charge</text>\n",
       "</g>\n",
       "<!-- 4&#45;&gt;8 -->\n",
       "<g id=\"edge8\" class=\"edge\">\n",
       "<title>4-&gt;8</title>\n",
       "<path fill=\"none\" stroke=\"black\" d=\"M943,-222.91C943,-214.65 943,-205.86 943,-197.3\"/>\n",
       "<polygon fill=\"black\" stroke=\"black\" points=\"946.5,-197.02 943,-187.02 939.5,-197.02 946.5,-197.02\"/>\n",
       "</g>\n",
       "<!-- 6 -->\n",
       "<g id=\"node7\" class=\"node\">\n",
       "<title>6</title>\n",
       "<path fill=\"#e6e6fc\" stroke=\"black\" d=\"M296,-68C296,-68 12,-68 12,-68 6,-68 0,-62 0,-56 0,-56 0,-12 0,-12 0,-6 6,0 12,0 12,0 296,0 296,0 302,0 308,-6 308,-12 308,-12 308,-56 308,-56 308,-62 302,-68 296,-68\"/>\n",
       "<text text-anchor=\"start\" x=\"106.5\" y=\"-52.8\" font-family=\"helvetica\" font-size=\"14.00\">entropy = 2.186</text>\n",
       "<text text-anchor=\"start\" x=\"109\" y=\"-37.8\" font-family=\"helvetica\" font-size=\"14.00\">samples = 104</text>\n",
       "<text text-anchor=\"start\" x=\"8\" y=\"-22.8\" font-family=\"helvetica\" font-size=\"14.00\">value = [13.419, 23.857, 30.762, 42.854, 14.369]</text>\n",
       "<text text-anchor=\"start\" x=\"92\" y=\"-7.8\" font-family=\"helvetica\" font-size=\"14.00\">class = 50%_charge</text>\n",
       "</g>\n",
       "<!-- 5&#45;&gt;6 -->\n",
       "<g id=\"edge6\" class=\"edge\">\n",
       "<title>5-&gt;6</title>\n",
       "<path fill=\"none\" stroke=\"black\" d=\"M347.75,-103.88C317.91,-93.27 285.93,-81.91 256.73,-71.52\"/>\n",
       "<polygon fill=\"black\" stroke=\"black\" points=\"257.54,-68.1 246.94,-68.04 255.19,-74.69 257.54,-68.1\"/>\n",
       "</g>\n",
       "<!-- 7 -->\n",
       "<g id=\"node8\" class=\"node\">\n",
       "<title>7</title>\n",
       "<path fill=\"#f4fdee\" stroke=\"black\" d=\"M585.5,-68C585.5,-68 338.5,-68 338.5,-68 332.5,-68 326.5,-62 326.5,-56 326.5,-56 326.5,-12 326.5,-12 326.5,-6 332.5,0 338.5,0 338.5,0 585.5,0 585.5,0 591.5,0 597.5,-6 597.5,-12 597.5,-12 597.5,-56 597.5,-56 597.5,-62 591.5,-68 585.5,-68\"/>\n",
       "<text text-anchor=\"start\" x=\"414.5\" y=\"-52.8\" font-family=\"helvetica\" font-size=\"14.00\">entropy = 1.913</text>\n",
       "<text text-anchor=\"start\" x=\"421\" y=\"-37.8\" font-family=\"helvetica\" font-size=\"14.00\">samples = 48</text>\n",
       "<text text-anchor=\"start\" x=\"334.5\" y=\"-22.8\" font-family=\"helvetica\" font-size=\"14.00\">value = [5.751, 14.003, 11.719, 0.0, 7.184]</text>\n",
       "<text text-anchor=\"start\" x=\"391.5\" y=\"-7.8\" font-family=\"helvetica\" font-size=\"14.00\">class = 50%_discharge</text>\n",
       "</g>\n",
       "<!-- 5&#45;&gt;7 -->\n",
       "<g id=\"edge7\" class=\"edge\">\n",
       "<title>5-&gt;7</title>\n",
       "<path fill=\"none\" stroke=\"black\" d=\"M462,-103.73C462,-95.52 462,-86.86 462,-78.56\"/>\n",
       "<polygon fill=\"black\" stroke=\"black\" points=\"465.5,-78.3 462,-68.3 458.5,-78.3 465.5,-78.3\"/>\n",
       "</g>\n",
       "<!-- 9 -->\n",
       "<g id=\"node10\" class=\"node\">\n",
       "<title>9</title>\n",
       "<path fill=\"#dfdffb\" stroke=\"black\" d=\"M912,-68C912,-68 628,-68 628,-68 622,-68 616,-62 616,-56 616,-56 616,-12 616,-12 616,-6 622,0 628,0 628,0 912,0 912,0 918,0 924,-6 924,-12 924,-12 924,-56 924,-56 924,-62 918,-68 912,-68\"/>\n",
       "<text text-anchor=\"start\" x=\"722.5\" y=\"-52.8\" font-family=\"helvetica\" font-size=\"14.00\">entropy = 2.073</text>\n",
       "<text text-anchor=\"start\" x=\"725\" y=\"-37.8\" font-family=\"helvetica\" font-size=\"14.00\">samples = 210</text>\n",
       "<text text-anchor=\"start\" x=\"624\" y=\"-22.8\" font-family=\"helvetica\" font-size=\"14.00\">value = [25.4, 34.749, 76.172, 146.928, 100.581]</text>\n",
       "<text text-anchor=\"start\" x=\"708\" y=\"-7.8\" font-family=\"helvetica\" font-size=\"14.00\">class = 50%_charge</text>\n",
       "</g>\n",
       "<!-- 8&#45;&gt;9 -->\n",
       "<g id=\"edge9\" class=\"edge\">\n",
       "<title>8-&gt;9</title>\n",
       "<path fill=\"none\" stroke=\"black\" d=\"M878.58,-103.73C862.94,-93.82 846.26,-83.27 830.79,-73.48\"/>\n",
       "<polygon fill=\"black\" stroke=\"black\" points=\"832.66,-70.52 822.33,-68.13 828.91,-76.43 832.66,-70.52\"/>\n",
       "</g>\n",
       "<!-- 10 -->\n",
       "<g id=\"node11\" class=\"node\">\n",
       "<title>10</title>\n",
       "<path fill=\"#a5a3f3\" stroke=\"black\" d=\"M1246,-68C1246,-68 954,-68 954,-68 948,-68 942,-62 942,-56 942,-56 942,-12 942,-12 942,-6 948,0 954,0 954,0 1246,0 1246,0 1252,0 1258,-6 1258,-12 1258,-12 1258,-56 1258,-56 1258,-62 1252,-68 1246,-68\"/>\n",
       "<text text-anchor=\"start\" x=\"1052.5\" y=\"-52.8\" font-family=\"helvetica\" font-size=\"14.00\">entropy = 1.649</text>\n",
       "<text text-anchor=\"start\" x=\"1055\" y=\"-37.8\" font-family=\"helvetica\" font-size=\"14.00\">samples = 204</text>\n",
       "<text text-anchor=\"start\" x=\"950\" y=\"-22.8\" font-family=\"helvetica\" font-size=\"14.00\">value = [23.003, 18.671, 68.847, 336.71, 129.319]</text>\n",
       "<text text-anchor=\"start\" x=\"1038\" y=\"-7.8\" font-family=\"helvetica\" font-size=\"14.00\">class = 50%_charge</text>\n",
       "</g>\n",
       "<!-- 8&#45;&gt;10 -->\n",
       "<g id=\"edge10\" class=\"edge\">\n",
       "<title>8-&gt;10</title>\n",
       "<path fill=\"none\" stroke=\"black\" d=\"M1001.46,-103.73C1015.32,-94.06 1030.08,-83.77 1043.84,-74.17\"/>\n",
       "<polygon fill=\"black\" stroke=\"black\" points=\"1046.06,-76.89 1052.26,-68.3 1042.05,-71.15 1046.06,-76.89\"/>\n",
       "</g>\n",
       "<!-- 12 -->\n",
       "<g id=\"node13\" class=\"node\">\n",
       "<title>12</title>\n",
       "<path fill=\"#ebebfc\" stroke=\"black\" d=\"M1839,-187C1839,-187 1555,-187 1555,-187 1549,-187 1543,-181 1543,-175 1543,-175 1543,-116 1543,-116 1543,-110 1549,-104 1555,-104 1555,-104 1839,-104 1839,-104 1845,-104 1851,-110 1851,-116 1851,-116 1851,-175 1851,-175 1851,-181 1845,-187 1839,-187\"/>\n",
       "<text text-anchor=\"start\" x=\"1623\" y=\"-171.8\" font-family=\"helvetica\" font-size=\"14.00\">carbon_intensity ≤ 0.295</text>\n",
       "<text text-anchor=\"start\" x=\"1649.5\" y=\"-156.8\" font-family=\"helvetica\" font-size=\"14.00\">entropy = 1.578</text>\n",
       "<text text-anchor=\"start\" x=\"1652\" y=\"-141.8\" font-family=\"helvetica\" font-size=\"14.00\">samples = 171</text>\n",
       "<text text-anchor=\"start\" x=\"1551\" y=\"-126.8\" font-family=\"helvetica\" font-size=\"14.00\">value = [24.441, 14.003, 26.367, 263.246, 229.9]</text>\n",
       "<text text-anchor=\"start\" x=\"1635\" y=\"-111.8\" font-family=\"helvetica\" font-size=\"14.00\">class = 50%_charge</text>\n",
       "</g>\n",
       "<!-- 11&#45;&gt;12 -->\n",
       "<g id=\"edge12\" class=\"edge\">\n",
       "<title>11-&gt;12</title>\n",
       "<path fill=\"none\" stroke=\"black\" d=\"M1801.49,-222.91C1788.33,-213.29 1774.2,-202.95 1760.71,-193.09\"/>\n",
       "<polygon fill=\"black\" stroke=\"black\" points=\"1762.55,-190.1 1752.41,-187.02 1758.42,-195.75 1762.55,-190.1\"/>\n",
       "</g>\n",
       "<!-- 15 -->\n",
       "<g id=\"node16\" class=\"node\">\n",
       "<title>15</title>\n",
       "<path fill=\"#817fee\" stroke=\"black\" d=\"M2150.5,-187C2150.5,-187 1881.5,-187 1881.5,-187 1875.5,-187 1869.5,-181 1869.5,-175 1869.5,-175 1869.5,-116 1869.5,-116 1869.5,-110 1875.5,-104 1881.5,-104 1881.5,-104 2150.5,-104 2150.5,-104 2156.5,-104 2162.5,-110 2162.5,-116 2162.5,-116 2162.5,-175 2162.5,-175 2162.5,-181 2156.5,-187 2150.5,-187\"/>\n",
       "<text text-anchor=\"start\" x=\"1942\" y=\"-171.8\" font-family=\"helvetica\" font-size=\"14.00\">carbon_intensity ≤ 0.735</text>\n",
       "<text text-anchor=\"start\" x=\"1968.5\" y=\"-156.8\" font-family=\"helvetica\" font-size=\"14.00\">entropy = 1.383</text>\n",
       "<text text-anchor=\"start\" x=\"1975\" y=\"-141.8\" font-family=\"helvetica\" font-size=\"14.00\">samples = 59</text>\n",
       "<text text-anchor=\"start\" x=\"1877.5\" y=\"-126.8\" font-family=\"helvetica\" font-size=\"14.00\">value = [6.709, 3.63, 24.902, 116.318, 14.369]</text>\n",
       "<text text-anchor=\"start\" x=\"1954\" y=\"-111.8\" font-family=\"helvetica\" font-size=\"14.00\">class = 50%_charge</text>\n",
       "</g>\n",
       "<!-- 11&#45;&gt;15 -->\n",
       "<g id=\"edge15\" class=\"edge\">\n",
       "<title>11-&gt;15</title>\n",
       "<path fill=\"none\" stroke=\"black\" d=\"M1912.16,-222.91C1925.24,-213.29 1939.28,-202.95 1952.68,-193.09\"/>\n",
       "<polygon fill=\"black\" stroke=\"black\" points=\"1954.95,-195.77 1960.93,-187.02 1950.8,-190.13 1954.95,-195.77\"/>\n",
       "</g>\n",
       "<!-- 13 -->\n",
       "<g id=\"node14\" class=\"node\">\n",
       "<title>13</title>\n",
       "<path fill=\"#6866eb\" stroke=\"black\" d=\"M1520,-68C1520,-68 1288,-68 1288,-68 1282,-68 1276,-62 1276,-56 1276,-56 1276,-12 1276,-12 1276,-6 1282,0 1288,0 1288,0 1520,0 1520,0 1526,0 1532,-6 1532,-12 1532,-12 1532,-56 1532,-56 1532,-62 1526,-68 1520,-68\"/>\n",
       "<text text-anchor=\"start\" x=\"1356.5\" y=\"-52.8\" font-family=\"helvetica\" font-size=\"14.00\">entropy = 1.017</text>\n",
       "<text text-anchor=\"start\" x=\"1363\" y=\"-37.8\" font-family=\"helvetica\" font-size=\"14.00\">samples = 21</text>\n",
       "<text text-anchor=\"start\" x=\"1284\" y=\"-22.8\" font-family=\"helvetica\" font-size=\"14.00\">value = [4.792, 1.556, 2.93, 36.732, 0.0]</text>\n",
       "<text text-anchor=\"start\" x=\"1342\" y=\"-7.8\" font-family=\"helvetica\" font-size=\"14.00\">class = 50%_charge</text>\n",
       "</g>\n",
       "<!-- 12&#45;&gt;13 -->\n",
       "<g id=\"edge13\" class=\"edge\">\n",
       "<title>12-&gt;13</title>\n",
       "<path fill=\"none\" stroke=\"black\" d=\"M1588.31,-103.88C1560.05,-93.32 1529.77,-82 1502.09,-71.66\"/>\n",
       "<polygon fill=\"black\" stroke=\"black\" points=\"1503.01,-68.27 1492.42,-68.04 1500.56,-74.82 1503.01,-68.27\"/>\n",
       "</g>\n",
       "<!-- 14 -->\n",
       "<g id=\"node15\" class=\"node\">\n",
       "<title>14</title>\n",
       "<path fill=\"#fffdfe\" stroke=\"black\" d=\"M1846,-68C1846,-68 1562,-68 1562,-68 1556,-68 1550,-62 1550,-56 1550,-56 1550,-12 1550,-12 1550,-6 1556,0 1562,0 1562,0 1846,0 1846,0 1852,0 1858,-6 1858,-12 1858,-12 1858,-56 1858,-56 1858,-62 1852,-68 1846,-68\"/>\n",
       "<text text-anchor=\"start\" x=\"1656.5\" y=\"-52.8\" font-family=\"helvetica\" font-size=\"14.00\">entropy = 1.554</text>\n",
       "<text text-anchor=\"start\" x=\"1659\" y=\"-37.8\" font-family=\"helvetica\" font-size=\"14.00\">samples = 150</text>\n",
       "<text text-anchor=\"start\" x=\"1558\" y=\"-22.8\" font-family=\"helvetica\" font-size=\"14.00\">value = [19.649, 12.447, 23.437, 226.514, 229.9]</text>\n",
       "<text text-anchor=\"start\" x=\"1638.5\" y=\"-7.8\" font-family=\"helvetica\" font-size=\"14.00\">class = 100%_charge</text>\n",
       "</g>\n",
       "<!-- 12&#45;&gt;14 -->\n",
       "<g id=\"edge14\" class=\"edge\">\n",
       "<title>12-&gt;14</title>\n",
       "<path fill=\"none\" stroke=\"black\" d=\"M1699.61,-103.73C1700.14,-95.43 1700.7,-86.67 1701.23,-78.28\"/>\n",
       "<polygon fill=\"black\" stroke=\"black\" points=\"1704.73,-78.5 1701.87,-68.3 1697.74,-78.06 1704.73,-78.5\"/>\n",
       "</g>\n",
       "<!-- 16 -->\n",
       "<g id=\"node17\" class=\"node\">\n",
       "<title>16</title>\n",
       "<path fill=\"#6f6dec\" stroke=\"black\" d=\"M2127.5,-68C2127.5,-68 1888.5,-68 1888.5,-68 1882.5,-68 1876.5,-62 1876.5,-56 1876.5,-56 1876.5,-12 1876.5,-12 1876.5,-6 1882.5,0 1888.5,0 1888.5,0 2127.5,0 2127.5,0 2133.5,0 2139.5,-6 2139.5,-12 2139.5,-12 2139.5,-56 2139.5,-56 2139.5,-62 2133.5,-68 2127.5,-68\"/>\n",
       "<text text-anchor=\"start\" x=\"1960.5\" y=\"-52.8\" font-family=\"helvetica\" font-size=\"14.00\">entropy = 1.033</text>\n",
       "<text text-anchor=\"start\" x=\"1967\" y=\"-37.8\" font-family=\"helvetica\" font-size=\"14.00\">samples = 47</text>\n",
       "<text text-anchor=\"start\" x=\"1884.5\" y=\"-22.8\" font-family=\"helvetica\" font-size=\"14.00\">value = [5.272, 3.63, 19.043, 97.952, 0.0]</text>\n",
       "<text text-anchor=\"start\" x=\"1946\" y=\"-7.8\" font-family=\"helvetica\" font-size=\"14.00\">class = 50%_charge</text>\n",
       "</g>\n",
       "<!-- 15&#45;&gt;16 -->\n",
       "<g id=\"edge16\" class=\"edge\">\n",
       "<title>15-&gt;16</title>\n",
       "<path fill=\"none\" stroke=\"black\" d=\"M2013.02,-103.73C2012.41,-95.43 2011.77,-86.67 2011.16,-78.28\"/>\n",
       "<polygon fill=\"black\" stroke=\"black\" points=\"2014.65,-78.02 2010.43,-68.3 2007.67,-78.53 2014.65,-78.02\"/>\n",
       "</g>\n",
       "<!-- 17 -->\n",
       "<g id=\"node18\" class=\"node\">\n",
       "<title>17</title>\n",
       "<path fill=\"#e1e0fb\" stroke=\"black\" d=\"M2416.5,-68C2416.5,-68 2169.5,-68 2169.5,-68 2163.5,-68 2157.5,-62 2157.5,-56 2157.5,-56 2157.5,-12 2157.5,-12 2157.5,-6 2163.5,0 2169.5,0 2169.5,0 2416.5,0 2416.5,0 2422.5,0 2428.5,-6 2428.5,-12 2428.5,-12 2428.5,-56 2428.5,-56 2428.5,-62 2422.5,-68 2416.5,-68\"/>\n",
       "<text text-anchor=\"start\" x=\"2245.5\" y=\"-52.8\" font-family=\"helvetica\" font-size=\"14.00\">entropy = 1.624</text>\n",
       "<text text-anchor=\"start\" x=\"2252\" y=\"-37.8\" font-family=\"helvetica\" font-size=\"14.00\">samples = 12</text>\n",
       "<text text-anchor=\"start\" x=\"2165.5\" y=\"-22.8\" font-family=\"helvetica\" font-size=\"14.00\">value = [1.438, 0.0, 5.859, 18.366, 14.369]</text>\n",
       "<text text-anchor=\"start\" x=\"2231\" y=\"-7.8\" font-family=\"helvetica\" font-size=\"14.00\">class = 50%_charge</text>\n",
       "</g>\n",
       "<!-- 15&#45;&gt;17 -->\n",
       "<g id=\"edge17\" class=\"edge\">\n",
       "<title>15-&gt;17</title>\n",
       "<path fill=\"none\" stroke=\"black\" d=\"M2118.75,-103.88C2145.35,-93.37 2173.85,-82.1 2199.92,-71.79\"/>\n",
       "<polygon fill=\"black\" stroke=\"black\" points=\"2201.4,-74.97 2209.41,-68.04 2198.82,-68.46 2201.4,-74.97\"/>\n",
       "</g>\n",
       "<!-- 19 -->\n",
       "<g id=\"node20\" class=\"node\">\n",
       "<title>19</title>\n",
       "<path fill=\"#feffff\" stroke=\"black\" d=\"M3164,-306C3164,-306 2872,-306 2872,-306 2866,-306 2860,-300 2860,-294 2860,-294 2860,-235 2860,-235 2860,-229 2866,-223 2872,-223 2872,-223 3164,-223 3164,-223 3170,-223 3176,-229 3176,-235 3176,-235 3176,-294 3176,-294 3176,-300 3170,-306 3164,-306\"/>\n",
       "<text text-anchor=\"start\" x=\"2936.5\" y=\"-290.8\" font-family=\"helvetica\" font-size=\"14.00\">non_shiftable_load ≤ 0.013</text>\n",
       "<text text-anchor=\"start\" x=\"2970.5\" y=\"-275.8\" font-family=\"helvetica\" font-size=\"14.00\">entropy = 2.278</text>\n",
       "<text text-anchor=\"start\" x=\"2973\" y=\"-260.8\" font-family=\"helvetica\" font-size=\"14.00\">samples = 388</text>\n",
       "<text text-anchor=\"start\" x=\"2868\" y=\"-245.8\" font-family=\"helvetica\" font-size=\"14.00\">value = [58.946, 79.87, 117.187, 116.318, 86.213]</text>\n",
       "<text text-anchor=\"start\" x=\"2984\" y=\"-230.8\" font-family=\"helvetica\" font-size=\"14.00\">class = idle</text>\n",
       "</g>\n",
       "<!-- 18&#45;&gt;19 -->\n",
       "<g id=\"edge19\" class=\"edge\">\n",
       "<title>18-&gt;19</title>\n",
       "<path fill=\"none\" stroke=\"black\" d=\"M3118.57,-341.91C3105.91,-332.29 3092.31,-321.95 3079.32,-312.09\"/>\n",
       "<polygon fill=\"black\" stroke=\"black\" points=\"3081.42,-309.28 3071.34,-306.02 3077.18,-314.86 3081.42,-309.28\"/>\n",
       "</g>\n",
       "<!-- 26 -->\n",
       "<g id=\"node27\" class=\"node\">\n",
       "<title>26</title>\n",
       "<path fill=\"#5350e8\" stroke=\"black\" d=\"M3445.5,-298.5C3445.5,-298.5 3206.5,-298.5 3206.5,-298.5 3200.5,-298.5 3194.5,-292.5 3194.5,-286.5 3194.5,-286.5 3194.5,-242.5 3194.5,-242.5 3194.5,-236.5 3200.5,-230.5 3206.5,-230.5 3206.5,-230.5 3445.5,-230.5 3445.5,-230.5 3451.5,-230.5 3457.5,-236.5 3457.5,-242.5 3457.5,-242.5 3457.5,-286.5 3457.5,-286.5 3457.5,-292.5 3451.5,-298.5 3445.5,-298.5\"/>\n",
       "<text text-anchor=\"start\" x=\"3278.5\" y=\"-283.3\" font-family=\"helvetica\" font-size=\"14.00\">entropy = 0.606</text>\n",
       "<text text-anchor=\"start\" x=\"3285\" y=\"-268.3\" font-family=\"helvetica\" font-size=\"14.00\">samples = 14</text>\n",
       "<text text-anchor=\"start\" x=\"3202.5\" y=\"-253.3\" font-family=\"helvetica\" font-size=\"14.00\">value = [0.479, 1.037, 4.395, 48.976, 0.0]</text>\n",
       "<text text-anchor=\"start\" x=\"3264\" y=\"-238.3\" font-family=\"helvetica\" font-size=\"14.00\">class = 50%_charge</text>\n",
       "</g>\n",
       "<!-- 18&#45;&gt;26 -->\n",
       "<g id=\"edge26\" class=\"edge\">\n",
       "<title>18-&gt;26</title>\n",
       "<path fill=\"none\" stroke=\"black\" d=\"M3225.43,-341.91C3241.26,-329.88 3258.56,-316.73 3274.28,-304.79\"/>\n",
       "<polygon fill=\"black\" stroke=\"black\" points=\"3276.5,-307.5 3282.34,-298.67 3272.26,-301.93 3276.5,-307.5\"/>\n",
       "</g>\n",
       "<!-- 20 -->\n",
       "<g id=\"node21\" class=\"node\">\n",
       "<title>20</title>\n",
       "<path fill=\"#f0fdfb\" stroke=\"black\" d=\"M2991,-187C2991,-187 2729,-187 2729,-187 2723,-187 2717,-181 2717,-175 2717,-175 2717,-116 2717,-116 2717,-110 2723,-104 2729,-104 2729,-104 2991,-104 2991,-104 2997,-104 3003,-110 3003,-116 3003,-116 3003,-175 3003,-175 3003,-181 2997,-187 2991,-187\"/>\n",
       "<text text-anchor=\"start\" x=\"2786\" y=\"-171.8\" font-family=\"helvetica\" font-size=\"14.00\">carbon_intensity ≤ 0.729</text>\n",
       "<text text-anchor=\"start\" x=\"2812.5\" y=\"-156.8\" font-family=\"helvetica\" font-size=\"14.00\">entropy = 1.952</text>\n",
       "<text text-anchor=\"start\" x=\"2815\" y=\"-141.8\" font-family=\"helvetica\" font-size=\"14.00\">samples = 159</text>\n",
       "<text text-anchor=\"start\" x=\"2725\" y=\"-126.8\" font-family=\"helvetica\" font-size=\"14.00\">value = [22.045, 38.898, 46.875, 36.732, 0.0]</text>\n",
       "<text text-anchor=\"start\" x=\"2826\" y=\"-111.8\" font-family=\"helvetica\" font-size=\"14.00\">class = idle</text>\n",
       "</g>\n",
       "<!-- 19&#45;&gt;20 -->\n",
       "<g id=\"edge20\" class=\"edge\">\n",
       "<title>19-&gt;20</title>\n",
       "<path fill=\"none\" stroke=\"black\" d=\"M2963.18,-222.91C2950.19,-213.29 2936.24,-202.95 2922.92,-193.09\"/>\n",
       "<polygon fill=\"black\" stroke=\"black\" points=\"2924.84,-190.16 2914.72,-187.02 2920.67,-195.78 2924.84,-190.16\"/>\n",
       "</g>\n",
       "<!-- 23 -->\n",
       "<g id=\"node24\" class=\"node\">\n",
       "<title>23</title>\n",
       "<path fill=\"#fef9fd\" stroke=\"black\" d=\"M3317,-187C3317,-187 3033,-187 3033,-187 3027,-187 3021,-181 3021,-175 3021,-175 3021,-116 3021,-116 3021,-110 3027,-104 3033,-104 3033,-104 3317,-104 3317,-104 3323,-104 3329,-110 3329,-116 3329,-116 3329,-175 3329,-175 3329,-181 3323,-187 3317,-187\"/>\n",
       "<text text-anchor=\"start\" x=\"3066.5\" y=\"-171.8\" font-family=\"helvetica\" font-size=\"14.00\">net_electricity_consumption ≤ 0.204</text>\n",
       "<text text-anchor=\"start\" x=\"3127.5\" y=\"-156.8\" font-family=\"helvetica\" font-size=\"14.00\">entropy = 2.244</text>\n",
       "<text text-anchor=\"start\" x=\"3130\" y=\"-141.8\" font-family=\"helvetica\" font-size=\"14.00\">samples = 229</text>\n",
       "<text text-anchor=\"start\" x=\"3029\" y=\"-126.8\" font-family=\"helvetica\" font-size=\"14.00\">value = [36.901, 40.972, 70.312, 79.586, 86.213]</text>\n",
       "<text text-anchor=\"start\" x=\"3109.5\" y=\"-111.8\" font-family=\"helvetica\" font-size=\"14.00\">class = 100%_charge</text>\n",
       "</g>\n",
       "<!-- 19&#45;&gt;23 -->\n",
       "<g id=\"edge23\" class=\"edge\">\n",
       "<title>19-&gt;23</title>\n",
       "<path fill=\"none\" stroke=\"black\" d=\"M3072.47,-222.91C3085.38,-213.29 3099.25,-202.95 3112.48,-193.09\"/>\n",
       "<polygon fill=\"black\" stroke=\"black\" points=\"3114.7,-195.8 3120.63,-187.02 3110.52,-190.19 3114.7,-195.8\"/>\n",
       "</g>\n",
       "<!-- 21 -->\n",
       "<g id=\"node22\" class=\"node\">\n",
       "<title>21</title>\n",
       "<path fill=\"#e5e4fb\" stroke=\"black\" d=\"M2721,-68C2721,-68 2459,-68 2459,-68 2453,-68 2447,-62 2447,-56 2447,-56 2447,-12 2447,-12 2447,-6 2453,0 2459,0 2459,0 2721,0 2721,0 2727,0 2733,-6 2733,-12 2733,-12 2733,-56 2733,-56 2733,-62 2727,-68 2721,-68\"/>\n",
       "<text text-anchor=\"start\" x=\"2542.5\" y=\"-52.8\" font-family=\"helvetica\" font-size=\"14.00\">entropy = 1.942</text>\n",
       "<text text-anchor=\"start\" x=\"2545\" y=\"-37.8\" font-family=\"helvetica\" font-size=\"14.00\">samples = 104</text>\n",
       "<text text-anchor=\"start\" x=\"2455\" y=\"-22.8\" font-family=\"helvetica\" font-size=\"14.00\">value = [16.294, 23.857, 26.367, 36.732, 0.0]</text>\n",
       "<text text-anchor=\"start\" x=\"2528\" y=\"-7.8\" font-family=\"helvetica\" font-size=\"14.00\">class = 50%_charge</text>\n",
       "</g>\n",
       "<!-- 20&#45;&gt;21 -->\n",
       "<g id=\"edge21\" class=\"edge\">\n",
       "<title>20-&gt;21</title>\n",
       "<path fill=\"none\" stroke=\"black\" d=\"M2759.85,-103.88C2734.03,-93.41 2706.39,-82.2 2681.06,-71.93\"/>\n",
       "<polygon fill=\"black\" stroke=\"black\" points=\"2682.06,-68.56 2671.48,-68.04 2679.43,-75.05 2682.06,-68.56\"/>\n",
       "</g>\n",
       "<!-- 22 -->\n",
       "<g id=\"node23\" class=\"node\">\n",
       "<title>22</title>\n",
       "<path fill=\"#d6faf3\" stroke=\"black\" d=\"M2987,-68C2987,-68 2763,-68 2763,-68 2757,-68 2751,-62 2751,-56 2751,-56 2751,-12 2751,-12 2751,-6 2757,0 2763,0 2763,0 2987,0 2987,0 2993,0 2999,-6 2999,-12 2999,-12 2999,-56 2999,-56 2999,-62 2993,-68 2987,-68\"/>\n",
       "<text text-anchor=\"start\" x=\"2827.5\" y=\"-52.8\" font-family=\"helvetica\" font-size=\"14.00\">entropy = 1.428</text>\n",
       "<text text-anchor=\"start\" x=\"2834\" y=\"-37.8\" font-family=\"helvetica\" font-size=\"14.00\">samples = 55</text>\n",
       "<text text-anchor=\"start\" x=\"2759\" y=\"-22.8\" font-family=\"helvetica\" font-size=\"14.00\">value = [5.751, 15.04, 20.508, 0.0, 0.0]</text>\n",
       "<text text-anchor=\"start\" x=\"2841\" y=\"-7.8\" font-family=\"helvetica\" font-size=\"14.00\">class = idle</text>\n",
       "</g>\n",
       "<!-- 20&#45;&gt;22 -->\n",
       "<g id=\"edge22\" class=\"edge\">\n",
       "<title>20-&gt;22</title>\n",
       "<path fill=\"none\" stroke=\"black\" d=\"M2865.59,-103.73C2866.72,-95.43 2867.92,-86.67 2869.07,-78.28\"/>\n",
       "<polygon fill=\"black\" stroke=\"black\" points=\"2872.55,-78.68 2870.44,-68.3 2865.61,-77.73 2872.55,-78.68\"/>\n",
       "</g>\n",
       "<!-- 24 -->\n",
       "<g id=\"node25\" class=\"node\">\n",
       "<title>24</title>\n",
       "<path fill=\"#f8fef4\" stroke=\"black\" d=\"M3291,-68C3291,-68 3029,-68 3029,-68 3023,-68 3017,-62 3017,-56 3017,-56 3017,-12 3017,-12 3017,-6 3023,0 3029,0 3029,0 3291,0 3291,0 3297,0 3303,-6 3303,-12 3303,-12 3303,-56 3303,-56 3303,-62 3297,-68 3291,-68\"/>\n",
       "<text text-anchor=\"start\" x=\"3112.5\" y=\"-52.8\" font-family=\"helvetica\" font-size=\"14.00\">entropy = 1.991</text>\n",
       "<text text-anchor=\"start\" x=\"3119\" y=\"-37.8\" font-family=\"helvetica\" font-size=\"14.00\">samples = 79</text>\n",
       "<text text-anchor=\"start\" x=\"3025\" y=\"-22.8\" font-family=\"helvetica\" font-size=\"14.00\">value = [14.377, 18.671, 16.113, 0.0, 14.369]</text>\n",
       "<text text-anchor=\"start\" x=\"3089.5\" y=\"-7.8\" font-family=\"helvetica\" font-size=\"14.00\">class = 50%_discharge</text>\n",
       "</g>\n",
       "<!-- 23&#45;&gt;24 -->\n",
       "<g id=\"edge24\" class=\"edge\">\n",
       "<title>23-&gt;24</title>\n",
       "<path fill=\"none\" stroke=\"black\" d=\"M3169.41,-103.73C3168.28,-95.43 3167.08,-86.67 3165.93,-78.28\"/>\n",
       "<polygon fill=\"black\" stroke=\"black\" points=\"3169.39,-77.73 3164.56,-68.3 3162.45,-78.68 3169.39,-77.73\"/>\n",
       "</g>\n",
       "<!-- 25 -->\n",
       "<g id=\"node26\" class=\"node\">\n",
       "<title>25</title>\n",
       "<path fill=\"#f7f6fe\" stroke=\"black\" d=\"M3617,-68C3617,-68 3333,-68 3333,-68 3327,-68 3321,-62 3321,-56 3321,-56 3321,-12 3321,-12 3321,-6 3327,0 3333,0 3333,0 3617,0 3617,0 3623,0 3629,-6 3629,-12 3629,-12 3629,-56 3629,-56 3629,-62 3623,-68 3617,-68\"/>\n",
       "<text text-anchor=\"start\" x=\"3427.5\" y=\"-52.8\" font-family=\"helvetica\" font-size=\"14.00\">entropy = 2.143</text>\n",
       "<text text-anchor=\"start\" x=\"3430\" y=\"-37.8\" font-family=\"helvetica\" font-size=\"14.00\">samples = 150</text>\n",
       "<text text-anchor=\"start\" x=\"3329\" y=\"-22.8\" font-family=\"helvetica\" font-size=\"14.00\">value = [22.524, 22.301, 54.199, 79.586, 71.844]</text>\n",
       "<text text-anchor=\"start\" x=\"3413\" y=\"-7.8\" font-family=\"helvetica\" font-size=\"14.00\">class = 50%_charge</text>\n",
       "</g>\n",
       "<!-- 23&#45;&gt;25 -->\n",
       "<g id=\"edge25\" class=\"edge\">\n",
       "<title>23-&gt;25</title>\n",
       "<path fill=\"none\" stroke=\"black\" d=\"M3286.28,-103.88C3315.35,-93.27 3346.49,-81.91 3374.94,-71.52\"/>\n",
       "<polygon fill=\"black\" stroke=\"black\" points=\"3376.28,-74.76 3384.47,-68.04 3373.88,-68.18 3376.28,-74.76\"/>\n",
       "</g>\n",
       "<!-- 28 -->\n",
       "<g id=\"node29\" class=\"node\">\n",
       "<title>28</title>\n",
       "<path fill=\"#fdfffc\" stroke=\"black\" d=\"M5710,-425C5710,-425 5388,-425 5388,-425 5382,-425 5376,-419 5376,-413 5376,-413 5376,-354 5376,-354 5376,-348 5382,-342 5388,-342 5388,-342 5710,-342 5710,-342 5716,-342 5722,-348 5722,-354 5722,-354 5722,-413 5722,-413 5722,-419 5716,-425 5710,-425\"/>\n",
       "<text text-anchor=\"start\" x=\"5474\" y=\"-409.8\" font-family=\"helvetica\" font-size=\"14.00\">solar_generation ≤ 0.042</text>\n",
       "<text text-anchor=\"start\" x=\"5501.5\" y=\"-394.8\" font-family=\"helvetica\" font-size=\"14.00\">entropy = 1.981</text>\n",
       "<text text-anchor=\"start\" x=\"5496.5\" y=\"-379.8\" font-family=\"helvetica\" font-size=\"14.00\">samples = 10871</text>\n",
       "<text text-anchor=\"start\" x=\"5384\" y=\"-364.8\" font-family=\"helvetica\" font-size=\"14.00\">value = [2335.317, 2415.8, 1804.681, 336.71, 380.772]</text>\n",
       "<text text-anchor=\"start\" x=\"5478.5\" y=\"-349.8\" font-family=\"helvetica\" font-size=\"14.00\">class = 50%_discharge</text>\n",
       "</g>\n",
       "<!-- 27&#45;&gt;28 -->\n",
       "<g id=\"edge28\" class=\"edge\">\n",
       "<title>27-&gt;28</title>\n",
       "<path fill=\"none\" stroke=\"black\" d=\"M6015.63,-468.36C5926.85,-452.41 5820.7,-433.33 5732.09,-417.4\"/>\n",
       "<polygon fill=\"black\" stroke=\"black\" points=\"5732.66,-413.95 5722.2,-415.63 5731.42,-420.84 5732.66,-413.95\"/>\n",
       "</g>\n",
       "<!-- 43 -->\n",
       "<g id=\"node44\" class=\"node\">\n",
       "<title>43</title>\n",
       "<path fill=\"#ffffff\" stroke=\"black\" d=\"M6996,-425C6996,-425 6674,-425 6674,-425 6668,-425 6662,-419 6662,-413 6662,-413 6662,-354 6662,-354 6662,-348 6668,-342 6674,-342 6674,-342 6996,-342 6996,-342 7002,-342 7008,-348 7008,-354 7008,-354 7008,-413 7008,-413 7008,-419 7002,-425 6996,-425\"/>\n",
       "<text text-anchor=\"start\" x=\"6753.5\" y=\"-409.8\" font-family=\"helvetica\" font-size=\"14.00\">non_shiftable_load ≤ 0.013</text>\n",
       "<text text-anchor=\"start\" x=\"6787.5\" y=\"-394.8\" font-family=\"helvetica\" font-size=\"14.00\">entropy = 2.262</text>\n",
       "<text text-anchor=\"start\" x=\"6786.5\" y=\"-379.8\" font-family=\"helvetica\" font-size=\"14.00\">samples = 2453</text>\n",
       "<text text-anchor=\"start\" x=\"6670\" y=\"-364.8\" font-family=\"helvetica\" font-size=\"14.00\">value = [524.284, 458.992, 527.342, 514.248, 215.531]</text>\n",
       "<text text-anchor=\"start\" x=\"6801\" y=\"-349.8\" font-family=\"helvetica\" font-size=\"14.00\">class = idle</text>\n",
       "</g>\n",
       "<!-- 27&#45;&gt;43 -->\n",
       "<g id=\"edge43\" class=\"edge\">\n",
       "<title>27-&gt;43</title>\n",
       "<path fill=\"none\" stroke=\"black\" d=\"M6384.09,-467.58C6468.29,-452.07 6567.79,-433.73 6651.87,-418.24\"/>\n",
       "<polygon fill=\"black\" stroke=\"black\" points=\"6652.58,-421.67 6661.78,-416.42 6651.31,-414.79 6652.58,-421.67\"/>\n",
       "</g>\n",
       "<!-- 29 -->\n",
       "<g id=\"node30\" class=\"node\">\n",
       "<title>29</title>\n",
       "<path fill=\"#fefcfa\" stroke=\"black\" d=\"M4735,-306C4735,-306 4421,-306 4421,-306 4415,-306 4409,-300 4409,-294 4409,-294 4409,-235 4409,-235 4409,-229 4415,-223 4421,-223 4421,-223 4735,-223 4735,-223 4741,-223 4747,-229 4747,-235 4747,-235 4747,-294 4747,-294 4747,-300 4741,-306 4735,-306\"/>\n",
       "<text text-anchor=\"start\" x=\"4505.5\" y=\"-290.8\" font-family=\"helvetica\" font-size=\"14.00\">electricity_pricing ≤ 0.29</text>\n",
       "<text text-anchor=\"start\" x=\"4530.5\" y=\"-275.8\" font-family=\"helvetica\" font-size=\"14.00\">entropy = 1.787</text>\n",
       "<text text-anchor=\"start\" x=\"4529.5\" y=\"-260.8\" font-family=\"helvetica\" font-size=\"14.00\">samples = 5668</text>\n",
       "<text text-anchor=\"start\" x=\"4417\" y=\"-245.8\" font-family=\"helvetica\" font-size=\"14.00\">value = [1327.004, 1276.36, 600.584, 61.22, 129.319]</text>\n",
       "<text text-anchor=\"start\" x=\"4504\" y=\"-230.8\" font-family=\"helvetica\" font-size=\"14.00\">class = 100%_discharge</text>\n",
       "</g>\n",
       "<!-- 28&#45;&gt;29 -->\n",
       "<g id=\"edge29\" class=\"edge\">\n",
       "<title>28-&gt;29</title>\n",
       "<path fill=\"none\" stroke=\"black\" d=\"M5375.96,-361.65C5201.6,-340.64 4933.75,-308.37 4757.22,-287.09\"/>\n",
       "<polygon fill=\"black\" stroke=\"black\" points=\"4757.39,-283.59 4747.04,-285.87 4756.55,-290.54 4757.39,-283.59\"/>\n",
       "</g>\n",
       "<!-- 36 -->\n",
       "<g id=\"node37\" class=\"node\">\n",
       "<title>36</title>\n",
       "<path fill=\"#fafefe\" stroke=\"black\" d=\"M5713.5,-306C5713.5,-306 5384.5,-306 5384.5,-306 5378.5,-306 5372.5,-300 5372.5,-294 5372.5,-294 5372.5,-235 5372.5,-235 5372.5,-229 5378.5,-223 5384.5,-223 5384.5,-223 5713.5,-223 5713.5,-223 5719.5,-223 5725.5,-229 5725.5,-235 5725.5,-235 5725.5,-294 5725.5,-294 5725.5,-300 5719.5,-306 5713.5,-306\"/>\n",
       "<text text-anchor=\"start\" x=\"5472.5\" y=\"-290.8\" font-family=\"helvetica\" font-size=\"14.00\">electricity_pricing ≤ 0.327</text>\n",
       "<text text-anchor=\"start\" x=\"5501.5\" y=\"-275.8\" font-family=\"helvetica\" font-size=\"14.00\">entropy = 2.075</text>\n",
       "<text text-anchor=\"start\" x=\"5500.5\" y=\"-260.8\" font-family=\"helvetica\" font-size=\"14.00\">samples = 5203</text>\n",
       "<text text-anchor=\"start\" x=\"5380.5\" y=\"-245.8\" font-family=\"helvetica\" font-size=\"14.00\">value = [1008.313, 1139.44, 1204.097, 275.49, 251.453]</text>\n",
       "<text text-anchor=\"start\" x=\"5515\" y=\"-230.8\" font-family=\"helvetica\" font-size=\"14.00\">class = idle</text>\n",
       "</g>\n",
       "<!-- 28&#45;&gt;36 -->\n",
       "<g id=\"edge36\" class=\"edge\">\n",
       "<title>28-&gt;36</title>\n",
       "<path fill=\"none\" stroke=\"black\" d=\"M5549,-341.91C5549,-333.65 5549,-324.86 5549,-316.3\"/>\n",
       "<polygon fill=\"black\" stroke=\"black\" points=\"5552.5,-316.02 5549,-306.02 5545.5,-316.02 5552.5,-316.02\"/>\n",
       "</g>\n",
       "<!-- 30 -->\n",
       "<g id=\"node31\" class=\"node\">\n",
       "<title>30</title>\n",
       "<path fill=\"#eefce6\" stroke=\"black\" d=\"M4224.5,-187C4224.5,-187 3947.5,-187 3947.5,-187 3941.5,-187 3935.5,-181 3935.5,-175 3935.5,-175 3935.5,-116 3935.5,-116 3935.5,-110 3941.5,-104 3947.5,-104 3947.5,-104 4224.5,-104 4224.5,-104 4230.5,-104 4236.5,-110 4236.5,-116 4236.5,-116 4236.5,-175 4236.5,-175 4236.5,-181 4230.5,-187 4224.5,-187\"/>\n",
       "<text text-anchor=\"start\" x=\"4017\" y=\"-171.8\" font-family=\"helvetica\" font-size=\"14.00\">electricity_pricing ≤ 0.2</text>\n",
       "<text text-anchor=\"start\" x=\"4038.5\" y=\"-156.8\" font-family=\"helvetica\" font-size=\"14.00\">entropy = 1.604</text>\n",
       "<text text-anchor=\"start\" x=\"4037.5\" y=\"-141.8\" font-family=\"helvetica\" font-size=\"14.00\">samples = 1278</text>\n",
       "<text text-anchor=\"start\" x=\"3943.5\" y=\"-126.8\" font-family=\"helvetica\" font-size=\"14.00\">value = [258.308, 321.553, 172.851, 0.0, 7.184]</text>\n",
       "<text text-anchor=\"start\" x=\"4015.5\" y=\"-111.8\" font-family=\"helvetica\" font-size=\"14.00\">class = 50%_discharge</text>\n",
       "</g>\n",
       "<!-- 29&#45;&gt;30 -->\n",
       "<g id=\"edge30\" class=\"edge\">\n",
       "<title>29-&gt;30</title>\n",
       "<path fill=\"none\" stroke=\"black\" d=\"M4408.68,-223.24C4356.19,-210.75 4298.53,-197.04 4246.65,-184.7\"/>\n",
       "<polygon fill=\"black\" stroke=\"black\" points=\"4247.23,-181.24 4236.69,-182.34 4245.61,-188.05 4247.23,-181.24\"/>\n",
       "</g>\n",
       "<!-- 33 -->\n",
       "<g id=\"node34\" class=\"node\">\n",
       "<title>33</title>\n",
       "<path fill=\"#fdf6f2\" stroke=\"black\" d=\"M4735,-187C4735,-187 4421,-187 4421,-187 4415,-187 4409,-181 4409,-175 4409,-175 4409,-116 4409,-116 4409,-110 4415,-104 4421,-104 4421,-104 4735,-104 4735,-104 4741,-104 4747,-110 4747,-116 4747,-116 4747,-175 4747,-175 4747,-181 4741,-187 4735,-187\"/>\n",
       "<text text-anchor=\"start\" x=\"4496.5\" y=\"-171.8\" font-family=\"helvetica\" font-size=\"14.00\">non_shiftable_load ≤ 0.008</text>\n",
       "<text text-anchor=\"start\" x=\"4530.5\" y=\"-156.8\" font-family=\"helvetica\" font-size=\"14.00\">entropy = 1.816</text>\n",
       "<text text-anchor=\"start\" x=\"4529.5\" y=\"-141.8\" font-family=\"helvetica\" font-size=\"14.00\">samples = 4390</text>\n",
       "<text text-anchor=\"start\" x=\"4417\" y=\"-126.8\" font-family=\"helvetica\" font-size=\"14.00\">value = [1068.696, 954.806, 427.733, 61.22, 122.134]</text>\n",
       "<text text-anchor=\"start\" x=\"4504\" y=\"-111.8\" font-family=\"helvetica\" font-size=\"14.00\">class = 100%_discharge</text>\n",
       "</g>\n",
       "<!-- 29&#45;&gt;33 -->\n",
       "<g id=\"edge33\" class=\"edge\">\n",
       "<title>29-&gt;33</title>\n",
       "<path fill=\"none\" stroke=\"black\" d=\"M4578,-222.91C4578,-214.65 4578,-205.86 4578,-197.3\"/>\n",
       "<polygon fill=\"black\" stroke=\"black\" points=\"4581.5,-197.02 4578,-187.02 4574.5,-197.02 4581.5,-197.02\"/>\n",
       "</g>\n",
       "<!-- 31 -->\n",
       "<g id=\"node32\" class=\"node\">\n",
       "<title>31</title>\n",
       "<path fill=\"#ffffff\" stroke=\"black\" d=\"M3913,-68C3913,-68 3659,-68 3659,-68 3653,-68 3647,-62 3647,-56 3647,-56 3647,-12 3647,-12 3647,-6 3653,0 3659,0 3659,0 3913,0 3913,0 3919,0 3925,-6 3925,-12 3925,-12 3925,-56 3925,-56 3925,-62 3919,-68 3913,-68\"/>\n",
       "<text text-anchor=\"start\" x=\"3738.5\" y=\"-52.8\" font-family=\"helvetica\" font-size=\"14.00\">entropy = 1.741</text>\n",
       "<text text-anchor=\"start\" x=\"3741\" y=\"-37.8\" font-family=\"helvetica\" font-size=\"14.00\">samples = 277</text>\n",
       "<text text-anchor=\"start\" x=\"3655\" y=\"-22.8\" font-family=\"helvetica\" font-size=\"14.00\">value = [47.924, 67.422, 67.383, 0.0, 7.184]</text>\n",
       "<text text-anchor=\"start\" x=\"3715.5\" y=\"-7.8\" font-family=\"helvetica\" font-size=\"14.00\">class = 50%_discharge</text>\n",
       "</g>\n",
       "<!-- 30&#45;&gt;31 -->\n",
       "<g id=\"edge31\" class=\"edge\">\n",
       "<title>30-&gt;31</title>\n",
       "<path fill=\"none\" stroke=\"black\" d=\"M3974.72,-103.88C3945.65,-93.27 3914.51,-81.91 3886.06,-71.52\"/>\n",
       "<polygon fill=\"black\" stroke=\"black\" points=\"3887.12,-68.18 3876.53,-68.04 3884.72,-74.76 3887.12,-68.18\"/>\n",
       "</g>\n",
       "<!-- 32 -->\n",
       "<g id=\"node33\" class=\"node\">\n",
       "<title>32</title>\n",
       "<path fill=\"#effce7\" stroke=\"black\" d=\"M4217,-68C4217,-68 3955,-68 3955,-68 3949,-68 3943,-62 3943,-56 3943,-56 3943,-12 3943,-12 3943,-6 3949,0 3955,0 3955,0 4217,0 4217,0 4223,0 4229,-6 4229,-12 4229,-12 4229,-56 4229,-56 4229,-62 4223,-68 4217,-68\"/>\n",
       "<text text-anchor=\"start\" x=\"4038.5\" y=\"-52.8\" font-family=\"helvetica\" font-size=\"14.00\">entropy = 1.501</text>\n",
       "<text text-anchor=\"start\" x=\"4037.5\" y=\"-37.8\" font-family=\"helvetica\" font-size=\"14.00\">samples = 1001</text>\n",
       "<text text-anchor=\"start\" x=\"3951\" y=\"-22.8\" font-family=\"helvetica\" font-size=\"14.00\">value = [210.385, 254.131, 105.468, 0.0, 0.0]</text>\n",
       "<text text-anchor=\"start\" x=\"4015.5\" y=\"-7.8\" font-family=\"helvetica\" font-size=\"14.00\">class = 50%_discharge</text>\n",
       "</g>\n",
       "<!-- 30&#45;&gt;32 -->\n",
       "<g id=\"edge32\" class=\"edge\">\n",
       "<title>30-&gt;32</title>\n",
       "<path fill=\"none\" stroke=\"black\" d=\"M4086,-103.73C4086,-95.52 4086,-86.86 4086,-78.56\"/>\n",
       "<polygon fill=\"black\" stroke=\"black\" points=\"4089.5,-78.3 4086,-68.3 4082.5,-78.3 4089.5,-78.3\"/>\n",
       "</g>\n",
       "<!-- 34 -->\n",
       "<g id=\"node35\" class=\"node\">\n",
       "<title>34</title>\n",
       "<path fill=\"#fdf7f3\" stroke=\"black\" d=\"M4551,-68C4551,-68 4259,-68 4259,-68 4253,-68 4247,-62 4247,-56 4247,-56 4247,-12 4247,-12 4247,-6 4253,0 4259,0 4259,0 4551,0 4551,0 4557,0 4563,-6 4563,-12 4563,-12 4563,-56 4563,-56 4563,-62 4557,-68 4551,-68\"/>\n",
       "<text text-anchor=\"start\" x=\"4357.5\" y=\"-52.8\" font-family=\"helvetica\" font-size=\"14.00\">entropy = 1.824</text>\n",
       "<text text-anchor=\"start\" x=\"4356.5\" y=\"-37.8\" font-family=\"helvetica\" font-size=\"14.00\">samples = 2870</text>\n",
       "<text text-anchor=\"start\" x=\"4255\" y=\"-22.8\" font-family=\"helvetica\" font-size=\"14.00\">value = [699.205, 634.29, 246.093, 61.22, 71.844]</text>\n",
       "<text text-anchor=\"start\" x=\"4331\" y=\"-7.8\" font-family=\"helvetica\" font-size=\"14.00\">class = 100%_discharge</text>\n",
       "</g>\n",
       "<!-- 33&#45;&gt;34 -->\n",
       "<g id=\"edge34\" class=\"edge\">\n",
       "<title>33-&gt;34</title>\n",
       "<path fill=\"none\" stroke=\"black\" d=\"M4513.58,-103.73C4497.94,-93.82 4481.26,-83.27 4465.79,-73.48\"/>\n",
       "<polygon fill=\"black\" stroke=\"black\" points=\"4467.66,-70.52 4457.33,-68.13 4463.91,-76.43 4467.66,-70.52\"/>\n",
       "</g>\n",
       "<!-- 35 -->\n",
       "<g id=\"node36\" class=\"node\">\n",
       "<title>35</title>\n",
       "<path fill=\"#fdf5ef\" stroke=\"black\" d=\"M4870.5,-68C4870.5,-68 4593.5,-68 4593.5,-68 4587.5,-68 4581.5,-62 4581.5,-56 4581.5,-56 4581.5,-12 4581.5,-12 4581.5,-6 4587.5,0 4593.5,0 4593.5,0 4870.5,0 4870.5,0 4876.5,0 4882.5,-6 4882.5,-12 4882.5,-12 4882.5,-56 4882.5,-56 4882.5,-62 4876.5,-68 4870.5,-68\"/>\n",
       "<text text-anchor=\"start\" x=\"4684.5\" y=\"-52.8\" font-family=\"helvetica\" font-size=\"14.00\">entropy = 1.749</text>\n",
       "<text text-anchor=\"start\" x=\"4683.5\" y=\"-37.8\" font-family=\"helvetica\" font-size=\"14.00\">samples = 1520</text>\n",
       "<text text-anchor=\"start\" x=\"4589.5\" y=\"-22.8\" font-family=\"helvetica\" font-size=\"14.00\">value = [369.491, 320.516, 181.64, 0.0, 50.291]</text>\n",
       "<text text-anchor=\"start\" x=\"4658\" y=\"-7.8\" font-family=\"helvetica\" font-size=\"14.00\">class = 100%_discharge</text>\n",
       "</g>\n",
       "<!-- 33&#45;&gt;35 -->\n",
       "<g id=\"edge35\" class=\"edge\">\n",
       "<title>33-&gt;35</title>\n",
       "<path fill=\"none\" stroke=\"black\" d=\"M4635.34,-103.73C4648.94,-94.06 4663.41,-83.77 4676.91,-74.17\"/>\n",
       "<polygon fill=\"black\" stroke=\"black\" points=\"4679.05,-76.95 4685.17,-68.3 4674.99,-71.24 4679.05,-76.95\"/>\n",
       "</g>\n",
       "<!-- 37 -->\n",
       "<g id=\"node38\" class=\"node\">\n",
       "<title>37</title>\n",
       "<path fill=\"#f8fefd\" stroke=\"black\" d=\"M5529,-187C5529,-187 5215,-187 5215,-187 5209,-187 5203,-181 5203,-175 5203,-175 5203,-116 5203,-116 5203,-110 5209,-104 5215,-104 5215,-104 5529,-104 5529,-104 5535,-104 5541,-110 5541,-116 5541,-116 5541,-175 5541,-175 5541,-181 5535,-187 5529,-187\"/>\n",
       "<text text-anchor=\"start\" x=\"5263.5\" y=\"-171.8\" font-family=\"helvetica\" font-size=\"14.00\">net_electricity_consumption ≤ 0.238</text>\n",
       "<text text-anchor=\"start\" x=\"5324.5\" y=\"-156.8\" font-family=\"helvetica\" font-size=\"14.00\">entropy = 2.104</text>\n",
       "<text text-anchor=\"start\" x=\"5323.5\" y=\"-141.8\" font-family=\"helvetica\" font-size=\"14.00\">samples = 3274</text>\n",
       "<text text-anchor=\"start\" x=\"5211\" y=\"-126.8\" font-family=\"helvetica\" font-size=\"14.00\">value = [513.741, 802.846, 862.79, 226.514, 201.163]</text>\n",
       "<text text-anchor=\"start\" x=\"5338\" y=\"-111.8\" font-family=\"helvetica\" font-size=\"14.00\">class = idle</text>\n",
       "</g>\n",
       "<!-- 36&#45;&gt;37 -->\n",
       "<g id=\"edge37\" class=\"edge\">\n",
       "<title>36-&gt;37</title>\n",
       "<path fill=\"none\" stroke=\"black\" d=\"M5487.59,-222.91C5472.9,-213.2 5457.11,-202.76 5442.06,-192.81\"/>\n",
       "<polygon fill=\"black\" stroke=\"black\" points=\"5443.57,-189.62 5433.3,-187.02 5439.71,-195.45 5443.57,-189.62\"/>\n",
       "</g>\n",
       "<!-- 40 -->\n",
       "<g id=\"node41\" class=\"node\">\n",
       "<title>40</title>\n",
       "<path fill=\"#fbeade\" stroke=\"black\" d=\"M5878.5,-187C5878.5,-187 5571.5,-187 5571.5,-187 5565.5,-187 5559.5,-181 5559.5,-175 5559.5,-175 5559.5,-116 5559.5,-116 5559.5,-110 5565.5,-104 5571.5,-104 5571.5,-104 5878.5,-104 5878.5,-104 5884.5,-104 5890.5,-110 5890.5,-116 5890.5,-116 5890.5,-175 5890.5,-175 5890.5,-181 5884.5,-187 5878.5,-187\"/>\n",
       "<text text-anchor=\"start\" x=\"5651\" y=\"-171.8\" font-family=\"helvetica\" font-size=\"14.00\">carbon_intensity ≤ 0.251</text>\n",
       "<text text-anchor=\"start\" x=\"5677.5\" y=\"-156.8\" font-family=\"helvetica\" font-size=\"14.00\">entropy = 1.912</text>\n",
       "<text text-anchor=\"start\" x=\"5676.5\" y=\"-141.8\" font-family=\"helvetica\" font-size=\"14.00\">samples = 1929</text>\n",
       "<text text-anchor=\"start\" x=\"5567.5\" y=\"-126.8\" font-family=\"helvetica\" font-size=\"14.00\">value = [494.572, 336.594, 341.307, 48.976, 50.291]</text>\n",
       "<text text-anchor=\"start\" x=\"5651\" y=\"-111.8\" font-family=\"helvetica\" font-size=\"14.00\">class = 100%_discharge</text>\n",
       "</g>\n",
       "<!-- 36&#45;&gt;40 -->\n",
       "<g id=\"edge40\" class=\"edge\">\n",
       "<title>36-&gt;40</title>\n",
       "<path fill=\"none\" stroke=\"black\" d=\"M5610.06,-222.91C5624.67,-213.2 5640.37,-202.76 5655.34,-192.81\"/>\n",
       "<polygon fill=\"black\" stroke=\"black\" points=\"5657.66,-195.47 5664.05,-187.02 5653.78,-189.64 5657.66,-195.47\"/>\n",
       "</g>\n",
       "<!-- 38 -->\n",
       "<g id=\"node39\" class=\"node\">\n",
       "<title>38</title>\n",
       "<path fill=\"#fcfffe\" stroke=\"black\" d=\"M5205,-68C5205,-68 4913,-68 4913,-68 4907,-68 4901,-62 4901,-56 4901,-56 4901,-12 4901,-12 4901,-6 4907,0 4913,0 4913,0 5205,0 5205,0 5211,0 5217,-6 5217,-12 5217,-12 5217,-56 5217,-56 5217,-62 5211,-68 5205,-68\"/>\n",
       "<text text-anchor=\"start\" x=\"5011.5\" y=\"-52.8\" font-family=\"helvetica\" font-size=\"14.00\">entropy = 2.043</text>\n",
       "<text text-anchor=\"start\" x=\"5010.5\" y=\"-37.8\" font-family=\"helvetica\" font-size=\"14.00\">samples = 2921</text>\n",
       "<text text-anchor=\"start\" x=\"4909\" y=\"-22.8\" font-family=\"helvetica\" font-size=\"14.00\">value = [463.9, 724.532, 747.068, 183.66, 114.95]</text>\n",
       "<text text-anchor=\"start\" x=\"5025\" y=\"-7.8\" font-family=\"helvetica\" font-size=\"14.00\">class = idle</text>\n",
       "</g>\n",
       "<!-- 37&#45;&gt;38 -->\n",
       "<g id=\"edge38\" class=\"edge\">\n",
       "<title>37-&gt;38</title>\n",
       "<path fill=\"none\" stroke=\"black\" d=\"M5255.9,-103.88C5225.44,-93.23 5192.79,-81.81 5163.01,-71.39\"/>\n",
       "<polygon fill=\"black\" stroke=\"black\" points=\"5164.05,-68.04 5153.45,-68.04 5161.74,-74.65 5164.05,-68.04\"/>\n",
       "</g>\n",
       "<!-- 39 -->\n",
       "<g id=\"node40\" class=\"node\">\n",
       "<title>39</title>\n",
       "<path fill=\"#ebfcf9\" stroke=\"black\" d=\"M5539,-68C5539,-68 5247,-68 5247,-68 5241,-68 5235,-62 5235,-56 5235,-56 5235,-12 5235,-12 5235,-6 5241,0 5247,0 5247,0 5539,0 5539,0 5545,0 5551,-6 5551,-12 5551,-12 5551,-56 5551,-56 5551,-62 5545,-68 5539,-68\"/>\n",
       "<text text-anchor=\"start\" x=\"5345.5\" y=\"-52.8\" font-family=\"helvetica\" font-size=\"14.00\">entropy = 2.232</text>\n",
       "<text text-anchor=\"start\" x=\"5348\" y=\"-37.8\" font-family=\"helvetica\" font-size=\"14.00\">samples = 353</text>\n",
       "<text text-anchor=\"start\" x=\"5243\" y=\"-22.8\" font-family=\"helvetica\" font-size=\"14.00\">value = [49.841, 78.314, 115.722, 42.854, 86.213]</text>\n",
       "<text text-anchor=\"start\" x=\"5359\" y=\"-7.8\" font-family=\"helvetica\" font-size=\"14.00\">class = idle</text>\n",
       "</g>\n",
       "<!-- 37&#45;&gt;39 -->\n",
       "<g id=\"edge39\" class=\"edge\">\n",
       "<title>37-&gt;39</title>\n",
       "<path fill=\"none\" stroke=\"black\" d=\"M5379.82,-103.73C5381.41,-95.43 5383.09,-86.67 5384.7,-78.28\"/>\n",
       "<polygon fill=\"black\" stroke=\"black\" points=\"5388.17,-78.78 5386.61,-68.3 5381.29,-77.46 5388.17,-78.78\"/>\n",
       "</g>\n",
       "<!-- 41 -->\n",
       "<g id=\"node42\" class=\"node\">\n",
       "<title>41</title>\n",
       "<path fill=\"#fefaf6\" stroke=\"black\" d=\"M5828.5,-68C5828.5,-68 5581.5,-68 5581.5,-68 5575.5,-68 5569.5,-62 5569.5,-56 5569.5,-56 5569.5,-12 5569.5,-12 5569.5,-6 5575.5,0 5581.5,0 5581.5,0 5828.5,0 5828.5,0 5834.5,0 5840.5,-6 5840.5,-12 5840.5,-12 5840.5,-56 5840.5,-56 5840.5,-62 5834.5,-68 5828.5,-68\"/>\n",
       "<text text-anchor=\"start\" x=\"5657.5\" y=\"-52.8\" font-family=\"helvetica\" font-size=\"14.00\">entropy = 1.491</text>\n",
       "<text text-anchor=\"start\" x=\"5664\" y=\"-37.8\" font-family=\"helvetica\" font-size=\"14.00\">samples = 33</text>\n",
       "<text text-anchor=\"start\" x=\"5577.5\" y=\"-22.8\" font-family=\"helvetica\" font-size=\"14.00\">value = [12.939, 1.556, 1.465, 12.244, 0.0]</text>\n",
       "<text text-anchor=\"start\" x=\"5631\" y=\"-7.8\" font-family=\"helvetica\" font-size=\"14.00\">class = 100%_discharge</text>\n",
       "</g>\n",
       "<!-- 40&#45;&gt;41 -->\n",
       "<g id=\"edge41\" class=\"edge\">\n",
       "<title>40-&gt;41</title>\n",
       "<path fill=\"none\" stroke=\"black\" d=\"M5717.55,-103.73C5716.04,-95.43 5714.44,-86.67 5712.91,-78.28\"/>\n",
       "<polygon fill=\"black\" stroke=\"black\" points=\"5716.32,-77.51 5711.08,-68.3 5709.44,-78.77 5716.32,-77.51\"/>\n",
       "</g>\n",
       "<!-- 42 -->\n",
       "<g id=\"node43\" class=\"node\">\n",
       "<title>42</title>\n",
       "<path fill=\"#fbebe0\" stroke=\"black\" d=\"M6177.5,-68C6177.5,-68 5870.5,-68 5870.5,-68 5864.5,-68 5858.5,-62 5858.5,-56 5858.5,-56 5858.5,-12 5858.5,-12 5858.5,-6 5864.5,0 5870.5,0 5870.5,0 6177.5,0 6177.5,0 6183.5,0 6189.5,-6 6189.5,-12 6189.5,-12 6189.5,-56 6189.5,-56 6189.5,-62 6183.5,-68 6177.5,-68\"/>\n",
       "<text text-anchor=\"start\" x=\"5976.5\" y=\"-52.8\" font-family=\"helvetica\" font-size=\"14.00\">entropy = 1.888</text>\n",
       "<text text-anchor=\"start\" x=\"5975.5\" y=\"-37.8\" font-family=\"helvetica\" font-size=\"14.00\">samples = 1896</text>\n",
       "<text text-anchor=\"start\" x=\"5866.5\" y=\"-22.8\" font-family=\"helvetica\" font-size=\"14.00\">value = [481.632, 335.038, 339.843, 36.732, 50.291]</text>\n",
       "<text text-anchor=\"start\" x=\"5950\" y=\"-7.8\" font-family=\"helvetica\" font-size=\"14.00\">class = 100%_discharge</text>\n",
       "</g>\n",
       "<!-- 40&#45;&gt;42 -->\n",
       "<g id=\"edge42\" class=\"edge\">\n",
       "<title>40-&gt;42</title>\n",
       "<path fill=\"none\" stroke=\"black\" d=\"M5835.91,-103.88C5864.88,-93.27 5895.92,-81.91 5924.27,-71.52\"/>\n",
       "<polygon fill=\"black\" stroke=\"black\" points=\"5925.59,-74.77 5933.77,-68.04 5923.18,-68.2 5925.59,-74.77\"/>\n",
       "</g>\n",
       "<!-- 44 -->\n",
       "<g id=\"node45\" class=\"node\">\n",
       "<title>44</title>\n",
       "<path fill=\"#b0aff4\" stroke=\"black\" d=\"M6981,-306C6981,-306 6689,-306 6689,-306 6683,-306 6677,-300 6677,-294 6677,-294 6677,-235 6677,-235 6677,-229 6683,-223 6689,-223 6689,-223 6981,-223 6981,-223 6987,-223 6993,-229 6993,-235 6993,-235 6993,-294 6993,-294 6993,-300 6987,-306 6981,-306\"/>\n",
       "<text text-anchor=\"start\" x=\"6764\" y=\"-290.8\" font-family=\"helvetica\" font-size=\"14.00\">solar_generation ≤ 0.01</text>\n",
       "<text text-anchor=\"start\" x=\"6787.5\" y=\"-275.8\" font-family=\"helvetica\" font-size=\"14.00\">entropy = 2.004</text>\n",
       "<text text-anchor=\"start\" x=\"6790\" y=\"-260.8\" font-family=\"helvetica\" font-size=\"14.00\">samples = 422</text>\n",
       "<text text-anchor=\"start\" x=\"6685\" y=\"-245.8\" font-family=\"helvetica\" font-size=\"14.00\">value = [88.659, 71.572, 61.523, 287.734, 71.844]</text>\n",
       "<text text-anchor=\"start\" x=\"6773\" y=\"-230.8\" font-family=\"helvetica\" font-size=\"14.00\">class = 50%_charge</text>\n",
       "</g>\n",
       "<!-- 43&#45;&gt;44 -->\n",
       "<g id=\"edge44\" class=\"edge\">\n",
       "<title>43-&gt;44</title>\n",
       "<path fill=\"none\" stroke=\"black\" d=\"M6835,-341.91C6835,-333.65 6835,-324.86 6835,-316.3\"/>\n",
       "<polygon fill=\"black\" stroke=\"black\" points=\"6838.5,-316.02 6835,-306.02 6831.5,-316.02 6838.5,-316.02\"/>\n",
       "</g>\n",
       "<!-- 51 -->\n",
       "<g id=\"node52\" class=\"node\">\n",
       "<title>51</title>\n",
       "<path fill=\"#fafefe\" stroke=\"black\" d=\"M7956,-306C7956,-306 7642,-306 7642,-306 7636,-306 7630,-300 7630,-294 7630,-294 7630,-235 7630,-235 7630,-229 7636,-223 7642,-223 7642,-223 7956,-223 7956,-223 7962,-223 7968,-229 7968,-235 7968,-235 7968,-294 7968,-294 7968,-300 7962,-306 7956,-306\"/>\n",
       "<text text-anchor=\"start\" x=\"7722.5\" y=\"-290.8\" font-family=\"helvetica\" font-size=\"14.00\">electricity_pricing ≤ 0.365</text>\n",
       "<text text-anchor=\"start\" x=\"7751.5\" y=\"-275.8\" font-family=\"helvetica\" font-size=\"14.00\">entropy = 2.209</text>\n",
       "<text text-anchor=\"start\" x=\"7750.5\" y=\"-260.8\" font-family=\"helvetica\" font-size=\"14.00\">samples = 2031</text>\n",
       "<text text-anchor=\"start\" x=\"7638\" y=\"-245.8\" font-family=\"helvetica\" font-size=\"14.00\">value = [435.626, 387.42, 465.819, 226.514, 143.688]</text>\n",
       "<text text-anchor=\"start\" x=\"7765\" y=\"-230.8\" font-family=\"helvetica\" font-size=\"14.00\">class = idle</text>\n",
       "</g>\n",
       "<!-- 43&#45;&gt;51 -->\n",
       "<g id=\"edge51\" class=\"edge\">\n",
       "<title>43-&gt;51</title>\n",
       "<path fill=\"none\" stroke=\"black\" d=\"M7008.18,-361.48C7180.82,-340.53 7444.78,-308.49 7619.59,-287.28\"/>\n",
       "<polygon fill=\"black\" stroke=\"black\" points=\"7620.16,-290.73 7629.66,-286.05 7619.32,-283.78 7620.16,-290.73\"/>\n",
       "</g>\n",
       "<!-- 45 -->\n",
       "<g id=\"node46\" class=\"node\">\n",
       "<title>45</title>\n",
       "<path fill=\"#e2e1fb\" stroke=\"black\" d=\"M6814,-187C6814,-187 6530,-187 6530,-187 6524,-187 6518,-181 6518,-175 6518,-175 6518,-116 6518,-116 6518,-110 6524,-104 6530,-104 6530,-104 6814,-104 6814,-104 6820,-104 6826,-110 6826,-116 6826,-116 6826,-175 6826,-175 6826,-181 6820,-187 6814,-187\"/>\n",
       "<text text-anchor=\"start\" x=\"6563.5\" y=\"-171.8\" font-family=\"helvetica\" font-size=\"14.00\">net_electricity_consumption ≤ 0.273</text>\n",
       "<text text-anchor=\"start\" x=\"6624.5\" y=\"-156.8\" font-family=\"helvetica\" font-size=\"14.00\">entropy = 2.233</text>\n",
       "<text text-anchor=\"start\" x=\"6627\" y=\"-141.8\" font-family=\"helvetica\" font-size=\"14.00\">samples = 299</text>\n",
       "<text text-anchor=\"start\" x=\"6526\" y=\"-126.8\" font-family=\"helvetica\" font-size=\"14.00\">value = [67.093, 57.05, 36.621, 104.074, 50.291]</text>\n",
       "<text text-anchor=\"start\" x=\"6610\" y=\"-111.8\" font-family=\"helvetica\" font-size=\"14.00\">class = 50%_charge</text>\n",
       "</g>\n",
       "<!-- 44&#45;&gt;45 -->\n",
       "<g id=\"edge45\" class=\"edge\">\n",
       "<title>44-&gt;45</title>\n",
       "<path fill=\"none\" stroke=\"black\" d=\"M6778.45,-222.91C6765.05,-213.29 6750.65,-202.95 6736.91,-193.09\"/>\n",
       "<polygon fill=\"black\" stroke=\"black\" points=\"6738.62,-190.01 6728.45,-187.02 6734.53,-195.7 6738.62,-190.01\"/>\n",
       "</g>\n",
       "<!-- 48 -->\n",
       "<g id=\"node49\" class=\"node\">\n",
       "<title>48</title>\n",
       "<path fill=\"#7f7dee\" stroke=\"black\" d=\"M7140,-187C7140,-187 6856,-187 6856,-187 6850,-187 6844,-181 6844,-175 6844,-175 6844,-116 6844,-116 6844,-110 6850,-104 6856,-104 6856,-104 7140,-104 7140,-104 7146,-104 7152,-110 7152,-116 7152,-116 7152,-175 7152,-175 7152,-181 7146,-187 7140,-187\"/>\n",
       "<text text-anchor=\"start\" x=\"6924\" y=\"-171.8\" font-family=\"helvetica\" font-size=\"14.00\">carbon_intensity ≤ 0.357</text>\n",
       "<text text-anchor=\"start\" x=\"6950.5\" y=\"-156.8\" font-family=\"helvetica\" font-size=\"14.00\">entropy = 1.505</text>\n",
       "<text text-anchor=\"start\" x=\"6953\" y=\"-141.8\" font-family=\"helvetica\" font-size=\"14.00\">samples = 123</text>\n",
       "<text text-anchor=\"start\" x=\"6852\" y=\"-126.8\" font-family=\"helvetica\" font-size=\"14.00\">value = [21.566, 14.522, 24.902, 183.66, 21.553]</text>\n",
       "<text text-anchor=\"start\" x=\"6936\" y=\"-111.8\" font-family=\"helvetica\" font-size=\"14.00\">class = 50%_charge</text>\n",
       "</g>\n",
       "<!-- 44&#45;&gt;48 -->\n",
       "<g id=\"edge48\" class=\"edge\">\n",
       "<title>44-&gt;48</title>\n",
       "<path fill=\"none\" stroke=\"black\" d=\"M6891.55,-222.91C6904.95,-213.29 6919.35,-202.95 6933.09,-193.09\"/>\n",
       "<polygon fill=\"black\" stroke=\"black\" points=\"6935.47,-195.7 6941.55,-187.02 6931.38,-190.01 6935.47,-195.7\"/>\n",
       "</g>\n",
       "<!-- 46 -->\n",
       "<g id=\"node47\" class=\"node\">\n",
       "<title>46</title>\n",
       "<path fill=\"#fdf6f0\" stroke=\"black\" d=\"M6504,-68C6504,-68 6220,-68 6220,-68 6214,-68 6208,-62 6208,-56 6208,-56 6208,-12 6208,-12 6208,-6 6214,0 6220,0 6220,0 6504,0 6504,0 6510,0 6516,-6 6516,-12 6516,-12 6516,-56 6516,-56 6516,-62 6510,-68 6504,-68\"/>\n",
       "<text text-anchor=\"start\" x=\"6314.5\" y=\"-52.8\" font-family=\"helvetica\" font-size=\"14.00\">entropy = 2.145</text>\n",
       "<text text-anchor=\"start\" x=\"6317\" y=\"-37.8\" font-family=\"helvetica\" font-size=\"14.00\">samples = 226</text>\n",
       "<text text-anchor=\"start\" x=\"6216\" y=\"-22.8\" font-family=\"helvetica\" font-size=\"14.00\">value = [54.633, 46.158, 26.367, 12.244, 21.553]</text>\n",
       "<text text-anchor=\"start\" x=\"6288\" y=\"-7.8\" font-family=\"helvetica\" font-size=\"14.00\">class = 100%_discharge</text>\n",
       "</g>\n",
       "<!-- 45&#45;&gt;46 -->\n",
       "<g id=\"edge46\" class=\"edge\">\n",
       "<title>45-&gt;46</title>\n",
       "<path fill=\"none\" stroke=\"black\" d=\"M6557.01,-103.88C6526.84,-93.23 6494.51,-81.81 6465.02,-71.39\"/>\n",
       "<polygon fill=\"black\" stroke=\"black\" points=\"6466.14,-68.07 6455.55,-68.04 6463.81,-74.67 6466.14,-68.07\"/>\n",
       "</g>\n",
       "<!-- 47 -->\n",
       "<g id=\"node48\" class=\"node\">\n",
       "<title>47</title>\n",
       "<path fill=\"#9d9bf2\" stroke=\"black\" d=\"M6815.5,-68C6815.5,-68 6546.5,-68 6546.5,-68 6540.5,-68 6534.5,-62 6534.5,-56 6534.5,-56 6534.5,-12 6534.5,-12 6534.5,-6 6540.5,0 6546.5,0 6546.5,0 6815.5,0 6815.5,0 6821.5,0 6827.5,-6 6827.5,-12 6827.5,-12 6827.5,-56 6827.5,-56 6827.5,-62 6821.5,-68 6815.5,-68\"/>\n",
       "<text text-anchor=\"start\" x=\"6637\" y=\"-52.8\" font-family=\"helvetica\" font-size=\"14.00\">entropy = 1.72</text>\n",
       "<text text-anchor=\"start\" x=\"6640\" y=\"-37.8\" font-family=\"helvetica\" font-size=\"14.00\">samples = 73</text>\n",
       "<text text-anchor=\"start\" x=\"6542.5\" y=\"-22.8\" font-family=\"helvetica\" font-size=\"14.00\">value = [12.46, 10.891, 10.254, 91.83, 28.738]</text>\n",
       "<text text-anchor=\"start\" x=\"6619\" y=\"-7.8\" font-family=\"helvetica\" font-size=\"14.00\">class = 50%_charge</text>\n",
       "</g>\n",
       "<!-- 45&#45;&gt;47 -->\n",
       "<g id=\"edge47\" class=\"edge\">\n",
       "<title>45-&gt;47</title>\n",
       "<path fill=\"none\" stroke=\"black\" d=\"M6675.35,-103.73C6676.03,-95.43 6676.75,-86.67 6677.44,-78.28\"/>\n",
       "<polygon fill=\"black\" stroke=\"black\" points=\"6680.93,-78.55 6678.26,-68.3 6673.96,-77.98 6680.93,-78.55\"/>\n",
       "</g>\n",
       "<!-- 49 -->\n",
       "<g id=\"node50\" class=\"node\">\n",
       "<title>49</title>\n",
       "<path fill=\"#eefdfa\" stroke=\"black\" d=\"M7120,-68C7120,-68 6858,-68 6858,-68 6852,-68 6846,-62 6846,-56 6846,-56 6846,-12 6846,-12 6846,-6 6852,0 6858,0 6858,0 7120,0 7120,0 7126,0 7132,-6 7132,-12 7132,-12 7132,-56 7132,-56 7132,-62 7126,-68 7120,-68\"/>\n",
       "<text text-anchor=\"start\" x=\"6941.5\" y=\"-52.8\" font-family=\"helvetica\" font-size=\"14.00\">entropy = 2.003</text>\n",
       "<text text-anchor=\"start\" x=\"6948\" y=\"-37.8\" font-family=\"helvetica\" font-size=\"14.00\">samples = 25</text>\n",
       "<text text-anchor=\"start\" x=\"6854\" y=\"-22.8\" font-family=\"helvetica\" font-size=\"14.00\">value = [4.792, 1.037, 14.648, 12.244, 7.184]</text>\n",
       "<text text-anchor=\"start\" x=\"6955\" y=\"-7.8\" font-family=\"helvetica\" font-size=\"14.00\">class = idle</text>\n",
       "</g>\n",
       "<!-- 48&#45;&gt;49 -->\n",
       "<g id=\"edge49\" class=\"edge\">\n",
       "<title>48-&gt;49</title>\n",
       "<path fill=\"none\" stroke=\"black\" d=\"M6994.65,-103.73C6993.97,-95.43 6993.25,-86.67 6992.56,-78.28\"/>\n",
       "<polygon fill=\"black\" stroke=\"black\" points=\"6996.04,-77.98 6991.74,-68.3 6989.07,-78.55 6996.04,-77.98\"/>\n",
       "</g>\n",
       "<!-- 50 -->\n",
       "<g id=\"node51\" class=\"node\">\n",
       "<title>50</title>\n",
       "<path fill=\"#6f6dec\" stroke=\"black\" d=\"M7454,-68C7454,-68 7162,-68 7162,-68 7156,-68 7150,-62 7150,-56 7150,-56 7150,-12 7150,-12 7150,-6 7156,0 7162,0 7162,0 7454,0 7454,0 7460,0 7466,-6 7466,-12 7466,-12 7466,-56 7466,-56 7466,-62 7460,-68 7454,-68\"/>\n",
       "<text text-anchor=\"start\" x=\"7260.5\" y=\"-52.8\" font-family=\"helvetica\" font-size=\"14.00\">entropy = 1.279</text>\n",
       "<text text-anchor=\"start\" x=\"7267\" y=\"-37.8\" font-family=\"helvetica\" font-size=\"14.00\">samples = 98</text>\n",
       "<text text-anchor=\"start\" x=\"7158\" y=\"-22.8\" font-family=\"helvetica\" font-size=\"14.00\">value = [16.773, 13.484, 10.254, 171.416, 14.369]</text>\n",
       "<text text-anchor=\"start\" x=\"7246\" y=\"-7.8\" font-family=\"helvetica\" font-size=\"14.00\">class = 50%_charge</text>\n",
       "</g>\n",
       "<!-- 48&#45;&gt;50 -->\n",
       "<g id=\"edge50\" class=\"edge\">\n",
       "<title>48-&gt;50</title>\n",
       "<path fill=\"none\" stroke=\"black\" d=\"M7112.99,-103.88C7143.16,-93.23 7175.49,-81.81 7204.98,-71.39\"/>\n",
       "<polygon fill=\"black\" stroke=\"black\" points=\"7206.19,-74.67 7214.45,-68.04 7203.86,-68.07 7206.19,-74.67\"/>\n",
       "</g>\n",
       "<!-- 52 -->\n",
       "<g id=\"node53\" class=\"node\">\n",
       "<title>52</title>\n",
       "<path fill=\"#ecfcf9\" stroke=\"black\" d=\"M7952.5,-187C7952.5,-187 7645.5,-187 7645.5,-187 7639.5,-187 7633.5,-181 7633.5,-175 7633.5,-175 7633.5,-116 7633.5,-116 7633.5,-110 7639.5,-104 7645.5,-104 7645.5,-104 7952.5,-104 7952.5,-104 7958.5,-104 7964.5,-110 7964.5,-116 7964.5,-116 7964.5,-175 7964.5,-175 7964.5,-181 7958.5,-187 7952.5,-187\"/>\n",
       "<text text-anchor=\"start\" x=\"7725\" y=\"-171.8\" font-family=\"helvetica\" font-size=\"14.00\">carbon_intensity ≤ 0.711</text>\n",
       "<text text-anchor=\"start\" x=\"7751.5\" y=\"-156.8\" font-family=\"helvetica\" font-size=\"14.00\">entropy = 2.271</text>\n",
       "<text text-anchor=\"start\" x=\"7754\" y=\"-141.8\" font-family=\"helvetica\" font-size=\"14.00\">samples = 822</text>\n",
       "<text text-anchor=\"start\" x=\"7641.5\" y=\"-126.8\" font-family=\"helvetica\" font-size=\"14.00\">value = [137.061, 165.963, 249.023, 183.66, 114.95]</text>\n",
       "<text text-anchor=\"start\" x=\"7765\" y=\"-111.8\" font-family=\"helvetica\" font-size=\"14.00\">class = idle</text>\n",
       "</g>\n",
       "<!-- 51&#45;&gt;52 -->\n",
       "<g id=\"edge52\" class=\"edge\">\n",
       "<title>51-&gt;52</title>\n",
       "<path fill=\"none\" stroke=\"black\" d=\"M7799,-222.91C7799,-214.65 7799,-205.86 7799,-197.3\"/>\n",
       "<polygon fill=\"black\" stroke=\"black\" points=\"7802.5,-197.02 7799,-187.02 7795.5,-197.02 7802.5,-197.02\"/>\n",
       "</g>\n",
       "<!-- 55 -->\n",
       "<g id=\"node56\" class=\"node\">\n",
       "<title>55</title>\n",
       "<path fill=\"#fceee5\" stroke=\"black\" d=\"M8449.5,-187C8449.5,-187 8142.5,-187 8142.5,-187 8136.5,-187 8130.5,-181 8130.5,-175 8130.5,-175 8130.5,-116 8130.5,-116 8130.5,-110 8136.5,-104 8142.5,-104 8142.5,-104 8449.5,-104 8449.5,-104 8455.5,-104 8461.5,-110 8461.5,-116 8461.5,-116 8461.5,-175 8461.5,-175 8461.5,-181 8455.5,-187 8449.5,-187\"/>\n",
       "<text text-anchor=\"start\" x=\"8222\" y=\"-171.8\" font-family=\"helvetica\" font-size=\"14.00\">carbon_intensity ≤ 0.555</text>\n",
       "<text text-anchor=\"start\" x=\"8248.5\" y=\"-156.8\" font-family=\"helvetica\" font-size=\"14.00\">entropy = 1.947</text>\n",
       "<text text-anchor=\"start\" x=\"8247.5\" y=\"-141.8\" font-family=\"helvetica\" font-size=\"14.00\">samples = 1209</text>\n",
       "<text text-anchor=\"start\" x=\"8138.5\" y=\"-126.8\" font-family=\"helvetica\" font-size=\"14.00\">value = [298.564, 221.457, 216.796, 42.854, 28.738]</text>\n",
       "<text text-anchor=\"start\" x=\"8222\" y=\"-111.8\" font-family=\"helvetica\" font-size=\"14.00\">class = 100%_discharge</text>\n",
       "</g>\n",
       "<!-- 51&#45;&gt;55 -->\n",
       "<g id=\"edge55\" class=\"edge\">\n",
       "<title>51-&gt;55</title>\n",
       "<path fill=\"none\" stroke=\"black\" d=\"M7968.3,-223.64C8017.35,-212.1 8071.01,-199.47 8120.43,-187.83\"/>\n",
       "<polygon fill=\"black\" stroke=\"black\" points=\"8121.33,-191.22 8130.26,-185.52 8119.72,-184.4 8121.33,-191.22\"/>\n",
       "</g>\n",
       "<!-- 53 -->\n",
       "<g id=\"node54\" class=\"node\">\n",
       "<title>53</title>\n",
       "<path fill=\"#fafefd\" stroke=\"black\" d=\"M7803.5,-68C7803.5,-68 7496.5,-68 7496.5,-68 7490.5,-68 7484.5,-62 7484.5,-56 7484.5,-56 7484.5,-12 7484.5,-12 7484.5,-6 7490.5,0 7496.5,0 7496.5,0 7803.5,0 7803.5,0 7809.5,0 7815.5,-6 7815.5,-12 7815.5,-12 7815.5,-56 7815.5,-56 7815.5,-62 7809.5,-68 7803.5,-68\"/>\n",
       "<text text-anchor=\"start\" x=\"7602.5\" y=\"-52.8\" font-family=\"helvetica\" font-size=\"14.00\">entropy = 2.255</text>\n",
       "<text text-anchor=\"start\" x=\"7605\" y=\"-37.8\" font-family=\"helvetica\" font-size=\"14.00\">samples = 620</text>\n",
       "<text text-anchor=\"start\" x=\"7492.5\" y=\"-22.8\" font-family=\"helvetica\" font-size=\"14.00\">value = [92.493, 128.621, 197.753, 183.66, 100.581]</text>\n",
       "<text text-anchor=\"start\" x=\"7616\" y=\"-7.8\" font-family=\"helvetica\" font-size=\"14.00\">class = idle</text>\n",
       "</g>\n",
       "<!-- 52&#45;&gt;53 -->\n",
       "<g id=\"edge53\" class=\"edge\">\n",
       "<title>52-&gt;53</title>\n",
       "<path fill=\"none\" stroke=\"black\" d=\"M7743.52,-103.73C7730.49,-94.15 7716.62,-83.96 7703.67,-74.44\"/>\n",
       "<polygon fill=\"black\" stroke=\"black\" points=\"7705.44,-71.4 7695.31,-68.3 7701.3,-77.04 7705.44,-71.4\"/>\n",
       "</g>\n",
       "<!-- 54 -->\n",
       "<g id=\"node55\" class=\"node\">\n",
       "<title>54</title>\n",
       "<path fill=\"#f2fdfb\" stroke=\"black\" d=\"M8108,-68C8108,-68 7846,-68 7846,-68 7840,-68 7834,-62 7834,-56 7834,-56 7834,-12 7834,-12 7834,-6 7840,0 7846,0 7846,0 8108,0 8108,0 8114,0 8120,-6 8120,-12 8120,-12 8120,-56 8120,-56 8120,-62 8114,-68 8108,-68\"/>\n",
       "<text text-anchor=\"start\" x=\"7929.5\" y=\"-52.8\" font-family=\"helvetica\" font-size=\"14.00\">entropy = 1.881</text>\n",
       "<text text-anchor=\"start\" x=\"7932\" y=\"-37.8\" font-family=\"helvetica\" font-size=\"14.00\">samples = 202</text>\n",
       "<text text-anchor=\"start\" x=\"7842\" y=\"-22.8\" font-family=\"helvetica\" font-size=\"14.00\">value = [44.569, 37.342, 51.269, 0.0, 14.369]</text>\n",
       "<text text-anchor=\"start\" x=\"7943\" y=\"-7.8\" font-family=\"helvetica\" font-size=\"14.00\">class = idle</text>\n",
       "</g>\n",
       "<!-- 52&#45;&gt;54 -->\n",
       "<g id=\"edge54\" class=\"edge\">\n",
       "<title>52-&gt;54</title>\n",
       "<path fill=\"none\" stroke=\"black\" d=\"M7865.03,-103.88C7881.22,-93.92 7898.51,-83.29 7914.53,-73.43\"/>\n",
       "<polygon fill=\"black\" stroke=\"black\" points=\"7916.6,-76.26 7923.29,-68.04 7912.93,-70.3 7916.6,-76.26\"/>\n",
       "</g>\n",
       "<!-- 56 -->\n",
       "<g id=\"node57\" class=\"node\">\n",
       "<title>56</title>\n",
       "<path fill=\"#f8dfcd\" stroke=\"black\" d=\"M8442,-68C8442,-68 8150,-68 8150,-68 8144,-68 8138,-62 8138,-56 8138,-56 8138,-12 8138,-12 8138,-6 8144,0 8150,0 8150,0 8442,0 8442,0 8448,0 8454,-6 8454,-12 8454,-12 8454,-56 8454,-56 8454,-62 8448,-68 8442,-68\"/>\n",
       "<text text-anchor=\"start\" x=\"8248.5\" y=\"-52.8\" font-family=\"helvetica\" font-size=\"14.00\">entropy = 2.061</text>\n",
       "<text text-anchor=\"start\" x=\"8251\" y=\"-37.8\" font-family=\"helvetica\" font-size=\"14.00\">samples = 466</text>\n",
       "<text text-anchor=\"start\" x=\"8146\" y=\"-22.8\" font-family=\"helvetica\" font-size=\"14.00\">value = [135.624, 65.348, 71.777, 24.488, 28.738]</text>\n",
       "<text text-anchor=\"start\" x=\"8222\" y=\"-7.8\" font-family=\"helvetica\" font-size=\"14.00\">class = 100%_discharge</text>\n",
       "</g>\n",
       "<!-- 55&#45;&gt;56 -->\n",
       "<g id=\"edge56\" class=\"edge\">\n",
       "<title>55-&gt;56</title>\n",
       "<path fill=\"none\" stroke=\"black\" d=\"M8296,-103.73C8296,-95.52 8296,-86.86 8296,-78.56\"/>\n",
       "<polygon fill=\"black\" stroke=\"black\" points=\"8299.5,-78.3 8296,-68.3 8292.5,-78.3 8299.5,-78.3\"/>\n",
       "</g>\n",
       "<!-- 57 -->\n",
       "<g id=\"node58\" class=\"node\">\n",
       "<title>57</title>\n",
       "<path fill=\"#fefcfb\" stroke=\"black\" d=\"M8761.5,-68C8761.5,-68 8484.5,-68 8484.5,-68 8478.5,-68 8472.5,-62 8472.5,-56 8472.5,-56 8472.5,-12 8472.5,-12 8472.5,-6 8478.5,0 8484.5,0 8484.5,0 8761.5,0 8761.5,0 8767.5,0 8773.5,-6 8773.5,-12 8773.5,-12 8773.5,-56 8773.5,-56 8773.5,-62 8767.5,-68 8761.5,-68\"/>\n",
       "<text text-anchor=\"start\" x=\"8575.5\" y=\"-52.8\" font-family=\"helvetica\" font-size=\"14.00\">entropy = 1.756</text>\n",
       "<text text-anchor=\"start\" x=\"8578\" y=\"-37.8\" font-family=\"helvetica\" font-size=\"14.00\">samples = 743</text>\n",
       "<text text-anchor=\"start\" x=\"8480.5\" y=\"-22.8\" font-family=\"helvetica\" font-size=\"14.00\">value = [162.94, 156.109, 145.019, 18.366, 0.0]</text>\n",
       "<text text-anchor=\"start\" x=\"8549\" y=\"-7.8\" font-family=\"helvetica\" font-size=\"14.00\">class = 100%_discharge</text>\n",
       "</g>\n",
       "<!-- 55&#45;&gt;57 -->\n",
       "<g id=\"edge57\" class=\"edge\">\n",
       "<title>55-&gt;57</title>\n",
       "<path fill=\"none\" stroke=\"black\" d=\"M8417.3,-103.88C8449.25,-93.18 8483.52,-81.71 8514.74,-71.25\"/>\n",
       "<polygon fill=\"black\" stroke=\"black\" points=\"8515.95,-74.54 8524.32,-68.04 8513.73,-67.9 8515.95,-74.54\"/>\n",
       "</g>\n",
       "<!-- 59 -->\n",
       "<g id=\"node60\" class=\"node\">\n",
       "<title>59</title>\n",
       "<path fill=\"#cac9f8\" stroke=\"black\" d=\"M11336,-544C11336,-544 11022,-544 11022,-544 11016,-544 11010,-538 11010,-532 11010,-532 11010,-473 11010,-473 11010,-467 11016,-461 11022,-461 11022,-461 11336,-461 11336,-461 11342,-461 11348,-467 11348,-473 11348,-473 11348,-532 11348,-532 11348,-538 11342,-544 11336,-544\"/>\n",
       "<text text-anchor=\"start\" x=\"11104\" y=\"-528.8\" font-family=\"helvetica\" font-size=\"14.00\">solar_generation ≤ 0.532</text>\n",
       "<text text-anchor=\"start\" x=\"11131.5\" y=\"-513.8\" font-family=\"helvetica\" font-size=\"14.00\">entropy = 2.029</text>\n",
       "<text text-anchor=\"start\" x=\"11130.5\" y=\"-498.8\" font-family=\"helvetica\" font-size=\"14.00\">samples = 1178</text>\n",
       "<text text-anchor=\"start\" x=\"11018\" y=\"-483.8\" font-family=\"helvetica\" font-size=\"14.00\">value = [188.34, 168.038, 347.167, 948.909, 495.722]</text>\n",
       "<text text-anchor=\"start\" x=\"11117\" y=\"-468.8\" font-family=\"helvetica\" font-size=\"14.00\">class = 50%_charge</text>\n",
       "</g>\n",
       "<!-- 58&#45;&gt;59 -->\n",
       "<g id=\"edge59\" class=\"edge\">\n",
       "<title>58-&gt;59</title>\n",
       "<path fill=\"none\" stroke=\"black\" d=\"M11179,-579.91C11179,-571.65 11179,-562.86 11179,-554.3\"/>\n",
       "<polygon fill=\"black\" stroke=\"black\" points=\"11182.5,-554.02 11179,-544.02 11175.5,-554.02 11182.5,-554.02\"/>\n",
       "</g>\n",
       "<!-- 88 -->\n",
       "<g id=\"node89\" class=\"node\">\n",
       "<title>88</title>\n",
       "<path fill=\"#f08edb\" stroke=\"black\" d=\"M13268,-544C13268,-544 12954,-544 12954,-544 12948,-544 12942,-538 12942,-532 12942,-532 12942,-473 12942,-473 12942,-467 12948,-461 12954,-461 12954,-461 13268,-461 13268,-461 13274,-461 13280,-467 13280,-473 13280,-473 13280,-532 13280,-532 13280,-538 13274,-544 13268,-544\"/>\n",
       "<text text-anchor=\"start\" x=\"13029.5\" y=\"-528.8\" font-family=\"helvetica\" font-size=\"14.00\">non_shiftable_load ≤ 0.015</text>\n",
       "<text text-anchor=\"start\" x=\"13067\" y=\"-513.8\" font-family=\"helvetica\" font-size=\"14.00\">entropy = 1.54</text>\n",
       "<text text-anchor=\"start\" x=\"13066\" y=\"-498.8\" font-family=\"helvetica\" font-size=\"14.00\">samples = 860</text>\n",
       "<text text-anchor=\"start\" x=\"12950\" y=\"-483.8\" font-family=\"helvetica\" font-size=\"14.00\">value = [105.911, 79.351, 272.46, 440.784, 1638.039]</text>\n",
       "<text text-anchor=\"start\" x=\"13045.5\" y=\"-468.8\" font-family=\"helvetica\" font-size=\"14.00\">class = 100%_charge</text>\n",
       "</g>\n",
       "<!-- 58&#45;&gt;88 -->\n",
       "<g id=\"edge88\" class=\"edge\">\n",
       "<title>58-&gt;88</title>\n",
       "<path fill=\"none\" stroke=\"black\" d=\"M11359.89,-609.55C11728.73,-587.21 12563.79,-536.64 12931.47,-514.37\"/>\n",
       "<polygon fill=\"black\" stroke=\"black\" points=\"12931.91,-517.85 12941.68,-513.75 12931.49,-510.86 12931.91,-517.85\"/>\n",
       "</g>\n",
       "<!-- 60 -->\n",
       "<g id=\"node61\" class=\"node\">\n",
       "<title>60</title>\n",
       "<path fill=\"#b2b1f5\" stroke=\"black\" d=\"M10739,-425C10739,-425 10425,-425 10425,-425 10419,-425 10413,-419 10413,-413 10413,-413 10413,-354 10413,-354 10413,-348 10419,-342 10425,-342 10425,-342 10739,-342 10739,-342 10745,-342 10751,-348 10751,-354 10751,-354 10751,-413 10751,-413 10751,-419 10745,-425 10739,-425\"/>\n",
       "<text text-anchor=\"start\" x=\"10500.5\" y=\"-409.8\" font-family=\"helvetica\" font-size=\"14.00\">non_shiftable_load ≤ 0.015</text>\n",
       "<text text-anchor=\"start\" x=\"10534.5\" y=\"-394.8\" font-family=\"helvetica\" font-size=\"14.00\">entropy = 1.961</text>\n",
       "<text text-anchor=\"start\" x=\"10537\" y=\"-379.8\" font-family=\"helvetica\" font-size=\"14.00\">samples = 991</text>\n",
       "<text text-anchor=\"start\" x=\"10421\" y=\"-364.8\" font-family=\"helvetica\" font-size=\"14.00\">value = [161.023, 153.516, 295.897, 808.104, 179.61]</text>\n",
       "<text text-anchor=\"start\" x=\"10520\" y=\"-349.8\" font-family=\"helvetica\" font-size=\"14.00\">class = 50%_charge</text>\n",
       "</g>\n",
       "<!-- 59&#45;&gt;60 -->\n",
       "<g id=\"edge60\" class=\"edge\">\n",
       "<title>59-&gt;60</title>\n",
       "<path fill=\"none\" stroke=\"black\" d=\"M11009.92,-468.36C10932.22,-453.14 10840.02,-435.07 10761.13,-419.61\"/>\n",
       "<polygon fill=\"black\" stroke=\"black\" points=\"10761.57,-416.13 10751.08,-417.64 10760.22,-423 10761.57,-416.13\"/>\n",
       "</g>\n",
       "<!-- 75 -->\n",
       "<g id=\"node76\" class=\"node\">\n",
       "<title>75</title>\n",
       "<path fill=\"#f4aae4\" stroke=\"black\" d=\"M11502.5,-425C11502.5,-425 11203.5,-425 11203.5,-425 11197.5,-425 11191.5,-419 11191.5,-413 11191.5,-413 11191.5,-354 11191.5,-354 11191.5,-348 11197.5,-342 11203.5,-342 11203.5,-342 11502.5,-342 11502.5,-342 11508.5,-342 11514.5,-348 11514.5,-354 11514.5,-354 11514.5,-413 11514.5,-413 11514.5,-419 11508.5,-425 11502.5,-425\"/>\n",
       "<text text-anchor=\"start\" x=\"11271.5\" y=\"-409.8\" font-family=\"helvetica\" font-size=\"14.00\">non_shiftable_load ≤ 0.014</text>\n",
       "<text text-anchor=\"start\" x=\"11305.5\" y=\"-394.8\" font-family=\"helvetica\" font-size=\"14.00\">entropy = 1.635</text>\n",
       "<text text-anchor=\"start\" x=\"11308\" y=\"-379.8\" font-family=\"helvetica\" font-size=\"14.00\">samples = 187</text>\n",
       "<text text-anchor=\"start\" x=\"11199.5\" y=\"-364.8\" font-family=\"helvetica\" font-size=\"14.00\">value = [27.316, 14.522, 51.269, 140.806, 316.113]</text>\n",
       "<text text-anchor=\"start\" x=\"11287.5\" y=\"-349.8\" font-family=\"helvetica\" font-size=\"14.00\">class = 100%_charge</text>\n",
       "</g>\n",
       "<!-- 59&#45;&gt;75 -->\n",
       "<g id=\"edge75\" class=\"edge\">\n",
       "<title>59-&gt;75</title>\n",
       "<path fill=\"none\" stroke=\"black\" d=\"M11239.37,-460.91C11253.81,-451.2 11269.33,-440.76 11284.13,-430.81\"/>\n",
       "<polygon fill=\"black\" stroke=\"black\" points=\"11286.39,-433.51 11292.74,-425.02 11282.49,-427.7 11286.39,-433.51\"/>\n",
       "</g>\n",
       "<!-- 61 -->\n",
       "<g id=\"node62\" class=\"node\">\n",
       "<title>61</title>\n",
       "<path fill=\"#7371ec\" stroke=\"black\" d=\"M9807,-306C9807,-306 9523,-306 9523,-306 9517,-306 9511,-300 9511,-294 9511,-294 9511,-235 9511,-235 9511,-229 9517,-223 9523,-223 9523,-223 9807,-223 9807,-223 9813,-223 9819,-229 9819,-235 9819,-235 9819,-294 9819,-294 9819,-300 9813,-306 9807,-306\"/>\n",
       "<text text-anchor=\"start\" x=\"9591\" y=\"-290.8\" font-family=\"helvetica\" font-size=\"14.00\">carbon_intensity ≤ 0.391</text>\n",
       "<text text-anchor=\"start\" x=\"9617.5\" y=\"-275.8\" font-family=\"helvetica\" font-size=\"14.00\">entropy = 1.239</text>\n",
       "<text text-anchor=\"start\" x=\"9620\" y=\"-260.8\" font-family=\"helvetica\" font-size=\"14.00\">samples = 203</text>\n",
       "<text text-anchor=\"start\" x=\"9519\" y=\"-245.8\" font-family=\"helvetica\" font-size=\"14.00\">value = [26.837, 24.376, 20.508, 459.15, 79.028]</text>\n",
       "<text text-anchor=\"start\" x=\"9603\" y=\"-230.8\" font-family=\"helvetica\" font-size=\"14.00\">class = 50%_charge</text>\n",
       "</g>\n",
       "<!-- 60&#45;&gt;61 -->\n",
       "<g id=\"edge61\" class=\"edge\">\n",
       "<title>60-&gt;61</title>\n",
       "<path fill=\"none\" stroke=\"black\" d=\"M10412.74,-360.9C10246.35,-339.67 9994.07,-307.49 9829.39,-286.47\"/>\n",
       "<polygon fill=\"black\" stroke=\"black\" points=\"9829.52,-282.96 9819.16,-285.17 9828.64,-289.91 9829.52,-282.96\"/>\n",
       "</g>\n",
       "<!-- 68 -->\n",
       "<g id=\"node69\" class=\"node\">\n",
       "<title>68</title>\n",
       "<path fill=\"#ebebfc\" stroke=\"black\" d=\"M10735.5,-306C10735.5,-306 10428.5,-306 10428.5,-306 10422.5,-306 10416.5,-300 10416.5,-294 10416.5,-294 10416.5,-235 10416.5,-235 10416.5,-229 10422.5,-223 10428.5,-223 10428.5,-223 10735.5,-223 10735.5,-223 10741.5,-223 10747.5,-229 10747.5,-235 10747.5,-235 10747.5,-294 10747.5,-294 10747.5,-300 10741.5,-306 10735.5,-306\"/>\n",
       "<text text-anchor=\"start\" x=\"10505.5\" y=\"-290.8\" font-family=\"helvetica\" font-size=\"14.00\">electricity_pricing ≤ 0.194</text>\n",
       "<text text-anchor=\"start\" x=\"10534.5\" y=\"-275.8\" font-family=\"helvetica\" font-size=\"14.00\">entropy = 2.154</text>\n",
       "<text text-anchor=\"start\" x=\"10537\" y=\"-260.8\" font-family=\"helvetica\" font-size=\"14.00\">samples = 788</text>\n",
       "<text text-anchor=\"start\" x=\"10424.5\" y=\"-245.8\" font-family=\"helvetica\" font-size=\"14.00\">value = [134.186, 129.14, 275.39, 348.954, 100.581]</text>\n",
       "<text text-anchor=\"start\" x=\"10520\" y=\"-230.8\" font-family=\"helvetica\" font-size=\"14.00\">class = 50%_charge</text>\n",
       "</g>\n",
       "<!-- 60&#45;&gt;68 -->\n",
       "<g id=\"edge68\" class=\"edge\">\n",
       "<title>60-&gt;68</title>\n",
       "<path fill=\"none\" stroke=\"black\" d=\"M10582,-341.91C10582,-333.65 10582,-324.86 10582,-316.3\"/>\n",
       "<polygon fill=\"black\" stroke=\"black\" points=\"10585.5,-316.02 10582,-306.02 10578.5,-316.02 10585.5,-316.02\"/>\n",
       "</g>\n",
       "<!-- 62 -->\n",
       "<g id=\"node63\" class=\"node\">\n",
       "<title>62</title>\n",
       "<path fill=\"#514ee8\" stroke=\"black\" d=\"M9324.5,-187C9324.5,-187 9077.5,-187 9077.5,-187 9071.5,-187 9065.5,-181 9065.5,-175 9065.5,-175 9065.5,-116 9065.5,-116 9065.5,-110 9071.5,-104 9077.5,-104 9077.5,-104 9324.5,-104 9324.5,-104 9330.5,-104 9336.5,-110 9336.5,-116 9336.5,-116 9336.5,-175 9336.5,-175 9336.5,-181 9330.5,-187 9324.5,-187\"/>\n",
       "<text text-anchor=\"start\" x=\"9119.5\" y=\"-171.8\" font-family=\"helvetica\" font-size=\"14.00\">non_shiftable_load ≤ 0.007</text>\n",
       "<text text-anchor=\"start\" x=\"9157\" y=\"-156.8\" font-family=\"helvetica\" font-size=\"14.00\">entropy = 0.64</text>\n",
       "<text text-anchor=\"start\" x=\"9160\" y=\"-141.8\" font-family=\"helvetica\" font-size=\"14.00\">samples = 60</text>\n",
       "<text text-anchor=\"start\" x=\"9073.5\" y=\"-126.8\" font-family=\"helvetica\" font-size=\"14.00\">value = [5.751, 7.261, 7.324, 177.538, 0.0]</text>\n",
       "<text text-anchor=\"start\" x=\"9139\" y=\"-111.8\" font-family=\"helvetica\" font-size=\"14.00\">class = 50%_charge</text>\n",
       "</g>\n",
       "<!-- 61&#45;&gt;62 -->\n",
       "<g id=\"edge62\" class=\"edge\">\n",
       "<title>61-&gt;62</title>\n",
       "<path fill=\"none\" stroke=\"black\" d=\"M9510.82,-224.62C9457.92,-211.28 9398.92,-196.41 9346.72,-183.24\"/>\n",
       "<polygon fill=\"black\" stroke=\"black\" points=\"9347.27,-179.77 9336.72,-180.72 9345.56,-186.56 9347.27,-179.77\"/>\n",
       "</g>\n",
       "<!-- 65 -->\n",
       "<g id=\"node66\" class=\"node\">\n",
       "<title>65</title>\n",
       "<path fill=\"#8887ef\" stroke=\"black\" d=\"M9811,-187C9811,-187 9519,-187 9519,-187 9513,-187 9507,-181 9507,-175 9507,-175 9507,-116 9507,-116 9507,-110 9513,-104 9519,-104 9519,-104 9811,-104 9811,-104 9817,-104 9823,-110 9823,-116 9823,-116 9823,-175 9823,-175 9823,-181 9817,-187 9811,-187\"/>\n",
       "<text text-anchor=\"start\" x=\"9583.5\" y=\"-171.8\" font-family=\"helvetica\" font-size=\"14.00\">non_shiftable_load ≤ 0.006</text>\n",
       "<text text-anchor=\"start\" x=\"9617.5\" y=\"-156.8\" font-family=\"helvetica\" font-size=\"14.00\">entropy = 1.401</text>\n",
       "<text text-anchor=\"start\" x=\"9620\" y=\"-141.8\" font-family=\"helvetica\" font-size=\"14.00\">samples = 143</text>\n",
       "<text text-anchor=\"start\" x=\"9515\" y=\"-126.8\" font-family=\"helvetica\" font-size=\"14.00\">value = [21.086, 17.115, 13.184, 281.612, 79.028]</text>\n",
       "<text text-anchor=\"start\" x=\"9603\" y=\"-111.8\" font-family=\"helvetica\" font-size=\"14.00\">class = 50%_charge</text>\n",
       "</g>\n",
       "<!-- 61&#45;&gt;65 -->\n",
       "<g id=\"edge65\" class=\"edge\">\n",
       "<title>61-&gt;65</title>\n",
       "<path fill=\"none\" stroke=\"black\" d=\"M9665,-222.91C9665,-214.65 9665,-205.86 9665,-197.3\"/>\n",
       "<polygon fill=\"black\" stroke=\"black\" points=\"9668.5,-197.02 9665,-187.02 9661.5,-197.02 9668.5,-197.02\"/>\n",
       "</g>\n",
       "<!-- 63 -->\n",
       "<g id=\"node64\" class=\"node\">\n",
       "<title>63</title>\n",
       "<path fill=\"#4643e6\" stroke=\"black\" d=\"M9042.5,-68C9042.5,-68 8803.5,-68 8803.5,-68 8797.5,-68 8791.5,-62 8791.5,-56 8791.5,-56 8791.5,-12 8791.5,-12 8791.5,-6 8797.5,0 8803.5,0 8803.5,0 9042.5,0 9042.5,0 9048.5,0 9054.5,-6 9054.5,-12 9054.5,-12 9054.5,-56 9054.5,-56 9054.5,-62 9048.5,-68 9042.5,-68\"/>\n",
       "<text text-anchor=\"start\" x=\"8879\" y=\"-52.8\" font-family=\"helvetica\" font-size=\"14.00\">entropy = 0.37</text>\n",
       "<text text-anchor=\"start\" x=\"8882\" y=\"-37.8\" font-family=\"helvetica\" font-size=\"14.00\">samples = 36</text>\n",
       "<text text-anchor=\"start\" x=\"8799.5\" y=\"-22.8\" font-family=\"helvetica\" font-size=\"14.00\">value = [2.875, 2.075, 2.93, 146.928, 0.0]</text>\n",
       "<text text-anchor=\"start\" x=\"8861\" y=\"-7.8\" font-family=\"helvetica\" font-size=\"14.00\">class = 50%_charge</text>\n",
       "</g>\n",
       "<!-- 62&#45;&gt;63 -->\n",
       "<g id=\"edge63\" class=\"edge\">\n",
       "<title>62-&gt;63</title>\n",
       "<path fill=\"none\" stroke=\"black\" d=\"M9097.88,-103.88C9071.18,-93.37 9042.58,-82.1 9016.41,-71.79\"/>\n",
       "<polygon fill=\"black\" stroke=\"black\" points=\"9017.48,-68.45 9006.89,-68.04 9014.91,-74.96 9017.48,-68.45\"/>\n",
       "</g>\n",
       "<!-- 64 -->\n",
       "<g id=\"node65\" class=\"node\">\n",
       "<title>64</title>\n",
       "<path fill=\"#7c7aee\" stroke=\"black\" d=\"M9317,-68C9317,-68 9085,-68 9085,-68 9079,-68 9073,-62 9073,-56 9073,-56 9073,-12 9073,-12 9073,-6 9079,0 9085,0 9085,0 9317,0 9317,0 9323,0 9329,-6 9329,-12 9329,-12 9329,-56 9329,-56 9329,-62 9323,-68 9317,-68\"/>\n",
       "<text text-anchor=\"start\" x=\"9153.5\" y=\"-52.8\" font-family=\"helvetica\" font-size=\"14.00\">entropy = 1.315</text>\n",
       "<text text-anchor=\"start\" x=\"9160\" y=\"-37.8\" font-family=\"helvetica\" font-size=\"14.00\">samples = 24</text>\n",
       "<text text-anchor=\"start\" x=\"9081\" y=\"-22.8\" font-family=\"helvetica\" font-size=\"14.00\">value = [2.875, 5.186, 4.395, 30.61, 0.0]</text>\n",
       "<text text-anchor=\"start\" x=\"9139\" y=\"-7.8\" font-family=\"helvetica\" font-size=\"14.00\">class = 50%_charge</text>\n",
       "</g>\n",
       "<!-- 62&#45;&gt;64 -->\n",
       "<g id=\"edge64\" class=\"edge\">\n",
       "<title>62-&gt;64</title>\n",
       "<path fill=\"none\" stroke=\"black\" d=\"M9201,-103.73C9201,-95.52 9201,-86.86 9201,-78.56\"/>\n",
       "<polygon fill=\"black\" stroke=\"black\" points=\"9204.5,-78.3 9201,-68.3 9197.5,-78.3 9204.5,-78.3\"/>\n",
       "</g>\n",
       "<!-- 66 -->\n",
       "<g id=\"node67\" class=\"node\">\n",
       "<title>66</title>\n",
       "<path fill=\"#7876ed\" stroke=\"black\" d=\"M9628.5,-68C9628.5,-68 9359.5,-68 9359.5,-68 9353.5,-68 9347.5,-62 9347.5,-56 9347.5,-56 9347.5,-12 9347.5,-12 9347.5,-6 9353.5,0 9359.5,0 9359.5,0 9628.5,0 9628.5,0 9634.5,0 9640.5,-6 9640.5,-12 9640.5,-12 9640.5,-56 9640.5,-56 9640.5,-62 9634.5,-68 9628.5,-68\"/>\n",
       "<text text-anchor=\"start\" x=\"9446.5\" y=\"-52.8\" font-family=\"helvetica\" font-size=\"14.00\">entropy = 0.957</text>\n",
       "<text text-anchor=\"start\" x=\"9453\" y=\"-37.8\" font-family=\"helvetica\" font-size=\"14.00\">samples = 47</text>\n",
       "<text text-anchor=\"start\" x=\"9355.5\" y=\"-22.8\" font-family=\"helvetica\" font-size=\"14.00\">value = [0.479, 4.668, 1.465, 177.538, 50.291]</text>\n",
       "<text text-anchor=\"start\" x=\"9432\" y=\"-7.8\" font-family=\"helvetica\" font-size=\"14.00\">class = 50%_charge</text>\n",
       "</g>\n",
       "<!-- 65&#45;&gt;66 -->\n",
       "<g id=\"edge66\" class=\"edge\">\n",
       "<title>65-&gt;66</title>\n",
       "<path fill=\"none\" stroke=\"black\" d=\"M9601.33,-103.73C9586.01,-93.92 9569.68,-83.46 9554.51,-73.75\"/>\n",
       "<polygon fill=\"black\" stroke=\"black\" points=\"9556.04,-70.57 9545.73,-68.13 9552.26,-76.47 9556.04,-70.57\"/>\n",
       "</g>\n",
       "<!-- 67 -->\n",
       "<g id=\"node68\" class=\"node\">\n",
       "<title>67</title>\n",
       "<path fill=\"#9c9bf2\" stroke=\"black\" d=\"M9963,-68C9963,-68 9671,-68 9671,-68 9665,-68 9659,-62 9659,-56 9659,-56 9659,-12 9659,-12 9659,-6 9665,0 9671,0 9671,0 9963,0 9963,0 9969,0 9975,-6 9975,-12 9975,-12 9975,-56 9975,-56 9975,-62 9969,-68 9963,-68\"/>\n",
       "<text text-anchor=\"start\" x=\"9769.5\" y=\"-52.8\" font-family=\"helvetica\" font-size=\"14.00\">entropy = 1.765</text>\n",
       "<text text-anchor=\"start\" x=\"9776\" y=\"-37.8\" font-family=\"helvetica\" font-size=\"14.00\">samples = 96</text>\n",
       "<text text-anchor=\"start\" x=\"9667\" y=\"-22.8\" font-family=\"helvetica\" font-size=\"14.00\">value = [20.607, 12.447, 11.719, 104.074, 28.738]</text>\n",
       "<text text-anchor=\"start\" x=\"9755\" y=\"-7.8\" font-family=\"helvetica\" font-size=\"14.00\">class = 50%_charge</text>\n",
       "</g>\n",
       "<!-- 65&#45;&gt;67 -->\n",
       "<g id=\"edge67\" class=\"edge\">\n",
       "<title>65-&gt;67</title>\n",
       "<path fill=\"none\" stroke=\"black\" d=\"M9721.6,-103.73C9735.02,-94.06 9749.31,-83.77 9762.62,-74.17\"/>\n",
       "<polygon fill=\"black\" stroke=\"black\" points=\"9764.71,-76.98 9770.78,-68.3 9760.62,-71.3 9764.71,-76.98\"/>\n",
       "</g>\n",
       "<!-- 69 -->\n",
       "<g id=\"node70\" class=\"node\">\n",
       "<title>69</title>\n",
       "<path fill=\"#a4a3f3\" stroke=\"black\" d=\"M10548,-187C10548,-187 10286,-187 10286,-187 10280,-187 10274,-181 10274,-175 10274,-175 10274,-116 10274,-116 10274,-110 10280,-104 10286,-104 10286,-104 10548,-104 10548,-104 10554,-104 10560,-110 10560,-116 10560,-116 10560,-175 10560,-175 10560,-181 10554,-187 10548,-187\"/>\n",
       "<text text-anchor=\"start\" x=\"10308.5\" y=\"-171.8\" font-family=\"helvetica\" font-size=\"14.00\">net_electricity_consumption ≤ 0.293</text>\n",
       "<text text-anchor=\"start\" x=\"10369.5\" y=\"-156.8\" font-family=\"helvetica\" font-size=\"14.00\">entropy = 1.505</text>\n",
       "<text text-anchor=\"start\" x=\"10376\" y=\"-141.8\" font-family=\"helvetica\" font-size=\"14.00\">samples = 44</text>\n",
       "<text text-anchor=\"start\" x=\"10282\" y=\"-126.8\" font-family=\"helvetica\" font-size=\"14.00\">value = [1.917, 1.556, 24.902, 91.83, 35.922]</text>\n",
       "<text text-anchor=\"start\" x=\"10355\" y=\"-111.8\" font-family=\"helvetica\" font-size=\"14.00\">class = 50%_charge</text>\n",
       "</g>\n",
       "<!-- 68&#45;&gt;69 -->\n",
       "<g id=\"edge69\" class=\"edge\">\n",
       "<title>68-&gt;69</title>\n",
       "<path fill=\"none\" stroke=\"black\" d=\"M10524.75,-222.91C10511.06,-213.2 10496.34,-202.76 10482.31,-192.81\"/>\n",
       "<polygon fill=\"black\" stroke=\"black\" points=\"10484.33,-189.95 10474.14,-187.02 10480.28,-195.66 10484.33,-189.95\"/>\n",
       "</g>\n",
       "<!-- 72 -->\n",
       "<g id=\"node73\" class=\"node\">\n",
       "<title>72</title>\n",
       "<path fill=\"#fdfdff\" stroke=\"black\" d=\"M10904,-187C10904,-187 10590,-187 10590,-187 10584,-187 10578,-181 10578,-175 10578,-175 10578,-116 10578,-116 10578,-110 10584,-104 10590,-104 10590,-104 10904,-104 10904,-104 10910,-104 10916,-110 10916,-116 10916,-116 10916,-175 10916,-175 10916,-181 10910,-187 10904,-187\"/>\n",
       "<text text-anchor=\"start\" x=\"10638.5\" y=\"-171.8\" font-family=\"helvetica\" font-size=\"14.00\">net_electricity_consumption ≤ 0.318</text>\n",
       "<text text-anchor=\"start\" x=\"10699.5\" y=\"-156.8\" font-family=\"helvetica\" font-size=\"14.00\">entropy = 2.168</text>\n",
       "<text text-anchor=\"start\" x=\"10702\" y=\"-141.8\" font-family=\"helvetica\" font-size=\"14.00\">samples = 744</text>\n",
       "<text text-anchor=\"start\" x=\"10586\" y=\"-126.8\" font-family=\"helvetica\" font-size=\"14.00\">value = [132.269, 127.584, 250.487, 257.124, 64.659]</text>\n",
       "<text text-anchor=\"start\" x=\"10685\" y=\"-111.8\" font-family=\"helvetica\" font-size=\"14.00\">class = 50%_charge</text>\n",
       "</g>\n",
       "<!-- 68&#45;&gt;72 -->\n",
       "<g id=\"edge72\" class=\"edge\">\n",
       "<title>68-&gt;72</title>\n",
       "<path fill=\"none\" stroke=\"black\" d=\"M10639.25,-222.91C10652.94,-213.2 10667.66,-202.76 10681.69,-192.81\"/>\n",
       "<polygon fill=\"black\" stroke=\"black\" points=\"10683.72,-195.66 10689.86,-187.02 10679.67,-189.95 10683.72,-195.66\"/>\n",
       "</g>\n",
       "<!-- 70 -->\n",
       "<g id=\"node71\" class=\"node\">\n",
       "<title>70</title>\n",
       "<path fill=\"#83efdb\" stroke=\"black\" d=\"M10244.5,-68C10244.5,-68 10005.5,-68 10005.5,-68 9999.5,-68 9993.5,-62 9993.5,-56 9993.5,-56 9993.5,-12 9993.5,-12 9993.5,-6 9999.5,0 10005.5,0 10005.5,0 10244.5,0 10244.5,0 10250.5,0 10256.5,-6 10256.5,-12 10256.5,-12 10256.5,-56 10256.5,-56 10256.5,-62 10250.5,-68 10244.5,-68\"/>\n",
       "<text text-anchor=\"start\" x=\"10077.5\" y=\"-52.8\" font-family=\"helvetica\" font-size=\"14.00\">entropy = 1.215</text>\n",
       "<text text-anchor=\"start\" x=\"10084\" y=\"-37.8\" font-family=\"helvetica\" font-size=\"14.00\">samples = 20</text>\n",
       "<text text-anchor=\"start\" x=\"10001.5\" y=\"-22.8\" font-family=\"helvetica\" font-size=\"14.00\">value = [1.438, 1.037, 20.508, 6.122, 0.0]</text>\n",
       "<text text-anchor=\"start\" x=\"10091\" y=\"-7.8\" font-family=\"helvetica\" font-size=\"14.00\">class = idle</text>\n",
       "</g>\n",
       "<!-- 69&#45;&gt;70 -->\n",
       "<g id=\"edge70\" class=\"edge\">\n",
       "<title>69-&gt;70</title>\n",
       "<path fill=\"none\" stroke=\"black\" d=\"M10308.68,-103.88C10280.52,-93.32 10250.34,-82 10222.76,-71.66\"/>\n",
       "<polygon fill=\"black\" stroke=\"black\" points=\"10223.71,-68.28 10213.12,-68.04 10221.25,-74.83 10223.71,-68.28\"/>\n",
       "</g>\n",
       "<!-- 71 -->\n",
       "<g id=\"node72\" class=\"node\">\n",
       "<title>71</title>\n",
       "<path fill=\"#9493f1\" stroke=\"black\" d=\"M10549,-68C10549,-68 10287,-68 10287,-68 10281,-68 10275,-62 10275,-56 10275,-56 10275,-12 10275,-12 10275,-6 10281,0 10287,0 10287,0 10549,0 10549,0 10555,0 10561,-6 10561,-12 10561,-12 10561,-56 10561,-56 10561,-62 10555,-68 10549,-68\"/>\n",
       "<text text-anchor=\"start\" x=\"10370.5\" y=\"-52.8\" font-family=\"helvetica\" font-size=\"14.00\">entropy = 1.129</text>\n",
       "<text text-anchor=\"start\" x=\"10377\" y=\"-37.8\" font-family=\"helvetica\" font-size=\"14.00\">samples = 24</text>\n",
       "<text text-anchor=\"start\" x=\"10283\" y=\"-22.8\" font-family=\"helvetica\" font-size=\"14.00\">value = [0.479, 0.519, 4.395, 85.708, 35.922]</text>\n",
       "<text text-anchor=\"start\" x=\"10356\" y=\"-7.8\" font-family=\"helvetica\" font-size=\"14.00\">class = 50%_charge</text>\n",
       "</g>\n",
       "<!-- 69&#45;&gt;71 -->\n",
       "<g id=\"edge71\" class=\"edge\">\n",
       "<title>69-&gt;71</title>\n",
       "<path fill=\"none\" stroke=\"black\" d=\"M10417.37,-103.73C10417.45,-95.52 10417.53,-86.86 10417.6,-78.56\"/>\n",
       "<polygon fill=\"black\" stroke=\"black\" points=\"10421.1,-78.33 10417.7,-68.3 10414.1,-78.27 10421.1,-78.33\"/>\n",
       "</g>\n",
       "<!-- 73 -->\n",
       "<g id=\"node74\" class=\"node\">\n",
       "<title>73</title>\n",
       "<path fill=\"#e0fbf6\" stroke=\"black\" d=\"M10898.5,-68C10898.5,-68 10591.5,-68 10591.5,-68 10585.5,-68 10579.5,-62 10579.5,-56 10579.5,-56 10579.5,-12 10579.5,-12 10579.5,-6 10585.5,0 10591.5,0 10591.5,0 10898.5,0 10898.5,0 10904.5,0 10910.5,-6 10910.5,-12 10910.5,-12 10910.5,-56 10910.5,-56 10910.5,-62 10904.5,-68 10898.5,-68\"/>\n",
       "<text text-anchor=\"start\" x=\"10697.5\" y=\"-52.8\" font-family=\"helvetica\" font-size=\"14.00\">entropy = 2.092</text>\n",
       "<text text-anchor=\"start\" x=\"10700\" y=\"-37.8\" font-family=\"helvetica\" font-size=\"14.00\">samples = 558</text>\n",
       "<text text-anchor=\"start\" x=\"10587.5\" y=\"-22.8\" font-family=\"helvetica\" font-size=\"14.00\">value = [107.828, 88.687, 200.683, 134.684, 21.553]</text>\n",
       "<text text-anchor=\"start\" x=\"10711\" y=\"-7.8\" font-family=\"helvetica\" font-size=\"14.00\">class = idle</text>\n",
       "</g>\n",
       "<!-- 72&#45;&gt;73 -->\n",
       "<g id=\"edge73\" class=\"edge\">\n",
       "<title>72-&gt;73</title>\n",
       "<path fill=\"none\" stroke=\"black\" d=\"M10746.26,-103.73C10746.11,-95.52 10745.95,-86.86 10745.8,-78.56\"/>\n",
       "<polygon fill=\"black\" stroke=\"black\" points=\"10749.29,-78.23 10745.61,-68.3 10742.29,-78.36 10749.29,-78.23\"/>\n",
       "</g>\n",
       "<!-- 74 -->\n",
       "<g id=\"node75\" class=\"node\">\n",
       "<title>74</title>\n",
       "<path fill=\"#c1c0f7\" stroke=\"black\" d=\"M11225,-68C11225,-68 10941,-68 10941,-68 10935,-68 10929,-62 10929,-56 10929,-56 10929,-12 10929,-12 10929,-6 10935,0 10941,0 10941,0 11225,0 11225,0 11231,0 11237,-6 11237,-12 11237,-12 11237,-56 11237,-56 11237,-62 11231,-68 11225,-68\"/>\n",
       "<text text-anchor=\"start\" x=\"11035.5\" y=\"-52.8\" font-family=\"helvetica\" font-size=\"14.00\">entropy = 2.086</text>\n",
       "<text text-anchor=\"start\" x=\"11038\" y=\"-37.8\" font-family=\"helvetica\" font-size=\"14.00\">samples = 186</text>\n",
       "<text text-anchor=\"start\" x=\"10937\" y=\"-22.8\" font-family=\"helvetica\" font-size=\"14.00\">value = [24.441, 38.898, 49.805, 122.44, 43.106]</text>\n",
       "<text text-anchor=\"start\" x=\"11021\" y=\"-7.8\" font-family=\"helvetica\" font-size=\"14.00\">class = 50%_charge</text>\n",
       "</g>\n",
       "<!-- 72&#45;&gt;74 -->\n",
       "<g id=\"edge74\" class=\"edge\">\n",
       "<title>72-&gt;74</title>\n",
       "<path fill=\"none\" stroke=\"black\" d=\"M10871.64,-103.88C10904.47,-93.18 10939.68,-81.71 10971.76,-71.25\"/>\n",
       "<polygon fill=\"black\" stroke=\"black\" points=\"10973.18,-74.47 10981.61,-68.04 10971.01,-67.81 10973.18,-74.47\"/>\n",
       "</g>\n",
       "<!-- 76 -->\n",
       "<g id=\"node77\" class=\"node\">\n",
       "<title>76</title>\n",
       "<path fill=\"#f3a2e1\" stroke=\"black\" d=\"M11476.5,-306C11476.5,-306 11229.5,-306 11229.5,-306 11223.5,-306 11217.5,-300 11217.5,-294 11217.5,-294 11217.5,-235 11217.5,-235 11217.5,-229 11223.5,-223 11229.5,-223 11229.5,-223 11476.5,-223 11476.5,-223 11482.5,-223 11488.5,-229 11488.5,-235 11488.5,-235 11488.5,-294 11488.5,-294 11488.5,-300 11482.5,-306 11476.5,-306\"/>\n",
       "<text text-anchor=\"start\" x=\"11276.5\" y=\"-290.8\" font-family=\"helvetica\" font-size=\"14.00\">electricity_pricing ≤ 0.141</text>\n",
       "<text text-anchor=\"start\" x=\"11305.5\" y=\"-275.8\" font-family=\"helvetica\" font-size=\"14.00\">entropy = 1.038</text>\n",
       "<text text-anchor=\"start\" x=\"11312\" y=\"-260.8\" font-family=\"helvetica\" font-size=\"14.00\">samples = 41</text>\n",
       "<text text-anchor=\"start\" x=\"11225.5\" y=\"-245.8\" font-family=\"helvetica\" font-size=\"14.00\">value = [0.958, 0.0, 2.93, 85.708, 165.241]</text>\n",
       "<text text-anchor=\"start\" x=\"11287.5\" y=\"-230.8\" font-family=\"helvetica\" font-size=\"14.00\">class = 100%_charge</text>\n",
       "</g>\n",
       "<!-- 75&#45;&gt;76 -->\n",
       "<g id=\"edge76\" class=\"edge\">\n",
       "<title>75-&gt;76</title>\n",
       "<path fill=\"none\" stroke=\"black\" d=\"M11353,-341.91C11353,-333.65 11353,-324.86 11353,-316.3\"/>\n",
       "<polygon fill=\"black\" stroke=\"black\" points=\"11356.5,-316.02 11353,-306.02 11349.5,-316.02 11356.5,-316.02\"/>\n",
       "</g>\n",
       "<!-- 81 -->\n",
       "<g id=\"node82\" class=\"node\">\n",
       "<title>81</title>\n",
       "<path fill=\"#f5b0e6\" stroke=\"black\" d=\"M12157,-306C12157,-306 11873,-306 11873,-306 11867,-306 11861,-300 11861,-294 11861,-294 11861,-235 11861,-235 11861,-229 11867,-223 11873,-223 11873,-223 12157,-223 12157,-223 12163,-223 12169,-229 12169,-235 12169,-235 12169,-294 12169,-294 12169,-300 12163,-306 12157,-306\"/>\n",
       "<text text-anchor=\"start\" x=\"11942.5\" y=\"-290.8\" font-family=\"helvetica\" font-size=\"14.00\">electricity_pricing ≤ 0.25</text>\n",
       "<text text-anchor=\"start\" x=\"11967.5\" y=\"-275.8\" font-family=\"helvetica\" font-size=\"14.00\">entropy = 1.899</text>\n",
       "<text text-anchor=\"start\" x=\"11970\" y=\"-260.8\" font-family=\"helvetica\" font-size=\"14.00\">samples = 146</text>\n",
       "<text text-anchor=\"start\" x=\"11869\" y=\"-245.8\" font-family=\"helvetica\" font-size=\"14.00\">value = [26.358, 14.522, 48.34, 55.098, 150.872]</text>\n",
       "<text text-anchor=\"start\" x=\"11949.5\" y=\"-230.8\" font-family=\"helvetica\" font-size=\"14.00\">class = 100%_charge</text>\n",
       "</g>\n",
       "<!-- 75&#45;&gt;81 -->\n",
       "<g id=\"edge81\" class=\"edge\">\n",
       "<title>75-&gt;81</title>\n",
       "<path fill=\"none\" stroke=\"black\" d=\"M11514.52,-353.95C11616.57,-335.92 11748.05,-312.68 11850.64,-294.55\"/>\n",
       "<polygon fill=\"black\" stroke=\"black\" points=\"11851.56,-297.94 11860.79,-292.75 11850.34,-291.05 11851.56,-297.94\"/>\n",
       "</g>\n",
       "<!-- 77 -->\n",
       "<g id=\"node78\" class=\"node\">\n",
       "<title>77</title>\n",
       "<path fill=\"#b3b2f5\" stroke=\"black\" d=\"M11334,-179.5C11334,-179.5 11102,-179.5 11102,-179.5 11096,-179.5 11090,-173.5 11090,-167.5 11090,-167.5 11090,-123.5 11090,-123.5 11090,-117.5 11096,-111.5 11102,-111.5 11102,-111.5 11334,-111.5 11334,-111.5 11340,-111.5 11346,-117.5 11346,-123.5 11346,-123.5 11346,-167.5 11346,-167.5 11346,-173.5 11340,-179.5 11334,-179.5\"/>\n",
       "<text text-anchor=\"start\" x=\"11174\" y=\"-164.3\" font-family=\"helvetica\" font-size=\"14.00\">entropy = 1.18</text>\n",
       "<text text-anchor=\"start\" x=\"11177\" y=\"-149.3\" font-family=\"helvetica\" font-size=\"14.00\">samples = 19</text>\n",
       "<text text-anchor=\"start\" x=\"11098\" y=\"-134.3\" font-family=\"helvetica\" font-size=\"14.00\">value = [0.958, 0.0, 2.93, 61.22, 35.922]</text>\n",
       "<text text-anchor=\"start\" x=\"11156\" y=\"-119.3\" font-family=\"helvetica\" font-size=\"14.00\">class = 50%_charge</text>\n",
       "</g>\n",
       "<!-- 76&#45;&gt;77 -->\n",
       "<g id=\"edge77\" class=\"edge\">\n",
       "<title>76-&gt;77</title>\n",
       "<path fill=\"none\" stroke=\"black\" d=\"M11306.16,-222.91C11292.54,-211.1 11277.67,-198.22 11264.1,-186.45\"/>\n",
       "<polygon fill=\"black\" stroke=\"black\" points=\"11266.12,-183.57 11256.27,-179.67 11261.53,-188.86 11266.12,-183.57\"/>\n",
       "</g>\n",
       "<!-- 78 -->\n",
       "<g id=\"node79\" class=\"node\">\n",
       "<title>78</title>\n",
       "<path fill=\"#ea5ecc\" stroke=\"black\" d=\"M11600,-187C11600,-187 11376,-187 11376,-187 11370,-187 11364,-181 11364,-175 11364,-175 11364,-116 11364,-116 11364,-110 11370,-104 11376,-104 11376,-104 11600,-104 11600,-104 11606,-104 11612,-110 11612,-116 11612,-116 11612,-175 11612,-175 11612,-181 11606,-187 11600,-187\"/>\n",
       "<text text-anchor=\"start\" x=\"11414\" y=\"-171.8\" font-family=\"helvetica\" font-size=\"14.00\">carbon_intensity ≤ 0.689</text>\n",
       "<text text-anchor=\"start\" x=\"11440.5\" y=\"-156.8\" font-family=\"helvetica\" font-size=\"14.00\">entropy = 0.632</text>\n",
       "<text text-anchor=\"start\" x=\"11447\" y=\"-141.8\" font-family=\"helvetica\" font-size=\"14.00\">samples = 22</text>\n",
       "<text text-anchor=\"start\" x=\"11372\" y=\"-126.8\" font-family=\"helvetica\" font-size=\"14.00\">value = [0.0, 0.0, 0.0, 24.488, 129.319]</text>\n",
       "<text text-anchor=\"start\" x=\"11422.5\" y=\"-111.8\" font-family=\"helvetica\" font-size=\"14.00\">class = 100%_charge</text>\n",
       "</g>\n",
       "<!-- 76&#45;&gt;78 -->\n",
       "<g id=\"edge78\" class=\"edge\">\n",
       "<title>76-&gt;78</title>\n",
       "<path fill=\"none\" stroke=\"black\" d=\"M11399.84,-222.91C11410.73,-213.47 11422.41,-203.34 11433.6,-193.65\"/>\n",
       "<polygon fill=\"black\" stroke=\"black\" points=\"11435.98,-196.22 11441.25,-187.02 11431.4,-190.93 11435.98,-196.22\"/>\n",
       "</g>\n",
       "<!-- 79 -->\n",
       "<g id=\"node80\" class=\"node\">\n",
       "<title>79</title>\n",
       "<path fill=\"#e539c0\" stroke=\"black\" d=\"M11461,-68C11461,-68 11267,-68 11267,-68 11261,-68 11255,-62 11255,-56 11255,-56 11255,-12 11255,-12 11255,-6 11261,0 11267,0 11267,0 11461,0 11461,0 11467,0 11473,-6 11473,-12 11473,-12 11473,-56 11473,-56 11473,-62 11467,-68 11461,-68\"/>\n",
       "<text text-anchor=\"start\" x=\"11324\" y=\"-52.8\" font-family=\"helvetica\" font-size=\"14.00\">entropy = 0.0</text>\n",
       "<text text-anchor=\"start\" x=\"11323\" y=\"-37.8\" font-family=\"helvetica\" font-size=\"14.00\">samples = 11</text>\n",
       "<text text-anchor=\"start\" x=\"11263\" y=\"-22.8\" font-family=\"helvetica\" font-size=\"14.00\">value = [0.0, 0.0, 0.0, 0.0, 79.028]</text>\n",
       "<text text-anchor=\"start\" x=\"11298.5\" y=\"-7.8\" font-family=\"helvetica\" font-size=\"14.00\">class = 100%_charge</text>\n",
       "</g>\n",
       "<!-- 78&#45;&gt;79 -->\n",
       "<g id=\"edge79\" class=\"edge\">\n",
       "<title>78-&gt;79</title>\n",
       "<path fill=\"none\" stroke=\"black\" d=\"M11441.83,-103.73C11431.19,-94.33 11419.88,-84.35 11409.28,-74.99\"/>\n",
       "<polygon fill=\"black\" stroke=\"black\" points=\"11411.52,-72.3 11401.71,-68.3 11406.89,-77.54 11411.52,-72.3\"/>\n",
       "</g>\n",
       "<!-- 80 -->\n",
       "<g id=\"node81\" class=\"node\">\n",
       "<title>80</title>\n",
       "<path fill=\"#f299df\" stroke=\"black\" d=\"M11720.5,-68C11720.5,-68 11503.5,-68 11503.5,-68 11497.5,-68 11491.5,-62 11491.5,-56 11491.5,-56 11491.5,-12 11491.5,-12 11491.5,-6 11497.5,0 11503.5,0 11503.5,0 11720.5,0 11720.5,0 11726.5,0 11732.5,-6 11732.5,-12 11732.5,-12 11732.5,-56 11732.5,-56 11732.5,-62 11726.5,-68 11720.5,-68\"/>\n",
       "<text text-anchor=\"start\" x=\"11564.5\" y=\"-52.8\" font-family=\"helvetica\" font-size=\"14.00\">entropy = 0.912</text>\n",
       "<text text-anchor=\"start\" x=\"11571\" y=\"-37.8\" font-family=\"helvetica\" font-size=\"14.00\">samples = 11</text>\n",
       "<text text-anchor=\"start\" x=\"11499.5\" y=\"-22.8\" font-family=\"helvetica\" font-size=\"14.00\">value = [0.0, 0.0, 0.0, 24.488, 50.291]</text>\n",
       "<text text-anchor=\"start\" x=\"11546.5\" y=\"-7.8\" font-family=\"helvetica\" font-size=\"14.00\">class = 100%_charge</text>\n",
       "</g>\n",
       "<!-- 78&#45;&gt;80 -->\n",
       "<g id=\"edge80\" class=\"edge\">\n",
       "<title>78-&gt;80</title>\n",
       "<path fill=\"none\" stroke=\"black\" d=\"M11534.17,-103.73C11544.81,-94.33 11556.12,-84.35 11566.72,-74.99\"/>\n",
       "<polygon fill=\"black\" stroke=\"black\" points=\"11569.11,-77.54 11574.29,-68.3 11564.48,-72.3 11569.11,-77.54\"/>\n",
       "</g>\n",
       "<!-- 82 -->\n",
       "<g id=\"node83\" class=\"node\">\n",
       "<title>82</title>\n",
       "<path fill=\"#f29de0\" stroke=\"black\" d=\"M12153.5,-187C12153.5,-187 11876.5,-187 11876.5,-187 11870.5,-187 11864.5,-181 11864.5,-175 11864.5,-175 11864.5,-116 11864.5,-116 11864.5,-110 11870.5,-104 11876.5,-104 11876.5,-104 12153.5,-104 12153.5,-104 12159.5,-104 12165.5,-110 12165.5,-116 12165.5,-116 12165.5,-175 12165.5,-175 12165.5,-181 12159.5,-187 12153.5,-187\"/>\n",
       "<text text-anchor=\"start\" x=\"11941\" y=\"-171.8\" font-family=\"helvetica\" font-size=\"14.00\">carbon_intensity ≤ 0.348</text>\n",
       "<text text-anchor=\"start\" x=\"11971\" y=\"-156.8\" font-family=\"helvetica\" font-size=\"14.00\">entropy = 1.42</text>\n",
       "<text text-anchor=\"start\" x=\"11974\" y=\"-141.8\" font-family=\"helvetica\" font-size=\"14.00\">samples = 56</text>\n",
       "<text text-anchor=\"start\" x=\"11872.5\" y=\"-126.8\" font-family=\"helvetica\" font-size=\"14.00\">value = [6.709, 4.149, 10.254, 55.098, 129.319]</text>\n",
       "<text text-anchor=\"start\" x=\"11949.5\" y=\"-111.8\" font-family=\"helvetica\" font-size=\"14.00\">class = 100%_charge</text>\n",
       "</g>\n",
       "<!-- 81&#45;&gt;82 -->\n",
       "<g id=\"edge82\" class=\"edge\">\n",
       "<title>81-&gt;82</title>\n",
       "<path fill=\"none\" stroke=\"black\" d=\"M12015,-222.91C12015,-214.65 12015,-205.86 12015,-197.3\"/>\n",
       "<polygon fill=\"black\" stroke=\"black\" points=\"12018.5,-197.02 12015,-187.02 12011.5,-197.02 12018.5,-197.02\"/>\n",
       "</g>\n",
       "<!-- 85 -->\n",
       "<g id=\"node86\" class=\"node\">\n",
       "<title>85</title>\n",
       "<path fill=\"#cff9f1\" stroke=\"black\" d=\"M12552,-187C12552,-187 12290,-187 12290,-187 12284,-187 12278,-181 12278,-175 12278,-175 12278,-116 12278,-116 12278,-110 12284,-104 12290,-104 12290,-104 12552,-104 12552,-104 12558,-104 12564,-110 12564,-116 12564,-116 12564,-175 12564,-175 12564,-181 12558,-187 12552,-187\"/>\n",
       "<text text-anchor=\"start\" x=\"12344.5\" y=\"-171.8\" font-family=\"helvetica\" font-size=\"14.00\">electricity_pricing ≤ 0.361</text>\n",
       "<text text-anchor=\"start\" x=\"12373.5\" y=\"-156.8\" font-family=\"helvetica\" font-size=\"14.00\">entropy = 1.859</text>\n",
       "<text text-anchor=\"start\" x=\"12380\" y=\"-141.8\" font-family=\"helvetica\" font-size=\"14.00\">samples = 90</text>\n",
       "<text text-anchor=\"start\" x=\"12286\" y=\"-126.8\" font-family=\"helvetica\" font-size=\"14.00\">value = [19.649, 10.373, 38.086, 0.0, 21.553]</text>\n",
       "<text text-anchor=\"start\" x=\"12387\" y=\"-111.8\" font-family=\"helvetica\" font-size=\"14.00\">class = idle</text>\n",
       "</g>\n",
       "<!-- 81&#45;&gt;85 -->\n",
       "<g id=\"edge85\" class=\"edge\">\n",
       "<title>81-&gt;85</title>\n",
       "<path fill=\"none\" stroke=\"black\" d=\"M12155.58,-222.99C12192.59,-212.32 12232.68,-200.77 12270.21,-189.96\"/>\n",
       "<polygon fill=\"black\" stroke=\"black\" points=\"12271.56,-193.21 12280.2,-187.07 12269.62,-186.48 12271.56,-193.21\"/>\n",
       "</g>\n",
       "<!-- 83 -->\n",
       "<g id=\"node84\" class=\"node\">\n",
       "<title>83</title>\n",
       "<path fill=\"#fefbf9\" stroke=\"black\" d=\"M11965,-68C11965,-68 11763,-68 11763,-68 11757,-68 11751,-62 11751,-56 11751,-56 11751,-12 11751,-12 11751,-6 11757,0 11763,0 11763,0 11965,0 11965,0 11971,0 11977,-6 11977,-12 11977,-12 11977,-56 11977,-56 11977,-62 11971,-68 11965,-68\"/>\n",
       "<text text-anchor=\"start\" x=\"11816.5\" y=\"-52.8\" font-family=\"helvetica\" font-size=\"14.00\">entropy = 1.576</text>\n",
       "<text text-anchor=\"start\" x=\"11823\" y=\"-37.8\" font-family=\"helvetica\" font-size=\"14.00\">samples = 17</text>\n",
       "<text text-anchor=\"start\" x=\"11759\" y=\"-22.8\" font-family=\"helvetica\" font-size=\"14.00\">value = [3.834, 3.63, 2.93, 0.0, 0.0]</text>\n",
       "<text text-anchor=\"start\" x=\"11790\" y=\"-7.8\" font-family=\"helvetica\" font-size=\"14.00\">class = 100%_discharge</text>\n",
       "</g>\n",
       "<!-- 82&#45;&gt;83 -->\n",
       "<g id=\"edge83\" class=\"edge\">\n",
       "<title>82-&gt;83</title>\n",
       "<path fill=\"none\" stroke=\"black\" d=\"M11958.77,-103.73C11945.44,-94.06 11931.25,-83.77 11918.02,-74.17\"/>\n",
       "<polygon fill=\"black\" stroke=\"black\" points=\"11920.07,-71.34 11909.92,-68.3 11915.96,-77 11920.07,-71.34\"/>\n",
       "</g>\n",
       "<!-- 84 -->\n",
       "<g id=\"node85\" class=\"node\">\n",
       "<title>84</title>\n",
       "<path fill=\"#f196de\" stroke=\"black\" d=\"M12276.5,-68C12276.5,-68 12007.5,-68 12007.5,-68 12001.5,-68 11995.5,-62 11995.5,-56 11995.5,-56 11995.5,-12 11995.5,-12 11995.5,-6 12001.5,0 12007.5,0 12007.5,0 12276.5,0 12276.5,0 12282.5,0 12288.5,-6 12288.5,-12 12288.5,-12 12288.5,-56 12288.5,-56 12288.5,-62 12282.5,-68 12276.5,-68\"/>\n",
       "<text text-anchor=\"start\" x=\"12094.5\" y=\"-52.8\" font-family=\"helvetica\" font-size=\"14.00\">entropy = 1.199</text>\n",
       "<text text-anchor=\"start\" x=\"12101\" y=\"-37.8\" font-family=\"helvetica\" font-size=\"14.00\">samples = 39</text>\n",
       "<text text-anchor=\"start\" x=\"12003.5\" y=\"-22.8\" font-family=\"helvetica\" font-size=\"14.00\">value = [2.875, 0.519, 7.324, 55.098, 129.319]</text>\n",
       "<text text-anchor=\"start\" x=\"12076.5\" y=\"-7.8\" font-family=\"helvetica\" font-size=\"14.00\">class = 100%_charge</text>\n",
       "</g>\n",
       "<!-- 82&#45;&gt;84 -->\n",
       "<g id=\"edge84\" class=\"edge\">\n",
       "<title>82-&gt;84</title>\n",
       "<path fill=\"none\" stroke=\"black\" d=\"M12062.29,-103.73C12073.19,-94.33 12084.76,-84.35 12095.62,-74.99\"/>\n",
       "<polygon fill=\"black\" stroke=\"black\" points=\"12098.09,-77.48 12103.38,-68.3 12093.52,-72.18 12098.09,-77.48\"/>\n",
       "</g>\n",
       "<!-- 86 -->\n",
       "<g id=\"node87\" class=\"node\">\n",
       "<title>86</title>\n",
       "<path fill=\"#aaf4e6\" stroke=\"black\" d=\"M12551,-68C12551,-68 12319,-68 12319,-68 12313,-68 12307,-62 12307,-56 12307,-56 12307,-12 12307,-12 12307,-6 12313,0 12319,0 12319,0 12551,0 12551,0 12557,0 12563,-6 12563,-12 12563,-12 12563,-56 12563,-56 12563,-62 12557,-68 12551,-68\"/>\n",
       "<text text-anchor=\"start\" x=\"12387.5\" y=\"-52.8\" font-family=\"helvetica\" font-size=\"14.00\">entropy = 1.358</text>\n",
       "<text text-anchor=\"start\" x=\"12394\" y=\"-37.8\" font-family=\"helvetica\" font-size=\"14.00\">samples = 65</text>\n",
       "<text text-anchor=\"start\" x=\"12315\" y=\"-22.8\" font-family=\"helvetica\" font-size=\"14.00\">value = [14.377, 7.261, 30.762, 0.0, 0.0]</text>\n",
       "<text text-anchor=\"start\" x=\"12401\" y=\"-7.8\" font-family=\"helvetica\" font-size=\"14.00\">class = idle</text>\n",
       "</g>\n",
       "<!-- 85&#45;&gt;86 -->\n",
       "<g id=\"edge86\" class=\"edge\">\n",
       "<title>85-&gt;86</title>\n",
       "<path fill=\"none\" stroke=\"black\" d=\"M12426.21,-103.73C12427.27,-95.43 12428.39,-86.67 12429.47,-78.28\"/>\n",
       "<polygon fill=\"black\" stroke=\"black\" points=\"12432.95,-78.66 12430.74,-68.3 12426,-77.77 12432.95,-78.66\"/>\n",
       "</g>\n",
       "<!-- 87 -->\n",
       "<g id=\"node88\" class=\"node\">\n",
       "<title>87</title>\n",
       "<path fill=\"#f3a1e1\" stroke=\"black\" d=\"M12832.5,-68C12832.5,-68 12593.5,-68 12593.5,-68 12587.5,-68 12581.5,-62 12581.5,-56 12581.5,-56 12581.5,-12 12581.5,-12 12581.5,-6 12587.5,0 12593.5,0 12593.5,0 12832.5,0 12832.5,0 12838.5,0 12844.5,-6 12844.5,-12 12844.5,-12 12844.5,-56 12844.5,-56 12844.5,-62 12838.5,-68 12832.5,-68\"/>\n",
       "<text text-anchor=\"start\" x=\"12665.5\" y=\"-52.8\" font-family=\"helvetica\" font-size=\"14.00\">entropy = 1.616</text>\n",
       "<text text-anchor=\"start\" x=\"12672\" y=\"-37.8\" font-family=\"helvetica\" font-size=\"14.00\">samples = 25</text>\n",
       "<text text-anchor=\"start\" x=\"12589.5\" y=\"-22.8\" font-family=\"helvetica\" font-size=\"14.00\">value = [5.272, 3.112, 7.324, 0.0, 21.553]</text>\n",
       "<text text-anchor=\"start\" x=\"12647.5\" y=\"-7.8\" font-family=\"helvetica\" font-size=\"14.00\">class = 100%_charge</text>\n",
       "</g>\n",
       "<!-- 85&#45;&gt;87 -->\n",
       "<g id=\"edge87\" class=\"edge\">\n",
       "<title>85-&gt;87</title>\n",
       "<path fill=\"none\" stroke=\"black\" d=\"M12529.32,-103.88C12557.48,-93.32 12587.66,-82 12615.24,-71.66\"/>\n",
       "<polygon fill=\"black\" stroke=\"black\" points=\"12616.75,-74.83 12624.88,-68.04 12614.29,-68.28 12616.75,-74.83\"/>\n",
       "</g>\n",
       "<!-- 89 -->\n",
       "<g id=\"node90\" class=\"node\">\n",
       "<title>89</title>\n",
       "<path fill=\"#e854c8\" stroke=\"black\" d=\"M13249.5,-425C13249.5,-425 12972.5,-425 12972.5,-425 12966.5,-425 12960.5,-419 12960.5,-413 12960.5,-413 12960.5,-354 12960.5,-354 12960.5,-348 12966.5,-342 12972.5,-342 12972.5,-342 13249.5,-342 13249.5,-342 13255.5,-342 13261.5,-348 13261.5,-354 13261.5,-354 13261.5,-413 13261.5,-413 13261.5,-419 13255.5,-425 13249.5,-425\"/>\n",
       "<text text-anchor=\"start\" x=\"13029.5\" y=\"-409.8\" font-family=\"helvetica\" font-size=\"14.00\">non_shiftable_load ≤ 0.006</text>\n",
       "<text text-anchor=\"start\" x=\"13063.5\" y=\"-394.8\" font-family=\"helvetica\" font-size=\"14.00\">entropy = 0.735</text>\n",
       "<text text-anchor=\"start\" x=\"13066\" y=\"-379.8\" font-family=\"helvetica\" font-size=\"14.00\">samples = 197</text>\n",
       "<text text-anchor=\"start\" x=\"12968.5\" y=\"-364.8\" font-family=\"helvetica\" font-size=\"14.00\">value = [12.46, 11.41, 24.902, 73.464, 862.126]</text>\n",
       "<text text-anchor=\"start\" x=\"13045.5\" y=\"-349.8\" font-family=\"helvetica\" font-size=\"14.00\">class = 100%_charge</text>\n",
       "</g>\n",
       "<!-- 88&#45;&gt;89 -->\n",
       "<g id=\"edge89\" class=\"edge\">\n",
       "<title>88-&gt;89</title>\n",
       "<path fill=\"none\" stroke=\"black\" d=\"M13111,-460.91C13111,-452.65 13111,-443.86 13111,-435.3\"/>\n",
       "<polygon fill=\"black\" stroke=\"black\" points=\"13114.5,-435.02 13111,-425.02 13107.5,-435.02 13114.5,-435.02\"/>\n",
       "</g>\n",
       "<!-- 100 -->\n",
       "<g id=\"node101\" class=\"node\">\n",
       "<title>100</title>\n",
       "<path fill=\"#f6bbe9\" stroke=\"black\" d=\"M14739.5,-425C14739.5,-425 14440.5,-425 14440.5,-425 14434.5,-425 14428.5,-419 14428.5,-413 14428.5,-413 14428.5,-354 14428.5,-354 14428.5,-348 14434.5,-342 14440.5,-342 14440.5,-342 14739.5,-342 14739.5,-342 14745.5,-342 14751.5,-348 14751.5,-354 14751.5,-354 14751.5,-413 14751.5,-413 14751.5,-419 14745.5,-425 14739.5,-425\"/>\n",
       "<text text-anchor=\"start\" x=\"14481.5\" y=\"-409.8\" font-family=\"helvetica\" font-size=\"14.00\">net_electricity_consumption ≤ 0.494</text>\n",
       "<text text-anchor=\"start\" x=\"14542.5\" y=\"-394.8\" font-family=\"helvetica\" font-size=\"14.00\">entropy = 1.856</text>\n",
       "<text text-anchor=\"start\" x=\"14545\" y=\"-379.8\" font-family=\"helvetica\" font-size=\"14.00\">samples = 663</text>\n",
       "<text text-anchor=\"start\" x=\"14436.5\" y=\"-364.8\" font-family=\"helvetica\" font-size=\"14.00\">value = [93.451, 67.941, 247.558, 367.32, 775.913]</text>\n",
       "<text text-anchor=\"start\" x=\"14524.5\" y=\"-349.8\" font-family=\"helvetica\" font-size=\"14.00\">class = 100%_charge</text>\n",
       "</g>\n",
       "<!-- 88&#45;&gt;100 -->\n",
       "<g id=\"edge100\" class=\"edge\">\n",
       "<title>88-&gt;100</title>\n",
       "<path fill=\"none\" stroke=\"black\" d=\"M13280.3,-488.11C13564.16,-465.65 14132.97,-420.65 14418.38,-398.08\"/>\n",
       "<polygon fill=\"black\" stroke=\"black\" points=\"14418.72,-401.56 14428.41,-397.28 14418.17,-394.58 14418.72,-401.56\"/>\n",
       "</g>\n",
       "<!-- 90 -->\n",
       "<g id=\"node91\" class=\"node\">\n",
       "<title>90</title>\n",
       "<path fill=\"#e641c2\" stroke=\"black\" d=\"M13084,-306C13084,-306 12830,-306 12830,-306 12824,-306 12818,-300 12818,-294 12818,-294 12818,-235 12818,-235 12818,-229 12824,-223 12830,-223 12830,-223 13084,-223 13084,-223 13090,-223 13096,-229 13096,-235 13096,-235 13096,-294 13096,-294 13096,-300 13090,-306 13084,-306\"/>\n",
       "<text text-anchor=\"start\" x=\"12875.5\" y=\"-290.8\" font-family=\"helvetica\" font-size=\"14.00\">non_shiftable_load ≤ 0.005</text>\n",
       "<text text-anchor=\"start\" x=\"12909.5\" y=\"-275.8\" font-family=\"helvetica\" font-size=\"14.00\">entropy = 0.272</text>\n",
       "<text text-anchor=\"start\" x=\"12916\" y=\"-260.8\" font-family=\"helvetica\" font-size=\"14.00\">samples = 64</text>\n",
       "<text text-anchor=\"start\" x=\"12826\" y=\"-245.8\" font-family=\"helvetica\" font-size=\"14.00\">value = [1.438, 2.075, 0.0, 12.244, 395.141]</text>\n",
       "<text text-anchor=\"start\" x=\"12891.5\" y=\"-230.8\" font-family=\"helvetica\" font-size=\"14.00\">class = 100%_charge</text>\n",
       "</g>\n",
       "<!-- 89&#45;&gt;90 -->\n",
       "<g id=\"edge90\" class=\"edge\">\n",
       "<title>89-&gt;90</title>\n",
       "<path fill=\"none\" stroke=\"black\" d=\"M13057.57,-341.91C13044.91,-332.29 13031.31,-321.95 13018.32,-312.09\"/>\n",
       "<polygon fill=\"black\" stroke=\"black\" points=\"13020.42,-309.28 13010.34,-306.02 13016.18,-314.86 13020.42,-309.28\"/>\n",
       "</g>\n",
       "<!-- 93 -->\n",
       "<g id=\"node94\" class=\"node\">\n",
       "<title>93</title>\n",
       "<path fill=\"#ea62cd\" stroke=\"black\" d=\"M13403.5,-306C13403.5,-306 13126.5,-306 13126.5,-306 13120.5,-306 13114.5,-300 13114.5,-294 13114.5,-294 13114.5,-235 13114.5,-235 13114.5,-229 13120.5,-223 13126.5,-223 13126.5,-223 13403.5,-223 13403.5,-223 13409.5,-223 13415.5,-229 13415.5,-235 13415.5,-235 13415.5,-294 13415.5,-294 13415.5,-300 13409.5,-306 13403.5,-306\"/>\n",
       "<text text-anchor=\"start\" x=\"13156.5\" y=\"-290.8\" font-family=\"helvetica\" font-size=\"14.00\">net_electricity_consumption ≤ 0.347</text>\n",
       "<text text-anchor=\"start\" x=\"13217.5\" y=\"-275.8\" font-family=\"helvetica\" font-size=\"14.00\">entropy = 0.989</text>\n",
       "<text text-anchor=\"start\" x=\"13220\" y=\"-260.8\" font-family=\"helvetica\" font-size=\"14.00\">samples = 133</text>\n",
       "<text text-anchor=\"start\" x=\"13122.5\" y=\"-245.8\" font-family=\"helvetica\" font-size=\"14.00\">value = [11.022, 9.335, 24.902, 61.22, 466.985]</text>\n",
       "<text text-anchor=\"start\" x=\"13199.5\" y=\"-230.8\" font-family=\"helvetica\" font-size=\"14.00\">class = 100%_charge</text>\n",
       "</g>\n",
       "<!-- 89&#45;&gt;93 -->\n",
       "<g id=\"edge93\" class=\"edge\">\n",
       "<title>89-&gt;93</title>\n",
       "<path fill=\"none\" stroke=\"black\" d=\"M13164.43,-341.91C13177.09,-332.29 13190.69,-321.95 13203.68,-312.09\"/>\n",
       "<polygon fill=\"black\" stroke=\"black\" points=\"13205.82,-314.86 13211.66,-306.02 13201.58,-309.28 13205.82,-314.86\"/>\n",
       "</g>\n",
       "<!-- 91 -->\n",
       "<g id=\"node92\" class=\"node\">\n",
       "<title>91</title>\n",
       "<path fill=\"#ec6cd0\" stroke=\"black\" d=\"M12841.5,-179.5C12841.5,-179.5 12594.5,-179.5 12594.5,-179.5 12588.5,-179.5 12582.5,-173.5 12582.5,-167.5 12582.5,-167.5 12582.5,-123.5 12582.5,-123.5 12582.5,-117.5 12588.5,-111.5 12594.5,-111.5 12594.5,-111.5 12841.5,-111.5 12841.5,-111.5 12847.5,-111.5 12853.5,-117.5 12853.5,-123.5 12853.5,-123.5 12853.5,-167.5 12853.5,-167.5 12853.5,-173.5 12847.5,-179.5 12841.5,-179.5\"/>\n",
       "<text text-anchor=\"start\" x=\"12670.5\" y=\"-164.3\" font-family=\"helvetica\" font-size=\"14.00\">entropy = 0.963</text>\n",
       "<text text-anchor=\"start\" x=\"12677\" y=\"-149.3\" font-family=\"helvetica\" font-size=\"14.00\">samples = 17</text>\n",
       "<text text-anchor=\"start\" x=\"12590.5\" y=\"-134.3\" font-family=\"helvetica\" font-size=\"14.00\">value = [1.438, 2.075, 0.0, 12.244, 57.475]</text>\n",
       "<text text-anchor=\"start\" x=\"12652.5\" y=\"-119.3\" font-family=\"helvetica\" font-size=\"14.00\">class = 100%_charge</text>\n",
       "</g>\n",
       "<!-- 90&#45;&gt;91 -->\n",
       "<g id=\"edge91\" class=\"edge\">\n",
       "<title>90-&gt;91</title>\n",
       "<path fill=\"none\" stroke=\"black\" d=\"M12874.08,-222.91C12848.38,-210.33 12820.19,-196.53 12794.92,-184.16\"/>\n",
       "<polygon fill=\"black\" stroke=\"black\" points=\"12796.27,-180.92 12785.75,-179.67 12793.19,-187.21 12796.27,-180.92\"/>\n",
       "</g>\n",
       "<!-- 92 -->\n",
       "<g id=\"node93\" class=\"node\">\n",
       "<title>92</title>\n",
       "<path fill=\"#e539c0\" stroke=\"black\" d=\"M13086,-179.5C13086,-179.5 12884,-179.5 12884,-179.5 12878,-179.5 12872,-173.5 12872,-167.5 12872,-167.5 12872,-123.5 12872,-123.5 12872,-117.5 12878,-111.5 12884,-111.5 12884,-111.5 13086,-111.5 13086,-111.5 13092,-111.5 13098,-117.5 13098,-123.5 13098,-123.5 13098,-167.5 13098,-167.5 13098,-173.5 13092,-179.5 13086,-179.5\"/>\n",
       "<text text-anchor=\"start\" x=\"12945\" y=\"-164.3\" font-family=\"helvetica\" font-size=\"14.00\">entropy = 0.0</text>\n",
       "<text text-anchor=\"start\" x=\"12944\" y=\"-149.3\" font-family=\"helvetica\" font-size=\"14.00\">samples = 47</text>\n",
       "<text text-anchor=\"start\" x=\"12880\" y=\"-134.3\" font-family=\"helvetica\" font-size=\"14.00\">value = [0.0, 0.0, 0.0, 0.0, 337.666]</text>\n",
       "<text text-anchor=\"start\" x=\"12919.5\" y=\"-119.3\" font-family=\"helvetica\" font-size=\"14.00\">class = 100%_charge</text>\n",
       "</g>\n",
       "<!-- 90&#45;&gt;92 -->\n",
       "<g id=\"edge92\" class=\"edge\">\n",
       "<title>90-&gt;92</title>\n",
       "<path fill=\"none\" stroke=\"black\" d=\"M12966.71,-222.91C12969.3,-212.09 12972.11,-200.38 12974.72,-189.44\"/>\n",
       "<polygon fill=\"black\" stroke=\"black\" points=\"12978.14,-190.21 12977.06,-179.67 12971.33,-188.58 12978.14,-190.21\"/>\n",
       "</g>\n",
       "<!-- 94 -->\n",
       "<g id=\"node95\" class=\"node\">\n",
       "<title>94</title>\n",
       "<path fill=\"#e640c2\" stroke=\"black\" d=\"M13345.5,-187C13345.5,-187 13128.5,-187 13128.5,-187 13122.5,-187 13116.5,-181 13116.5,-175 13116.5,-175 13116.5,-116 13116.5,-116 13116.5,-110 13122.5,-104 13128.5,-104 13128.5,-104 13345.5,-104 13345.5,-104 13351.5,-104 13357.5,-110 13357.5,-116 13357.5,-116 13357.5,-175 13357.5,-175 13357.5,-181 13351.5,-187 13345.5,-187\"/>\n",
       "<text text-anchor=\"start\" x=\"13160.5\" y=\"-171.8\" font-family=\"helvetica\" font-size=\"14.00\">electricity_pricing ≤ 0.345</text>\n",
       "<text text-anchor=\"start\" x=\"13189.5\" y=\"-156.8\" font-family=\"helvetica\" font-size=\"14.00\">entropy = 0.215</text>\n",
       "<text text-anchor=\"start\" x=\"13196\" y=\"-141.8\" font-family=\"helvetica\" font-size=\"14.00\">samples = 25</text>\n",
       "<text text-anchor=\"start\" x=\"13124.5\" y=\"-126.8\" font-family=\"helvetica\" font-size=\"14.00\">value = [0.0, 0.0, 0.0, 6.122, 172.425]</text>\n",
       "<text text-anchor=\"start\" x=\"13171.5\" y=\"-111.8\" font-family=\"helvetica\" font-size=\"14.00\">class = 100%_charge</text>\n",
       "</g>\n",
       "<!-- 93&#45;&gt;94 -->\n",
       "<g id=\"edge94\" class=\"edge\">\n",
       "<title>93-&gt;94</title>\n",
       "<path fill=\"none\" stroke=\"black\" d=\"M13255.29,-222.91C13253.29,-214.56 13251.16,-205.67 13249.09,-197.02\"/>\n",
       "<polygon fill=\"black\" stroke=\"black\" points=\"13252.43,-195.93 13246.7,-187.02 13245.62,-197.56 13252.43,-195.93\"/>\n",
       "</g>\n",
       "<!-- 97 -->\n",
       "<g id=\"node98\" class=\"node\">\n",
       "<title>97</title>\n",
       "<path fill=\"#ed73d3\" stroke=\"black\" d=\"M13664.5,-187C13664.5,-187 13387.5,-187 13387.5,-187 13381.5,-187 13375.5,-181 13375.5,-175 13375.5,-175 13375.5,-116 13375.5,-116 13375.5,-110 13381.5,-104 13387.5,-104 13387.5,-104 13664.5,-104 13664.5,-104 13670.5,-104 13676.5,-110 13676.5,-116 13676.5,-116 13676.5,-175 13676.5,-175 13676.5,-181 13670.5,-187 13664.5,-187\"/>\n",
       "<text text-anchor=\"start\" x=\"13452\" y=\"-171.8\" font-family=\"helvetica\" font-size=\"14.00\">carbon_intensity ≤ 0.353</text>\n",
       "<text text-anchor=\"start\" x=\"13478.5\" y=\"-156.8\" font-family=\"helvetica\" font-size=\"14.00\">entropy = 1.235</text>\n",
       "<text text-anchor=\"start\" x=\"13481\" y=\"-141.8\" font-family=\"helvetica\" font-size=\"14.00\">samples = 108</text>\n",
       "<text text-anchor=\"start\" x=\"13383.5\" y=\"-126.8\" font-family=\"helvetica\" font-size=\"14.00\">value = [11.022, 9.335, 24.902, 55.098, 294.56]</text>\n",
       "<text text-anchor=\"start\" x=\"13460.5\" y=\"-111.8\" font-family=\"helvetica\" font-size=\"14.00\">class = 100%_charge</text>\n",
       "</g>\n",
       "<!-- 93&#45;&gt;97 -->\n",
       "<g id=\"edge97\" class=\"edge\">\n",
       "<title>93-&gt;97</title>\n",
       "<path fill=\"none\" stroke=\"black\" d=\"M13355.55,-222.91C13378.43,-212.65 13403.12,-201.59 13426.41,-191.14\"/>\n",
       "<polygon fill=\"black\" stroke=\"black\" points=\"13427.91,-194.31 13435.61,-187.02 13425.05,-187.92 13427.91,-194.31\"/>\n",
       "</g>\n",
       "<!-- 95 -->\n",
       "<g id=\"node96\" class=\"node\">\n",
       "<title>95</title>\n",
       "<path fill=\"#e539c0\" stroke=\"black\" d=\"M13090,-68C13090,-68 12888,-68 12888,-68 12882,-68 12876,-62 12876,-56 12876,-56 12876,-12 12876,-12 12876,-6 12882,0 12888,0 12888,0 13090,0 13090,0 13096,0 13102,-6 13102,-12 13102,-12 13102,-56 13102,-56 13102,-62 13096,-68 13090,-68\"/>\n",
       "<text text-anchor=\"start\" x=\"12946.5\" y=\"-52.8\" font-family=\"helvetica\" font-size=\"14.00\">entropy = -0.0</text>\n",
       "<text text-anchor=\"start\" x=\"12948\" y=\"-37.8\" font-family=\"helvetica\" font-size=\"14.00\">samples = 15</text>\n",
       "<text text-anchor=\"start\" x=\"12884\" y=\"-22.8\" font-family=\"helvetica\" font-size=\"14.00\">value = [0.0, 0.0, 0.0, 0.0, 107.766]</text>\n",
       "<text text-anchor=\"start\" x=\"12923.5\" y=\"-7.8\" font-family=\"helvetica\" font-size=\"14.00\">class = 100%_charge</text>\n",
       "</g>\n",
       "<!-- 94&#45;&gt;95 -->\n",
       "<g id=\"edge95\" class=\"edge\">\n",
       "<title>94-&gt;95</title>\n",
       "<path fill=\"none\" stroke=\"black\" d=\"M13145.01,-103.88C13121.5,-93.5 13096.35,-82.4 13073.26,-72.2\"/>\n",
       "<polygon fill=\"black\" stroke=\"black\" points=\"13074.4,-68.88 13063.84,-68.04 13071.57,-75.28 13074.4,-68.88\"/>\n",
       "</g>\n",
       "<!-- 96 -->\n",
       "<g id=\"node97\" class=\"node\">\n",
       "<title>96</title>\n",
       "<path fill=\"#e74cc6\" stroke=\"black\" d=\"M13341.5,-68C13341.5,-68 13132.5,-68 13132.5,-68 13126.5,-68 13120.5,-62 13120.5,-56 13120.5,-56 13120.5,-12 13120.5,-12 13120.5,-6 13126.5,0 13132.5,0 13132.5,0 13341.5,0 13341.5,0 13347.5,0 13353.5,-6 13353.5,-12 13353.5,-12 13353.5,-56 13353.5,-56 13353.5,-62 13347.5,-68 13341.5,-68\"/>\n",
       "<text text-anchor=\"start\" x=\"13189.5\" y=\"-52.8\" font-family=\"helvetica\" font-size=\"14.00\">entropy = 0.425</text>\n",
       "<text text-anchor=\"start\" x=\"13196\" y=\"-37.8\" font-family=\"helvetica\" font-size=\"14.00\">samples = 10</text>\n",
       "<text text-anchor=\"start\" x=\"13128.5\" y=\"-22.8\" font-family=\"helvetica\" font-size=\"14.00\">value = [0.0, 0.0, 0.0, 6.122, 64.659]</text>\n",
       "<text text-anchor=\"start\" x=\"13171.5\" y=\"-7.8\" font-family=\"helvetica\" font-size=\"14.00\">class = 100%_charge</text>\n",
       "</g>\n",
       "<!-- 94&#45;&gt;96 -->\n",
       "<g id=\"edge96\" class=\"edge\">\n",
       "<title>94-&gt;96</title>\n",
       "<path fill=\"none\" stroke=\"black\" d=\"M13237,-103.73C13237,-95.52 13237,-86.86 13237,-78.56\"/>\n",
       "<polygon fill=\"black\" stroke=\"black\" points=\"13240.5,-78.3 13237,-68.3 13233.5,-78.3 13240.5,-78.3\"/>\n",
       "</g>\n",
       "<!-- 98 -->\n",
       "<g id=\"node99\" class=\"node\">\n",
       "<title>98</title>\n",
       "<path fill=\"#fce7f7\" stroke=\"black\" d=\"M13616,-68C13616,-68 13384,-68 13384,-68 13378,-68 13372,-62 13372,-56 13372,-56 13372,-12 13372,-12 13372,-6 13378,0 13384,0 13384,0 13616,0 13616,0 13622,0 13628,-6 13628,-12 13628,-12 13628,-56 13628,-56 13628,-62 13622,-68 13616,-68\"/>\n",
       "<text text-anchor=\"start\" x=\"13452.5\" y=\"-52.8\" font-family=\"helvetica\" font-size=\"14.00\">entropy = 1.363</text>\n",
       "<text text-anchor=\"start\" x=\"13459\" y=\"-37.8\" font-family=\"helvetica\" font-size=\"14.00\">samples = 12</text>\n",
       "<text text-anchor=\"start\" x=\"13380\" y=\"-22.8\" font-family=\"helvetica\" font-size=\"14.00\">value = [0.0, 0.0, 5.859, 24.488, 28.738]</text>\n",
       "<text text-anchor=\"start\" x=\"13434.5\" y=\"-7.8\" font-family=\"helvetica\" font-size=\"14.00\">class = 100%_charge</text>\n",
       "</g>\n",
       "<!-- 97&#45;&gt;98 -->\n",
       "<g id=\"edge98\" class=\"edge\">\n",
       "<title>97-&gt;98</title>\n",
       "<path fill=\"none\" stroke=\"black\" d=\"M13516.32,-103.73C13514.35,-95.43 13512.27,-86.67 13510.28,-78.28\"/>\n",
       "<polygon fill=\"black\" stroke=\"black\" points=\"13513.62,-77.22 13507.91,-68.3 13506.81,-78.84 13513.62,-77.22\"/>\n",
       "</g>\n",
       "<!-- 99 -->\n",
       "<g id=\"node100\" class=\"node\">\n",
       "<title>99</title>\n",
       "<path fill=\"#eb66ce\" stroke=\"black\" d=\"M13935.5,-68C13935.5,-68 13658.5,-68 13658.5,-68 13652.5,-68 13646.5,-62 13646.5,-56 13646.5,-56 13646.5,-12 13646.5,-12 13646.5,-6 13652.5,0 13658.5,0 13658.5,0 13935.5,0 13935.5,0 13941.5,0 13947.5,-6 13947.5,-12 13947.5,-12 13947.5,-56 13947.5,-56 13947.5,-62 13941.5,-68 13935.5,-68\"/>\n",
       "<text text-anchor=\"start\" x=\"13749.5\" y=\"-52.8\" font-family=\"helvetica\" font-size=\"14.00\">entropy = 1.122</text>\n",
       "<text text-anchor=\"start\" x=\"13756\" y=\"-37.8\" font-family=\"helvetica\" font-size=\"14.00\">samples = 96</text>\n",
       "<text text-anchor=\"start\" x=\"13654.5\" y=\"-22.8\" font-family=\"helvetica\" font-size=\"14.00\">value = [11.022, 9.335, 19.043, 30.61, 265.822]</text>\n",
       "<text text-anchor=\"start\" x=\"13731.5\" y=\"-7.8\" font-family=\"helvetica\" font-size=\"14.00\">class = 100%_charge</text>\n",
       "</g>\n",
       "<!-- 97&#45;&gt;99 -->\n",
       "<g id=\"edge99\" class=\"edge\">\n",
       "<title>97-&gt;99</title>\n",
       "<path fill=\"none\" stroke=\"black\" d=\"M13626.53,-103.88C13652.55,-93.37 13680.43,-82.1 13705.94,-71.79\"/>\n",
       "<polygon fill=\"black\" stroke=\"black\" points=\"13707.26,-75.03 13715.22,-68.04 13704.64,-68.54 13707.26,-75.03\"/>\n",
       "</g>\n",
       "<!-- 101 -->\n",
       "<g id=\"node102\" class=\"node\">\n",
       "<title>101</title>\n",
       "<path fill=\"#f3a4e2\" stroke=\"black\" d=\"M14736,-306C14736,-306 14444,-306 14444,-306 14438,-306 14432,-300 14432,-294 14432,-294 14432,-235 14432,-235 14432,-229 14438,-223 14444,-223 14444,-223 14736,-223 14736,-223 14742,-223 14748,-229 14748,-235 14748,-235 14748,-294 14748,-294 14748,-300 14742,-306 14736,-306\"/>\n",
       "<text text-anchor=\"start\" x=\"14485.5\" y=\"-290.8\" font-family=\"helvetica\" font-size=\"14.00\">net_electricity_consumption ≤ 0.35</text>\n",
       "<text text-anchor=\"start\" x=\"14542.5\" y=\"-275.8\" font-family=\"helvetica\" font-size=\"14.00\">entropy = 1.731</text>\n",
       "<text text-anchor=\"start\" x=\"14545\" y=\"-260.8\" font-family=\"helvetica\" font-size=\"14.00\">samples = 522</text>\n",
       "<text text-anchor=\"start\" x=\"14440\" y=\"-245.8\" font-family=\"helvetica\" font-size=\"14.00\">value = [70.927, 58.606, 162.597, 275.49, 754.36]</text>\n",
       "<text text-anchor=\"start\" x=\"14524.5\" y=\"-230.8\" font-family=\"helvetica\" font-size=\"14.00\">class = 100%_charge</text>\n",
       "</g>\n",
       "<!-- 100&#45;&gt;101 -->\n",
       "<g id=\"edge101\" class=\"edge\">\n",
       "<title>100-&gt;101</title>\n",
       "<path fill=\"none\" stroke=\"black\" d=\"M14590,-341.91C14590,-333.65 14590,-324.86 14590,-316.3\"/>\n",
       "<polygon fill=\"black\" stroke=\"black\" points=\"14593.5,-316.02 14590,-306.02 14586.5,-316.02 14593.5,-316.02\"/>\n",
       "</g>\n",
       "<!-- 108 -->\n",
       "<g id=\"node109\" class=\"node\">\n",
       "<title>108</title>\n",
       "<path fill=\"#f6f6fe\" stroke=\"black\" d=\"M15534.5,-306C15534.5,-306 15265.5,-306 15265.5,-306 15259.5,-306 15253.5,-300 15253.5,-294 15253.5,-294 15253.5,-235 15253.5,-235 15253.5,-229 15259.5,-223 15265.5,-223 15265.5,-223 15534.5,-223 15534.5,-223 15540.5,-223 15546.5,-229 15546.5,-235 15546.5,-235 15546.5,-294 15546.5,-294 15546.5,-300 15540.5,-306 15534.5,-306\"/>\n",
       "<text text-anchor=\"start\" x=\"15291.5\" y=\"-290.8\" font-family=\"helvetica\" font-size=\"14.00\">net_electricity_consumption ≤ 0.571</text>\n",
       "<text text-anchor=\"start\" x=\"15352.5\" y=\"-275.8\" font-family=\"helvetica\" font-size=\"14.00\">entropy = 1.895</text>\n",
       "<text text-anchor=\"start\" x=\"15355\" y=\"-260.8\" font-family=\"helvetica\" font-size=\"14.00\">samples = 141</text>\n",
       "<text text-anchor=\"start\" x=\"15261.5\" y=\"-245.8\" font-family=\"helvetica\" font-size=\"14.00\">value = [22.524, 9.335, 84.961, 91.83, 21.553]</text>\n",
       "<text text-anchor=\"start\" x=\"15338\" y=\"-230.8\" font-family=\"helvetica\" font-size=\"14.00\">class = 50%_charge</text>\n",
       "</g>\n",
       "<!-- 100&#45;&gt;108 -->\n",
       "<g id=\"edge108\" class=\"edge\">\n",
       "<title>100-&gt;108</title>\n",
       "<path fill=\"none\" stroke=\"black\" d=\"M14751.97,-359.1C14894.89,-338.46 15101.89,-308.56 15243.23,-288.14\"/>\n",
       "<polygon fill=\"black\" stroke=\"black\" points=\"15243.89,-291.59 15253.29,-286.69 15242.89,-284.66 15243.89,-291.59\"/>\n",
       "</g>\n",
       "<!-- 102 -->\n",
       "<g id=\"node103\" class=\"node\">\n",
       "<title>102</title>\n",
       "<path fill=\"#d8d8fa\" stroke=\"black\" d=\"M14566.5,-187C14566.5,-187 14267.5,-187 14267.5,-187 14261.5,-187 14255.5,-181 14255.5,-175 14255.5,-175 14255.5,-116 14255.5,-116 14255.5,-110 14261.5,-104 14267.5,-104 14267.5,-104 14566.5,-104 14566.5,-104 14572.5,-104 14578.5,-110 14578.5,-116 14578.5,-116 14578.5,-175 14578.5,-175 14578.5,-181 14572.5,-187 14566.5,-187\"/>\n",
       "<text text-anchor=\"start\" x=\"14335.5\" y=\"-171.8\" font-family=\"helvetica\" font-size=\"14.00\">non_shiftable_load ≤ 0.022</text>\n",
       "<text text-anchor=\"start\" x=\"14369.5\" y=\"-156.8\" font-family=\"helvetica\" font-size=\"14.00\">entropy = 1.948</text>\n",
       "<text text-anchor=\"start\" x=\"14372\" y=\"-141.8\" font-family=\"helvetica\" font-size=\"14.00\">samples = 160</text>\n",
       "<text text-anchor=\"start\" x=\"14263.5\" y=\"-126.8\" font-family=\"helvetica\" font-size=\"14.00\">value = [22.524, 24.894, 39.551, 146.928, 100.581]</text>\n",
       "<text text-anchor=\"start\" x=\"14355\" y=\"-111.8\" font-family=\"helvetica\" font-size=\"14.00\">class = 50%_charge</text>\n",
       "</g>\n",
       "<!-- 101&#45;&gt;102 -->\n",
       "<g id=\"edge102\" class=\"edge\">\n",
       "<title>101-&gt;102</title>\n",
       "<path fill=\"none\" stroke=\"black\" d=\"M14529.98,-222.91C14515.62,-213.2 14500.19,-202.76 14485.48,-192.81\"/>\n",
       "<polygon fill=\"black\" stroke=\"black\" points=\"14487.16,-189.72 14476.92,-187.02 14483.24,-195.52 14487.16,-189.72\"/>\n",
       "</g>\n",
       "<!-- 105 -->\n",
       "<g id=\"node106\" class=\"node\">\n",
       "<title>105</title>\n",
       "<path fill=\"#ef86d8\" stroke=\"black\" d=\"M14915.5,-187C14915.5,-187 14608.5,-187 14608.5,-187 14602.5,-187 14596.5,-181 14596.5,-175 14596.5,-175 14596.5,-116 14596.5,-116 14596.5,-110 14602.5,-104 14608.5,-104 14608.5,-104 14915.5,-104 14915.5,-104 14921.5,-104 14927.5,-110 14927.5,-116 14927.5,-116 14927.5,-175 14927.5,-175 14927.5,-181 14921.5,-187 14915.5,-187\"/>\n",
       "<text text-anchor=\"start\" x=\"14684\" y=\"-171.8\" font-family=\"helvetica\" font-size=\"14.00\">non_shiftable_load ≤ 0.02</text>\n",
       "<text text-anchor=\"start\" x=\"14714.5\" y=\"-156.8\" font-family=\"helvetica\" font-size=\"14.00\">entropy = 1.531</text>\n",
       "<text text-anchor=\"start\" x=\"14717\" y=\"-141.8\" font-family=\"helvetica\" font-size=\"14.00\">samples = 362</text>\n",
       "<text text-anchor=\"start\" x=\"14604.5\" y=\"-126.8\" font-family=\"helvetica\" font-size=\"14.00\">value = [48.403, 33.711, 123.046, 128.562, 653.779]</text>\n",
       "<text text-anchor=\"start\" x=\"14696.5\" y=\"-111.8\" font-family=\"helvetica\" font-size=\"14.00\">class = 100%_charge</text>\n",
       "</g>\n",
       "<!-- 101&#45;&gt;105 -->\n",
       "<g id=\"edge105\" class=\"edge\">\n",
       "<title>101-&gt;105</title>\n",
       "<path fill=\"none\" stroke=\"black\" d=\"M14649.67,-222.91C14663.95,-213.2 14679.3,-202.76 14693.92,-192.81\"/>\n",
       "<polygon fill=\"black\" stroke=\"black\" points=\"14696.13,-195.54 14702.43,-187.02 14692.19,-189.75 14696.13,-195.54\"/>\n",
       "</g>\n",
       "<!-- 103 -->\n",
       "<g id=\"node104\" class=\"node\">\n",
       "<title>103</title>\n",
       "<path fill=\"#ef82d7\" stroke=\"black\" d=\"M14240,-68C14240,-68 13978,-68 13978,-68 13972,-68 13966,-62 13966,-56 13966,-56 13966,-12 13966,-12 13966,-6 13972,0 13978,0 13978,0 14240,0 14240,0 14246,0 14252,-6 14252,-12 14252,-12 14252,-56 14252,-56 14252,-62 14246,-68 14240,-68\"/>\n",
       "<text text-anchor=\"start\" x=\"14061.5\" y=\"-52.8\" font-family=\"helvetica\" font-size=\"14.00\">entropy = 1.278</text>\n",
       "<text text-anchor=\"start\" x=\"14068\" y=\"-37.8\" font-family=\"helvetica\" font-size=\"14.00\">samples = 24</text>\n",
       "<text text-anchor=\"start\" x=\"13974\" y=\"-22.8\" font-family=\"helvetica\" font-size=\"14.00\">value = [3.355, 1.037, 4.395, 18.366, 64.659]</text>\n",
       "<text text-anchor=\"start\" x=\"14043.5\" y=\"-7.8\" font-family=\"helvetica\" font-size=\"14.00\">class = 100%_charge</text>\n",
       "</g>\n",
       "<!-- 102&#45;&gt;103 -->\n",
       "<g id=\"edge103\" class=\"edge\">\n",
       "<title>102-&gt;103</title>\n",
       "<path fill=\"none\" stroke=\"black\" d=\"M14302.75,-103.88C14272.91,-93.27 14240.93,-81.91 14211.73,-71.52\"/>\n",
       "<polygon fill=\"black\" stroke=\"black\" points=\"14212.54,-68.1 14201.94,-68.04 14210.19,-74.69 14212.54,-68.1\"/>\n",
       "</g>\n",
       "<!-- 104 -->\n",
       "<g id=\"node105\" class=\"node\">\n",
       "<title>104</title>\n",
       "<path fill=\"#a8a6f3\" stroke=\"black\" d=\"M14574,-68C14574,-68 14282,-68 14282,-68 14276,-68 14270,-62 14270,-56 14270,-56 14270,-12 14270,-12 14270,-6 14276,0 14282,0 14282,0 14574,0 14574,0 14580,0 14586,-6 14586,-12 14586,-12 14586,-56 14586,-56 14586,-62 14580,-68 14574,-68\"/>\n",
       "<text text-anchor=\"start\" x=\"14380.5\" y=\"-52.8\" font-family=\"helvetica\" font-size=\"14.00\">entropy = 1.916</text>\n",
       "<text text-anchor=\"start\" x=\"14383\" y=\"-37.8\" font-family=\"helvetica\" font-size=\"14.00\">samples = 136</text>\n",
       "<text text-anchor=\"start\" x=\"14278\" y=\"-22.8\" font-family=\"helvetica\" font-size=\"14.00\">value = [19.169, 23.857, 35.156, 128.562, 35.922]</text>\n",
       "<text text-anchor=\"start\" x=\"14366\" y=\"-7.8\" font-family=\"helvetica\" font-size=\"14.00\">class = 50%_charge</text>\n",
       "</g>\n",
       "<!-- 102&#45;&gt;104 -->\n",
       "<g id=\"edge104\" class=\"edge\">\n",
       "<title>102-&gt;104</title>\n",
       "<path fill=\"none\" stroke=\"black\" d=\"M14421.1,-103.73C14421.93,-95.43 14422.81,-86.67 14423.65,-78.28\"/>\n",
       "<polygon fill=\"black\" stroke=\"black\" points=\"14427.14,-78.6 14424.65,-68.3 14420.17,-77.9 14427.14,-78.6\"/>\n",
       "</g>\n",
       "<!-- 106 -->\n",
       "<g id=\"node107\" class=\"node\">\n",
       "<title>106</title>\n",
       "<path fill=\"#f3a2e1\" stroke=\"black\" d=\"M14885.5,-68C14885.5,-68 14616.5,-68 14616.5,-68 14610.5,-68 14604.5,-62 14604.5,-56 14604.5,-56 14604.5,-12 14604.5,-12 14604.5,-6 14610.5,0 14616.5,0 14616.5,0 14885.5,0 14885.5,0 14891.5,0 14897.5,-6 14897.5,-12 14897.5,-12 14897.5,-56 14897.5,-56 14897.5,-62 14891.5,-68 14885.5,-68\"/>\n",
       "<text text-anchor=\"start\" x=\"14703.5\" y=\"-52.8\" font-family=\"helvetica\" font-size=\"14.00\">entropy = 1.509</text>\n",
       "<text text-anchor=\"start\" x=\"14706\" y=\"-37.8\" font-family=\"helvetica\" font-size=\"14.00\">samples = 101</text>\n",
       "<text text-anchor=\"start\" x=\"14612.5\" y=\"-22.8\" font-family=\"helvetica\" font-size=\"14.00\">value = [15.336, 12.447, 43.945, 0.0, 107.766]</text>\n",
       "<text text-anchor=\"start\" x=\"14685.5\" y=\"-7.8\" font-family=\"helvetica\" font-size=\"14.00\">class = 100%_charge</text>\n",
       "</g>\n",
       "<!-- 105&#45;&gt;106 -->\n",
       "<g id=\"edge106\" class=\"edge\">\n",
       "<title>105-&gt;106</title>\n",
       "<path fill=\"none\" stroke=\"black\" d=\"M14757.9,-103.73C14757.07,-95.43 14756.19,-86.67 14755.35,-78.28\"/>\n",
       "<polygon fill=\"black\" stroke=\"black\" points=\"14758.83,-77.9 14754.35,-68.3 14751.86,-78.6 14758.83,-77.9\"/>\n",
       "</g>\n",
       "<!-- 107 -->\n",
       "<g id=\"node108\" class=\"node\">\n",
       "<title>107</title>\n",
       "<path fill=\"#ef85d8\" stroke=\"black\" d=\"M15226.5,-68C15226.5,-68 14927.5,-68 14927.5,-68 14921.5,-68 14915.5,-62 14915.5,-56 14915.5,-56 14915.5,-12 14915.5,-12 14915.5,-6 14921.5,0 14927.5,0 14927.5,0 15226.5,0 15226.5,0 15232.5,0 15238.5,-6 15238.5,-12 15238.5,-12 15238.5,-56 15238.5,-56 15238.5,-62 15232.5,-68 15226.5,-68\"/>\n",
       "<text text-anchor=\"start\" x=\"15029.5\" y=\"-52.8\" font-family=\"helvetica\" font-size=\"14.00\">entropy = 1.459</text>\n",
       "<text text-anchor=\"start\" x=\"15032\" y=\"-37.8\" font-family=\"helvetica\" font-size=\"14.00\">samples = 261</text>\n",
       "<text text-anchor=\"start\" x=\"14923.5\" y=\"-22.8\" font-family=\"helvetica\" font-size=\"14.00\">value = [33.067, 21.264, 79.101, 128.562, 546.013]</text>\n",
       "<text text-anchor=\"start\" x=\"15011.5\" y=\"-7.8\" font-family=\"helvetica\" font-size=\"14.00\">class = 100%_charge</text>\n",
       "</g>\n",
       "<!-- 105&#45;&gt;107 -->\n",
       "<g id=\"edge107\" class=\"edge\">\n",
       "<title>105-&gt;107</title>\n",
       "<path fill=\"none\" stroke=\"black\" d=\"M14878.85,-103.88C14909.5,-93.23 14942.35,-81.81 14972.32,-71.39\"/>\n",
       "<polygon fill=\"black\" stroke=\"black\" points=\"14973.65,-74.63 14981.94,-68.04 14971.35,-68.02 14973.65,-74.63\"/>\n",
       "</g>\n",
       "<!-- 109 -->\n",
       "<g id=\"node110\" class=\"node\">\n",
       "<title>109</title>\n",
       "<path fill=\"#aff4e8\" stroke=\"black\" d=\"M15534.5,-187C15534.5,-187 15265.5,-187 15265.5,-187 15259.5,-187 15253.5,-181 15253.5,-175 15253.5,-175 15253.5,-116 15253.5,-116 15253.5,-110 15259.5,-104 15265.5,-104 15265.5,-104 15534.5,-104 15534.5,-104 15540.5,-104 15546.5,-110 15546.5,-116 15546.5,-116 15546.5,-175 15546.5,-175 15546.5,-181 15540.5,-187 15534.5,-187\"/>\n",
       "<text text-anchor=\"start\" x=\"15323.5\" y=\"-171.8\" font-family=\"helvetica\" font-size=\"14.00\">electricity_pricing ≤ 0.384</text>\n",
       "<text text-anchor=\"start\" x=\"15352.5\" y=\"-156.8\" font-family=\"helvetica\" font-size=\"14.00\">entropy = 1.893</text>\n",
       "<text text-anchor=\"start\" x=\"15355\" y=\"-141.8\" font-family=\"helvetica\" font-size=\"14.00\">samples = 126</text>\n",
       "<text text-anchor=\"start\" x=\"15261.5\" y=\"-126.8\" font-family=\"helvetica\" font-size=\"14.00\">value = [22.045, 8.817, 82.031, 30.61, 14.369]</text>\n",
       "<text text-anchor=\"start\" x=\"15366\" y=\"-111.8\" font-family=\"helvetica\" font-size=\"14.00\">class = idle</text>\n",
       "</g>\n",
       "<!-- 108&#45;&gt;109 -->\n",
       "<g id=\"edge109\" class=\"edge\">\n",
       "<title>108-&gt;109</title>\n",
       "<path fill=\"none\" stroke=\"black\" d=\"M15400,-222.91C15400,-214.65 15400,-205.86 15400,-197.3\"/>\n",
       "<polygon fill=\"black\" stroke=\"black\" points=\"15403.5,-197.02 15400,-187.02 15396.5,-197.02 15403.5,-197.02\"/>\n",
       "</g>\n",
       "<!-- 112 -->\n",
       "<g id=\"node113\" class=\"node\">\n",
       "<title>112</title>\n",
       "<path fill=\"#5d5be9\" stroke=\"black\" d=\"M15815.5,-179.5C15815.5,-179.5 15576.5,-179.5 15576.5,-179.5 15570.5,-179.5 15564.5,-173.5 15564.5,-167.5 15564.5,-167.5 15564.5,-123.5 15564.5,-123.5 15564.5,-117.5 15570.5,-111.5 15576.5,-111.5 15576.5,-111.5 15815.5,-111.5 15815.5,-111.5 15821.5,-111.5 15827.5,-117.5 15827.5,-123.5 15827.5,-123.5 15827.5,-167.5 15827.5,-167.5 15827.5,-173.5 15821.5,-179.5 15815.5,-179.5\"/>\n",
       "<text text-anchor=\"start\" x=\"15648.5\" y=\"-164.3\" font-family=\"helvetica\" font-size=\"14.00\">entropy = 0.821</text>\n",
       "<text text-anchor=\"start\" x=\"15655\" y=\"-149.3\" font-family=\"helvetica\" font-size=\"14.00\">samples = 15</text>\n",
       "<text text-anchor=\"start\" x=\"15572.5\" y=\"-134.3\" font-family=\"helvetica\" font-size=\"14.00\">value = [0.479, 0.519, 2.93, 61.22, 7.184]</text>\n",
       "<text text-anchor=\"start\" x=\"15634\" y=\"-119.3\" font-family=\"helvetica\" font-size=\"14.00\">class = 50%_charge</text>\n",
       "</g>\n",
       "<!-- 108&#45;&gt;112 -->\n",
       "<g id=\"edge112\" class=\"edge\">\n",
       "<title>108-&gt;112</title>\n",
       "<path fill=\"none\" stroke=\"black\" d=\"M15502.7,-222.91C15535.22,-210.05 15570.97,-195.92 15602.79,-183.34\"/>\n",
       "<polygon fill=\"black\" stroke=\"black\" points=\"15604.08,-186.6 15612.09,-179.67 15601.5,-180.09 15604.08,-186.6\"/>\n",
       "</g>\n",
       "<!-- 110 -->\n",
       "<g id=\"node111\" class=\"node\">\n",
       "<title>110</title>\n",
       "<path fill=\"#e0fbf6\" stroke=\"black\" d=\"M15531,-68C15531,-68 15269,-68 15269,-68 15263,-68 15257,-62 15257,-56 15257,-56 15257,-12 15257,-12 15257,-6 15263,0 15269,0 15269,0 15531,0 15531,0 15537,0 15543,-6 15543,-12 15543,-12 15543,-56 15543,-56 15543,-62 15537,-68 15531,-68\"/>\n",
       "<text text-anchor=\"start\" x=\"15352.5\" y=\"-52.8\" font-family=\"helvetica\" font-size=\"14.00\">entropy = 2.018</text>\n",
       "<text text-anchor=\"start\" x=\"15359\" y=\"-37.8\" font-family=\"helvetica\" font-size=\"14.00\">samples = 76</text>\n",
       "<text text-anchor=\"start\" x=\"15265\" y=\"-22.8\" font-family=\"helvetica\" font-size=\"14.00\">value = [15.336, 4.149, 42.48, 30.61, 14.369]</text>\n",
       "<text text-anchor=\"start\" x=\"15366\" y=\"-7.8\" font-family=\"helvetica\" font-size=\"14.00\">class = idle</text>\n",
       "</g>\n",
       "<!-- 109&#45;&gt;110 -->\n",
       "<g id=\"edge110\" class=\"edge\">\n",
       "<title>109-&gt;110</title>\n",
       "<path fill=\"none\" stroke=\"black\" d=\"M15400,-103.73C15400,-95.52 15400,-86.86 15400,-78.56\"/>\n",
       "<polygon fill=\"black\" stroke=\"black\" points=\"15403.5,-78.3 15400,-68.3 15396.5,-78.3 15403.5,-78.3\"/>\n",
       "</g>\n",
       "<!-- 111 -->\n",
       "<g id=\"node112\" class=\"node\">\n",
       "<title>111</title>\n",
       "<path fill=\"#6cecd4\" stroke=\"black\" d=\"M15797,-68C15797,-68 15573,-68 15573,-68 15567,-68 15561,-62 15561,-56 15561,-56 15561,-12 15561,-12 15561,-6 15567,0 15573,0 15573,0 15797,0 15797,0 15803,0 15809,-6 15809,-12 15809,-12 15809,-56 15809,-56 15809,-62 15803,-68 15797,-68\"/>\n",
       "<text text-anchor=\"start\" x=\"15637.5\" y=\"-52.8\" font-family=\"helvetica\" font-size=\"14.00\">entropy = 0.984</text>\n",
       "<text text-anchor=\"start\" x=\"15644\" y=\"-37.8\" font-family=\"helvetica\" font-size=\"14.00\">samples = 50</text>\n",
       "<text text-anchor=\"start\" x=\"15569\" y=\"-22.8\" font-family=\"helvetica\" font-size=\"14.00\">value = [6.709, 4.668, 39.551, 0.0, 0.0]</text>\n",
       "<text text-anchor=\"start\" x=\"15651\" y=\"-7.8\" font-family=\"helvetica\" font-size=\"14.00\">class = idle</text>\n",
       "</g>\n",
       "<!-- 109&#45;&gt;111 -->\n",
       "<g id=\"edge111\" class=\"edge\">\n",
       "<title>109-&gt;111</title>\n",
       "<path fill=\"none\" stroke=\"black\" d=\"M15505.72,-103.88C15533.21,-93.32 15562.66,-82 15589.59,-71.66\"/>\n",
       "<polygon fill=\"black\" stroke=\"black\" points=\"15590.92,-74.9 15599,-68.04 15588.41,-68.36 15590.92,-74.9\"/>\n",
       "</g>\n",
       "</g>\n",
       "</svg>"
      ],
      "text/plain": [
       "<IPython.core.display.SVG object>"
      ]
     },
     "metadata": {},
     "output_type": "display_data"
    }
   ],
   "source": [
    "# ---- Explainability: Decision Tree (state -> action) ----\n",
    "# Trains a small DecisionTreeClassifier on (observation -> action) pairs from training logs.\n",
    "from sklearn.tree import DecisionTreeClassifier, export_text, plot_tree\n",
    "from sklearn.model_selection import train_test_split\n",
    "from sklearn.metrics import accuracy_score, classification_report, confusion_matrix\n",
    "import matplotlib.pyplot as plt\n",
    "import numpy as np\n",
    "import pandas as pd\n",
    "from sklearn.model_selection import GridSearchCV, StratifiedKFold\n",
    "\n",
    "# 1) Load logged steps (x0..xN features, 'action' as label)\n",
    "def _load_policy_dataset(csv_path=\"train_steps.csv\"):\n",
    "    if os.path.exists(csv_path):\n",
    "        df = pd.read_csv(csv_path)\n",
    "        print(f\"Loaded {len(df)} rows from {os.path.abspath(csv_path)}\")\n",
    "        return df\n",
    "    if 'train_callback' in globals() and hasattr(train_callback, 'df') and len(train_callback.df):\n",
    "        print(\"Using in-memory train_callback.df\")\n",
    "        return train_callback.df.copy()\n",
    "    raise FileNotFoundError(\"No training dataset found. Ensure train_steps.csv exists or run training first.\")\n",
    "\n",
    "df_steps = _load_policy_dataset()\n",
    "\n",
    "feat_cols = sorted([c for c in df_steps.columns if c.startswith(\"x\")],\n",
    "                   key=lambda c: int(c[1:]) if c[1:].isdigit() else 1e9)\n",
    "\n",
    "# Map to CityLearn observation names for readability (single-building)\n",
    "feature_names = feat_cols\n",
    "try:\n",
    "    obs_names = eval_env.unwrapped.observation_names[0]  # Building_1\n",
    "    if len(obs_names) == len(feat_cols):\n",
    "        feature_names = list(obs_names)\n",
    "except Exception:\n",
    "    pass\n",
    "\n",
    "X = df_steps[feat_cols].to_numpy() # flattened observations\n",
    "y = df_steps['action'].astype(int).to_numpy() # actions the DQN took\n",
    "\n",
    "# Train/test split\n",
    "X_train, X_test, y_train, y_test = train_test_split(X, y, test_size=0.25, random_state=0, stratify=y)\n",
    "\n",
    "\"\"\"\n",
    "# 3) Train a compact tree (tune depth/leaves for your preference)\n",
    "# Greedily picks the feature and threshold that best split \n",
    "# the training data to reduce class impurity (default: gini)\n",
    "clf = DecisionTreeClassifier(\n",
    "    criterion=\"gini\", # \n",
    "    max_depth=4,\n",
    "    min_samples_leaf=50,\n",
    "    random_state=0,\n",
    "    class_weight=\"balanced\"\n",
    ")\n",
    "clf.fit(X_train, y_train)\n",
    "\"\"\"\n",
    "# Hyperparameter optimization with GridSearchCV\n",
    "param_grid = {\n",
    "    \"criterion\": [\"gini\", \"entropy\", \"log_loss\"],\n",
    "    \"max_depth\": [3, 4, 5, 6, None],\n",
    "    \"min_samples_leaf\": [1, 5, 10, 25, 50],\n",
    "    \"min_samples_split\": [2, 5, 10, 20],\n",
    "    \"class_weight\": [None, \"balanced\"],\n",
    "    \"ccp_alpha\": [0.0, 0.0005, 0.001, 0.005],\n",
    "    \"splitter\": [\"best\"]\n",
    "}\n",
    "\n",
    "cv = StratifiedKFold(n_splits=5, shuffle=True, random_state=0) # keeps class proportions similar in each fold\n",
    "grid = GridSearchCV(\n",
    "    DecisionTreeClassifier(random_state=0),\n",
    "    param_grid=param_grid,\n",
    "    scoring=\"balanced_accuracy\",\n",
    "    cv=cv,\n",
    "    n_jobs=-1,\n",
    "    verbose=1\n",
    ")\n",
    "\n",
    "grid.fit(X_train, y_train)\n",
    "print(\"Best balanced_accuracy:\", grid.best_score_)\n",
    "print(\"Best params:\", grid.best_params_)\n",
    "\n",
    "clf = grid.best_estimator_\n",
    "\n",
    "# Evaluate fidelity to the DQN policy\n",
    "y_pred = clf.predict(X_test)\n",
    "acc = accuracy_score(y_test, y_pred) # fraction of correctly classified samples\n",
    "print(f\"Surrogate Tree Accuracy: {acc:.3f}\")\n",
    "print(\"Confusion matrix (rows=true, cols=pred):\\n\", confusion_matrix(y_test, y_pred))\n",
    "print(classification_report(y_test, y_pred, target_names=ACTION_LABELS))\n",
    "\n",
    "# Global explanations\n",
    "print(\"\\nTop feature importances:\")\n",
    "imp_idx = np.argsort(clf.feature_importances_)[::-1]\n",
    "for i in imp_idx[:10]:\n",
    "    if clf.feature_importances_[i] <= 0: break\n",
    "    print(f\"- {feature_names[i]}: {clf.feature_importances_[i]:.4f}\")\n",
    "\n",
    "#print(\"\\nTree rules (text form):\")\n",
    "#print(export_text(clf, feature_names=feature_names))\n",
    "\n",
    "\n",
    "# Local explanation for a single timestep\n",
    "def explain_sample(idx_in_df: int):\n",
    "    \"\"\"Print the decision path for a given row index from df_steps.\"\"\"\n",
    "    x = df_steps.iloc[idx_in_df][feat_cols].to_numpy().reshape(1, -1)\n",
    "    true_a = int(df_steps.iloc[idx_in_df]['action'])\n",
    "    pred_a = int(clf.predict(x)[0])\n",
    "    proba  = clf.predict_proba(x)[0]\n",
    "    tree = clf.tree_\n",
    "    node = 0\n",
    "    path = []\n",
    "    while tree.feature[node] != -2:  # -2 => leaf\n",
    "        f_idx = tree.feature[node]\n",
    "        thr = tree.threshold[node]\n",
    "        val = float(x[0, f_idx])\n",
    "        go_left = val <= thr\n",
    "        path.append((feature_names[f_idx], val, thr, \"left\" if go_left else \"right\"))\n",
    "        node = tree.children_left[node] if go_left else tree.children_right[node]\n",
    "    print(f\"True action: {true_a} ({ACTION_LABELS[true_a]}), \"\n",
    "          f\"Pred: {pred_a} ({ACTION_LABELS[pred_a]}), \"\n",
    "          f\"Proba: {dict(zip(ACTION_LABELS, np.round(proba,3)))}\")\n",
    "    print(\"Decision path:\")\n",
    "    for name, val, thr, side in path:\n",
    "        print(f\" - {name}: {val:.4f} <= {thr:.4f} -> {side}\")\n",
    "    return pred_a\n",
    "\n",
    "# Example: Random sample from the dataset\n",
    "_ = explain_sample(idx_in_df=np.random.randint(0, len(df_steps)))\n",
    "\n",
    "# Visualization with Graphviz (SVG)\n",
    "try:\n",
    "    from sklearn.tree import export_graphviz\n",
    "    import graphviz\n",
    "    from IPython.display import SVG, display\n",
    "\n",
    "    dot = export_graphviz(\n",
    "        clf,\n",
    "        out_file=None,\n",
    "        feature_names=feature_names,\n",
    "        class_names=ACTION_LABELS,\n",
    "        filled=True,\n",
    "        rounded=True,\n",
    "        special_characters=True,\n",
    "    )\n",
    "    src = graphviz.Source(dot)\n",
    "    display(SVG(src.pipe(format='svg')))  # crisp, scalable, no overlaps\n",
    "except Exception as e:\n",
    "    print(\"Graphviz unavailable; falling back to matplotlib (may overlap). Error:\", e)\n",
    "    plt.figure(figsize=(32, 16), dpi=250)\n",
    "    plot_tree(\n",
    "        clf,\n",
    "        feature_names=feature_names,\n",
    "        class_names=ACTION_LABELS,\n",
    "        filled=True,\n",
    "        rounded=True,\n",
    "        max_depth=4,\n",
    "        fontsize=14\n",
    "    )\n",
    "    plt.tight_layout()\n",
    "    plt.show()\n",
    "\n"
   ]
  }
 ],
 "metadata": {
  "kernelspec": {
   "display_name": "Python (citylearn_env)",
   "language": "python",
   "name": "citylearn_env"
  },
  "language_info": {
   "codemirror_mode": {
    "name": "ipython",
    "version": 3
   },
   "file_extension": ".py",
   "mimetype": "text/x-python",
   "name": "python",
   "nbconvert_exporter": "python",
   "pygments_lexer": "ipython3",
   "version": "3.11.7"
  }
 },
 "nbformat": 4,
 "nbformat_minor": 5
}
