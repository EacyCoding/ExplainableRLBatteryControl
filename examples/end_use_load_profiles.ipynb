{
 "cells": [
  {
   "cell_type": "code",
   "execution_count": 1,
   "metadata": {},
   "outputs": [],
   "source": [
    "import os\n",
    "import sys\n",
    "sys.path.insert(0, '..')\n",
    "import numpy as np\n",
    "import pandas as pd\n",
    "from citylearn.end_use_load_profiles.clustering import MetadataClustering\n",
    "from citylearn.end_use_load_profiles.neighborhood import Neighborhood, SampleMethod"
   ]
  },
  {
   "cell_type": "code",
   "execution_count": 2,
   "metadata": {},
   "outputs": [],
   "source": [
    "neighborhood = Neighborhood(random_seed=10)"
   ]
  },
  {
   "cell_type": "code",
   "execution_count": 3,
   "metadata": {},
   "outputs": [],
   "source": [
    "bldg_ids, labels, sample_metadata = neighborhood.sample_buildings(\n",
    "    sample_method=SampleMethod.METADATA_CLUSTER_FREQUENCY\n",
    ")"
   ]
  },
  {
   "cell_type": "code",
   "execution_count": 5,
   "metadata": {},
   "outputs": [
    {
     "name": "stdout",
     "output_type": "stream",
     "text": [
      "[openstudio.energyplus.ForwardTranslator] <0> Cannot find file \"\"\n",
      "[openstudio.energyplus.ForwardTranslator] <0> Cannot find file \"\"\n",
      "[openstudio.energyplus.ForwardTranslator] <0> Cannot find file \"\"\n",
      "[openstudio.energyplus.ForwardTranslator] <0> Cannot find file \"\"\n",
      "[openstudio.energyplus.ForwardTranslator] <0> Cannot find file \"\"\n",
      "[openstudio.energyplus.ForwardTranslator] <0> Cannot find file \"\"\n",
      "[openstudio.energyplus.ForwardTranslator] <0> Cannot find file \"\"\n",
      "[openstudio.energyplus.ForwardTranslator] <0> Cannot find file \"\"\n",
      "[openstudio.energyplus.ForwardTranslator] <0> Cannot find file \"\"\n",
      "[openstudio.energyplus.ForwardTranslator] <0> Cannot find file \"\"\n",
      "[openstudio.energyplus.ForwardTranslator] <0> Cannot find file \"\"\n",
      "[openstudio.energyplus.ForwardTranslator] <0> Cannot find file \"\"\n",
      "[openstudio.energyplus.ForwardTranslator] <0> Cannot find file \"\"\n",
      "[openstudio.energyplus.ForwardTranslator] <0> Cannot find file \"\"\n",
      "[openstudio.energyplus.ForwardTranslator] <0> Cannot find file \"\"\n",
      "[openstudio.energyplus.ForwardTranslator] <0> Cannot find file \"\"\n"
     ]
    },
    {
     "name": "stderr",
     "output_type": "stream",
     "text": [
      "Could not find platform independent libraries <prefix>\n",
      "Could not find platform dependent libraries <exec_prefix>\n",
      "Consider setting $PYTHONHOME to <prefix>[:<exec_prefix>]\n",
      "EnergyPlus Completed Successfully.\n"
     ]
    },
    {
     "name": "stdout",
     "output_type": "stream",
     "text": [
      "[openstudio.energyplus.ForwardTranslator] <0> Cannot find file \"\"\n",
      "[openstudio.energyplus.ForwardTranslator] <0> Cannot find file \"\"\n",
      "[openstudio.energyplus.ForwardTranslator] <0> Cannot find file \"\"\n",
      "[openstudio.energyplus.ForwardTranslator] <0> Cannot find file \"\"\n",
      "[openstudio.energyplus.ForwardTranslator] <0> Cannot find file \"\"\n",
      "[openstudio.energyplus.ForwardTranslator] <0> Cannot find file \"\"\n",
      "[openstudio.energyplus.ForwardTranslator] <0> Cannot find file \"\"\n",
      "[openstudio.energyplus.ForwardTranslator] <0> Cannot find file \"\"\n",
      "[openstudio.energyplus.ForwardTranslator] <0> Cannot find file \"\"\n",
      "[openstudio.energyplus.ForwardTranslator] <0> Cannot find file \"\"\n",
      "[openstudio.energyplus.ForwardTranslator] <0> Cannot find file \"\"\n",
      "[openstudio.energyplus.ForwardTranslator] <0> Cannot find file \"\"\n",
      "[openstudio.energyplus.ForwardTranslator] <0> Cannot find file \"\"\n",
      "[openstudio.energyplus.ForwardTranslator] <0> Cannot find file \"\"\n",
      "[openstudio.energyplus.ForwardTranslator] <0> Cannot find file \"\"\n",
      "[openstudio.energyplus.ForwardTranslator] <0> Cannot find file \"\"\n"
     ]
    },
    {
     "name": "stderr",
     "output_type": "stream",
     "text": [
      "Could not find platform independent libraries <prefix>\n",
      "Could not find platform dependent libraries <exec_prefix>\n",
      "Consider setting $PYTHONHOME to <prefix>[:<exec_prefix>]\n",
      "Program terminated: EnergyPlus Terminated--Error(s) Detected.\n",
      "Could not find platform independent libraries <prefix>\n",
      "Could not find platform dependent libraries <exec_prefix>\n",
      "Consider setting $PYTHONHOME to <prefix>[:<exec_prefix>]\n",
      "Program terminated: EnergyPlus Terminated--Error(s) Detected.\n",
      "Could not find platform independent libraries <prefix>\n",
      "Could not find platform dependent libraries <exec_prefix>\n",
      "Consider setting $PYTHONHOME to <prefix>[:<exec_prefix>]\n",
      "Program terminated: EnergyPlus Terminated--Error(s) Detected.\n",
      "Could not find platform independent libraries <prefix>\n",
      "Could not find platform dependent libraries <exec_prefix>\n",
      "Consider setting $PYTHONHOME to <prefix>[:<exec_prefix>]\n",
      "Program terminated: EnergyPlus Terminated--Error(s) Detected.\n",
      "Could not find platform independent libraries <prefix>\n",
      "Could not find platform dependent libraries <exec_prefix>\n",
      "Consider setting $PYTHONHOME to <prefix>[:<exec_prefix>]\n",
      "Program terminated: EnergyPlus Terminated--Error(s) Detected.\n",
      "Could not find platform independent libraries <prefix>\n",
      "Could not find platform dependent libraries <exec_prefix>\n",
      "Consider setting $PYTHONHOME to <prefix>[:<exec_prefix>]\n",
      "Program terminated: EnergyPlus Terminated--Error(s) Detected.\n",
      "Could not find platform independent libraries <prefix>\n",
      "Could not find platform dependent libraries <exec_prefix>\n",
      "Consider setting $PYTHONHOME to <prefix>[:<exec_prefix>]\n",
      "Program terminated: EnergyPlus Terminated--Error(s) Detected.\n",
      "Could not find platform independent libraries <prefix>\n",
      "Could not find platform dependent libraries <exec_prefix>\n",
      "Consider setting $PYTHONHOME to <prefix>[:<exec_prefix>]\n",
      "Program terminated: EnergyPlus Terminated--Error(s) Detected.\n",
      "Could not find platform independent libraries <prefix>\n",
      "Could not find platform dependent libraries <exec_prefix>\n",
      "Consider setting $PYTHONHOME to <prefix>[:<exec_prefix>]\n",
      "Program terminated: EnergyPlus Terminated--Error(s) Detected.\n",
      "Could not find platform independent libraries <prefix>\n",
      "Could not find platform dependent libraries <exec_prefix>\n",
      "Consider setting $PYTHONHOME to <prefix>[:<exec_prefix>]\n",
      "EnergyPlus Completed Successfully.\n"
     ]
    },
    {
     "name": "stdout",
     "output_type": "stream",
     "text": [
      "\n",
      "\n"
     ]
    },
    {
     "ename": "KeyError",
     "evalue": "'cooling_load'",
     "output_type": "error",
     "traceback": [
      "\u001b[0;31m---------------------------------------------------------------------------\u001b[0m",
      "\u001b[0;31mKeyError\u001b[0m                                  Traceback (most recent call last)",
      "File \u001b[0;32m~/Desktop/INTELLIGENT_ENVIRONMENT_LAB/citylearn/CityLearn/test-py311-env/lib/python3.11/site-packages/pandas/core/indexes/base.py:3805\u001b[0m, in \u001b[0;36mIndex.get_loc\u001b[0;34m(self, key)\u001b[0m\n\u001b[1;32m   3804\u001b[0m \u001b[38;5;28;01mtry\u001b[39;00m:\n\u001b[0;32m-> 3805\u001b[0m     \u001b[38;5;28;01mreturn\u001b[39;00m \u001b[38;5;28;43mself\u001b[39;49m\u001b[38;5;241;43m.\u001b[39;49m\u001b[43m_engine\u001b[49m\u001b[38;5;241;43m.\u001b[39;49m\u001b[43mget_loc\u001b[49m\u001b[43m(\u001b[49m\u001b[43mcasted_key\u001b[49m\u001b[43m)\u001b[49m\n\u001b[1;32m   3806\u001b[0m \u001b[38;5;28;01mexcept\u001b[39;00m \u001b[38;5;167;01mKeyError\u001b[39;00m \u001b[38;5;28;01mas\u001b[39;00m err:\n",
      "File \u001b[0;32mindex.pyx:167\u001b[0m, in \u001b[0;36mpandas._libs.index.IndexEngine.get_loc\u001b[0;34m()\u001b[0m\n",
      "File \u001b[0;32mindex.pyx:196\u001b[0m, in \u001b[0;36mpandas._libs.index.IndexEngine.get_loc\u001b[0;34m()\u001b[0m\n",
      "File \u001b[0;32mpandas/_libs/hashtable_class_helper.pxi:7081\u001b[0m, in \u001b[0;36mpandas._libs.hashtable.PyObjectHashTable.get_item\u001b[0;34m()\u001b[0m\n",
      "File \u001b[0;32mpandas/_libs/hashtable_class_helper.pxi:7089\u001b[0m, in \u001b[0;36mpandas._libs.hashtable.PyObjectHashTable.get_item\u001b[0;34m()\u001b[0m\n",
      "\u001b[0;31mKeyError\u001b[0m: 'cooling_load'",
      "\nThe above exception was the direct cause of the following exception:\n",
      "\u001b[0;31mKeyError\u001b[0m                                  Traceback (most recent call last)",
      "Cell \u001b[0;32mIn[5], line 1\u001b[0m\n\u001b[0;32m----> 1\u001b[0m simulators \u001b[38;5;241m=\u001b[39m \u001b[43mneighborhood\u001b[49m\u001b[38;5;241;43m.\u001b[39;49m\u001b[43msimulate_energy_plus\u001b[49m\u001b[43m(\u001b[49m\n\u001b[1;32m      2\u001b[0m \u001b[43m    \u001b[49m\u001b[43mbldg_ids\u001b[49m\u001b[43m,\u001b[49m\n\u001b[1;32m      3\u001b[0m \u001b[43m    \u001b[49m\u001b[38;5;124;43m'\u001b[39;49m\u001b[38;5;124;43m/Applications/EnergyPlus-9-6-0/PreProcess/IDFVersionUpdater/V9-6-0-Energy+.idd\u001b[39;49m\u001b[38;5;124;43m'\u001b[39;49m\u001b[43m,\u001b[49m\n\u001b[1;32m      4\u001b[0m \u001b[43m    \u001b[49m\u001b[43mmax_workers\u001b[49m\u001b[38;5;241;43m=\u001b[39;49m\u001b[38;5;241;43m1\u001b[39;49m\u001b[43m,\u001b[49m\n\u001b[1;32m      5\u001b[0m \u001b[43m)\u001b[49m\n",
      "File \u001b[0;32m~/Desktop/INTELLIGENT_ENVIRONMENT_LAB/citylearn/CityLearn/examples/../citylearn/end_use_load_profiles/neighborhood.py:222\u001b[0m, in \u001b[0;36mNeighborhood.simulate_energy_plus\u001b[0;34m(self, bldg_ids, idd_filepath, simulation_ids, models, osm, partial_loads_simulations, partial_loads_kwargs, max_workers, **kwargs)\u001b[0m\n\u001b[1;32m    210\u001b[0m         _ \u001b[38;5;241m=\u001b[39m partial_loads_kwargs\u001b[38;5;241m.\u001b[39mpop(\u001b[38;5;124m'\u001b[39m\u001b[38;5;124mrandom_seed\u001b[39m\u001b[38;5;124m'\u001b[39m, \u001b[38;5;28;01mNone\u001b[39;00m)\n\u001b[1;32m    211\u001b[0m         partial_loads_simulators\u001b[38;5;241m.\u001b[39mappend(EndUseLoadProfilesEnergyPlusPartialLoadSimulator(\n\u001b[1;32m    212\u001b[0m             ideal_loads_simulator\u001b[38;5;241m=\u001b[39mdeepcopy(ideal_simulator),\n\u001b[1;32m    213\u001b[0m             multiplier_minimum\u001b[38;5;241m=\u001b[39mmultiplier_minimum,\n\u001b[0;32m   (...)\u001b[0m\n\u001b[1;32m    219\u001b[0m             \u001b[38;5;241m*\u001b[39m\u001b[38;5;241m*\u001b[39mpartial_loads_kwargs\n\u001b[1;32m    220\u001b[0m         ))\n\u001b[0;32m--> 222\u001b[0m     \u001b[43mEndUseLoadProfilesEnergyPlusPartialLoadSimulator\u001b[49m\u001b[38;5;241;43m.\u001b[39;49m\u001b[43mmulti_simulate\u001b[49m\u001b[43m(\u001b[49m\u001b[43mpartial_loads_simulators\u001b[49m\u001b[43m,\u001b[49m\u001b[43m \u001b[49m\u001b[43mmax_workers\u001b[49m\u001b[38;5;241;43m=\u001b[39;49m\u001b[43mmax_workers\u001b[49m\u001b[43m)\u001b[49m\n\u001b[1;32m    224\u001b[0m     simulators[bldg_id] \u001b[38;5;241m=\u001b[39m {\n\u001b[1;32m    225\u001b[0m         \u001b[38;5;124m'\u001b[39m\u001b[38;5;124mmechanical\u001b[39m\u001b[38;5;124m'\u001b[39m: mechanical_simulator,\n\u001b[1;32m    226\u001b[0m         \u001b[38;5;124m'\u001b[39m\u001b[38;5;124mideal\u001b[39m\u001b[38;5;124m'\u001b[39m: ideal_simulator,\n\u001b[1;32m    227\u001b[0m         \u001b[38;5;124m'\u001b[39m\u001b[38;5;124mpartial\u001b[39m\u001b[38;5;124m'\u001b[39m: partial_loads_simulators\n\u001b[1;32m    228\u001b[0m     }\n\u001b[1;32m    230\u001b[0m \u001b[38;5;28;01mreturn\u001b[39;00m simulators\n",
      "File \u001b[0;32m~/Desktop/INTELLIGENT_ENVIRONMENT_LAB/citylearn/CityLearn/test-py311-env/lib/python3.11/site-packages/doe_xstock/simulate.py:219\u001b[0m, in \u001b[0;36mEnergyPlusSimulator.multi_simulate\u001b[0;34m(cls, simulators, max_workers)\u001b[0m\n\u001b[1;32m    217\u001b[0m os\u001b[38;5;241m.\u001b[39mmakedirs(simulator\u001b[38;5;241m.\u001b[39moutput_directory, exist_ok\u001b[38;5;241m=\u001b[39m\u001b[38;5;28;01mTrue\u001b[39;00m)\n\u001b[1;32m    218\u001b[0m simulator\u001b[38;5;241m.\u001b[39m__write_epw()\n\u001b[0;32m--> 219\u001b[0m idf \u001b[38;5;241m=\u001b[39m \u001b[43msimulator\u001b[49m\u001b[38;5;241;43m.\u001b[39;49m\u001b[43mpreprocess_idf_for_simulation\u001b[49m\u001b[43m(\u001b[49m\u001b[43m)\u001b[49m\n\u001b[1;32m    220\u001b[0m simulator\u001b[38;5;241m.\u001b[39m__write_idf(idf\u001b[38;5;241m.\u001b[39midfstr())\n\u001b[1;32m    221\u001b[0m kwargs \u001b[38;5;241m=\u001b[39m simulator\u001b[38;5;241m.\u001b[39mget_run_kwargs()\n",
      "File \u001b[0;32m~/Desktop/INTELLIGENT_ENVIRONMENT_LAB/citylearn/CityLearn/test-py311-env/lib/python3.11/site-packages/doe_xstock/simulate.py:761\u001b[0m, in \u001b[0;36mEndUseLoadProfilesEnergyPlusPartialLoadSimulator.preprocess_idf_for_simulation\u001b[0;34m(self)\u001b[0m\n\u001b[1;32m    759\u001b[0m idf \u001b[38;5;241m=\u001b[39m \u001b[38;5;28msuper\u001b[39m()\u001b[38;5;241m.\u001b[39mpreprocess_idf_for_simulation()\n\u001b[1;32m    760\u001b[0m idf \u001b[38;5;241m=\u001b[39m \u001b[38;5;28mself\u001b[39m\u001b[38;5;241m.\u001b[39mremove_ideal_loads_air_system(idf)\n\u001b[0;32m--> 761\u001b[0m idf \u001b[38;5;241m=\u001b[39m \u001b[38;5;28;43mself\u001b[39;49m\u001b[38;5;241;43m.\u001b[39;49m\u001b[43madd_other_equipment\u001b[49m\u001b[43m(\u001b[49m\u001b[43midf\u001b[49m\u001b[43m)\u001b[49m\n\u001b[1;32m    763\u001b[0m \u001b[38;5;28;01mreturn\u001b[39;00m idf\n",
      "File \u001b[0;32m~/Desktop/INTELLIGENT_ENVIRONMENT_LAB/citylearn/CityLearn/test-py311-env/lib/python3.11/site-packages/doe_xstock/simulate.py:776\u001b[0m, in \u001b[0;36mEndUseLoadProfilesEnergyPlusPartialLoadSimulator.add_other_equipment\u001b[0;34m(self, idf)\u001b[0m\n\u001b[1;32m    773\u001b[0m obj\u001b[38;5;241m.\u001b[39mUnit_Type \u001b[38;5;241m=\u001b[39m \u001b[38;5;124m'\u001b[39m\u001b[38;5;124mDimensionless\u001b[39m\u001b[38;5;124m'\u001b[39m\n\u001b[1;32m    775\u001b[0m \u001b[38;5;66;03m# generate stochastic thermal load\u001b[39;00m\n\u001b[0;32m--> 776\u001b[0m ideal_loads \u001b[38;5;241m=\u001b[39m \u001b[38;5;28;43mself\u001b[39;49m\u001b[38;5;241;43m.\u001b[39;49m\u001b[43mget_ideal_loads\u001b[49m\u001b[43m(\u001b[49m\u001b[43m)\u001b[49m\n\u001b[1;32m    777\u001b[0m timesteps \u001b[38;5;241m=\u001b[39m ideal_loads[\u001b[38;5;124m'\u001b[39m\u001b[38;5;124mtimestep\u001b[39m\u001b[38;5;124m'\u001b[39m]\u001b[38;5;241m.\u001b[39mmax()\n\u001b[1;32m    778\u001b[0m multipliers \u001b[38;5;241m=\u001b[39m \u001b[38;5;28mself\u001b[39m\u001b[38;5;241m.\u001b[39mget_multipliers(ideal_loads\u001b[38;5;241m.\u001b[39mshape[\u001b[38;5;241m0\u001b[39m])\n",
      "File \u001b[0;32m~/Desktop/INTELLIGENT_ENVIRONMENT_LAB/citylearn/CityLearn/test-py311-env/lib/python3.11/site-packages/doe_xstock/simulate.py:849\u001b[0m, in \u001b[0;36mEndUseLoadProfilesEnergyPlusPartialLoadSimulator.get_ideal_loads\u001b[0;34m(self)\u001b[0m\n\u001b[1;32m    846\u001b[0m data \u001b[38;5;241m=\u001b[39m data\u001b[38;5;241m.\u001b[39mreset_index()\n\u001b[1;32m    848\u001b[0m \u001b[38;5;28;01mif\u001b[39;00m \u001b[38;5;129;01mnot\u001b[39;00m \u001b[38;5;28mself\u001b[39m\u001b[38;5;241m.\u001b[39mallow_multi_load_time_step:\n\u001b[0;32m--> 849\u001b[0m     data\u001b[38;5;241m.\u001b[39mloc[\u001b[43mdata\u001b[49m\u001b[43m[\u001b[49m\u001b[38;5;124;43m'\u001b[39;49m\u001b[38;5;124;43mcooling_load\u001b[39;49m\u001b[38;5;124;43m'\u001b[39;49m\u001b[43m]\u001b[49m \u001b[38;5;241m>\u001b[39m data[\u001b[38;5;124m'\u001b[39m\u001b[38;5;124mheating_load\u001b[39m\u001b[38;5;124m'\u001b[39m], \u001b[38;5;124m'\u001b[39m\u001b[38;5;124mheating_load\u001b[39m\u001b[38;5;124m'\u001b[39m] \u001b[38;5;241m=\u001b[39m \u001b[38;5;241m0.0\u001b[39m\n\u001b[1;32m    850\u001b[0m     data\u001b[38;5;241m.\u001b[39mloc[data[\u001b[38;5;124m'\u001b[39m\u001b[38;5;124mheating_load\u001b[39m\u001b[38;5;124m'\u001b[39m] \u001b[38;5;241m>\u001b[39m data[\u001b[38;5;124m'\u001b[39m\u001b[38;5;124mcooling_load\u001b[39m\u001b[38;5;124m'\u001b[39m], \u001b[38;5;124m'\u001b[39m\u001b[38;5;124mcooling_load\u001b[39m\u001b[38;5;124m'\u001b[39m] \u001b[38;5;241m=\u001b[39m \u001b[38;5;241m0.0\u001b[39m\n\u001b[1;32m    852\u001b[0m \u001b[38;5;28;01melse\u001b[39;00m:\n",
      "File \u001b[0;32m~/Desktop/INTELLIGENT_ENVIRONMENT_LAB/citylearn/CityLearn/test-py311-env/lib/python3.11/site-packages/pandas/core/frame.py:4102\u001b[0m, in \u001b[0;36mDataFrame.__getitem__\u001b[0;34m(self, key)\u001b[0m\n\u001b[1;32m   4100\u001b[0m \u001b[38;5;28;01mif\u001b[39;00m \u001b[38;5;28mself\u001b[39m\u001b[38;5;241m.\u001b[39mcolumns\u001b[38;5;241m.\u001b[39mnlevels \u001b[38;5;241m>\u001b[39m \u001b[38;5;241m1\u001b[39m:\n\u001b[1;32m   4101\u001b[0m     \u001b[38;5;28;01mreturn\u001b[39;00m \u001b[38;5;28mself\u001b[39m\u001b[38;5;241m.\u001b[39m_getitem_multilevel(key)\n\u001b[0;32m-> 4102\u001b[0m indexer \u001b[38;5;241m=\u001b[39m \u001b[38;5;28;43mself\u001b[39;49m\u001b[38;5;241;43m.\u001b[39;49m\u001b[43mcolumns\u001b[49m\u001b[38;5;241;43m.\u001b[39;49m\u001b[43mget_loc\u001b[49m\u001b[43m(\u001b[49m\u001b[43mkey\u001b[49m\u001b[43m)\u001b[49m\n\u001b[1;32m   4103\u001b[0m \u001b[38;5;28;01mif\u001b[39;00m is_integer(indexer):\n\u001b[1;32m   4104\u001b[0m     indexer \u001b[38;5;241m=\u001b[39m [indexer]\n",
      "File \u001b[0;32m~/Desktop/INTELLIGENT_ENVIRONMENT_LAB/citylearn/CityLearn/test-py311-env/lib/python3.11/site-packages/pandas/core/indexes/base.py:3812\u001b[0m, in \u001b[0;36mIndex.get_loc\u001b[0;34m(self, key)\u001b[0m\n\u001b[1;32m   3807\u001b[0m     \u001b[38;5;28;01mif\u001b[39;00m \u001b[38;5;28misinstance\u001b[39m(casted_key, \u001b[38;5;28mslice\u001b[39m) \u001b[38;5;129;01mor\u001b[39;00m (\n\u001b[1;32m   3808\u001b[0m         \u001b[38;5;28misinstance\u001b[39m(casted_key, abc\u001b[38;5;241m.\u001b[39mIterable)\n\u001b[1;32m   3809\u001b[0m         \u001b[38;5;129;01mand\u001b[39;00m \u001b[38;5;28many\u001b[39m(\u001b[38;5;28misinstance\u001b[39m(x, \u001b[38;5;28mslice\u001b[39m) \u001b[38;5;28;01mfor\u001b[39;00m x \u001b[38;5;129;01min\u001b[39;00m casted_key)\n\u001b[1;32m   3810\u001b[0m     ):\n\u001b[1;32m   3811\u001b[0m         \u001b[38;5;28;01mraise\u001b[39;00m InvalidIndexError(key)\n\u001b[0;32m-> 3812\u001b[0m     \u001b[38;5;28;01mraise\u001b[39;00m \u001b[38;5;167;01mKeyError\u001b[39;00m(key) \u001b[38;5;28;01mfrom\u001b[39;00m \u001b[38;5;21;01merr\u001b[39;00m\n\u001b[1;32m   3813\u001b[0m \u001b[38;5;28;01mexcept\u001b[39;00m \u001b[38;5;167;01mTypeError\u001b[39;00m:\n\u001b[1;32m   3814\u001b[0m     \u001b[38;5;66;03m# If we have a listlike key, _check_indexing_error will raise\u001b[39;00m\n\u001b[1;32m   3815\u001b[0m     \u001b[38;5;66;03m#  InvalidIndexError. Otherwise we fall through and re-raise\u001b[39;00m\n\u001b[1;32m   3816\u001b[0m     \u001b[38;5;66;03m#  the TypeError.\u001b[39;00m\n\u001b[1;32m   3817\u001b[0m     \u001b[38;5;28mself\u001b[39m\u001b[38;5;241m.\u001b[39m_check_indexing_error(key)\n",
      "\u001b[0;31mKeyError\u001b[0m: 'cooling_load'"
     ]
    }
   ],
   "source": [
    "simulators = neighborhood.simulate_energy_plus(\n",
    "    bldg_ids,\n",
    "    '/Applications/EnergyPlus-9-6-0/PreProcess/IDFVersionUpdater/V9-6-0-Energy+.idd',\n",
    "    max_workers=1,\n",
    ")"
   ]
  }
 ],
 "metadata": {
  "kernelspec": {
   "display_name": "test-py311-env",
   "language": "python",
   "name": "python3"
  },
  "language_info": {
   "codemirror_mode": {
    "name": "ipython",
    "version": 3
   },
   "file_extension": ".py",
   "mimetype": "text/x-python",
   "name": "python",
   "nbconvert_exporter": "python",
   "pygments_lexer": "ipython3",
   "version": "3.11.8"
  }
 },
 "nbformat": 4,
 "nbformat_minor": 2
}
