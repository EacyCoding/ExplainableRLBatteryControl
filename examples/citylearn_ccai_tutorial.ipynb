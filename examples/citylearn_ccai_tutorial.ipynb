{
  "cells": [
    {
      "cell_type": "markdown",
      "metadata": {
        "colab_type": "text",
        "id": "view-in-github"
      },
      "source": [
        "<a href=\"https://colab.research.google.com/github/intelligent-environments-lab/CityLearn/blob/master/examples/citylearn_ccai_tutorial.ipynb\" target=\"_parent\"><img src=\"https://colab.research.google.com/assets/colab-badge.svg\" alt=\"Open In Colab\"/></a>"
      ]
    },
    {
      "cell_type": "code",
      "execution_count": 1,
      "metadata": {
        "id": "dzeHYa5GCxN7"
      },
      "outputs": [],
      "source": [
        "# MIT License\n",
        "#\n",
        "#@title Copyright (c) 2021 CCAI Community Authors { display-mode: \"form\" }\n",
        "#\n",
        "# Permission is hereby granted, free of charge, to any person obtaining a\n",
        "# copy of this software and associated documentation files (the \"Software\"),\n",
        "# to deal in the Software without restriction, including without limitation\n",
        "# the rights to use, copy, modify, merge, publish, distribute, sublicense,\n",
        "# and/or sell copies of the Software, and to permit persons to whom the\n",
        "# Software is furnished to do so, subject to the following conditions:\n",
        "#\n",
        "# The above copyright notice and this permission notice shall be included in\n",
        "# all copies or substantial portions of the Software.\n",
        "#\n",
        "# THE SOFTWARE IS PROVIDED \"AS IS\", WITHOUT WARRANTY OF ANY KIND, EXPRESS OR\n",
        "# IMPLIED, INCLUDING BUT NOT LIMITED TO THE WARRANTIES OF MERCHANTABILITY,\n",
        "# FITNESS FOR A PARTICULAR PURPOSE AND NONINFRINGEMENT. IN NO EVENT SHALL\n",
        "# THE AUTHORS OR COPYRIGHT HOLDERS BE LIABLE FOR ANY CLAIM, DAMAGES OR OTHER\n",
        "# LIABILITY, WHETHER IN AN ACTION OF CONTRACT, TORT OR OTHERWISE, ARISING\n",
        "# FROM, OUT OF OR IN CONNECTION WITH THE SOFTWARE OR THE USE OR OTHER\n",
        "# DEALINGS IN THE SOFTWARE."
      ]
    },
    {
      "cell_type": "markdown",
      "metadata": {
        "id": "13i7KQ9t-CV8"
      },
      "source": [
        "# CityLearn Tutorial\n",
        "---\n",
        "\n",
        "Authors:\n",
        "*   [Kingsley Nweye](https://kingsleynweye.com), The University of Texas at Austin, [nweye@utexas.edu](mailto:nweye@utexas.edu)\n",
        "*   [Allen Wu](https://www.linkedin.com/in/allenjeffreywu), The University of Texas at Austin, [allen.wu@utexas.edu](mailto:allen.wu@utexas.edu)\n",
        "*   [Zoltan Nagy](https://www.caee.utexas.edu/people/faculty/faculty-directory/nagy), The University of Texas as Austin, [nagy@utexas.edu](mailto:nagy@utexas.edu)\n",
        "\n",
        "This tutorial notebook will help users get acquainted with the [CityLearn](https://www.citylearn.net) OpenAI Gym environment, developed for the easy implementation and benchmarking of control algorithms, e.g., rule-based control, model predictive control (MPC) or deep reinforcement learning (RL) in the demand response, building energy and grid-interactive community domain. By the end of the tutorial, participants will learn about intelligent control algorithms to provide energy flexibility, and acquire familiarity with CityLearn environment for extended use in personal projects."
      ]
    },
    {
      "attachments": {},
      "cell_type": "markdown",
      "metadata": {
        "id": "yNv0ANr5WcD_"
      },
      "source": [
        "# Table of Contents\n",
        "---\n",
        "\n",
        "> Coming soon 🙂\n"
      ]
    },
    {
      "cell_type": "markdown",
      "metadata": {
        "id": "QH81wjfsJsv1"
      },
      "source": [
        "<a name=\"overview\"></a>\n",
        "# Overview\n",
        "---\n",
        "\n",
        "<!-- In this section, kindly provide a summary of the main contributions of the tutorial notebook. Note that the tutorial should introduce or demonstrate the use of a method, dataset, tool, or technology to address a problem related to climate change. Be clear on the goal of the tutorial and the expected learning outcomes for the users. \n",
        "\n",
        "Example contributions include:\n",
        "*   Leveraging existing libraries, packages, or frameworks to tackle a real-world climate-related challenge using machine learning.\n",
        "*   Introducing a new climate-related benchmark dataset, applying machine learning methods, and presenting baseline results.\n",
        "*   Developing new tools or libraries and demonstrating its application to a specific problem in climate change. -->\n",
        "This workshop will consist of a presentation of the underlying background for CityLearn and its relevance to climate change mitigation. We provide a walk-through tutorial on how to set up and interact with the simulation environment using a realworld dataset from a grid-interactive residential community in Fontana, California. \n",
        "\n",
        "This notebook will provide a guide on how to use a simple rule-based control architecture and advanced reinforcement control algorithms to manage batteries in each home in the community with a goal of minizing the cost of purchased electricity, carbon emissions associated with consuming electricity from the grid, as well as improve on ther grid-level KPIs e.g. peak demand, load factor and ramping that are critical for the long-term sustainability of decarbonizing existing power generation sources on the supply side and electrification of buildings on the demand side.\n",
        "\n",
        "## Contributions\n",
        "The primary contribution of the CityLearn Workshop is to introduce the software tool CityLearn to model and benchmark simple and advanced control strategies in grid-interactive smart communities, e.g., demand response and load shaping in buildings. The secondary contribution is to bring awareness to datasets for controls research that are provided within the CityLearn environment.\n",
        "\n",
        "## Learning Outcomes\n",
        "The primary learning outcome for participants is to gain familiarity with CityLearn environment, its API and dataset offerings for extended use in personal projects. Other secondary outcomes are to:\n",
        "\n",
        "1. Understand how electrification, distributed energy resources e.g. battery, PV and smart controls provide a promising pathway for decarbonization and energy flexibility.\n",
        "2. Learn how to design and optimize their own expert RBC for battery management using readily available knowledge of a building's energy use.\n",
        "3. Identify the challenges surrounding the generalizability of expert systems e.g. RBC and how RL can mitigate these challenges.\n",
        "4. Optimize their own RL tabular Q-Learning algorithm.\n",
        "5. Evaluate the performance of standard model-free deep RL algorithms in optimizing KPIs that are targeted at quantifying the have learn about the \n",
        "6. Learn the effect of different control algorithms in improving KPIs\n",
        "\n"
      ]
    },
    {
      "attachments": {},
      "cell_type": "markdown",
      "metadata": {
        "id": "99jkSa_KmrDH"
      },
      "source": [
        "<a name=\"climate-impact\"></a>\n",
        "# Climate Impact\n",
        "---\n",
        "\n",
        "<!-- In this section, describe in more detail how the methods or tools introduced in this tutorial could have pathways to positive impact regarding climate change. The problem should be clearly explained and motivated for non-experts. Feel free to discuss relevant research works, real-world examples of successful applications, and/or climate startups or organizations that are making an impact using similar methods or tools to address climate-related challenges. \n",
        "\n",
        "We also ask that authors emphasize the real-world impact of the methods, specifically: Who will be using the models/outputs and how will they be used? What decisions will be made based on these models? How will they impact existing systems/the environment/affected communities on the ground? -->\n",
        "\n",
        "The residential building stock in the United States is responsible for 21% ([Energy Information Administration, 2022](https://www.eia.gov/totalenergy/data/monthly/archive/00352211.pdf)) of energy consumption and 20% of greenhouse gas emissions ([Goldenstein et al., 2020](https://doi.org/10.1073/pnas.1922205117)). Electrification of end-uses, as well as decarbonizing the electrical grid through renewable energy sources such as solar and wind, constitutes the pathway to zero-emission buildings ([Leibowicz et al., 2018](https://doi.org/10.1016/j.apenergy.2018.09.046)). However, electrifying fossil-fueled building end-uses in fact could increase the demand on the existing electricity power grid and if power generation sources are not decarbonized at a similar rate as electrification happening on the demand side, will in fact result in adverse effects of increased green house gas emissions! Also, new grid infrastructure constitutes a significant capital investment and requires extensive planning and execution.\n",
        "\n",
        "Through distributed energy resources (DER), buildings can provide flexibility services to the existing grid infrastructure in demand response events. On-site solar photovoltaic systems can also reduce dependence on the grid through self-generation. Yet, the intermittency of renewable energy sources introduces additional challenges of grid instability due to a mismatch between electricity generation (supply) and demand ([Suberu et al., 2014](https://doi.org/10.1016/j.rser.2014.04.009)). \n",
        "\n",
        "<!-- The California so-called duck-curve is a good illustration of the mismatch in renewable supply and demand, and shows effect of increased PV penetration that may lead to high ramp rate after the sun sets in the evening which the electric power grid may bit be able to handle ([Denholm et al., 2008](https://www.nrel.gov/docs/fy08osti/42305.pdf)). -->\n",
        "\n",
        "Advanced control algorithms including model-predictive control (MPC) and reinforcement learning control (RLC) are thus, critical to properly manage DERs and even out the supply-demand imbalance brought about by renewable energy sources. However, a major challenge for the adoption of reinforcement learning in grid-interactive efficient buildings is the ability to benchmark control algorithm performance to accelerate their deployment on live systems.\n",
        "\n",
        "CityLearn ([Vazquez-Canteli et al., 2019](https://doi.org/10.1145/3360322.3360998)) provides a platform for such benchmarking tasks. The different stakeholder in the energy and real-estate market including, utility companies, grid-operators, home-owners and policy makers can utilize CityLearn to make decisions on what control policies are viable and provide the best performance as more controllable distributed energy resources become available.\n",
        "\n",
        "<!-- Thus, flexible however, these services have to be properly coordinated in execution. When all the electrical loads react simultaneously to the same signals adverse effects can occur such that aggregated electricity peaks are shifted rather than shaved ([Gelazanskas et al., 2014](https://doi.org/10.1016/j.scs.2013.11.001)). Therefore, there is a need for more efficient and effective ways of coordinating the response of building energy systems. -->\n",
        "\n",
        "\n",
        "<!-- Advanced control systems such as model predictive control (MPC) ([Drgona et al., 2020](https://doi.org/10.1016/j.arcontrol.2020.09.001)) and reinforcement learning control (RLC) ([Wang et al., 2020](https://doi.org/10.1016/j.apenergy.2020.115036)) can be a major driver for demand response by automating the operation of energy systems, while adapting to individual characteristics of occupants and buildings. However, a major challenge for the adoption of reinforcement learning in grid-interactive efficient buildings is the ability to benchmark control algorithm performance.  -->\n",
        "\n"
      ]
    },
    {
      "cell_type": "markdown",
      "metadata": {
        "id": "o5sbM_JPpdMR"
      },
      "source": [
        "<a name=\"target-audience\"></a>\n",
        "# Target Audience\n",
        "---\n",
        "\n",
        "<!-- Kindly specify the intended target audience for this tutorial notebook. Please be as specific as possible, and feel free to elaborate on their expected background. \n",
        "\n",
        "Examples:\n",
        "\n",
        "*   Climate scientists seeking to explore ML tools, technologies, and resources to tackle a domain-specific problem in climate change. \n",
        "*   Data scientists with prior background in deep learning looking for concrete examples on how to tackle climate change using AI. -->\n",
        "\n",
        "The target audience for this tutorial includes the following:\n",
        " - Academic, private and commercial researchers or professionals that are interested in sustainable AI-related pathways to electrification and building decarbonization.\n",
        " - AI enthusiasts at any level of expertise whom are drawn to solving control problems or are interested in learning about a new RL environment that deviates from popularized simpler problems to real-world problems with urgency like climate change mitigation and decarbonization of the power infrastructure and building end-uses."
      ]
    },
    {
      "cell_type": "markdown",
      "metadata": {
        "id": "gQgijl46pYzn"
      },
      "source": [
        "<a name=\"prereqs\"></a>\n",
        "# Prerequisites\n",
        "---\n",
        "\n",
        "> ⚠️ **NOTE**:\n",
        "> This CityLearn tutorial has a fairly low entry level and participants do not need to have prior experience in RL nor use of the OpenAI-Gym environment standard.\n",
        "\n",
        "The [BOPTEST tutorial](https://colab.research.google.com/drive/1WeA_3PQeySba0MMRRte_oZTF7ptlP_Ra?usp=sharing#scrollTo=Ae18iXNKWV5I) provides a very good overview on some of the topics and methods that we will discuss and apply in this tutorial. While we will briefly provide background on some of these topics and methods, it is encouragedm but not required, that participant in this tutorial first read up the following sections in the [BOPTEST tutorial](https://colab.research.google.com/drive/1WeA_3PQeySba0MMRRte_oZTF7ptlP_Ra?usp=sharing#scrollTo=Ae18iXNKWV5I):\n",
        "\n",
        "- [Introduction to Reinforcement Learning](https://colab.research.google.com/drive/1WeA_3PQeySba0MMRRte_oZTF7ptlP_Ra#scrollTo=Fas232CyMX6_)\n",
        "- [The OpenAI-Gym Standard](https://colab.research.google.com/drive/1WeA_3PQeySba0MMRRte_oZTF7ptlP_Ra#scrollTo=7YnuNAQdM_L2)\n",
        "\n",
        "Other prerequisites that are technical in nature are:\n",
        "- Beginner knowledge in Python.\n",
        "- Some familiarity with the Jupyter Notebook environment."
      ]
    },
    {
      "attachments": {},
      "cell_type": "markdown",
      "metadata": {
        "id": "LCeaK9CEngV5"
      },
      "source": [
        "<a name=\"background\"></a>\n",
        "# Background\n",
        "---\n",
        "\n",
        "## Grid-Interactive Buildings and Energy Flexibility\n",
        "\n",
        "As buildings become electrified and the penetration of renewable energy source increases, a smart approach to manage and control building loads to ensure that these developments do not bring about grid insecurity is needed. The Department of Energy, introduced the Grid-Interactive Efficient Building (GEB) Initiative to promote the integration of distributed energy resources such as PVs, EVs, active and passive storage systems in buildings that can provide the grid with energy flexibility. A GEB is defined by [[Neukomm et al., 2019](https://www1.eere.energy.gov/buildings/pdfs/75470.pdf)] as:\n",
        "\n",
        "> [...] an energy-efficient building that uses smart technologies and on-site DERs to provide demand flexibility while co-optimizing for energy cost, grid services, and occupant needs and preferences, in a continuous and integrated way.\n",
        "\n",
        "GEBs are characterized by their energy efficiency, interconnectivity, smartness and energy flexibility as highlighted in the figure below:\n",
        "\n",
        "<figure class=\"image\">\n",
        "  <img src=\"https://github.com/intelligent-environments-lab/CityLearn/blob/master/assets/images/grid_interactive_building-neukomm.png?raw=true\"  width=\"400\" alt=\"The characteristics of a Grid-Interactive Efficient Building (GEB)\">\n",
        "  <figcaption>Figure: The characteristics of a Grid-Interactive Efficient Building (GEB) (<a href=\"https://www1.eere.energy.gov/buildings/pdfs/75470.pdf\">Neukomm et al., 2019</a>).</figcaption>\n",
        "</figure>\n",
        "\n",
        "The energy efficiency of GEBs by means of tighter envelopes and high-quality construction that minimize heat losses lead to reduced loads without the need to make changes to a building's function or for changes in occupan preferences. PV adoption in GEBs provides self-generation capabilities which reduce the net load that will otherwise all be satisfied by the electric grid alone. To then solve the duck-curve problem that is introduced by renewable adoption GEBs are able to shed and/or shift their loads. \n",
        "\n",
        "The figure below shows the changes in a building profile as it becomes more efficient, incorporates self generation and provides load shedding and shifting grid services.\n",
        "\n",
        "<figure class=\"image\">\n",
        "  <img src=\"https://github.com/intelligent-environments-lab/CityLearn/blob/master/assets/images/grid_interactive_building_profile-neukomm.png?raw=true\"  width=\"400\" alt=\"GEB load profiles\">\n",
        "  <figcaption>Figure: GEB load profiles (<a href=\"https://www1.eere.energy.gov/buildings/pdfs/75470.pdf\">Neukomm et al., 2019</a>).</figcaption>\n",
        "</figure>\n",
        "\n",
        "Load shedding and shifting services could be achieved through control of storage systems and other distributed energy resources (DER). These smart controls may adapt to changes in occupant behaviour, weather conditions or respond to external signals e.g. temperature set-point as in the case of demand-response, while maintaining energy efficiency and without causing discomfort to occupants. This adaptability is often referred to as energy flexibility of a building [CITE].\n",
        "\n",
        "Expert systems e.g. rule-based controller (RBC) are commonly used in to control energy systems. They make use of simple if-else statements in their decision making process. Advanced control systems such as model predictive control (MPC) ([Drgona et al., 2020](https://doi.org/10.1016/j.arcontrol.2020.09.001)) and reinforcement learning control (RLC) ([Wang et al., 2020](https://doi.org/10.1016/j.apenergy.2020.115036)) can be a major driver for executing grid services by automating the operation of energy systems, while adapting to individual characteristics of occupants and buildings. Comparatively, RBC and RLC are inexpensive to implement as they have a lower entry bar for domain knowledge of the systems to be controlled. RBC and RLC may perform sub-optimally compared to MPC as they are not modeled after the system under control. However, RL is a data-driven solution and as more training data become available, it achieves comparable performance as MPC. The greatest strength of RLC however, its ability to adapt to changes in the system of building it controls as the dynamics e.g. thermal, occupancy change. We provide more context on reinforcement learning in the following section.\n",
        "\n",
        "## Reinforcement Learning Control in the context of Grid-Interactive Efficient Buildings\n",
        "\n",
        "Here we provide a simplified desription of reinforcement learning in the context of GEBs without diving into its theory. For an wider overview of RL, refer to the [BOPTEST Tutorial Introduction to Reinforcement Learning](https://colab.research.google.com/drive/1WeA_3PQeySba0MMRRte_oZTF7ptlP_Ra#scrollTo=Fas232CyMX6_) and for a thorough introduction, refer to [Sutton and Barto, 2018](http://www.incompleteideas.net/book/the-book.html).\n",
        "\n",
        "<figure class=\"image\">\n",
        "  <img src=\"https://github.com/intelligent-environments-lab/CityLearn/blob/master/assets/images/supervised_vs_unsupervised_vs_rl.png?raw=true\"  width=\"400\" alt=\"Overview of the three machine learning techniques.\">\n",
        "  <figcaption>Figure: Overview of the three machine learning techniques (<a href=\"https://www.taylorfrancis.com/chapters/edit/10.4324/9781315142074-37/reinforcement-learning-intelligent-environments-zoltan-nagy-june-young-park-josé-ramón-vázquez-canteli\">Nagy et al., 2018</a>).</figcaption>\n",
        "</figure>\n",
        "\n",
        "Machine learning techniques are generally characterized as either supervised and unsupervised learning. In supervised learning, the observations, otherwise called samples, and their response, otherwise called target are known. Supervised learning is further classified into regression and classification models where the former learns to predict a continuous variable and the latter learns to predict a discrete class. The supervised machine learning model must then learn the mapping of samples and targets by minimizing a loss function that evaluates the error between predicted targets and actual targets. An example of regression modelling in the context of GEBs is the prediction of a building's electricity consumption (target) when the the weather conditions e.g. dry-bulb temperature and relative humidity, as well as their associated timestamps (samples) are known. An example of a classification model in the context of GEBs is the prediction of if a binary variable such as if building is occupied or not (target) given the same samples as in the regression example. It so happens that these kinds of problems are common in the building energy domain where predicting of a buildings electricity consumption and occupancy can help with scheduling and occupant-centric control to balance efficiency and comfort.\n",
        "\n",
        "Unsupervised learning on the other hand differs from supervised learning in the sense that the associated targets for the samples are unknown but models can be used to find common patterns amongst samples. This is important especially in exploratory data analysis to draw preliminary conclusions about a new data set and also in situations where the class labels are unknown. An unsupervised model can then be used to infer data-driven class labels that opens on the discussion for new classification models. An example of such application in buildings is the classification of customer load profiles to determine and allocate appropriate tariff plans.\n",
        "\n",
        "Reinforcement learning (RL) is similar to both supervised and unsupervised learning such that it follows the same idea of learning from observations. However in contrast to supervised learning, there are no known labeled targets. Instead, a model (agent) influences the targets by acting in an environment that rewards actions that have desirable outcomes but penalizes those that lead to adverse outcomes. An example of RL in GEBs is the hourly charging/discharging of a battery (action) with the objective of minimizing the cummulative electricity consumption of a building over a control horizon e.g. a year, given the same sample variables in the supervised learning example (observations) in hourly time steps. These actions affect the hourly electricity consumption of the building (reward). RL is thought of as a trial an error approach because typically, the agent starts off with no prior knowledge of the environment it acts in but learns from experience to associate observations with actions that maximize its rewards. The association is called a control policy.\n",
        "\n",
        "<figure class=\"image\">\n",
        "  <img src=\"https://github.com/intelligent-environments-lab/CityLearn/blob/master/assets/images/reinforcement_learning.png?raw=true\"  width=\"400\" alt=\"Basic structure of reinforcement learning.\">\n",
        "  <figcaption>Figure: Basic structure of reinforcement learning (<a href=\"https://www.taylorfrancis.com/chapters/edit/10.4324/9781315142074-37/reinforcement-learning-intelligent-environments-zoltan-nagy-june-young-park-josé-ramón-vázquez-canteli\">Nagy et al., 2018</a>).</figcaption>\n",
        "</figure>\n",
        "\n",
        "The experiential learning characteristic of RL is very promising for GEBs because it provides a scalable solution to controls as it can adapt to each building's unique conditions and occupant interactions that make up the observations. It also means that the agent need not have a building's dynamics model that can involve a level of complexity that is expensive to design for. [Vazquez-Canteli et al., 2019](https://doi.org/10.1016/j.apenergy.2018.11.002) provide a comprehensive overview of reinforcement learning in the built environment.\n",
        "\n",
        "<!-- - formalized trial and error with learning\n",
        "- Refer to BOPTEST tutorial for more details.\n",
        "- highlight difference from more familiar supervised learning and unsupervised learning (use figure from paper)\n",
        "- the challenge of rl in buildings as a result of large state and action space.\n",
        "- introduce DRL. -->\n",
        "\n",
        "## CityLearn\n",
        "\n",
        "[CityLearn](https://doi.org/10.1145/3360322.3360998) is an open source OpenAI Gym environment targeted at the easy implementation and benchmarking of simple and advanced control algorithms e.g. rule-based control (RBC) model predictive control (MPC) or deep reinforcement learning control (RLC). It has been utilized in demand response, energy management, voltage regulation and algorithm benchmarking applications (see [references](https://www.citylearn.net/#applications) in the official documention).\n",
        "\n",
        "<figure class=\"image\">\n",
        "  <img src=\"https://github.com/intelligent-environments-lab/CityLearn/blob/master/assets/images/citylearn_systems.png?raw=true\"  width=\"400\" alt=\"An overview of the power sources, energy systems and end-uses in CityLearn v1.7.0 that is used in this tutorial.\">\n",
        "  <figcaption>Figure: An overview of the power sources, energy systems and end-uses in CityLearn v1.7.0 that is used in this tutorial.</figcaption>\n",
        "</figure>\n",
        "\n",
        "CityLearn includes simplified energy models of buildings and distributed energy resources (DER) including air-to-water heat pumps, electric heaters and batteries. A collection of buildings energy models make up a virtual district (a.k.a neighborhood or community). In each building, space cooling, space heating and domestic hot water end-use loads may be independently satisfied through air-to-water heat pumps. Alternatively, space heating and domestic hot water loads can be satisfied through electric heaters.\n",
        "\n",
        "Buildings may have a combination of thermal storage tanks and batteries to store energy that may be used at peak, high carbon intensity or expensive periods to meet space cooling, space heating, domestic hot water and non-shiftable (plug) loads. These storage devices are charged by the electric device (heat pump or electric heater) that satisfies the end-use the stored energy is for. All electric devices as well as plug loads consume electricity from the main grid. Photovoltaic (PV) arrays may be included in the buildings to offset all or part of the electricity consumption from the grid by allowing the buildings to generate their own electricity.\n",
        "\n",
        "An RBC, RL or MPC agent(s) control the thermal storage tanks and batteries by determining how much energy to store or release at any given time. CityLearn guarantees that, at any time, the space cooling, space heating, domestic hot water and non-shiftable building loads are satisfied regardless of the actions of the controller by utilizing pre-computed or pre-measured demand of the buildings. An internal backup controller guarantees that the electric devices prioritize satisfying the building loads before storing energy in the storage devices. The backup controller also guarantees that the storage devices do not discharge more energy than is needed to meet the unsatisfied building loads.\n",
        "\n",
        "CityLearn has been used in the 2020-2022 annual The CityLearn Challenge. The challenge is an opportunity to compete in investigating the potential of AI and distributed control systems to tackle multiple problems within the built-environment domain. It attracts a multidisciplinary participation audience including researchers, industry experts, sustainability enthusiasts and AI hobbyists as a means of crowd-sourcing solutions to these multiple problems.\n",
        "\n",
        "### CityLearn Aternatives: Similarities and Differences\n",
        "\n",
        "> Coming soon 🙂\n",
        "\n",
        "## Other References\n",
        " - [CityLearn Documentation](https://www.citylearn.net/index.html)\n",
        " - [CityLearn Related References](https://www.citylearn.net/references.html)"
      ]
    },
    {
      "attachments": {},
      "cell_type": "markdown",
      "metadata": {
        "id": "rSRCNgYzUwaf"
      },
      "source": [
        "<a name=\"software-requirements\"></a>\n",
        "# Software Requirements\n",
        "---\n",
        "\n",
        "<!-- Include in this section the software requirements, setup instructions, and library imports. Kindly specify the Python version at the time of submission along with the specific package versions upon installing (e.g. using pip). -->\n",
        "\n",
        "The Python version at the time of this submission in Colab is ``Python 3.8.10``. The Python version of this environment is:"
      ]
    },
    {
      "cell_type": "code",
      "execution_count": 2,
      "metadata": {},
      "outputs": [
        {
          "name": "stdout",
          "output_type": "stream",
          "text": [
            "Python 3.7.7\n"
          ]
        }
      ],
      "source": [
        "!python --version"
      ]
    },
    {
      "cell_type": "markdown",
      "metadata": {},
      "source": [
        "The following Python packages are required:"
      ]
    },
    {
      "cell_type": "code",
      "execution_count": 3,
      "metadata": {
        "id": "jObV5LtDk0Vm"
      },
      "outputs": [
        {
          "name": "stdout",
          "output_type": "stream",
          "text": [
            "Requirement already satisfied: CityLearn==1.7.0 in /Users/kingsleyenweye/Desktop/INTELLIGENT_ENVIRONMENT_LAB/citylearn/CityLearn/examples_env/lib/python3.7/site-packages (1.7.0)\n",
            "Requirement already satisfied: simplejson in /Users/kingsleyenweye/Desktop/INTELLIGENT_ENVIRONMENT_LAB/citylearn/CityLearn/examples_env/lib/python3.7/site-packages (from CityLearn==1.7.0) (3.18.3)\n",
            "Requirement already satisfied: numpy==1.21.6 in /Users/kingsleyenweye/Desktop/INTELLIGENT_ENVIRONMENT_LAB/citylearn/CityLearn/examples_env/lib/python3.7/site-packages (from CityLearn==1.7.0) (1.21.6)\n",
            "Requirement already satisfied: pandas==1.3.5 in /Users/kingsleyenweye/Desktop/INTELLIGENT_ENVIRONMENT_LAB/citylearn/CityLearn/examples_env/lib/python3.7/site-packages (from CityLearn==1.7.0) (1.3.5)\n",
            "Requirement already satisfied: scikit-learn==1.0.2 in /Users/kingsleyenweye/Desktop/INTELLIGENT_ENVIRONMENT_LAB/citylearn/CityLearn/examples_env/lib/python3.7/site-packages (from CityLearn==1.7.0) (1.0.2)\n",
            "Collecting gym==0.25.1 (from CityLearn==1.7.0)\n",
            "Requirement already satisfied: torchvision==0.13.0 in /Users/kingsleyenweye/Desktop/INTELLIGENT_ENVIRONMENT_LAB/citylearn/CityLearn/examples_env/lib/python3.7/site-packages (from CityLearn==1.7.0) (0.13.0)\n",
            "Requirement already satisfied: torch==1.12.0 in /Users/kingsleyenweye/Desktop/INTELLIGENT_ENVIRONMENT_LAB/citylearn/CityLearn/examples_env/lib/python3.7/site-packages (from CityLearn==1.7.0) (1.12.0)\n",
            "Requirement already satisfied: python-dateutil>=2.7.3 in /Users/kingsleyenweye/Desktop/INTELLIGENT_ENVIRONMENT_LAB/citylearn/CityLearn/examples_env/lib/python3.7/site-packages (from pandas==1.3.5->CityLearn==1.7.0) (2.8.2)\n",
            "Requirement already satisfied: pytz>=2017.3 in /Users/kingsleyenweye/Desktop/INTELLIGENT_ENVIRONMENT_LAB/citylearn/CityLearn/examples_env/lib/python3.7/site-packages (from pandas==1.3.5->CityLearn==1.7.0) (2022.7.1)\n",
            "Requirement already satisfied: joblib>=0.11 in /Users/kingsleyenweye/Desktop/INTELLIGENT_ENVIRONMENT_LAB/citylearn/CityLearn/examples_env/lib/python3.7/site-packages (from scikit-learn==1.0.2->CityLearn==1.7.0) (1.2.0)\n",
            "Requirement already satisfied: scipy>=1.1.0 in /Users/kingsleyenweye/Desktop/INTELLIGENT_ENVIRONMENT_LAB/citylearn/CityLearn/examples_env/lib/python3.7/site-packages (from scikit-learn==1.0.2->CityLearn==1.7.0) (1.7.3)\n",
            "Requirement already satisfied: threadpoolctl>=2.0.0 in /Users/kingsleyenweye/Desktop/INTELLIGENT_ENVIRONMENT_LAB/citylearn/CityLearn/examples_env/lib/python3.7/site-packages (from scikit-learn==1.0.2->CityLearn==1.7.0) (3.1.0)\n",
            "Requirement already satisfied: cloudpickle>=1.2.0 in /Users/kingsleyenweye/Desktop/INTELLIGENT_ENVIRONMENT_LAB/citylearn/CityLearn/examples_env/lib/python3.7/site-packages (from gym==0.25.1->CityLearn==1.7.0) (2.2.1)\n",
            "Requirement already satisfied: gym-notices>=0.0.4 in /Users/kingsleyenweye/Desktop/INTELLIGENT_ENVIRONMENT_LAB/citylearn/CityLearn/examples_env/lib/python3.7/site-packages (from gym==0.25.1->CityLearn==1.7.0) (0.0.8)\n",
            "Requirement already satisfied: importlib-metadata>=4.8.0; python_version < \"3.10\" in /Users/kingsleyenweye/Desktop/INTELLIGENT_ENVIRONMENT_LAB/citylearn/CityLearn/examples_env/lib/python3.7/site-packages (from gym==0.25.1->CityLearn==1.7.0) (4.13.0)\n",
            "Requirement already satisfied: typing-extensions in /Users/kingsleyenweye/Desktop/INTELLIGENT_ENVIRONMENT_LAB/citylearn/CityLearn/examples_env/lib/python3.7/site-packages (from torchvision==0.13.0->CityLearn==1.7.0) (4.5.0)\n",
            "Requirement already satisfied: requests in /Users/kingsleyenweye/Desktop/INTELLIGENT_ENVIRONMENT_LAB/citylearn/CityLearn/examples_env/lib/python3.7/site-packages (from torchvision==0.13.0->CityLearn==1.7.0) (2.28.2)\n",
            "Requirement already satisfied: pillow!=8.3.*,>=5.3.0 in /Users/kingsleyenweye/Desktop/INTELLIGENT_ENVIRONMENT_LAB/citylearn/CityLearn/examples_env/lib/python3.7/site-packages (from torchvision==0.13.0->CityLearn==1.7.0) (9.4.0)\n",
            "Requirement already satisfied: six>=1.5 in /Users/kingsleyenweye/Desktop/INTELLIGENT_ENVIRONMENT_LAB/citylearn/CityLearn/examples_env/lib/python3.7/site-packages (from python-dateutil>=2.7.3->pandas==1.3.5->CityLearn==1.7.0) (1.16.0)\n",
            "Requirement already satisfied: zipp>=0.5 in /Users/kingsleyenweye/Desktop/INTELLIGENT_ENVIRONMENT_LAB/citylearn/CityLearn/examples_env/lib/python3.7/site-packages (from importlib-metadata>=4.8.0; python_version < \"3.10\"->gym==0.25.1->CityLearn==1.7.0) (3.14.0)\n",
            "Requirement already satisfied: urllib3<1.27,>=1.21.1 in /Users/kingsleyenweye/Desktop/INTELLIGENT_ENVIRONMENT_LAB/citylearn/CityLearn/examples_env/lib/python3.7/site-packages (from requests->torchvision==0.13.0->CityLearn==1.7.0) (1.26.14)\n",
            "Requirement already satisfied: charset-normalizer<4,>=2 in /Users/kingsleyenweye/Desktop/INTELLIGENT_ENVIRONMENT_LAB/citylearn/CityLearn/examples_env/lib/python3.7/site-packages (from requests->torchvision==0.13.0->CityLearn==1.7.0) (3.0.1)\n",
            "Requirement already satisfied: idna<4,>=2.5 in /Users/kingsleyenweye/Desktop/INTELLIGENT_ENVIRONMENT_LAB/citylearn/CityLearn/examples_env/lib/python3.7/site-packages (from requests->torchvision==0.13.0->CityLearn==1.7.0) (3.4)\n",
            "Requirement already satisfied: certifi>=2017.4.17 in /Users/kingsleyenweye/Desktop/INTELLIGENT_ENVIRONMENT_LAB/citylearn/CityLearn/examples_env/lib/python3.7/site-packages (from requests->torchvision==0.13.0->CityLearn==1.7.0) (2022.12.7)\n",
            "\u001b[31mERROR: stable-baselines3 1.7.0 has requirement gym==0.21, but you'll have gym 0.25.1 which is incompatible.\u001b[0m\n",
            "Installing collected packages: gym\n",
            "  Found existing installation: gym 0.21.0\n",
            "    Uninstalling gym-0.21.0:\n",
            "      Successfully uninstalled gym-0.21.0\n",
            "Successfully installed gym-0.25.1\n",
            "\u001b[33mWARNING: You are using pip version 19.2.3, however version 23.0.1 is available.\n",
            "You should consider upgrading via the 'pip install --upgrade pip' command.\u001b[0m\n",
            "Requirement already satisfied: ipywidgets==7.7.2 in /Users/kingsleyenweye/Desktop/INTELLIGENT_ENVIRONMENT_LAB/citylearn/CityLearn/examples_env/lib/python3.7/site-packages (7.7.2)\n",
            "Requirement already satisfied: widgetsnbextension~=3.6.0 in /Users/kingsleyenweye/Desktop/INTELLIGENT_ENVIRONMENT_LAB/citylearn/CityLearn/examples_env/lib/python3.7/site-packages (from ipywidgets==7.7.2) (3.6.2)\n",
            "Requirement already satisfied: jupyterlab-widgets<3,>=1.0.0; python_version >= \"3.6\" in /Users/kingsleyenweye/Desktop/INTELLIGENT_ENVIRONMENT_LAB/citylearn/CityLearn/examples_env/lib/python3.7/site-packages (from ipywidgets==7.7.2) (1.1.2)\n",
            "Requirement already satisfied: ipython>=4.0.0; python_version >= \"3.3\" in /Users/kingsleyenweye/Desktop/INTELLIGENT_ENVIRONMENT_LAB/citylearn/CityLearn/examples_env/lib/python3.7/site-packages (from ipywidgets==7.7.2) (7.34.0)\n",
            "Requirement already satisfied: traitlets>=4.3.1 in /Users/kingsleyenweye/Desktop/INTELLIGENT_ENVIRONMENT_LAB/citylearn/CityLearn/examples_env/lib/python3.7/site-packages (from ipywidgets==7.7.2) (5.9.0)\n",
            "Requirement already satisfied: ipykernel>=4.5.1 in /Users/kingsleyenweye/Desktop/INTELLIGENT_ENVIRONMENT_LAB/citylearn/CityLearn/examples_env/lib/python3.7/site-packages (from ipywidgets==7.7.2) (6.16.2)\n",
            "Requirement already satisfied: ipython-genutils~=0.2.0 in /Users/kingsleyenweye/Desktop/INTELLIGENT_ENVIRONMENT_LAB/citylearn/CityLearn/examples_env/lib/python3.7/site-packages (from ipywidgets==7.7.2) (0.2.0)\n",
            "Requirement already satisfied: notebook>=4.4.1 in /Users/kingsleyenweye/Desktop/INTELLIGENT_ENVIRONMENT_LAB/citylearn/CityLearn/examples_env/lib/python3.7/site-packages (from widgetsnbextension~=3.6.0->ipywidgets==7.7.2) (6.5.2)\n",
            "Requirement already satisfied: pickleshare in /Users/kingsleyenweye/Desktop/INTELLIGENT_ENVIRONMENT_LAB/citylearn/CityLearn/examples_env/lib/python3.7/site-packages (from ipython>=4.0.0; python_version >= \"3.3\"->ipywidgets==7.7.2) (0.7.5)\n",
            "Requirement already satisfied: decorator in /Users/kingsleyenweye/Desktop/INTELLIGENT_ENVIRONMENT_LAB/citylearn/CityLearn/examples_env/lib/python3.7/site-packages (from ipython>=4.0.0; python_version >= \"3.3\"->ipywidgets==7.7.2) (5.1.1)\n",
            "Requirement already satisfied: jedi>=0.16 in /Users/kingsleyenweye/Desktop/INTELLIGENT_ENVIRONMENT_LAB/citylearn/CityLearn/examples_env/lib/python3.7/site-packages (from ipython>=4.0.0; python_version >= \"3.3\"->ipywidgets==7.7.2) (0.18.2)\n",
            "Requirement already satisfied: pygments in /Users/kingsleyenweye/Desktop/INTELLIGENT_ENVIRONMENT_LAB/citylearn/CityLearn/examples_env/lib/python3.7/site-packages (from ipython>=4.0.0; python_version >= \"3.3\"->ipywidgets==7.7.2) (2.14.0)\n",
            "Requirement already satisfied: prompt-toolkit!=3.0.0,!=3.0.1,<3.1.0,>=2.0.0 in /Users/kingsleyenweye/Desktop/INTELLIGENT_ENVIRONMENT_LAB/citylearn/CityLearn/examples_env/lib/python3.7/site-packages (from ipython>=4.0.0; python_version >= \"3.3\"->ipywidgets==7.7.2) (3.0.37)\n",
            "Requirement already satisfied: setuptools>=18.5 in /Users/kingsleyenweye/Desktop/INTELLIGENT_ENVIRONMENT_LAB/citylearn/CityLearn/examples_env/lib/python3.7/site-packages (from ipython>=4.0.0; python_version >= \"3.3\"->ipywidgets==7.7.2) (41.2.0)\n",
            "Requirement already satisfied: appnope; sys_platform == \"darwin\" in /Users/kingsleyenweye/Desktop/INTELLIGENT_ENVIRONMENT_LAB/citylearn/CityLearn/examples_env/lib/python3.7/site-packages (from ipython>=4.0.0; python_version >= \"3.3\"->ipywidgets==7.7.2) (0.1.3)\n",
            "Requirement already satisfied: matplotlib-inline in /Users/kingsleyenweye/Desktop/INTELLIGENT_ENVIRONMENT_LAB/citylearn/CityLearn/examples_env/lib/python3.7/site-packages (from ipython>=4.0.0; python_version >= \"3.3\"->ipywidgets==7.7.2) (0.1.6)\n",
            "Requirement already satisfied: backcall in /Users/kingsleyenweye/Desktop/INTELLIGENT_ENVIRONMENT_LAB/citylearn/CityLearn/examples_env/lib/python3.7/site-packages (from ipython>=4.0.0; python_version >= \"3.3\"->ipywidgets==7.7.2) (0.2.0)\n",
            "Requirement already satisfied: pexpect>4.3; sys_platform != \"win32\" in /Users/kingsleyenweye/Desktop/INTELLIGENT_ENVIRONMENT_LAB/citylearn/CityLearn/examples_env/lib/python3.7/site-packages (from ipython>=4.0.0; python_version >= \"3.3\"->ipywidgets==7.7.2) (4.8.0)\n",
            "Requirement already satisfied: pyzmq>=17 in /Users/kingsleyenweye/Desktop/INTELLIGENT_ENVIRONMENT_LAB/citylearn/CityLearn/examples_env/lib/python3.7/site-packages (from ipykernel>=4.5.1->ipywidgets==7.7.2) (25.0.0)\n",
            "Requirement already satisfied: debugpy>=1.0 in /Users/kingsleyenweye/Desktop/INTELLIGENT_ENVIRONMENT_LAB/citylearn/CityLearn/examples_env/lib/python3.7/site-packages (from ipykernel>=4.5.1->ipywidgets==7.7.2) (1.6.6)\n",
            "Requirement already satisfied: tornado>=6.1 in /Users/kingsleyenweye/Desktop/INTELLIGENT_ENVIRONMENT_LAB/citylearn/CityLearn/examples_env/lib/python3.7/site-packages (from ipykernel>=4.5.1->ipywidgets==7.7.2) (6.2)\n",
            "Requirement already satisfied: jupyter-client>=6.1.12 in /Users/kingsleyenweye/Desktop/INTELLIGENT_ENVIRONMENT_LAB/citylearn/CityLearn/examples_env/lib/python3.7/site-packages (from ipykernel>=4.5.1->ipywidgets==7.7.2) (7.4.9)\n",
            "Requirement already satisfied: nest-asyncio in /Users/kingsleyenweye/Desktop/INTELLIGENT_ENVIRONMENT_LAB/citylearn/CityLearn/examples_env/lib/python3.7/site-packages (from ipykernel>=4.5.1->ipywidgets==7.7.2) (1.5.6)\n",
            "Requirement already satisfied: packaging in /Users/kingsleyenweye/Desktop/INTELLIGENT_ENVIRONMENT_LAB/citylearn/CityLearn/examples_env/lib/python3.7/site-packages (from ipykernel>=4.5.1->ipywidgets==7.7.2) (23.0)\n",
            "Requirement already satisfied: psutil in /Users/kingsleyenweye/Desktop/INTELLIGENT_ENVIRONMENT_LAB/citylearn/CityLearn/examples_env/lib/python3.7/site-packages (from ipykernel>=4.5.1->ipywidgets==7.7.2) (5.9.4)\n",
            "Requirement already satisfied: nbformat in /Users/kingsleyenweye/Desktop/INTELLIGENT_ENVIRONMENT_LAB/citylearn/CityLearn/examples_env/lib/python3.7/site-packages (from notebook>=4.4.1->widgetsnbextension~=3.6.0->ipywidgets==7.7.2) (5.7.3)\n",
            "Requirement already satisfied: jinja2 in /Users/kingsleyenweye/Desktop/INTELLIGENT_ENVIRONMENT_LAB/citylearn/CityLearn/examples_env/lib/python3.7/site-packages (from notebook>=4.4.1->widgetsnbextension~=3.6.0->ipywidgets==7.7.2) (3.1.2)\n",
            "Requirement already satisfied: terminado>=0.8.3 in /Users/kingsleyenweye/Desktop/INTELLIGENT_ENVIRONMENT_LAB/citylearn/CityLearn/examples_env/lib/python3.7/site-packages (from notebook>=4.4.1->widgetsnbextension~=3.6.0->ipywidgets==7.7.2) (0.17.1)\n",
            "Requirement already satisfied: Send2Trash>=1.8.0 in /Users/kingsleyenweye/Desktop/INTELLIGENT_ENVIRONMENT_LAB/citylearn/CityLearn/examples_env/lib/python3.7/site-packages (from notebook>=4.4.1->widgetsnbextension~=3.6.0->ipywidgets==7.7.2) (1.8.0)\n",
            "Requirement already satisfied: nbclassic>=0.4.7 in /Users/kingsleyenweye/Desktop/INTELLIGENT_ENVIRONMENT_LAB/citylearn/CityLearn/examples_env/lib/python3.7/site-packages (from notebook>=4.4.1->widgetsnbextension~=3.6.0->ipywidgets==7.7.2) (0.5.2)\n",
            "Requirement already satisfied: prometheus-client in /Users/kingsleyenweye/Desktop/INTELLIGENT_ENVIRONMENT_LAB/citylearn/CityLearn/examples_env/lib/python3.7/site-packages (from notebook>=4.4.1->widgetsnbextension~=3.6.0->ipywidgets==7.7.2) (0.16.0)\n",
            "Requirement already satisfied: nbconvert>=5 in /Users/kingsleyenweye/Desktop/INTELLIGENT_ENVIRONMENT_LAB/citylearn/CityLearn/examples_env/lib/python3.7/site-packages (from notebook>=4.4.1->widgetsnbextension~=3.6.0->ipywidgets==7.7.2) (7.2.9)\n",
            "Requirement already satisfied: jupyter-core>=4.6.1 in /Users/kingsleyenweye/Desktop/INTELLIGENT_ENVIRONMENT_LAB/citylearn/CityLearn/examples_env/lib/python3.7/site-packages (from notebook>=4.4.1->widgetsnbextension~=3.6.0->ipywidgets==7.7.2) (4.12.0)\n",
            "Requirement already satisfied: argon2-cffi in /Users/kingsleyenweye/Desktop/INTELLIGENT_ENVIRONMENT_LAB/citylearn/CityLearn/examples_env/lib/python3.7/site-packages (from notebook>=4.4.1->widgetsnbextension~=3.6.0->ipywidgets==7.7.2) (21.3.0)\n",
            "Requirement already satisfied: parso<0.9.0,>=0.8.0 in /Users/kingsleyenweye/Desktop/INTELLIGENT_ENVIRONMENT_LAB/citylearn/CityLearn/examples_env/lib/python3.7/site-packages (from jedi>=0.16->ipython>=4.0.0; python_version >= \"3.3\"->ipywidgets==7.7.2) (0.8.3)\n",
            "Requirement already satisfied: wcwidth in /Users/kingsleyenweye/Desktop/INTELLIGENT_ENVIRONMENT_LAB/citylearn/CityLearn/examples_env/lib/python3.7/site-packages (from prompt-toolkit!=3.0.0,!=3.0.1,<3.1.0,>=2.0.0->ipython>=4.0.0; python_version >= \"3.3\"->ipywidgets==7.7.2) (0.2.6)\n",
            "Requirement already satisfied: ptyprocess>=0.5 in /Users/kingsleyenweye/Desktop/INTELLIGENT_ENVIRONMENT_LAB/citylearn/CityLearn/examples_env/lib/python3.7/site-packages (from pexpect>4.3; sys_platform != \"win32\"->ipython>=4.0.0; python_version >= \"3.3\"->ipywidgets==7.7.2) (0.7.0)\n",
            "Requirement already satisfied: python-dateutil>=2.8.2 in /Users/kingsleyenweye/Desktop/INTELLIGENT_ENVIRONMENT_LAB/citylearn/CityLearn/examples_env/lib/python3.7/site-packages (from jupyter-client>=6.1.12->ipykernel>=4.5.1->ipywidgets==7.7.2) (2.8.2)\n",
            "Requirement already satisfied: entrypoints in /Users/kingsleyenweye/Desktop/INTELLIGENT_ENVIRONMENT_LAB/citylearn/CityLearn/examples_env/lib/python3.7/site-packages (from jupyter-client>=6.1.12->ipykernel>=4.5.1->ipywidgets==7.7.2) (0.4)\n",
            "Requirement already satisfied: jsonschema>=2.6 in /Users/kingsleyenweye/Desktop/INTELLIGENT_ENVIRONMENT_LAB/citylearn/CityLearn/examples_env/lib/python3.7/site-packages (from nbformat->notebook>=4.4.1->widgetsnbextension~=3.6.0->ipywidgets==7.7.2) (4.17.3)\n",
            "Requirement already satisfied: importlib-metadata>=3.6; python_version < \"3.8\" in /Users/kingsleyenweye/Desktop/INTELLIGENT_ENVIRONMENT_LAB/citylearn/CityLearn/examples_env/lib/python3.7/site-packages (from nbformat->notebook>=4.4.1->widgetsnbextension~=3.6.0->ipywidgets==7.7.2) (4.13.0)\n",
            "Requirement already satisfied: fastjsonschema in /Users/kingsleyenweye/Desktop/INTELLIGENT_ENVIRONMENT_LAB/citylearn/CityLearn/examples_env/lib/python3.7/site-packages (from nbformat->notebook>=4.4.1->widgetsnbextension~=3.6.0->ipywidgets==7.7.2) (2.16.2)\n",
            "Requirement already satisfied: MarkupSafe>=2.0 in /Users/kingsleyenweye/Desktop/INTELLIGENT_ENVIRONMENT_LAB/citylearn/CityLearn/examples_env/lib/python3.7/site-packages (from jinja2->notebook>=4.4.1->widgetsnbextension~=3.6.0->ipywidgets==7.7.2) (2.1.2)\n",
            "Requirement already satisfied: jupyter-server>=1.8 in /Users/kingsleyenweye/Desktop/INTELLIGENT_ENVIRONMENT_LAB/citylearn/CityLearn/examples_env/lib/python3.7/site-packages (from nbclassic>=0.4.7->notebook>=4.4.1->widgetsnbextension~=3.6.0->ipywidgets==7.7.2) (1.23.6)\n",
            "Requirement already satisfied: notebook-shim>=0.1.0 in /Users/kingsleyenweye/Desktop/INTELLIGENT_ENVIRONMENT_LAB/citylearn/CityLearn/examples_env/lib/python3.7/site-packages (from nbclassic>=0.4.7->notebook>=4.4.1->widgetsnbextension~=3.6.0->ipywidgets==7.7.2) (0.2.2)\n",
            "Requirement already satisfied: pandocfilters>=1.4.1 in /Users/kingsleyenweye/Desktop/INTELLIGENT_ENVIRONMENT_LAB/citylearn/CityLearn/examples_env/lib/python3.7/site-packages (from nbconvert>=5->notebook>=4.4.1->widgetsnbextension~=3.6.0->ipywidgets==7.7.2) (1.5.0)\n",
            "Requirement already satisfied: mistune<3,>=2.0.3 in /Users/kingsleyenweye/Desktop/INTELLIGENT_ENVIRONMENT_LAB/citylearn/CityLearn/examples_env/lib/python3.7/site-packages (from nbconvert>=5->notebook>=4.4.1->widgetsnbextension~=3.6.0->ipywidgets==7.7.2) (2.0.5)\n",
            "Requirement already satisfied: jupyterlab-pygments in /Users/kingsleyenweye/Desktop/INTELLIGENT_ENVIRONMENT_LAB/citylearn/CityLearn/examples_env/lib/python3.7/site-packages (from nbconvert>=5->notebook>=4.4.1->widgetsnbextension~=3.6.0->ipywidgets==7.7.2) (0.2.2)\n",
            "Requirement already satisfied: nbclient>=0.5.0 in /Users/kingsleyenweye/Desktop/INTELLIGENT_ENVIRONMENT_LAB/citylearn/CityLearn/examples_env/lib/python3.7/site-packages (from nbconvert>=5->notebook>=4.4.1->widgetsnbextension~=3.6.0->ipywidgets==7.7.2) (0.7.2)\n",
            "Requirement already satisfied: bleach in /Users/kingsleyenweye/Desktop/INTELLIGENT_ENVIRONMENT_LAB/citylearn/CityLearn/examples_env/lib/python3.7/site-packages (from nbconvert>=5->notebook>=4.4.1->widgetsnbextension~=3.6.0->ipywidgets==7.7.2) (6.0.0)\n",
            "Requirement already satisfied: defusedxml in /Users/kingsleyenweye/Desktop/INTELLIGENT_ENVIRONMENT_LAB/citylearn/CityLearn/examples_env/lib/python3.7/site-packages (from nbconvert>=5->notebook>=4.4.1->widgetsnbextension~=3.6.0->ipywidgets==7.7.2) (0.7.1)\n",
            "Requirement already satisfied: tinycss2 in /Users/kingsleyenweye/Desktop/INTELLIGENT_ENVIRONMENT_LAB/citylearn/CityLearn/examples_env/lib/python3.7/site-packages (from nbconvert>=5->notebook>=4.4.1->widgetsnbextension~=3.6.0->ipywidgets==7.7.2) (1.2.1)\n",
            "Requirement already satisfied: beautifulsoup4 in /Users/kingsleyenweye/Desktop/INTELLIGENT_ENVIRONMENT_LAB/citylearn/CityLearn/examples_env/lib/python3.7/site-packages (from nbconvert>=5->notebook>=4.4.1->widgetsnbextension~=3.6.0->ipywidgets==7.7.2) (4.11.2)\n",
            "Requirement already satisfied: argon2-cffi-bindings in /Users/kingsleyenweye/Desktop/INTELLIGENT_ENVIRONMENT_LAB/citylearn/CityLearn/examples_env/lib/python3.7/site-packages (from argon2-cffi->notebook>=4.4.1->widgetsnbextension~=3.6.0->ipywidgets==7.7.2) (21.2.0)\n",
            "Requirement already satisfied: typing-extensions; python_version < \"3.8\" in /Users/kingsleyenweye/Desktop/INTELLIGENT_ENVIRONMENT_LAB/citylearn/CityLearn/examples_env/lib/python3.7/site-packages (from argon2-cffi->notebook>=4.4.1->widgetsnbextension~=3.6.0->ipywidgets==7.7.2) (4.5.0)\n",
            "Requirement already satisfied: six>=1.5 in /Users/kingsleyenweye/Desktop/INTELLIGENT_ENVIRONMENT_LAB/citylearn/CityLearn/examples_env/lib/python3.7/site-packages (from python-dateutil>=2.8.2->jupyter-client>=6.1.12->ipykernel>=4.5.1->ipywidgets==7.7.2) (1.16.0)\n",
            "Requirement already satisfied: attrs>=17.4.0 in /Users/kingsleyenweye/Desktop/INTELLIGENT_ENVIRONMENT_LAB/citylearn/CityLearn/examples_env/lib/python3.7/site-packages (from jsonschema>=2.6->nbformat->notebook>=4.4.1->widgetsnbextension~=3.6.0->ipywidgets==7.7.2) (22.2.0)\n",
            "Requirement already satisfied: pyrsistent!=0.17.0,!=0.17.1,!=0.17.2,>=0.14.0 in /Users/kingsleyenweye/Desktop/INTELLIGENT_ENVIRONMENT_LAB/citylearn/CityLearn/examples_env/lib/python3.7/site-packages (from jsonschema>=2.6->nbformat->notebook>=4.4.1->widgetsnbextension~=3.6.0->ipywidgets==7.7.2) (0.19.3)\n",
            "Requirement already satisfied: pkgutil-resolve-name>=1.3.10; python_version < \"3.9\" in /Users/kingsleyenweye/Desktop/INTELLIGENT_ENVIRONMENT_LAB/citylearn/CityLearn/examples_env/lib/python3.7/site-packages (from jsonschema>=2.6->nbformat->notebook>=4.4.1->widgetsnbextension~=3.6.0->ipywidgets==7.7.2) (1.3.10)\n",
            "Requirement already satisfied: importlib-resources>=1.4.0; python_version < \"3.9\" in /Users/kingsleyenweye/Desktop/INTELLIGENT_ENVIRONMENT_LAB/citylearn/CityLearn/examples_env/lib/python3.7/site-packages (from jsonschema>=2.6->nbformat->notebook>=4.4.1->widgetsnbextension~=3.6.0->ipywidgets==7.7.2) (5.12.0)\n",
            "Requirement already satisfied: zipp>=0.5 in /Users/kingsleyenweye/Desktop/INTELLIGENT_ENVIRONMENT_LAB/citylearn/CityLearn/examples_env/lib/python3.7/site-packages (from importlib-metadata>=3.6; python_version < \"3.8\"->nbformat->notebook>=4.4.1->widgetsnbextension~=3.6.0->ipywidgets==7.7.2) (3.14.0)\n",
            "Requirement already satisfied: websocket-client in /Users/kingsleyenweye/Desktop/INTELLIGENT_ENVIRONMENT_LAB/citylearn/CityLearn/examples_env/lib/python3.7/site-packages (from jupyter-server>=1.8->nbclassic>=0.4.7->notebook>=4.4.1->widgetsnbextension~=3.6.0->ipywidgets==7.7.2) (1.5.1)\n",
            "Requirement already satisfied: anyio<4,>=3.1.0 in /Users/kingsleyenweye/Desktop/INTELLIGENT_ENVIRONMENT_LAB/citylearn/CityLearn/examples_env/lib/python3.7/site-packages (from jupyter-server>=1.8->nbclassic>=0.4.7->notebook>=4.4.1->widgetsnbextension~=3.6.0->ipywidgets==7.7.2) (3.6.2)\n",
            "Requirement already satisfied: webencodings in /Users/kingsleyenweye/Desktop/INTELLIGENT_ENVIRONMENT_LAB/citylearn/CityLearn/examples_env/lib/python3.7/site-packages (from bleach->nbconvert>=5->notebook>=4.4.1->widgetsnbextension~=3.6.0->ipywidgets==7.7.2) (0.5.1)\n",
            "Requirement already satisfied: soupsieve>1.2 in /Users/kingsleyenweye/Desktop/INTELLIGENT_ENVIRONMENT_LAB/citylearn/CityLearn/examples_env/lib/python3.7/site-packages (from beautifulsoup4->nbconvert>=5->notebook>=4.4.1->widgetsnbextension~=3.6.0->ipywidgets==7.7.2) (2.4)\n",
            "Requirement already satisfied: cffi>=1.0.1 in /Users/kingsleyenweye/Desktop/INTELLIGENT_ENVIRONMENT_LAB/citylearn/CityLearn/examples_env/lib/python3.7/site-packages (from argon2-cffi-bindings->argon2-cffi->notebook>=4.4.1->widgetsnbextension~=3.6.0->ipywidgets==7.7.2) (1.15.1)\n",
            "Requirement already satisfied: sniffio>=1.1 in /Users/kingsleyenweye/Desktop/INTELLIGENT_ENVIRONMENT_LAB/citylearn/CityLearn/examples_env/lib/python3.7/site-packages (from anyio<4,>=3.1.0->jupyter-server>=1.8->nbclassic>=0.4.7->notebook>=4.4.1->widgetsnbextension~=3.6.0->ipywidgets==7.7.2) (1.3.0)\n",
            "Requirement already satisfied: idna>=2.8 in /Users/kingsleyenweye/Desktop/INTELLIGENT_ENVIRONMENT_LAB/citylearn/CityLearn/examples_env/lib/python3.7/site-packages (from anyio<4,>=3.1.0->jupyter-server>=1.8->nbclassic>=0.4.7->notebook>=4.4.1->widgetsnbextension~=3.6.0->ipywidgets==7.7.2) (3.4)\n",
            "Requirement already satisfied: pycparser in /Users/kingsleyenweye/Desktop/INTELLIGENT_ENVIRONMENT_LAB/citylearn/CityLearn/examples_env/lib/python3.7/site-packages (from cffi>=1.0.1->argon2-cffi-bindings->argon2-cffi->notebook>=4.4.1->widgetsnbextension~=3.6.0->ipywidgets==7.7.2) (2.21)\n",
            "\u001b[33mWARNING: You are using pip version 19.2.3, however version 23.0.1 is available.\n",
            "You should consider upgrading via the 'pip install --upgrade pip' command.\u001b[0m\n",
            "Requirement already satisfied: matplotlib==3.5.3 in /Users/kingsleyenweye/Desktop/INTELLIGENT_ENVIRONMENT_LAB/citylearn/CityLearn/examples_env/lib/python3.7/site-packages (3.5.3)\n",
            "Requirement already satisfied: kiwisolver>=1.0.1 in /Users/kingsleyenweye/Desktop/INTELLIGENT_ENVIRONMENT_LAB/citylearn/CityLearn/examples_env/lib/python3.7/site-packages (from matplotlib==3.5.3) (1.4.4)\n",
            "Requirement already satisfied: python-dateutil>=2.7 in /Users/kingsleyenweye/Desktop/INTELLIGENT_ENVIRONMENT_LAB/citylearn/CityLearn/examples_env/lib/python3.7/site-packages (from matplotlib==3.5.3) (2.8.2)\n",
            "Requirement already satisfied: pyparsing>=2.2.1 in /Users/kingsleyenweye/Desktop/INTELLIGENT_ENVIRONMENT_LAB/citylearn/CityLearn/examples_env/lib/python3.7/site-packages (from matplotlib==3.5.3) (3.0.9)\n",
            "Requirement already satisfied: packaging>=20.0 in /Users/kingsleyenweye/Desktop/INTELLIGENT_ENVIRONMENT_LAB/citylearn/CityLearn/examples_env/lib/python3.7/site-packages (from matplotlib==3.5.3) (23.0)\n",
            "Requirement already satisfied: pillow>=6.2.0 in /Users/kingsleyenweye/Desktop/INTELLIGENT_ENVIRONMENT_LAB/citylearn/CityLearn/examples_env/lib/python3.7/site-packages (from matplotlib==3.5.3) (9.4.0)\n",
            "Requirement already satisfied: numpy>=1.17 in /Users/kingsleyenweye/Desktop/INTELLIGENT_ENVIRONMENT_LAB/citylearn/CityLearn/examples_env/lib/python3.7/site-packages (from matplotlib==3.5.3) (1.21.6)\n",
            "Requirement already satisfied: fonttools>=4.22.0 in /Users/kingsleyenweye/Desktop/INTELLIGENT_ENVIRONMENT_LAB/citylearn/CityLearn/examples_env/lib/python3.7/site-packages (from matplotlib==3.5.3) (4.38.0)\n",
            "Requirement already satisfied: cycler>=0.10 in /Users/kingsleyenweye/Desktop/INTELLIGENT_ENVIRONMENT_LAB/citylearn/CityLearn/examples_env/lib/python3.7/site-packages (from matplotlib==3.5.3) (0.11.0)\n",
            "Requirement already satisfied: typing-extensions; python_version < \"3.8\" in /Users/kingsleyenweye/Desktop/INTELLIGENT_ENVIRONMENT_LAB/citylearn/CityLearn/examples_env/lib/python3.7/site-packages (from kiwisolver>=1.0.1->matplotlib==3.5.3) (4.5.0)\n",
            "Requirement already satisfied: six>=1.5 in /Users/kingsleyenweye/Desktop/INTELLIGENT_ENVIRONMENT_LAB/citylearn/CityLearn/examples_env/lib/python3.7/site-packages (from python-dateutil>=2.7->matplotlib==3.5.3) (1.16.0)\n",
            "\u001b[33mWARNING: You are using pip version 19.2.3, however version 23.0.1 is available.\n",
            "You should consider upgrading via the 'pip install --upgrade pip' command.\u001b[0m\n",
            "Requirement already satisfied: stable-baselines3==1.7.0 in /Users/kingsleyenweye/Desktop/INTELLIGENT_ENVIRONMENT_LAB/citylearn/CityLearn/examples_env/lib/python3.7/site-packages (1.7.0)\n",
            "Collecting gym==0.21 (from stable-baselines3==1.7.0)\n",
            "  Using cached https://files.pythonhosted.org/packages/4b/48/920cea66177b865663fde5a9390a59de0ef3b642ad98106ac1d8717d7005/gym-0.21.0.tar.gz\n",
            "Requirement already satisfied: typing-extensions<5,>=4.0; python_version < \"3.8.0\" in /Users/kingsleyenweye/Desktop/INTELLIGENT_ENVIRONMENT_LAB/citylearn/CityLearn/examples_env/lib/python3.7/site-packages (from stable-baselines3==1.7.0) (4.5.0)\n",
            "Requirement already satisfied: matplotlib in /Users/kingsleyenweye/Desktop/INTELLIGENT_ENVIRONMENT_LAB/citylearn/CityLearn/examples_env/lib/python3.7/site-packages (from stable-baselines3==1.7.0) (3.5.3)\n",
            "Requirement already satisfied: numpy in /Users/kingsleyenweye/Desktop/INTELLIGENT_ENVIRONMENT_LAB/citylearn/CityLearn/examples_env/lib/python3.7/site-packages (from stable-baselines3==1.7.0) (1.21.6)\n",
            "Requirement already satisfied: pandas in /Users/kingsleyenweye/Desktop/INTELLIGENT_ENVIRONMENT_LAB/citylearn/CityLearn/examples_env/lib/python3.7/site-packages (from stable-baselines3==1.7.0) (1.3.5)\n",
            "Requirement already satisfied: torch>=1.11 in /Users/kingsleyenweye/Desktop/INTELLIGENT_ENVIRONMENT_LAB/citylearn/CityLearn/examples_env/lib/python3.7/site-packages (from stable-baselines3==1.7.0) (1.12.0)\n",
            "Requirement already satisfied: cloudpickle in /Users/kingsleyenweye/Desktop/INTELLIGENT_ENVIRONMENT_LAB/citylearn/CityLearn/examples_env/lib/python3.7/site-packages (from stable-baselines3==1.7.0) (2.2.1)\n",
            "Requirement already satisfied: importlib-metadata~=4.13 in /Users/kingsleyenweye/Desktop/INTELLIGENT_ENVIRONMENT_LAB/citylearn/CityLearn/examples_env/lib/python3.7/site-packages (from stable-baselines3==1.7.0) (4.13.0)\n",
            "Requirement already satisfied: cycler>=0.10 in /Users/kingsleyenweye/Desktop/INTELLIGENT_ENVIRONMENT_LAB/citylearn/CityLearn/examples_env/lib/python3.7/site-packages (from matplotlib->stable-baselines3==1.7.0) (0.11.0)\n",
            "Requirement already satisfied: packaging>=20.0 in /Users/kingsleyenweye/Desktop/INTELLIGENT_ENVIRONMENT_LAB/citylearn/CityLearn/examples_env/lib/python3.7/site-packages (from matplotlib->stable-baselines3==1.7.0) (23.0)\n",
            "Requirement already satisfied: pillow>=6.2.0 in /Users/kingsleyenweye/Desktop/INTELLIGENT_ENVIRONMENT_LAB/citylearn/CityLearn/examples_env/lib/python3.7/site-packages (from matplotlib->stable-baselines3==1.7.0) (9.4.0)\n",
            "Requirement already satisfied: kiwisolver>=1.0.1 in /Users/kingsleyenweye/Desktop/INTELLIGENT_ENVIRONMENT_LAB/citylearn/CityLearn/examples_env/lib/python3.7/site-packages (from matplotlib->stable-baselines3==1.7.0) (1.4.4)\n",
            "Requirement already satisfied: python-dateutil>=2.7 in /Users/kingsleyenweye/Desktop/INTELLIGENT_ENVIRONMENT_LAB/citylearn/CityLearn/examples_env/lib/python3.7/site-packages (from matplotlib->stable-baselines3==1.7.0) (2.8.2)\n",
            "Requirement already satisfied: fonttools>=4.22.0 in /Users/kingsleyenweye/Desktop/INTELLIGENT_ENVIRONMENT_LAB/citylearn/CityLearn/examples_env/lib/python3.7/site-packages (from matplotlib->stable-baselines3==1.7.0) (4.38.0)\n",
            "Requirement already satisfied: pyparsing>=2.2.1 in /Users/kingsleyenweye/Desktop/INTELLIGENT_ENVIRONMENT_LAB/citylearn/CityLearn/examples_env/lib/python3.7/site-packages (from matplotlib->stable-baselines3==1.7.0) (3.0.9)\n",
            "Requirement already satisfied: pytz>=2017.3 in /Users/kingsleyenweye/Desktop/INTELLIGENT_ENVIRONMENT_LAB/citylearn/CityLearn/examples_env/lib/python3.7/site-packages (from pandas->stable-baselines3==1.7.0) (2022.7.1)\n",
            "Requirement already satisfied: zipp>=0.5 in /Users/kingsleyenweye/Desktop/INTELLIGENT_ENVIRONMENT_LAB/citylearn/CityLearn/examples_env/lib/python3.7/site-packages (from importlib-metadata~=4.13->stable-baselines3==1.7.0) (3.14.0)\n",
            "Requirement already satisfied: six>=1.5 in /Users/kingsleyenweye/Desktop/INTELLIGENT_ENVIRONMENT_LAB/citylearn/CityLearn/examples_env/lib/python3.7/site-packages (from python-dateutil>=2.7->matplotlib->stable-baselines3==1.7.0) (1.16.0)\n",
            "\u001b[31mERROR: citylearn 1.7.0 has requirement gym==0.25.1, but you'll have gym 0.21.0 which is incompatible.\u001b[0m\n",
            "Installing collected packages: gym\n",
            "  Found existing installation: gym 0.25.1\n",
            "    Uninstalling gym-0.25.1:\n",
            "      Successfully uninstalled gym-0.25.1\n",
            "  Running setup.py install for gym ... \u001b[?25ldone\n",
            "\u001b[?25hSuccessfully installed gym-0.21.0\n",
            "\u001b[33mWARNING: You are using pip version 19.2.3, however version 23.0.1 is available.\n",
            "You should consider upgrading via the 'pip install --upgrade pip' command.\u001b[0m\n"
          ]
        }
      ],
      "source": [
        "# Uncomment line 2 to see progress of installed packages\n",
        "# %%capture\n",
        "\n",
        "# The environment we will be working with\n",
        "!pip install CityLearn==1.7.0\n",
        "\n",
        "# For participant interactions (buttons)\n",
        "!pip install ipywidgets==7.7.2\n",
        "\n",
        "# To generate static figures\n",
        "!pip install matplotlib==3.5.3\n",
        "\n",
        "# Provide standard RL algorithms\n",
        "!pip install stable-baselines3==1.7.0"
      ]
    },
    {
      "cell_type": "markdown",
      "metadata": {
        "id": "wEW_ldpKOXDA"
      },
      "source": [
        "We can now import the relevant modules, classes and functions for the remainder of the tutorial:"
      ]
    },
    {
      "cell_type": "code",
      "execution_count": 4,
      "metadata": {
        "id": "xVzk4V7qUu2R"
      },
      "outputs": [],
      "source": [
        "# type hinting\n",
        "from typing import List\n",
        "from gym import spaces\n",
        "\n",
        "# Data visualization\n",
        "import matplotlib.pyplot as plt\n",
        "import matplotlib.ticker as ticker\n",
        "\n",
        "# User interaction\n",
        "from IPython.display import clear_output\n",
        "from ipywidgets import Button, Checkbox, FloatSlider, FloatText, HBox, IntProgress, ToggleButton\n",
        "\n",
        "# Data manipulation\n",
        "import math\n",
        "import numpy as np\n",
        "import pandas as pd\n",
        "import random\n",
        "\n",
        "# CityLearn\n",
        "from citylearn.citylearn import CityLearnEnv, StableBaselines3Wrapper\n",
        "from citylearn.data import DataSet\n",
        "from citylearn.preprocessing import Normalize, OnehotEncoding, PeriodicNormalization\n",
        "\n",
        "# baseline RL algorithms\n",
        "from stable_baselines3 import SAC"
      ]
    },
    {
      "attachments": {},
      "cell_type": "markdown",
      "metadata": {
        "id": "jXoiLncsU3pe"
      },
      "source": [
        "<a name=\"data-description\"></a>\n",
        "# Data Description\n",
        "\n",
        "\n",
        "In this tutorial, we will make use of the [CityLearn Challenge 2022 dataset](https://doi.org/10.18738/T8/0YLJ6Q).\n",
        "\n",
        "<!-- In this section, kindly provide a brief description of the dataset that you will use in this tutorial. Specify information such as the data type or file format (e.g. text, image, video, tabular), size, spatial resolution, temporal resolution, labels or categories, etc. If you are introducing a new dataset, feel free to include additional information (e.g. field survey sampling methods, dataset annotation efforts, etc.) or provide external links and resources that discuss the specific details of the dataset. -->\n",
        " "
      ]
    },
    {
      "cell_type": "markdown",
      "metadata": {
        "id": "PoF-BxSM5Jkc"
      },
      "source": [
        "## Data Download\n",
        "Provide instructions on how to retrieve the necessary data. \n",
        "\n",
        "This may include bash scripts, Python scripts, or other means of downloading the data."
      ]
    },
    {
      "cell_type": "code",
      "execution_count": 5,
      "metadata": {
        "id": "Qh5FKi6Nopbr"
      },
      "outputs": [],
      "source": [
        "dataset_name = 'citylearn_challenge_2022_phase_1'\n",
        "schema = DataSet.get_schema(dataset_name)\n",
        "schema['central_agent'] = True"
      ]
    },
    {
      "cell_type": "markdown",
      "metadata": {
        "id": "bSt6h_Q-oqjK"
      },
      "source": [
        "## Data Preprocessing\n",
        "Additionally, you can include any data preprocessing steps and exploratory data analyses (e.g. visualize data distributions, impute missing values, etc.) in this section to allow the users to better understand the dataset. \n",
        "\n",
        "In this section, you might also want to describe the different input and output variables, the train/val/test splits, and any data transformations."
      ]
    },
    {
      "cell_type": "code",
      "execution_count": 6,
      "metadata": {
        "id": "0aBJ5aLZosk-"
      },
      "outputs": [],
      "source": [
        "# Insert data pre-processing and exploratory data analysis\n",
        "# code here. Feel free to break this up into several code\n",
        "# cells, interleaved with explanatory text."
      ]
    },
    {
      "cell_type": "markdown",
      "metadata": {
        "id": "qa9Iuu2GU52Z"
      },
      "source": [
        "<a name=\"methodology\"></a>\n",
        "# Methodology\n",
        "\n",
        "In this section, describe a step-by-step walkthrough of the methodology, in the form of code cells. Feel free to make use of markdown headings to break this section up into smaller subsections, preferrably one section per task. \n",
        "\n",
        "Reminders:\n",
        "*   Split the code into small, digestible chunks. \n",
        "*   Use text cells to describe each code block.\n",
        "*   Avoid duplicate code through modularization."
      ]
    },
    {
      "cell_type": "markdown",
      "metadata": {
        "id": "yWXsiZ5freTG"
      },
      "source": [
        "## Manually Tuned Rule-Based Controller\n",
        "Replace the heading with the appropriate title for each subtask."
      ]
    },
    {
      "cell_type": "code",
      "execution_count": 7,
      "metadata": {
        "id": "M-qNSqYSuiY-"
      },
      "outputs": [],
      "source": [
        "class RBC:\n",
        "    def __init__(self, env: CityLearnEnv, hours: List[int], actions: List[float], loader: IntProgress = None):\n",
        "        self.env = env\n",
        "        self.hours = hours\n",
        "        self.actions = actions\n",
        "        self.loader = loader\n",
        "\n",
        "    def learn(self):\n",
        "        if self.loader is not None:\n",
        "            self.loader.max = self.env.time_steps\n",
        "        else:\n",
        "            pass\n",
        "\n",
        "        observations = self.env.reset()\n",
        "        \n",
        "        while not self.env.done:\n",
        "            if self.loader is not None:\n",
        "                self.loader.value += 1\n",
        "            else:\n",
        "                pass\n",
        "            \n",
        "            actions = self.predict(observations)\n",
        "            next_observations, _, _, _  = self.env.step(actions)\n",
        "            observations = [o for o in next_observations]\n",
        "    \n",
        "    def predict(self, observations: List[List[float]]) -> List[float]:\n",
        "        actions = []\n",
        "\n",
        "        for n, o, s in zip(self.env.observation_names, observations, self.env.action_space):\n",
        "            hour = o[n.index('hour')]\n",
        "            a = self.actions[self.hours.index(hour)]\n",
        "            actions.append([a]*s.shape[0])\n",
        "\n",
        "        return actions"
      ]
    },
    {
      "cell_type": "code",
      "execution_count": 8,
      "metadata": {
        "id": "wdmxDMHJuiY_"
      },
      "outputs": [],
      "source": [
        "def parse_kpis(env: CityLearnEnv):\n",
        "    kpis = env.evaluate().pivot(index='name', columns='cost_function', values='value').round(3)\n",
        "    kpis = kpis.reset_index()\n",
        "    kpis = kpis.to_dict('records')\n",
        "    return kpis\n",
        "\n",
        "def plot_profiles(env: CityLearnEnv):\n",
        "    fig, axs = plt.subplots(3, 1, figsize=(8, 4), sharex=True)\n",
        "    y1 = env.buildings[0].net_electricity_consumption\n",
        "    y2 = env.buildings[0].net_electricity_consumption_without_storage\n",
        "    y3 = env.buildings[0].net_electricity_consumption_without_storage_and_pv\n",
        "    x = range(env.time_step + 1)\n",
        "    axs[0].plot(x, y1, label='With storage')\n",
        "    axs[0].plot(x, y2, label='Without storage')\n",
        "    axs[0].plot(x, y3, label='Without storage and PV')\n",
        "    axs[0].set_ylabel('kWh')\n",
        "    axs[0].set_title('Net electricity consumption')\n",
        "    axs[0].margins(0)\n",
        "    axs[0].legend()\n",
        "\n",
        "    y4 = env.buildings[0].weather.outdoor_dry_bulb_temperature\n",
        "    axs[1].plot(x, y4)\n",
        "    axs[1].set_title('Outdoor dry bulb temperature')\n",
        "    axs[1].set_ylabel('C')\n",
        "    axs[1].margins(0)\n",
        "\n",
        "    y5 = np.array(env.buildings[0].cooling_storage.soc)/env.buildings[0].cooling_storage.capacity\n",
        "    y6 = np.array(env.buildings[0].dhw_storage.soc)/env.buildings[0].dhw_storage.capacity\n",
        "    y7 = np.array(env.buildings[0].electrical_storage.soc)/env.buildings[0].electrical_storage.capacity\n",
        "    axs[2].plot(x, y5, label='Cooling storage')\n",
        "    axs[2].plot(x, y6, label='DHW storage')\n",
        "    axs[2].plot(x, y7, label='Battery')\n",
        "    axs[2].set_title('Storage SOC')\n",
        "    axs[2].set_xlabel('Time step')\n",
        "    axs[2].set_ylabel('[1]')\n",
        "    axs[2].margins(0)\n",
        "    axs[2].legend()\n",
        "\n",
        "    plt.tight_layout()\n",
        "\n",
        "    return fig, axs\n",
        "\n",
        "def plot_building_daily_profile(ixs: List[int], schema: dict):\n",
        "    column_count_limit = 5\n",
        "    row_count = math.ceil(len(ixs)/column_count_limit)\n",
        "    column_count = min(len(ixs), column_count_limit)\n",
        "    fig, _ = plt.subplots(row_count, column_count, figsize=(4*column_count, 2*row_count))\n",
        "    env = CityLearnEnv(schema)\n",
        "    x = list(range(env.time_steps + 1))\n",
        "\n",
        "    for i, (ax, ix) in enumerate(zip(fig.axes, ixs)):\n",
        "        y = \\\n",
        "            env.buildings[ix].energy_simulation.non_shiftable_load\\\n",
        "                + env.buildings[ix].energy_simulation.cooling_demand\\\n",
        "                    + env.buildings[ix].energy_simulation.heating_demand\\\n",
        "                        + env.buildings[ix].energy_simulation.dhw_demand\\\n",
        "                            # - env.buildings[ix].pv.get_generation(env.buildings[ix].energy_simulation.solar_generation)\n",
        "        \n",
        "        y = np.array_split(y, int(len(x)/24))\n",
        "\n",
        "        for y_ in y:\n",
        "            ax.plot(y_, color='grey', alpha=0.5)\n",
        "\n",
        "        ax.plot(np.mean(y, axis=0), color='red')\n",
        "        ax.plot(np.mean(y, axis=0) + np.std(y, axis=0), color='green', linestyle='--')\n",
        "        ax.plot(np.mean(y, axis=0) - np.std(y, axis=0), color='green', linestyle='--')\n",
        "        ax.margins(0)\n",
        "        ax.xaxis.set_major_locator(ticker.MultipleLocator(2))\n",
        "        ax.set_xlabel('Hour')\n",
        "        ax.set_ylabel('kWh')"
      ]
    },
    {
      "cell_type": "markdown",
      "metadata": {
        "id": "6KHS2--GuiY_"
      },
      "source": [
        "- What happens when actions for all hours are set to 0?\n",
        "- How can we set the RBC so that it takes advantage of solar generation?\n",
        "- How can we set the RBC so that it takes advantage of times of high coefficient of performance (COP) for the heat pump?"
      ]
    },
    {
      "cell_type": "code",
      "execution_count": 9,
      "metadata": {
        "colab": {
          "referenced_widgets": [
            "9f58c23eb35d42c19b6f53cd8a3cca7a",
            "04c692b4fead4f1aa826e64dd5d02896",
            "ed858a67466f40e3830e758c5dc1aa34",
            "420b6d60d8ce496cac1586c26a368887"
          ]
        },
        "id": "_j2GAa7YuiZA",
        "outputId": "cd4e96e9-8964-44d7-f4c4-63956886acf3"
      },
      "outputs": [
        {
          "data": {
            "application/vnd.jupyter.widget-view+json": {
              "model_id": "758e181aa3094a9d8c8c9a86a43d9a57",
              "version_major": 2,
              "version_minor": 0
            },
            "text/plain": [
              "HBox(children=(FloatSlider(value=0.0, continuous_update=False, description='Hr: 1-2', max=1.0, min=-1.0, orien…"
            ]
          },
          "metadata": {},
          "output_type": "display_data"
        },
        {
          "data": {
            "application/vnd.jupyter.widget-view+json": {
              "model_id": "1e945423e4664ed2af30192da9cd0ab5",
              "version_major": 2,
              "version_minor": 0
            },
            "text/plain": [
              "Checkbox(value=True, description='Use PV?', indent=False)"
            ]
          },
          "metadata": {},
          "output_type": "display_data"
        },
        {
          "data": {
            "application/vnd.jupyter.widget-view+json": {
              "model_id": "6c652af924464c49abed7ca33c2a3a7d",
              "version_major": 2,
              "version_minor": 0
            },
            "text/plain": [
              "HBox(children=(Button(button_style='info', description='Reset', style=ButtonStyle(), tooltip='Set all hour act…"
            ]
          },
          "metadata": {},
          "output_type": "display_data"
        },
        {
          "data": {
            "application/vnd.jupyter.widget-view+json": {
              "model_id": "342d805350ce445a8d5d0b46e7e915cc",
              "version_major": 2,
              "version_minor": 0
            },
            "text/plain": [
              "IntProgress(value=0, description='Waiting', max=10, style=ProgressStyle(bar_color='maroon'))"
            ]
          },
          "metadata": {},
          "output_type": "display_data"
        }
      ],
      "source": [
        "ACTION_STEP = 0.05\n",
        "HOUR_STEP = 2\n",
        "BUILDINGS = [0]\n",
        "HOURS = list(range(1, 25, HOUR_STEP))\n",
        "DEFAULT_LOADER_DESCRIPTION = 'Waiting'\n",
        "sliders = [FloatSlider(\n",
        "    value=0.0,\n",
        "    min=-1.0,\n",
        "    max=1.0,\n",
        "    step=ACTION_STEP,\n",
        "    description=f'Hr: {h}-{h + HOUR_STEP - 1}',\n",
        "    disabled=False,\n",
        "    continuous_update=False,\n",
        "    orientation='vertical',\n",
        "    readout=True,\n",
        "    readout_format='.2f',\n",
        ") for h in HOURS]\n",
        "reset_button = Button(description='Reset', disabled=False, button_style='info', tooltip='Set all hour actions to 0.0', icon='')\n",
        "random_button = Button(description='Random', disabled=False, button_style='warning', tooltip='Select random hour actions', icon='')\n",
        "simulate_button = Button(description='Simulate', disabled=False, button_style='success', tooltip='Run simulation', icon='check')\n",
        "loader = IntProgress(value=0, min=0, max=10, description=DEFAULT_LOADER_DESCRIPTION, bar_style='', style={'bar_color': 'maroon'},orientation='horizontal')\n",
        "pv_checkbox = Checkbox(value=True, description='Use PV?', indent=False, disabled=False)\n",
        "sliders_ui = HBox(sliders)\n",
        "buttons_ui = HBox([reset_button, random_button, simulate_button])\n",
        "\n",
        "def on_reset_button_clicked(b):\n",
        "    loader.value = 0\n",
        "    loader.description = DEFAULT_LOADER_DESCRIPTION\n",
        "\n",
        "    for s in sliders:\n",
        "        s.value = 0.0\n",
        "\n",
        "def on_random_button_clicked(b):\n",
        "    loader.value = 0\n",
        "    loader.description = DEFAULT_LOADER_DESCRIPTION\n",
        "    options = np.arange(-1.0, 1.0, ACTION_STEP)\n",
        "\n",
        "    for s in sliders:\n",
        "        \n",
        "        s.value = round(random.choice(options), 2)\n",
        "\n",
        "def on_simulate_button_clicked(b):\n",
        "    loader.description = 'Simulating'\n",
        "    loader.value = 0\n",
        "    clear_output(wait=False)\n",
        "    display(sliders_ui, pv_checkbox, buttons_ui, loader)\n",
        "    reset_button.disabled = True\n",
        "    random_button.disabled = True\n",
        "    simulate_button.disabled = True\n",
        "    pv_checkbox.disabled = True\n",
        "\n",
        "    for s in sliders:\n",
        "        s.disabled = True\n",
        "\n",
        "    hours = []\n",
        "    actions = []\n",
        "\n",
        "    for h, s in zip(HOURS, sliders):\n",
        "        for i in range(HOUR_STEP):\n",
        "            hours.append(h + i)\n",
        "            actions.append(s.value)\n",
        "    \n",
        "    env = CityLearnEnv(schema)\n",
        "    env.buildings = [b for i, b in enumerate(env.buildings) if i in BUILDINGS]\n",
        "\n",
        "    for b in env.buildings:\n",
        "        if not pv_checkbox.value:\n",
        "            b.pv.nominal_power = 0.0\n",
        "        else:\n",
        "            continue\n",
        "        \n",
        "    agent = RBC(env=env, hours=hours, actions=actions, loader=loader)\n",
        "    agent.learn()\n",
        "\n",
        "    # reporting\n",
        "    kpis = parse_kpis(agent.env)\n",
        "\n",
        "    for r in kpis:\n",
        "        print(r)\n",
        "    \n",
        "    fig, axs = plot_profiles(agent.env)\n",
        "    plt.show()\n",
        "\n",
        "    loader.description = 'Finished'\n",
        "    reset_button.disabled = False\n",
        "    random_button.disabled = False\n",
        "    simulate_button.disabled = False\n",
        "    pv_checkbox.disabled = False\n",
        "\n",
        "    for s in sliders:\n",
        "        s.disabled = False\n",
        "\n",
        "reset_button.on_click(on_reset_button_clicked)\n",
        "random_button.on_click(on_random_button_clicked)\n",
        "simulate_button.on_click(on_simulate_button_clicked)\n",
        "\n",
        "# preview of building load profile\n",
        "display(sliders_ui, pv_checkbox, buttons_ui, loader)"
      ]
    },
    {
      "cell_type": "markdown",
      "metadata": {
        "id": "o8L28axZ4NVj"
      },
      "source": [
        "## Q-Learning RL Agent\n",
        "This Q-Learning RL Agent is adapted from the [BOPTEST Tutorial](https://colab.research.google.com/drive/1WeA_3PQeySba0MMRRte_oZTF7ptlP_Ra#scrollTo=9U81QUVcUfoW&line=17&uniqifier=1).\n",
        "\n",
        "CityLearn observation spaces are all `spaces.Box` thus, are continuous. Our Q-Learning agent uses a table that uses discrete observation values as indices to update the Q-value. We will make a slight modification to the `QLearningAgent` so that it converts our input continuous observations to discrete steps."
      ]
    },
    {
      "cell_type": "code",
      "execution_count": 10,
      "metadata": {
        "id": "_6HotiSW4Pe8"
      },
      "outputs": [],
      "source": [
        "class QLearningAgent:\n",
        "    def __init__(\n",
        "        self, \n",
        "        env: CityLearnEnv,\n",
        "        observation_bin_steps: List[List[int]],\n",
        "        action_bin_steps: List[List[int]],\n",
        "        eps: float = None,\n",
        "        eps_min: float = None, \n",
        "        eps_decay: float = None,\n",
        "        alpha: float = None, \n",
        "        gamma: float = None\n",
        "    ):\n",
        "        self.env = env\n",
        "        self.observation_bin_steps = observation_bin_steps\n",
        "        self.action_bin_steps = action_bin_steps\n",
        "        self.eps = 1.0 if eps is None else eps\n",
        "        self.eps_init = self.eps\n",
        "        self.eps_min = 0.01 if eps_min is None else eps_min\n",
        "        self.eps_decay = 0.0001 if eps_decay is None else eps_decay\n",
        "        self.alpha = 0.05 if alpha is None else alpha\n",
        "        self.gamma = 0.9 if gamma is None else gamma\n",
        "        self.q = self.initialize_q()\n",
        "        self.rewards = []\n",
        "        self.kpis = []\n",
        "\n",
        "    def learn(self, episodes: int = None, deterministic: bool = None):\n",
        "        deterministic = False if deterministic is None else deterministic\n",
        "        episodes = 1 if episodes is None else episodes\n",
        "        \n",
        "        for i in range(episodes):\n",
        "            # Initialize enviornment\n",
        "            done = False\n",
        "            observations = self.env.reset()\n",
        "            reward_sum = 0\n",
        "\n",
        "            while not done:\n",
        "                print(f'\\rEpisode: {i} | Timestep: {self.env.time_step}/{self.env.time_steps}', end=' '*100)\n",
        "                # Get action with epsilon-greedy policy and simulate\n",
        "                actions = self.predict(observations, deterministic=False)\n",
        "                next_observations, reward, done, _ = self.env.step(actions)\n",
        "                reward_sum += sum(reward)\n",
        "                \n",
        "                # Compute temporal difference target and error to udpate q-function\n",
        "                self.update_q(observations, actions, reward, next_observations)\n",
        "                \n",
        "                # Make our next observation the current observation\n",
        "                observations = [o for o in next_observations]\n",
        "\n",
        "                # exponential decay\n",
        "                progress = self.env.time_step*(1 + i)\n",
        "                self.eps = max(self.eps_min, self.eps_init*np.exp(-self.eps_decay*progress))\n",
        "\n",
        "            \n",
        "            self.rewards.append(reward_sum)\n",
        "            kpis = self.env.evaluate()\n",
        "            kpis['episode'] = i\n",
        "            self.kpis.append(kpis)\n",
        "            # print()\n",
        "            # print('reward:', reward_sum)\n",
        "            # print('kpis:', parse_kpis(self.env))\n",
        "\n",
        "    def update_q(self, observations: List[List[float]], actions: List[List[float]], reward: List[float], next_observations: List[List[float]]):\n",
        "        # Compute temporal difference target and error to udpate q-function\n",
        "        discrete_observations = self.discretize_observations(observations)\n",
        "        discrete_next_observations = self.discretize_observations(next_observations)\n",
        "        discrete_actions = self.discretize_actions(actions)\n",
        "        \n",
        "        for i, (o, a, r, n) in enumerate(zip(discrete_observations, discrete_actions, reward, discrete_next_observations)):\n",
        "            for j, a_ in enumerate(a):\n",
        "                td_target = abs(r) + self.gamma*np.max(self.q[i][n][j])\n",
        "                td_error = td_target - self.q[i][o][j][a_]\n",
        "                self.q[i][o][j][a_] += self.alpha*td_error\n",
        "\n",
        "    def predict(self, observations: List[List[float]], deterministic: bool = None) -> List[List[float]]:\n",
        "        deterministic = False if deterministic is None else deterministic\n",
        "        actions = None\n",
        "\n",
        "        if deterministic or np.random.random() > self.eps:\n",
        "            # Use q-function to decide action\n",
        "            actions = self.exploit(observations)\n",
        "        \n",
        "        else:\n",
        "            # Explore random action\n",
        "            actions = self.explore()\n",
        "\n",
        "        return actions\n",
        "\n",
        "    def exploit(self, observations: List[List[float]]) -> List[List[float]]:\n",
        "        actions = []\n",
        "        choices = self.get_continuous_action_choices()\n",
        "\n",
        "        for i, (o, c) in enumerate(zip(self.discretize_observations(observations), choices)):\n",
        "            a = [np.nanargmax(self.q[i][o][j]) for j in range(len(c))]\n",
        "            a = [c[j][a_] for j, a_ in enumerate(a)]\n",
        "            actions.append(a)\n",
        "        \n",
        "        return actions\n",
        "        \n",
        "    def explore(self) -> List[List[float]]:\n",
        "        actions = []\n",
        "        choices = self.get_continuous_action_choices()\n",
        "\n",
        "        for c in choices:\n",
        "            a = [np.random.choice(c_) for c_ in c]\n",
        "            actions.append(a)\n",
        "\n",
        "        return actions\n",
        "\n",
        "    def initialize_q(self) -> np.ndarray:\n",
        "        # Initialize q-function as a null function\n",
        "        q = [None for _ in self.env.observation_space]\n",
        "\n",
        "        for i, (od, ad) in enumerate(zip(self.get_observations_discretization_bins(), self.get_actions_discretization_bins())):\n",
        "            od = [len(od_) + 1 for od_ in od]\n",
        "            shape = od + [len(ad), len(ad[0]) + 1]\n",
        "            shape = [int(s) for s in shape]\n",
        "            q[i] = np.zeros(shape=tuple(shape))\n",
        "\n",
        "        return q\n",
        "\n",
        "    def get_continuous_action_choices(self):\n",
        "        continuous_actions = []\n",
        "\n",
        "        for s, d in zip(self.env.action_space, self.action_bin_steps):\n",
        "            b = [np.arange(s.low[i], s.high[i] + d[i], d[i]) for i in range(len(d))]\n",
        "            continuous_actions.append(b)\n",
        "\n",
        "        return continuous_actions\n",
        "\n",
        "    def discretize_actions(self, actions: List[List[float]]):\n",
        "        bins = self.get_actions_discretization_bins()\n",
        "        discrete_actions = [tuple([np.digitize(a_, bins=b_) for a_, b_ in zip(a, b)]) for a, b in zip(actions, bins)]\n",
        "\n",
        "        return discrete_actions\n",
        "\n",
        "    def discretize_observations(self, observations: List[List[float]]):\n",
        "        bins = self.get_observations_discretization_bins()\n",
        "        discrete_observations = [tuple([np.digitize(o_, bins=b_) for o_, b_ in zip(o, b)]) for o, b in zip(observations, bins)]\n",
        "\n",
        "        return discrete_observations\n",
        "\n",
        "    def get_observations_discretization_bins(self) -> List[np.ndarray]:\n",
        "        discretization_bins = []\n",
        "\n",
        "        for s, d in zip(self.env.observation_space, self.observation_bin_steps):\n",
        "            b = [np.arange(s.low[i] + d[i], s.high[i] + d[i], d[i]) for i in range(len(d))]\n",
        "            discretization_bins.append(b)\n",
        "\n",
        "        return discretization_bins\n",
        "        \n",
        "    def get_actions_discretization_bins(self) -> List[np.ndarray]:\n",
        "        discretization_bins = []\n",
        "\n",
        "        for s, d in zip(self.env.action_space, self.action_bin_steps):\n",
        "            b = [np.arange(s.low[i] + d[i], s.high[i] + d[i], d[i]) for i in range(len(d))]\n",
        "            discretization_bins.append(b)\n",
        "\n",
        "        return discretization_bins"
      ]
    },
    {
      "cell_type": "code",
      "execution_count": 11,
      "metadata": {
        "id": "1rkt9jnNuiZE"
      },
      "outputs": [
        {
          "name": "stdout",
          "output_type": "stream",
          "text": [
            "Episode: 9 | Timestep: 8758/8760                                                                                                    "
          ]
        }
      ],
      "source": [
        "env = CityLearnEnv(schema)\n",
        "env.buildings = [b for i, b in enumerate(env.buildings) if i in BUILDINGS]\n",
        "active_observations = {\n",
        "    'hour': 1, \n",
        "    # 'carbon_intensity': 0.001, \n",
        "    'solar_generation': 10,\n",
        "    # 'electrical_storage_soc': 0.05,\n",
        "    'non_shiftable_load': 0.1,\n",
        "    # 'electricity_pricing': 0.15, \n",
        "    # 'electricity_pricing_predicted_6h': 0.15,\n",
        "}\n",
        "for b in env.buildings:\n",
        "    b.observation_metadata = {k: True for k in active_observations}\n",
        "    b.observation_space = b.estimate_observation_space()\n",
        "\n",
        "    # for i, a in enumerate(b.active_observations):\n",
        "    #     print(a, b.observation_space.low[i], b.observation_space.high[i])\n",
        "\n",
        "observation_bin_steps = [list(active_observations.values()) for _ in env.observation_space]\n",
        "action_bin_steps = [[0.05 for _ in s.low] for s in env.action_space]\n",
        "agent = QLearningAgent(env, observation_bin_steps, action_bin_steps)\n",
        "agent.learn(episodes=10)\n",
        "\n",
        "# eps_decay = [0.0001, 0.00001]\n",
        "# gamma = np.arange(0.1, 1.0, 0.1)\n",
        "# alpha = [0.1, 0.01, 0.001, 0.0001, 0.00001]\n",
        "# for e in eps_decay:\n",
        "#     for g in gamma:\n",
        "#         for a in alpha:\n",
        "#             params = {'eps_decay': e, 'gamma': g, 'alpha': a}\n",
        "#             agent = QLearningAgent(env, observation_discretization, action_discretization, **params)\n",
        "#             agent.learn(episodes=10)\n",
        "#             print(params, np.mean(agent.rewards[-1]))"
      ]
    },
    {
      "cell_type": "code",
      "execution_count": 12,
      "metadata": {
        "id": "5s9klu5nuiZF"
      },
      "outputs": [],
      "source": [
        "# action_space_index:hour_index:action_device_index:action_value_index\n",
        "# len(agent.q[0][0][0])"
      ]
    },
    {
      "cell_type": "code",
      "execution_count": 13,
      "metadata": {
        "id": "uS7RzQUyuiZF"
      },
      "outputs": [
        {
          "data": {
            "image/png": "[encoded data removed]",
            "text/plain": [
              "<Figure size 1200x300 with 1 Axes>"
            ]
          },
          "metadata": {},
          "output_type": "display_data"
        },
        {
          "data": {
            "text/html": [
              "<div>\n",
              "<style scoped>\n",
              "    .dataframe tbody tr th:only-of-type {\n",
              "        vertical-align: middle;\n",
              "    }\n",
              "\n",
              "    .dataframe tbody tr th {\n",
              "        vertical-align: top;\n",
              "    }\n",
              "\n",
              "    .dataframe thead th {\n",
              "        text-align: right;\n",
              "    }\n",
              "</style>\n",
              "<table border=\"1\" class=\"dataframe\">\n",
              "  <thead>\n",
              "    <tr style=\"text-align: right;\">\n",
              "      <th></th>\n",
              "      <th>cost_function</th>\n",
              "      <th>value</th>\n",
              "      <th>name</th>\n",
              "      <th>level</th>\n",
              "    </tr>\n",
              "  </thead>\n",
              "  <tbody>\n",
              "    <tr>\n",
              "      <th>0</th>\n",
              "      <td>1 - load_factor</td>\n",
              "      <td>1.009145</td>\n",
              "      <td>District</td>\n",
              "      <td>district</td>\n",
              "    </tr>\n",
              "    <tr>\n",
              "      <th>1</th>\n",
              "      <td>average_daily_peak</td>\n",
              "      <td>1.176176</td>\n",
              "      <td>District</td>\n",
              "      <td>district</td>\n",
              "    </tr>\n",
              "    <tr>\n",
              "      <th>2</th>\n",
              "      <td>carbon_emissions</td>\n",
              "      <td>1.101153</td>\n",
              "      <td>District</td>\n",
              "      <td>district</td>\n",
              "    </tr>\n",
              "    <tr>\n",
              "      <th>3</th>\n",
              "      <td>electricity_consumption</td>\n",
              "      <td>1.101088</td>\n",
              "      <td>District</td>\n",
              "      <td>district</td>\n",
              "    </tr>\n",
              "    <tr>\n",
              "      <th>4</th>\n",
              "      <td>peak_demand</td>\n",
              "      <td>1.189014</td>\n",
              "      <td>District</td>\n",
              "      <td>district</td>\n",
              "    </tr>\n",
              "    <tr>\n",
              "      <th>5</th>\n",
              "      <td>pricing</td>\n",
              "      <td>1.072054</td>\n",
              "      <td>District</td>\n",
              "      <td>district</td>\n",
              "    </tr>\n",
              "    <tr>\n",
              "      <th>6</th>\n",
              "      <td>ramping</td>\n",
              "      <td>1.633672</td>\n",
              "      <td>District</td>\n",
              "      <td>district</td>\n",
              "    </tr>\n",
              "    <tr>\n",
              "      <th>7</th>\n",
              "      <td>zero_net_energy</td>\n",
              "      <td>1.070051</td>\n",
              "      <td>District</td>\n",
              "      <td>district</td>\n",
              "    </tr>\n",
              "    <tr>\n",
              "      <th>8</th>\n",
              "      <td>electricity_consumption</td>\n",
              "      <td>1.101088</td>\n",
              "      <td>Building_1</td>\n",
              "      <td>building</td>\n",
              "    </tr>\n",
              "    <tr>\n",
              "      <th>9</th>\n",
              "      <td>zero_net_energy</td>\n",
              "      <td>1.070051</td>\n",
              "      <td>Building_1</td>\n",
              "      <td>building</td>\n",
              "    </tr>\n",
              "    <tr>\n",
              "      <th>10</th>\n",
              "      <td>carbon_emissions</td>\n",
              "      <td>1.101153</td>\n",
              "      <td>Building_1</td>\n",
              "      <td>building</td>\n",
              "    </tr>\n",
              "    <tr>\n",
              "      <th>11</th>\n",
              "      <td>pricing</td>\n",
              "      <td>1.072054</td>\n",
              "      <td>Building_1</td>\n",
              "      <td>building</td>\n",
              "    </tr>\n",
              "  </tbody>\n",
              "</table>\n",
              "</div>"
            ],
            "text/plain": [
              "              cost_function     value        name     level\n",
              "0           1 - load_factor  1.009145    District  district\n",
              "1        average_daily_peak  1.176176    District  district\n",
              "2          carbon_emissions  1.101153    District  district\n",
              "3   electricity_consumption  1.101088    District  district\n",
              "4               peak_demand  1.189014    District  district\n",
              "5                   pricing  1.072054    District  district\n",
              "6                   ramping  1.633672    District  district\n",
              "7           zero_net_energy  1.070051    District  district\n",
              "8   electricity_consumption  1.101088  Building_1  building\n",
              "9           zero_net_energy  1.070051  Building_1  building\n",
              "10         carbon_emissions  1.101153  Building_1  building\n",
              "11                  pricing  1.072054  Building_1  building"
            ]
          },
          "metadata": {},
          "output_type": "display_data"
        }
      ],
      "source": [
        "# plot rewards\n",
        "fig, ax = plt.subplots(1,1,figsize=(12,3))\n",
        "ax.plot(agent.rewards)\n",
        "plt.show()\n",
        "display(agent.env.evaluate())"
      ]
    },
    {
      "cell_type": "code",
      "execution_count": 14,
      "metadata": {
        "id": "-uG900pOuiZH"
      },
      "outputs": [
        {
          "name": "stdout",
          "output_type": "stream",
          "text": [
            "Episode: 0 | Timestep: 8758/8760                                                                                                    "
          ]
        },
        {
          "data": {
            "text/html": [
              "<div>\n",
              "<style scoped>\n",
              "    .dataframe tbody tr th:only-of-type {\n",
              "        vertical-align: middle;\n",
              "    }\n",
              "\n",
              "    .dataframe tbody tr th {\n",
              "        vertical-align: top;\n",
              "    }\n",
              "\n",
              "    .dataframe thead th {\n",
              "        text-align: right;\n",
              "    }\n",
              "</style>\n",
              "<table border=\"1\" class=\"dataframe\">\n",
              "  <thead>\n",
              "    <tr style=\"text-align: right;\">\n",
              "      <th></th>\n",
              "      <th>cost_function</th>\n",
              "      <th>value</th>\n",
              "      <th>name</th>\n",
              "      <th>level</th>\n",
              "    </tr>\n",
              "  </thead>\n",
              "  <tbody>\n",
              "    <tr>\n",
              "      <th>0</th>\n",
              "      <td>1 - load_factor</td>\n",
              "      <td>1.013708</td>\n",
              "      <td>District</td>\n",
              "      <td>district</td>\n",
              "    </tr>\n",
              "    <tr>\n",
              "      <th>1</th>\n",
              "      <td>average_daily_peak</td>\n",
              "      <td>1.606537</td>\n",
              "      <td>District</td>\n",
              "      <td>district</td>\n",
              "    </tr>\n",
              "    <tr>\n",
              "      <th>2</th>\n",
              "      <td>carbon_emissions</td>\n",
              "      <td>1.407636</td>\n",
              "      <td>District</td>\n",
              "      <td>district</td>\n",
              "    </tr>\n",
              "    <tr>\n",
              "      <th>3</th>\n",
              "      <td>electricity_consumption</td>\n",
              "      <td>1.426973</td>\n",
              "      <td>District</td>\n",
              "      <td>district</td>\n",
              "    </tr>\n",
              "    <tr>\n",
              "      <th>4</th>\n",
              "      <td>peak_demand</td>\n",
              "      <td>1.186990</td>\n",
              "      <td>District</td>\n",
              "      <td>district</td>\n",
              "    </tr>\n",
              "    <tr>\n",
              "      <th>5</th>\n",
              "      <td>pricing</td>\n",
              "      <td>1.353013</td>\n",
              "      <td>District</td>\n",
              "      <td>district</td>\n",
              "    </tr>\n",
              "    <tr>\n",
              "      <th>6</th>\n",
              "      <td>ramping</td>\n",
              "      <td>3.212952</td>\n",
              "      <td>District</td>\n",
              "      <td>district</td>\n",
              "    </tr>\n",
              "    <tr>\n",
              "      <th>7</th>\n",
              "      <td>zero_net_energy</td>\n",
              "      <td>1.226200</td>\n",
              "      <td>District</td>\n",
              "      <td>district</td>\n",
              "    </tr>\n",
              "    <tr>\n",
              "      <th>8</th>\n",
              "      <td>electricity_consumption</td>\n",
              "      <td>1.426973</td>\n",
              "      <td>Building_1</td>\n",
              "      <td>building</td>\n",
              "    </tr>\n",
              "    <tr>\n",
              "      <th>9</th>\n",
              "      <td>zero_net_energy</td>\n",
              "      <td>1.226200</td>\n",
              "      <td>Building_1</td>\n",
              "      <td>building</td>\n",
              "    </tr>\n",
              "    <tr>\n",
              "      <th>10</th>\n",
              "      <td>carbon_emissions</td>\n",
              "      <td>1.407636</td>\n",
              "      <td>Building_1</td>\n",
              "      <td>building</td>\n",
              "    </tr>\n",
              "    <tr>\n",
              "      <th>11</th>\n",
              "      <td>pricing</td>\n",
              "      <td>1.353013</td>\n",
              "      <td>Building_1</td>\n",
              "      <td>building</td>\n",
              "    </tr>\n",
              "  </tbody>\n",
              "</table>\n",
              "</div>"
            ],
            "text/plain": [
              "              cost_function     value        name     level\n",
              "0           1 - load_factor  1.013708    District  district\n",
              "1        average_daily_peak  1.606537    District  district\n",
              "2          carbon_emissions  1.407636    District  district\n",
              "3   electricity_consumption  1.426973    District  district\n",
              "4               peak_demand  1.186990    District  district\n",
              "5                   pricing  1.353013    District  district\n",
              "6                   ramping  3.212952    District  district\n",
              "7           zero_net_energy  1.226200    District  district\n",
              "8   electricity_consumption  1.426973  Building_1  building\n",
              "9           zero_net_energy  1.226200  Building_1  building\n",
              "10         carbon_emissions  1.407636  Building_1  building\n",
              "11                  pricing  1.353013  Building_1  building"
            ]
          },
          "execution_count": 14,
          "metadata": {},
          "output_type": "execute_result"
        },
        {
          "data": {
            "image/png": "[encoded data removed]",
            "text/plain": [
              "<Figure size 800x400 with 3 Axes>"
            ]
          },
          "metadata": {},
          "output_type": "display_data"
        }
      ],
      "source": [
        "# deterministic policy\n",
        "agent.learn(episodes=1, deterministic=True)\n",
        "plot_profiles(agent.env)\n",
        "agent.env.evaluate()"
      ]
    },
    {
      "cell_type": "markdown",
      "metadata": {
        "id": "Lpbit9J6uiZK"
      },
      "source": [
        "## Deep Q-Learning RL Agent"
      ]
    },
    {
      "cell_type": "code",
      "execution_count": 15,
      "metadata": {},
      "outputs": [
        {
          "name": "stdout",
          "output_type": "stream",
          "text": [
            "Using cpu device\n",
            "Wrapping the env with a `Monitor` wrapper\n",
            "Wrapping the env in a DummyVecEnv.\n",
            "              cost_function     value        name     level\n",
            "0           1 - load_factor  1.059490    District  district\n",
            "1        average_daily_peak  1.466708    District  district\n",
            "2          carbon_emissions  1.257770    District  district\n",
            "3   electricity_consumption  1.248100    District  district\n",
            "4               peak_demand  1.685525    District  district\n",
            "5                   pricing  1.196270    District  district\n",
            "6                   ramping  2.666521    District  district\n",
            "7           zero_net_energy  1.098029    District  district\n",
            "8   electricity_consumption  1.248100  Building_1  building\n",
            "9           zero_net_energy  1.098029  Building_1  building\n",
            "10         carbon_emissions  1.257770  Building_1  building\n",
            "11                  pricing  1.196270  Building_1  building\n"
          ]
        }
      ],
      "source": [
        "# Wrap for SB3 compatibility\n",
        "env = StableBaselines3Wrapper(env)\n",
        "\n",
        "# Run simulation with SAC policy\n",
        "model = SAC('MlpPolicy', env, verbose=1, seed=0)\n",
        "model.learn(total_timesteps=1000, log_interval=4)\n",
        "\n",
        "# Evaluation\n",
        "print(env.evaluate())"
      ]
    },
    {
      "cell_type": "markdown",
      "metadata": {
        "id": "ZhkmytKNU_Z2"
      },
      "source": [
        "<a name=\"results-and-discussion\"></a>\n",
        "# Results & Discussion\n",
        "\n",
        "In this section, describe your results. Briefly describe the performance metrics and cross validation techniques used. "
      ]
    },
    {
      "cell_type": "code",
      "execution_count": 16,
      "metadata": {
        "id": "8LWo6UQzwj37"
      },
      "outputs": [],
      "source": [
        "# Insert code here. Feel free to break this up into several code\n",
        "# cells, interleaved with explanatory text."
      ]
    },
    {
      "attachments": {},
      "cell_type": "markdown",
      "metadata": {
        "id": "oHIjM6eMwlXY"
      },
      "source": [
        "<!-- Finally, include a discussion on the limitations and important takeaways from the exercise. -->\n",
        "\n",
        "## Limitations\n",
        "<!-- *   ML algorithms and datasets can reinforce or reflect unfair biases. Reflect on the potential biases in the dataset and/or analysis presented in your tutorial, including its potential societal impact, and discuss how you might go about addressing this challenge.  -->\n",
        "\n",
        "> Coming soon 🙂"
      ]
    },
    {
      "attachments": {},
      "cell_type": "markdown",
      "metadata": {
        "id": "CLLCQpv14Gsx"
      },
      "source": [
        "## Next Steps\n",
        "<!-- *   What do you imagine would be the next steps for your readers after finishing your tutorial?\n",
        "*   Discuss other potential climate-related applications for the method or tool discussed in the tutorial.\n",
        "*   Do you know of other climate-related datasets similar to the one used in this tutorial? List them here. -->\n",
        "\n",
        "> Coming soon 🙂"
      ]
    }
  ],
  "metadata": {
    "colab": {
      "include_colab_link": true,
      "provenance": []
    },
    "kernelspec": {
      "display_name": "examples_env",
      "language": "python",
      "name": "python3"
    },
    "language_info": {
      "codemirror_mode": {
        "name": "ipython",
        "version": 3
      },
      "file_extension": ".py",
      "mimetype": "text/x-python",
      "name": "python",
      "nbconvert_exporter": "python",
      "pygments_lexer": "ipython3",
      "version": "3.7.7"
    },
    "vscode": {
      "interpreter": {
        "hash": "aef885a76ce31739e452d1e6967b400907b14827afd25732d0e38ec88d4e0d05"
      }
    }
  },
  "nbformat": 4,
  "nbformat_minor": 0
}
