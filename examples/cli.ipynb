{
 "cells": [
  {
   "attachments": {},
   "cell_type": "markdown",
   "metadata": {},
   "source": [
    "<a href=\"https://colab.research.google.com/github/intelligent-environments-lab/CityLearn/blob/master/examples/cli.ipynb\" target=\"_parent\"><img src=\"https://colab.research.google.com/assets/colab-badge.svg\" alt=\"Open In Colab\"/></a>"
   ]
  },
  {
   "attachments": {},
   "cell_type": "markdown",
   "metadata": {},
   "source": [
    "# CLI\n",
    "\n",
    "Install the latest CityLearn version from PyPi with the :code:`pip` command:"
   ]
  },
  {
   "cell_type": "code",
   "execution_count": null,
   "metadata": {
    "vscode": {
     "languageId": "shellscript"
    }
   },
   "outputs": [],
   "source": [
    "pip install CityLearn"
   ]
  },
  {
   "attachments": {},
   "cell_type": "markdown",
   "metadata": {},
   "source": [
    "The CityLearn installation comes with a CLI for running simulations. The CLI is useful for use cases where multiple environment-agent setups that have been defined in schemas need to be submitted as 1 job for parallel running e.g. in an HPC.\n",
    "\n",
    "The CLI documentation is returned by executing the following in a Shell Terminal of Powershell:"
   ]
  },
  {
   "cell_type": "code",
   "execution_count": 1,
   "metadata": {
    "vscode": {
     "languageId": "shellscript"
    }
   },
   "outputs": [
    {
     "name": "stdout",
     "output_type": "stream",
     "text": [
      "usage: citylearn [-h] [--version] {learn} ...\n",
      "\n",
      "An open source OpenAI Gym environment for the implementation of Multi-Agent\n",
      "Reinforcement Learning (RL) for building energy coordination and demand\n",
      "response in cities.\n",
      "\n",
      "optional arguments:\n",
      "  -h, --help  show this help message and exit\n",
      "  --version   show program's version number and exit\n",
      "\n",
      "subcommands:\n",
      "  {learn}\n"
     ]
    }
   ],
   "source": [
    "%%sh\n",
    "python -m citylearn -h"
   ]
  },
  {
   "attachments": {},
   "cell_type": "markdown",
   "metadata": {},
   "source": [
    "## Running a Simulation using the CLI\n",
    "\n",
    "The `learn` command is used to run simulations and it has one positional argument, `schema` that is a named dataset or path to a schema. Other arguments are optional and have default values. The completed simulation is saved to a pickled object in a file that is specified by the optional argument `-f`. The `-k` argument is a flag to indicate that a list of the environment state at the end of each episode be saved as well. The `-l` argument is an integer that specifies the logging level. The output log includes action and reward values at each time step."
   ]
  },
  {
   "cell_type": "code",
   "execution_count": 2,
   "metadata": {
    "vscode": {
     "languageId": "shellscript"
    }
   },
   "outputs": [
    {
     "name": "stdout",
     "output_type": "stream",
     "text": [
      "usage: citylearn learn [-h] [-e EPISODES] [-f FILEPATH] [-k]\n",
      "                       [-d ENV_HISTORY_DIRECTORY] [-n] [-l LOGGING_LEVEL]\n",
      "                       schema\n",
      "\n",
      "Run simulation.\n",
      "\n",
      "positional arguments:\n",
      "  schema                CityLearn dataset name or schema path.\n",
      "\n",
      "optional arguments:\n",
      "  -h, --help            show this help message and exit\n",
      "  -e EPISODES, --episodes EPISODES\n",
      "                        Number of training episodes. (default: None)\n",
      "  -f FILEPATH, --filepath FILEPATH\n",
      "                        Filepath to write simulation pickle object to upon\n",
      "                        completion. (default: citylearn_learning.pkl)\n",
      "  -k, --keep_env_history\n",
      "                        Indicator to store environment state at the end of\n",
      "                        each episode. (default: False)\n",
      "  -d ENV_HISTORY_DIRECTORY, --env_history_directory ENV_HISTORY_DIRECTORY\n",
      "                        Directory to save environment history to. (default:\n",
      "                        None)\n",
      "  -n, --deterministic_finish\n",
      "                        Simulate an extra episode with deterministic actions.\n",
      "                        (default: False)\n",
      "  -l LOGGING_LEVEL, --logging_level LOGGING_LEVEL\n",
      "                        Logging level where increasing the level silences\n",
      "                        lower level information. (default: 50)\n"
     ]
    }
   ],
   "source": [
    "%%sh\n",
    "python -m citylearn learn -h"
   ]
  },
  {
   "attachments": {},
   "cell_type": "markdown",
   "metadata": {},
   "source": [
    "The example below runs a simulation using the `citylearn_challenge_2022_phase_1` dataset at a logging level of 100 and is set to store the environment history."
   ]
  },
  {
   "cell_type": "code",
   "execution_count": 3,
   "metadata": {
    "vscode": {
     "languageId": "shellscript"
    }
   },
   "outputs": [],
   "source": [
    "%%sh\n",
    "python -m citylearn learn citylearn_challenge_2022_phase_1 -k -l 100 -e 1"
   ]
  },
  {
   "attachments": {},
   "cell_type": "markdown",
   "metadata": {},
   "source": [
    "## Reading a saved Simulator\n",
    "\n",
    "After a CLI simulation completes, the pickled object can be read into memory and its `env` property can be utilized as would the `env` from a simulation that was run in a python script:"
   ]
  },
  {
   "cell_type": "code",
   "execution_count": 4,
   "metadata": {},
   "outputs": [
    {
     "name": "stdout",
     "output_type": "stream",
     "text": [
      "Building_1 : [{'carbon_emissions': 1.134, 'cost': 1.043, 'electricity_consumption': 1.184, 'zero_net_energy': 1.118}]\n",
      "Building_2 : [{'carbon_emissions': 1.158, 'cost': 1.063, 'electricity_consumption': 1.215, 'zero_net_energy': 1.101}]\n",
      "Building_3 : [{'carbon_emissions': 1.272, 'cost': 1.145, 'electricity_consumption': 1.346, 'zero_net_energy': 1.294}]\n",
      "Building_4 : [{'carbon_emissions': 1.181, 'cost': 1.097, 'electricity_consumption': 1.237, 'zero_net_energy': 1.085}]\n",
      "Building_5 : [{'carbon_emissions': 1.186, 'cost': 1.075, 'electricity_consumption': 1.262, 'zero_net_energy': 1.145}]\n",
      "District : [{'1 - load_factor': 0.987, 'average_daily_peak': 1.15, 'carbon_emissions': 1.186, 'cost': 1.085, 'electricity_consumption': 1.249, 'peak_demand': 1.052, 'ramping': 1.162, 'zero_net_energy': 1.148}]\n"
     ]
    }
   ],
   "source": [
    "import pickle\n",
    "\n",
    "filepath = 'citylearn_learning.pkl'\n",
    "\n",
    "with (open(filepath, 'rb')) as f:\n",
    "        model = pickle.load(f)\n",
    "\n",
    "for n, nd in model.env.evaluate().groupby('name'):\n",
    "    nd = nd.pivot(index='name', columns='cost_function', values='value').round(3)\n",
    "    print(n, ':', nd.to_dict('records'))"
   ]
  }
 ],
 "metadata": {
  "kernelspec": {
   "display_name": "test_env",
   "language": "python",
   "name": "python3"
  },
  "language_info": {
   "codemirror_mode": {
    "name": "ipython",
    "version": 3
   },
   "file_extension": ".py",
   "mimetype": "text/x-python",
   "name": "python",
   "nbconvert_exporter": "python",
   "pygments_lexer": "ipython3",
   "version": "3.7.7"
  },
  "orig_nbformat": 4,
  "vscode": {
   "interpreter": {
    "hash": "24d13602916ce501dab33551801634a98323f75b1378db411e4ca12af6dc15d7"
   }
  }
 },
 "nbformat": 4,
 "nbformat_minor": 2
}
