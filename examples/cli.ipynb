{
 "cells": [
  {
   "attachments": {},
   "cell_type": "markdown",
   "metadata": {},
   "source": [
    "# CLI\n",
    "\n",
    "The CityLearn installation comes with a CLI for running simulations. The CLI makes use of `citylearn.citylearn.simulate.Simulator` and is useful for use cases where multiple environment-agent setups that have been defined in schemas need to be submitted as 1 job for parallel running e.g. in an HPC.\n",
    "\n",
    "The CLI documentation is returned by executing the following in a Shell Terminal of Powershell:"
   ]
  },
  {
   "cell_type": "code",
   "execution_count": 1,
   "metadata": {
    "vscode": {
     "languageId": "shellscript"
    }
   },
   "outputs": [
    {
     "name": "stdout",
     "output_type": "stream",
     "text": [
      "usage: citylearn [-h] [--version] {simulate} ...\n",
      "\n",
      "An open source OpenAI Gym environment for the implementation of Multi-Agent\n",
      "Reinforcement Learning (RL) for building energy coordination and demand\n",
      "response in cities.\n",
      "\n",
      "optional arguments:\n",
      "  -h, --help  show this help message and exit\n",
      "  --version   show program's version number and exit\n",
      "\n",
      "subcommands:\n",
      "  {simulate}\n"
     ]
    }
   ],
   "source": [
    "%%sh\n",
    "python -m citylearn -h"
   ]
  },
  {
   "attachments": {},
   "cell_type": "markdown",
   "metadata": {},
   "source": [
    "## Running a Simulation using the CLI\n",
    "\n",
    "The `simulate` command is used to run simulations and it has one positional argument, `schema` that is a named dataset or path to a schema. Other arguments are optional and have default values. The completed simulation is saved to a pickled `citylearn.simulator.Simulator` object in a file that is specified by the optional argument `-f`. The `-k` argument is a flag to indicate that a list of environment states at the end of each episode be saved as well. The `-l` argument is an integer that specifies the logging level. The output log includes action and reward values at each time step."
   ]
  },
  {
   "cell_type": "code",
   "execution_count": 2,
   "metadata": {
    "vscode": {
     "languageId": "shellscript"
    }
   },
   "outputs": [
    {
     "name": "stdout",
     "output_type": "stream",
     "text": [
      "usage: citylearn simulate [-h] [-f FILEPATH] [-k] [-l LOGGING_LEVEL] schema\n",
      "\n",
      "Run simulation.\n",
      "\n",
      "positional arguments:\n",
      "  schema                CityLearn dataset name or schema path.\n",
      "\n",
      "optional arguments:\n",
      "  -h, --help            show this help message and exit\n",
      "  -f FILEPATH, --filepath FILEPATH\n",
      "                        Filepath to write simulation pickle object to upon\n",
      "                        completion. (default: citylearn_simulator.pkl)\n",
      "  -k, --keep_env_history\n",
      "                        Indicator to store environment state at the end of\n",
      "                        each episode. (default: False)\n",
      "  -l LOGGING_LEVEL, --logging_level LOGGING_LEVEL\n",
      "                        Logging level where increasing the level silences\n",
      "                        lower level information. (default: 50)\n"
     ]
    }
   ],
   "source": [
    "%%sh\n",
    "python -m citylearn simulate -h"
   ]
  },
  {
   "attachments": {},
   "cell_type": "markdown",
   "metadata": {},
   "source": [
    "The example below runs a simulation using the `citylearn_challenge_2022_phase_1` dataset at a logging level of 100 and is set to store the environment history."
   ]
  },
  {
   "cell_type": "code",
   "execution_count": 3,
   "metadata": {
    "vscode": {
     "languageId": "shellscript"
    }
   },
   "outputs": [],
   "source": [
    "%%sh\n",
    "python -m citylearn simulate citylearn_challenge_2022_phase_1 -k -l 100"
   ]
  },
  {
   "attachments": {},
   "cell_type": "markdown",
   "metadata": {},
   "source": [
    "## Reading a saved Simulator\n",
    "\n",
    "After a CLI simulation completes, the pickled `citylearn.simulator.Simulator` object can be read into memory and its `env` property can be utilized as would the `env` from a simulation that was run in a python script:"
   ]
  },
  {
   "cell_type": "code",
   "execution_count": 4,
   "metadata": {},
   "outputs": [
    {
     "name": "stdout",
     "output_type": "stream",
     "text": [
      "Building_1 : [{'carbon_emissions': 1.134, 'electricity_consumption': 1.184, 'pricing': 1.043, 'zero_net_energy': 1.118}]\n",
      "Building_2 : [{'carbon_emissions': 1.158, 'electricity_consumption': 1.215, 'pricing': 1.063, 'zero_net_energy': 1.101}]\n",
      "Building_3 : [{'carbon_emissions': 1.272, 'electricity_consumption': 1.346, 'pricing': 1.145, 'zero_net_energy': 1.294}]\n",
      "Building_4 : [{'carbon_emissions': 1.181, 'electricity_consumption': 1.237, 'pricing': 1.097, 'zero_net_energy': 1.085}]\n",
      "Building_5 : [{'carbon_emissions': 1.186, 'electricity_consumption': 1.262, 'pricing': 1.075, 'zero_net_energy': 1.145}]\n",
      "District : [{'1 - load_factor': 0.987, 'average_daily_peak': 1.15, 'carbon_emissions': 1.186, 'electricity_consumption': 1.249, 'peak_demand': 1.052, 'pricing': 1.085, 'ramping': 1.162, 'zero_net_energy': 1.148}]\n"
     ]
    }
   ],
   "source": [
    "from citylearn.simulator import get_simulator\n",
    "\n",
    "simulator = get_simulator('citylearn_simulator.pkl')\n",
    "\n",
    "for n, nd in simulator.env.evaluate().groupby('name'):\n",
    "    nd = nd.pivot(index='name', columns='cost_function', values='value').round(3)\n",
    "    print(n, ':', nd.to_dict('records'))"
   ]
  }
 ],
 "metadata": {
  "kernelspec": {
   "display_name": "test_env",
   "language": "python",
   "name": "python3"
  },
  "language_info": {
   "codemirror_mode": {
    "name": "ipython",
    "version": 3
   },
   "file_extension": ".py",
   "mimetype": "text/x-python",
   "name": "python",
   "nbconvert_exporter": "python",
   "pygments_lexer": "ipython3",
   "version": "3.7.7 (v3.7.7:d7c567b08f, Mar 10 2020, 02:56:16) \n[Clang 6.0 (clang-600.0.57)]"
  },
  "orig_nbformat": 4,
  "vscode": {
   "interpreter": {
    "hash": "24d13602916ce501dab33551801634a98323f75b1378db411e4ca12af6dc15d7"
   }
  }
 },
 "nbformat": 4,
 "nbformat_minor": 2
}
