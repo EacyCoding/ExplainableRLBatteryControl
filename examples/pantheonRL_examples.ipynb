{
 "cells": [
  {
   "attachments": {},
   "cell_type": "markdown",
   "metadata": {},
   "source": [
    "# PantheonRL Examples with CityLearn\n",
    "\n",
    "Working examples of CityLearn with [PantheonRL](https://github.com/Stanford-ILIAD/PantheonRL)\n",
    "Install PantheonRL's requirements before proceeding. It is recommended to create a new conda environment if you haven't already done so. The README.md for PantheonRL details exactly how. You may need to pip install ipykernel as well in the new environment"
   ]
  },
  {
   "attachments": {},
   "cell_type": "markdown",
   "metadata": {},
   "source": [
    "This is the old way I've done it, and is not recommended - please look to making PantheonRL a submodule, I have added details below"
   ]
  },
  {
   "cell_type": "code",
   "execution_count": 6,
   "metadata": {
    "vscode": {
     "languageId": "shellscript"
    }
   },
   "outputs": [
    {
     "name": "stdout",
     "output_type": "stream",
     "text": [
      "Obtaining pantheonrl from git+https://github.com/Stanford-ILIAD/PantheonRL.git#egg=pantheonrl\n",
      "  Cloning https://github.com/Stanford-ILIAD/PantheonRL.git to ./src/pantheonrl\n",
      "  Running command git clone --filter=blob:none --quiet https://github.com/Stanford-ILIAD/PantheonRL.git /home/allenwu/work/CityLearn/examples/src/pantheonrl\n",
      "  Resolved https://github.com/Stanford-ILIAD/PantheonRL.git to commit 92d3096392bd698d667473aa773453edf4477c09\n",
      "  Running command git submodule update --init --recursive -q\n",
      "  Preparing metadata (setup.py) ... \u001b[?25ldone\n",
      "\u001b[?25hRequirement already satisfied: flask in /home/allenwu/miniconda3/envs/PantheonRL/lib/python3.7/site-packages (from pantheonrl) (2.2.3)\n",
      "Requirement already satisfied: tensorflow in /home/allenwu/miniconda3/envs/PantheonRL/lib/python3.7/site-packages (from pantheonrl) (2.11.0)\n",
      "Requirement already satisfied: torch in /home/allenwu/miniconda3/envs/PantheonRL/lib/python3.7/site-packages (from pantheonrl) (1.12.0)\n",
      "Requirement already satisfied: tensorboard in /home/allenwu/miniconda3/envs/PantheonRL/lib/python3.7/site-packages (from pantheonrl) (2.11.2)\n",
      "Requirement already satisfied: stable-baselines3 in /home/allenwu/miniconda3/envs/PantheonRL/lib/python3.7/site-packages (from pantheonrl) (1.7.0)\n",
      "Requirement already satisfied: scipy in /home/allenwu/miniconda3/envs/PantheonRL/lib/python3.7/site-packages (from pantheonrl) (1.7.3)\n",
      "Requirement already satisfied: tqdm in /home/allenwu/miniconda3/envs/PantheonRL/lib/python3.7/site-packages (from pantheonrl) (4.65.0)\n",
      "Requirement already satisfied: importlib-metadata>=3.6.0 in /home/allenwu/miniconda3/envs/PantheonRL/lib/python3.7/site-packages (from flask->pantheonrl) (4.13.0)\n",
      "Requirement already satisfied: Werkzeug>=2.2.2 in /home/allenwu/miniconda3/envs/PantheonRL/lib/python3.7/site-packages (from flask->pantheonrl) (2.2.3)\n",
      "Requirement already satisfied: Jinja2>=3.0 in /home/allenwu/miniconda3/envs/PantheonRL/lib/python3.7/site-packages (from flask->pantheonrl) (3.1.2)\n",
      "Requirement already satisfied: itsdangerous>=2.0 in /home/allenwu/miniconda3/envs/PantheonRL/lib/python3.7/site-packages (from flask->pantheonrl) (2.1.2)\n",
      "Requirement already satisfied: click>=8.0 in /home/allenwu/miniconda3/envs/PantheonRL/lib/python3.7/site-packages (from flask->pantheonrl) (8.1.3)\n",
      "Requirement already satisfied: numpy<1.23.0,>=1.16.5 in /home/allenwu/miniconda3/envs/PantheonRL/lib/python3.7/site-packages (from scipy->pantheonrl) (1.21.6)\n",
      "Requirement already satisfied: matplotlib in /home/allenwu/miniconda3/envs/PantheonRL/lib/python3.7/site-packages (from stable-baselines3->pantheonrl) (3.5.3)\n",
      "Requirement already satisfied: gym==0.21 in /home/allenwu/miniconda3/envs/PantheonRL/lib/python3.7/site-packages (from stable-baselines3->pantheonrl) (0.21.0)\n",
      "Requirement already satisfied: typing-extensions<5,>=4.0 in /home/allenwu/miniconda3/envs/PantheonRL/lib/python3.7/site-packages (from stable-baselines3->pantheonrl) (4.5.0)\n",
      "Requirement already satisfied: pandas in /home/allenwu/miniconda3/envs/PantheonRL/lib/python3.7/site-packages (from stable-baselines3->pantheonrl) (1.3.5)\n",
      "Requirement already satisfied: cloudpickle in /home/allenwu/miniconda3/envs/PantheonRL/lib/python3.7/site-packages (from stable-baselines3->pantheonrl) (2.2.1)\n",
      "Requirement already satisfied: protobuf<4,>=3.9.2 in /home/allenwu/miniconda3/envs/PantheonRL/lib/python3.7/site-packages (from tensorboard->pantheonrl) (3.19.6)\n",
      "Requirement already satisfied: grpcio>=1.24.3 in /home/allenwu/miniconda3/envs/PantheonRL/lib/python3.7/site-packages (from tensorboard->pantheonrl) (1.53.0)\n",
      "Requirement already satisfied: tensorboard-plugin-wit>=1.6.0 in /home/allenwu/miniconda3/envs/PantheonRL/lib/python3.7/site-packages (from tensorboard->pantheonrl) (1.8.1)\n",
      "Requirement already satisfied: setuptools>=41.0.0 in /home/allenwu/miniconda3/envs/PantheonRL/lib/python3.7/site-packages (from tensorboard->pantheonrl) (65.6.3)\n",
      "Requirement already satisfied: tensorboard-data-server<0.7.0,>=0.6.0 in /home/allenwu/miniconda3/envs/PantheonRL/lib/python3.7/site-packages (from tensorboard->pantheonrl) (0.6.1)\n",
      "Requirement already satisfied: requests<3,>=2.21.0 in /home/allenwu/miniconda3/envs/PantheonRL/lib/python3.7/site-packages (from tensorboard->pantheonrl) (2.28.2)\n",
      "Requirement already satisfied: markdown>=2.6.8 in /home/allenwu/miniconda3/envs/PantheonRL/lib/python3.7/site-packages (from tensorboard->pantheonrl) (3.4.3)\n",
      "Requirement already satisfied: google-auth<3,>=1.6.3 in /home/allenwu/miniconda3/envs/PantheonRL/lib/python3.7/site-packages (from tensorboard->pantheonrl) (2.17.0)\n",
      "Requirement already satisfied: absl-py>=0.4 in /home/allenwu/miniconda3/envs/PantheonRL/lib/python3.7/site-packages (from tensorboard->pantheonrl) (1.4.0)\n",
      "Requirement already satisfied: wheel>=0.26 in /home/allenwu/miniconda3/envs/PantheonRL/lib/python3.7/site-packages (from tensorboard->pantheonrl) (0.38.4)\n",
      "Requirement already satisfied: google-auth-oauthlib<0.5,>=0.4.1 in /home/allenwu/miniconda3/envs/PantheonRL/lib/python3.7/site-packages (from tensorboard->pantheonrl) (0.4.6)\n",
      "Requirement already satisfied: h5py>=2.9.0 in /home/allenwu/miniconda3/envs/PantheonRL/lib/python3.7/site-packages (from tensorflow->pantheonrl) (3.8.0)\n",
      "Requirement already satisfied: packaging in /home/allenwu/miniconda3/envs/PantheonRL/lib/python3.7/site-packages (from tensorflow->pantheonrl) (23.0)\n",
      "Requirement already satisfied: keras<2.12,>=2.11.0 in /home/allenwu/miniconda3/envs/PantheonRL/lib/python3.7/site-packages (from tensorflow->pantheonrl) (2.11.0)\n",
      "Requirement already satisfied: tensorflow-io-gcs-filesystem>=0.23.1 in /home/allenwu/miniconda3/envs/PantheonRL/lib/python3.7/site-packages (from tensorflow->pantheonrl) (0.32.0)\n",
      "Requirement already satisfied: libclang>=13.0.0 in /home/allenwu/miniconda3/envs/PantheonRL/lib/python3.7/site-packages (from tensorflow->pantheonrl) (16.0.0)\n",
      "Requirement already satisfied: six>=1.12.0 in /home/allenwu/miniconda3/envs/PantheonRL/lib/python3.7/site-packages (from tensorflow->pantheonrl) (1.16.0)\n",
      "Requirement already satisfied: flatbuffers>=2.0 in /home/allenwu/miniconda3/envs/PantheonRL/lib/python3.7/site-packages (from tensorflow->pantheonrl) (23.3.3)\n",
      "Requirement already satisfied: astunparse>=1.6.0 in /home/allenwu/miniconda3/envs/PantheonRL/lib/python3.7/site-packages (from tensorflow->pantheonrl) (1.6.3)\n",
      "Requirement already satisfied: google-pasta>=0.1.1 in /home/allenwu/miniconda3/envs/PantheonRL/lib/python3.7/site-packages (from tensorflow->pantheonrl) (0.2.0)\n",
      "Requirement already satisfied: tensorflow-estimator<2.12,>=2.11.0 in /home/allenwu/miniconda3/envs/PantheonRL/lib/python3.7/site-packages (from tensorflow->pantheonrl) (2.11.0)\n",
      "Requirement already satisfied: gast<=0.4.0,>=0.2.1 in /home/allenwu/miniconda3/envs/PantheonRL/lib/python3.7/site-packages (from tensorflow->pantheonrl) (0.4.0)\n",
      "Requirement already satisfied: wrapt>=1.11.0 in /home/allenwu/miniconda3/envs/PantheonRL/lib/python3.7/site-packages (from tensorflow->pantheonrl) (1.15.0)\n",
      "Requirement already satisfied: termcolor>=1.1.0 in /home/allenwu/miniconda3/envs/PantheonRL/lib/python3.7/site-packages (from tensorflow->pantheonrl) (2.2.0)\n",
      "Requirement already satisfied: opt-einsum>=2.3.2 in /home/allenwu/miniconda3/envs/PantheonRL/lib/python3.7/site-packages (from tensorflow->pantheonrl) (3.3.0)\n",
      "Requirement already satisfied: pyasn1-modules>=0.2.1 in /home/allenwu/miniconda3/envs/PantheonRL/lib/python3.7/site-packages (from google-auth<3,>=1.6.3->tensorboard->pantheonrl) (0.2.8)\n",
      "Requirement already satisfied: rsa<5,>=3.1.4 in /home/allenwu/miniconda3/envs/PantheonRL/lib/python3.7/site-packages (from google-auth<3,>=1.6.3->tensorboard->pantheonrl) (4.9)\n",
      "Requirement already satisfied: cachetools<6.0,>=2.0.0 in /home/allenwu/miniconda3/envs/PantheonRL/lib/python3.7/site-packages (from google-auth<3,>=1.6.3->tensorboard->pantheonrl) (5.3.0)\n",
      "Requirement already satisfied: requests-oauthlib>=0.7.0 in /home/allenwu/miniconda3/envs/PantheonRL/lib/python3.7/site-packages (from google-auth-oauthlib<0.5,>=0.4.1->tensorboard->pantheonrl) (1.3.1)\n",
      "Requirement already satisfied: zipp>=0.5 in /home/allenwu/miniconda3/envs/PantheonRL/lib/python3.7/site-packages (from importlib-metadata>=3.6.0->flask->pantheonrl) (3.15.0)\n",
      "Requirement already satisfied: MarkupSafe>=2.0 in /home/allenwu/miniconda3/envs/PantheonRL/lib/python3.7/site-packages (from Jinja2>=3.0->flask->pantheonrl) (2.1.2)\n",
      "Requirement already satisfied: idna<4,>=2.5 in /home/allenwu/miniconda3/envs/PantheonRL/lib/python3.7/site-packages (from requests<3,>=2.21.0->tensorboard->pantheonrl) (3.4)\n",
      "Requirement already satisfied: certifi>=2017.4.17 in /home/allenwu/miniconda3/envs/PantheonRL/lib/python3.7/site-packages (from requests<3,>=2.21.0->tensorboard->pantheonrl) (2022.12.7)\n",
      "Requirement already satisfied: charset-normalizer<4,>=2 in /home/allenwu/miniconda3/envs/PantheonRL/lib/python3.7/site-packages (from requests<3,>=2.21.0->tensorboard->pantheonrl) (3.1.0)\n",
      "Requirement already satisfied: urllib3<1.27,>=1.21.1 in /home/allenwu/miniconda3/envs/PantheonRL/lib/python3.7/site-packages (from requests<3,>=2.21.0->tensorboard->pantheonrl) (1.26.15)\n",
      "Requirement already satisfied: kiwisolver>=1.0.1 in /home/allenwu/miniconda3/envs/PantheonRL/lib/python3.7/site-packages (from matplotlib->stable-baselines3->pantheonrl) (1.4.4)\n",
      "Requirement already satisfied: pillow>=6.2.0 in /home/allenwu/miniconda3/envs/PantheonRL/lib/python3.7/site-packages (from matplotlib->stable-baselines3->pantheonrl) (9.4.0)\n",
      "Requirement already satisfied: pyparsing>=2.2.1 in /home/allenwu/miniconda3/envs/PantheonRL/lib/python3.7/site-packages (from matplotlib->stable-baselines3->pantheonrl) (3.0.9)\n",
      "Requirement already satisfied: fonttools>=4.22.0 in /home/allenwu/miniconda3/envs/PantheonRL/lib/python3.7/site-packages (from matplotlib->stable-baselines3->pantheonrl) (4.38.0)\n",
      "Requirement already satisfied: cycler>=0.10 in /home/allenwu/miniconda3/envs/PantheonRL/lib/python3.7/site-packages (from matplotlib->stable-baselines3->pantheonrl) (0.11.0)\n",
      "Requirement already satisfied: python-dateutil>=2.7 in /home/allenwu/miniconda3/envs/PantheonRL/lib/python3.7/site-packages (from matplotlib->stable-baselines3->pantheonrl) (2.8.2)\n",
      "Requirement already satisfied: pytz>=2017.3 in /home/allenwu/miniconda3/envs/PantheonRL/lib/python3.7/site-packages (from pandas->stable-baselines3->pantheonrl) (2023.3)\n",
      "Requirement already satisfied: pyasn1<0.5.0,>=0.4.6 in /home/allenwu/miniconda3/envs/PantheonRL/lib/python3.7/site-packages (from pyasn1-modules>=0.2.1->google-auth<3,>=1.6.3->tensorboard->pantheonrl) (0.4.8)\n",
      "Requirement already satisfied: oauthlib>=3.0.0 in /home/allenwu/miniconda3/envs/PantheonRL/lib/python3.7/site-packages (from requests-oauthlib>=0.7.0->google-auth-oauthlib<0.5,>=0.4.1->tensorboard->pantheonrl) (3.2.2)\n",
      "Installing collected packages: pantheonrl\n",
      "  Attempting uninstall: pantheonrl\n",
      "    Found existing installation: pantheonrl 0.0.1\n",
      "    Uninstalling pantheonrl-0.0.1:\n",
      "      Successfully uninstalled pantheonrl-0.0.1\n",
      "  Running setup.py develop for pantheonrl\n",
      "Successfully installed pantheonrl-0.0.1\n",
      "Note: you may need to restart the kernel to use updated packages.\n"
     ]
    }
   ],
   "source": [
    "pip install -e git+https://github.com/Stanford-ILIAD/PantheonRL.git#egg=pantheonrl"
   ]
  },
  {
   "attachments": {},
   "cell_type": "markdown",
   "metadata": {},
   "source": [
    "# Adding PantheonRL as a git submodule\n",
    "\n",
    "If you have any difficulties down the line with adding a submodule, please refer to this [post](https://gist.github.com/gitaarik/8735255)  \n",
    "\n",
    "First, add the specific Pantheon branch you want as a submodule:"
   ]
  },
  {
   "cell_type": "raw",
   "metadata": {},
   "source": [
    "cd examples\n",
    "mkdir git-submodules\n",
    "cd git-submodules\n",
    "git init\n",
    "\n",
    "git submodule add git@github.com:Stanford-ILIAD/PantheonRL.git"
   ]
  },
  {
   "attachments": {},
   "cell_type": "markdown",
   "metadata": {},
   "source": [
    "Note: you may need to restart the kernel to use updated packages.\n",
    "\n",
    "This next code snippet checks that you are ready to use Stable Baselines3 with CityLearn. This assumes you have stable_baselines3 installed"
   ]
  },
  {
   "cell_type": "code",
   "execution_count": 2,
   "metadata": {},
   "outputs": [
    {
     "name": "stdout",
     "output_type": "stream",
     "text": [
      "Passed test!! CityLearn is compatible with SB3 when using the StableBaselines3Wrapper.\n"
     ]
    },
    {
     "name": "stderr",
     "output_type": "stream",
     "text": [
      "/home/allenwu/miniconda3/envs/PantheonRL/lib/python3.7/site-packages/stable_baselines3/common/env_checker.py:362: UserWarning: We recommend you to use a symmetric and normalized Box action space (range=[-1, 1]) cf https://stable-baselines3.readthedocs.io/en/master/guide/rl_tips.html\n",
      "  \"We recommend you to use a symmetric and normalized Box action space (range=[-1, 1]) \"\n"
     ]
    }
   ],
   "source": [
    "import sys\n",
    "sys.path.insert(0, '..')\n",
    "import gym\n",
    "from stable_baselines3 import PPO\n",
    "\n",
    "# from pantheonrl.common.agents import OnPolicyAgent\n",
    "from citylearn.citylearn import CityLearnEnv\n",
    "from citylearn.wrappers import StableBaselines3Wrapper\n",
    "\n",
    "from stable_baselines3.common.env_checker import check_env\n",
    "# Initialize environment\n",
    "dataset_name = 'citylearn_challenge_2022_phase_1'\n",
    "env = CityLearnEnv(dataset_name)\n",
    "env.central_agent=True\n",
    "\n",
    "# Wrap for SB3 compatibility\n",
    "env = StableBaselines3Wrapper(env)\n",
    "\n",
    "# Perform compatibility check\n",
    "try:\n",
    "    check_env(env)\n",
    "    print('Passed test!! CityLearn is compatible with SB3 when using the StableBaselines3Wrapper.')\n",
    "finally:\n",
    "    pass"
   ]
  },
  {
   "attachments": {},
   "cell_type": "markdown",
   "metadata": {},
   "source": [
    "This is a demonstration of PantheonRL with CityLearn"
   ]
  },
  {
   "cell_type": "code",
   "execution_count": 4,
   "metadata": {},
   "outputs": [
    {
     "name": "stdout",
     "output_type": "stream",
     "text": [
      "Using cuda device\n",
      "Wrapping the env with a `Monitor` wrapper\n",
      "Wrapping the env in a DummyVecEnv.\n"
     ]
    },
    {
     "ename": "AttributeError",
     "evalue": "'CityLearnEnv' object has no attribute 'add_partner_agent'",
     "output_type": "error",
     "traceback": [
      "\u001b[0;31m---------------------------------------------------------------------------\u001b[0m",
      "\u001b[0;31mAttributeError\u001b[0m                            Traceback (most recent call last)",
      "\u001b[0;32m<ipython-input-4-9d4e8679374c>\u001b[0m in \u001b[0;36m<module>\u001b[0;34m\u001b[0m\n\u001b[1;32m      5\u001b[0m \u001b[0;34m\u001b[0m\u001b[0m\n\u001b[1;32m      6\u001b[0m \u001b[0mpartner\u001b[0m \u001b[0;34m=\u001b[0m \u001b[0mOnPolicyAgent\u001b[0m\u001b[0;34m(\u001b[0m\u001b[0mPPO\u001b[0m\u001b[0;34m(\u001b[0m\u001b[0;34m'MlpPolicy'\u001b[0m\u001b[0;34m,\u001b[0m \u001b[0menv\u001b[0m\u001b[0;34m,\u001b[0m \u001b[0mverbose\u001b[0m\u001b[0;34m=\u001b[0m\u001b[0;36m1\u001b[0m\u001b[0;34m)\u001b[0m\u001b[0;34m)\u001b[0m\u001b[0;34m\u001b[0m\u001b[0;34m\u001b[0m\u001b[0m\n\u001b[0;32m----> 7\u001b[0;31m \u001b[0menv\u001b[0m\u001b[0;34m.\u001b[0m\u001b[0madd_partner_agent\u001b[0m \u001b[0;34m(\u001b[0m\u001b[0mpartner\u001b[0m\u001b[0;34m)\u001b[0m\u001b[0;34m\u001b[0m\u001b[0;34m\u001b[0m\u001b[0m\n\u001b[0m",
      "\u001b[0;32m~/miniconda3/envs/PantheonRL/lib/python3.7/site-packages/gym/core.py\u001b[0m in \u001b[0;36m__getattr__\u001b[0;34m(self, name)\u001b[0m\n\u001b[1;32m    236\u001b[0m                 \u001b[0;34m\"attempted to get missing private attribute '{}'\"\u001b[0m\u001b[0;34m.\u001b[0m\u001b[0mformat\u001b[0m\u001b[0;34m(\u001b[0m\u001b[0mname\u001b[0m\u001b[0;34m)\u001b[0m\u001b[0;34m\u001b[0m\u001b[0;34m\u001b[0m\u001b[0m\n\u001b[1;32m    237\u001b[0m             )\n\u001b[0;32m--> 238\u001b[0;31m         \u001b[0;32mreturn\u001b[0m \u001b[0mgetattr\u001b[0m\u001b[0;34m(\u001b[0m\u001b[0mself\u001b[0m\u001b[0;34m.\u001b[0m\u001b[0menv\u001b[0m\u001b[0;34m,\u001b[0m \u001b[0mname\u001b[0m\u001b[0;34m)\u001b[0m\u001b[0;34m\u001b[0m\u001b[0;34m\u001b[0m\u001b[0m\n\u001b[0m\u001b[1;32m    239\u001b[0m \u001b[0;34m\u001b[0m\u001b[0m\n\u001b[1;32m    240\u001b[0m     \u001b[0;34m@\u001b[0m\u001b[0mproperty\u001b[0m\u001b[0;34m\u001b[0m\u001b[0;34m\u001b[0m\u001b[0m\n",
      "\u001b[0;32m~/miniconda3/envs/PantheonRL/lib/python3.7/site-packages/gym/core.py\u001b[0m in \u001b[0;36m__getattr__\u001b[0;34m(self, name)\u001b[0m\n\u001b[1;32m    236\u001b[0m                 \u001b[0;34m\"attempted to get missing private attribute '{}'\"\u001b[0m\u001b[0;34m.\u001b[0m\u001b[0mformat\u001b[0m\u001b[0;34m(\u001b[0m\u001b[0mname\u001b[0m\u001b[0;34m)\u001b[0m\u001b[0;34m\u001b[0m\u001b[0;34m\u001b[0m\u001b[0m\n\u001b[1;32m    237\u001b[0m             )\n\u001b[0;32m--> 238\u001b[0;31m         \u001b[0;32mreturn\u001b[0m \u001b[0mgetattr\u001b[0m\u001b[0;34m(\u001b[0m\u001b[0mself\u001b[0m\u001b[0;34m.\u001b[0m\u001b[0menv\u001b[0m\u001b[0;34m,\u001b[0m \u001b[0mname\u001b[0m\u001b[0;34m)\u001b[0m\u001b[0;34m\u001b[0m\u001b[0;34m\u001b[0m\u001b[0m\n\u001b[0m\u001b[1;32m    239\u001b[0m \u001b[0;34m\u001b[0m\u001b[0m\n\u001b[1;32m    240\u001b[0m     \u001b[0;34m@\u001b[0m\u001b[0mproperty\u001b[0m\u001b[0;34m\u001b[0m\u001b[0;34m\u001b[0m\u001b[0m\n",
      "\u001b[0;32m~/miniconda3/envs/PantheonRL/lib/python3.7/site-packages/gym/core.py\u001b[0m in \u001b[0;36m__getattr__\u001b[0;34m(self, name)\u001b[0m\n\u001b[1;32m    236\u001b[0m                 \u001b[0;34m\"attempted to get missing private attribute '{}'\"\u001b[0m\u001b[0;34m.\u001b[0m\u001b[0mformat\u001b[0m\u001b[0;34m(\u001b[0m\u001b[0mname\u001b[0m\u001b[0;34m)\u001b[0m\u001b[0;34m\u001b[0m\u001b[0;34m\u001b[0m\u001b[0m\n\u001b[1;32m    237\u001b[0m             )\n\u001b[0;32m--> 238\u001b[0;31m         \u001b[0;32mreturn\u001b[0m \u001b[0mgetattr\u001b[0m\u001b[0;34m(\u001b[0m\u001b[0mself\u001b[0m\u001b[0;34m.\u001b[0m\u001b[0menv\u001b[0m\u001b[0;34m,\u001b[0m \u001b[0mname\u001b[0m\u001b[0;34m)\u001b[0m\u001b[0;34m\u001b[0m\u001b[0;34m\u001b[0m\u001b[0m\n\u001b[0m\u001b[1;32m    239\u001b[0m \u001b[0;34m\u001b[0m\u001b[0m\n\u001b[1;32m    240\u001b[0m     \u001b[0;34m@\u001b[0m\u001b[0mproperty\u001b[0m\u001b[0;34m\u001b[0m\u001b[0;34m\u001b[0m\u001b[0m\n",
      "\u001b[0;32m~/miniconda3/envs/PantheonRL/lib/python3.7/site-packages/gym/core.py\u001b[0m in \u001b[0;36m__getattr__\u001b[0;34m(self, name)\u001b[0m\n\u001b[1;32m    236\u001b[0m                 \u001b[0;34m\"attempted to get missing private attribute '{}'\"\u001b[0m\u001b[0;34m.\u001b[0m\u001b[0mformat\u001b[0m\u001b[0;34m(\u001b[0m\u001b[0mname\u001b[0m\u001b[0;34m)\u001b[0m\u001b[0;34m\u001b[0m\u001b[0;34m\u001b[0m\u001b[0m\n\u001b[1;32m    237\u001b[0m             )\n\u001b[0;32m--> 238\u001b[0;31m         \u001b[0;32mreturn\u001b[0m \u001b[0mgetattr\u001b[0m\u001b[0;34m(\u001b[0m\u001b[0mself\u001b[0m\u001b[0;34m.\u001b[0m\u001b[0menv\u001b[0m\u001b[0;34m,\u001b[0m \u001b[0mname\u001b[0m\u001b[0;34m)\u001b[0m\u001b[0;34m\u001b[0m\u001b[0;34m\u001b[0m\u001b[0m\n\u001b[0m\u001b[1;32m    239\u001b[0m \u001b[0;34m\u001b[0m\u001b[0m\n\u001b[1;32m    240\u001b[0m     \u001b[0;34m@\u001b[0m\u001b[0mproperty\u001b[0m\u001b[0;34m\u001b[0m\u001b[0;34m\u001b[0m\u001b[0m\n",
      "\u001b[0;31mAttributeError\u001b[0m: 'CityLearnEnv' object has no attribute 'add_partner_agent'"
     ]
    }
   ],
   "source": [
    "from stable_baselines3 import PPO\n",
    "from pantheonrl.common.agents import OnPolicyAgent\n",
    "\n",
    "# reusing env from above\n",
    "\n",
    "partner = OnPolicyAgent(PPO('MlpPolicy', env, verbose=1))\n",
    "env.add_partner_agent (partner)\n",
    "\n",
    "# # Since pantheonrl's MultiAgentEnv is a subclass of the gym Env, you can\n",
    "# # register an environment and construct it using gym.make.\n",
    "# env = gym.make('OvercookedMultiEnv-v0', layout_name=layout)\n",
    "# what\n"
   ]
  }
 ],
 "metadata": {
  "kernelspec": {
   "display_name": "PantheonRL",
   "language": "python",
   "name": "python3"
  },
  "language_info": {
   "codemirror_mode": {
    "name": "ipython",
    "version": 3
   },
   "file_extension": ".py",
   "mimetype": "text/x-python",
   "name": "python",
   "nbconvert_exporter": "python",
   "pygments_lexer": "ipython3",
   "version": "3.7.12"
  },
  "orig_nbformat": 4
 },
 "nbformat": 4,
 "nbformat_minor": 2
}
