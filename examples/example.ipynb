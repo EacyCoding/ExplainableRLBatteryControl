{
 "cells": [
  {
   "attachments": {},
   "cell_type": "markdown",
   "metadata": {},
   "source": [
    "# Dependencies\n",
    "***\n",
    "\n",
    "Uncomment and run cell below to install CityLearn and other dependencies for the internal RL agents."
   ]
  },
  {
   "cell_type": "code",
   "execution_count": 3,
   "metadata": {},
   "outputs": [],
   "source": [
    "# # upgrade pip\n",
    "# !pip install --upgrade pip\n",
    "\n",
    "# # Install dependencies\n",
    "# !pip install CityLearn scikit-learn==1.0.2 torch==1.12.0 torchvision==0.13.0"
   ]
  },
  {
   "cell_type": "code",
   "execution_count": 5,
   "metadata": {},
   "outputs": [],
   "source": [
    " # Import dependencies\n",
    "import math\n",
    "import os\n",
    "from pathlib import Path\n",
    "from citylearn.agents.rbc import OptimizedRBC as RBCAgent\n",
    "from citylearn.agents.sac import SACOptimizedRBC as SACAgent\n",
    "from citylearn.citylearn import CityLearnEnv\n",
    "from citylearn.cost_function import CostFunction\n",
    "import pandas as pd"
   ]
  },
  {
   "attachments": {},
   "cell_type": "markdown",
   "metadata": {},
   "source": [
    "# Helper Functions\n",
    "***"
   ]
  },
  {
   "cell_type": "code",
   "execution_count": 7,
   "metadata": {},
   "outputs": [],
   "source": [
    "# Function to calculate KPIs\n",
    "def get_kpis(env):\n",
    "    ## building level\n",
    "    building_kpis = []\n",
    "\n",
    "    for b in env.buildings:\n",
    "        building_kpis += [{\n",
    "            'building_name': b.name,\n",
    "            'kpi': 'electricity_consumption',\n",
    "            'value': CostFunction.net_electricity_consumption(b.net_electricity_consumption)[-1]/\\\n",
    "                CostFunction.net_electricity_consumption(b.net_electricity_consumption_without_storage)[-1],\n",
    "            }, {\n",
    "            'building_name': b.name,\n",
    "            'kpi': 'carbon_emissions',\n",
    "            'value': CostFunction.carbon_emissions(b.net_electricity_consumption_emission)[-1]/\\\n",
    "                CostFunction.carbon_emissions(b.net_electricity_consumption_without_storage_emission)[-1],\n",
    "            }, {\n",
    "            'building_name': b.name,\n",
    "            'kpi': 'zero_net_energy',\n",
    "            'value': sum(b.net_electricity_consumption)/\\\n",
    "                sum(b.net_electricity_consumption_without_storage),\n",
    "            }]\n",
    "\n",
    "    building_kpis = pd.DataFrame(building_kpis)\n",
    "    building_kpis['level'] = 'building'\n",
    "\n",
    "    ## district level\n",
    "    district_kpis = pd.DataFrame([{\n",
    "        'kpi': 'ramping',\n",
    "        'value': CostFunction.ramping(env.net_electricity_consumption)[-1]/\\\n",
    "            CostFunction.ramping(env.net_electricity_consumption_without_storage)[-1],\n",
    "        }, {\n",
    "        'kpi': '1 - load_factor',\n",
    "        'value': CostFunction.load_factor(env.net_electricity_consumption)[-1]/\\\n",
    "            CostFunction.load_factor(env.net_electricity_consumption_without_storage)[-1],\n",
    "        }, {\n",
    "        'kpi': 'average_daily_peak',\n",
    "        'value': CostFunction.average_daily_peak(env.net_electricity_consumption)[-1]/\\\n",
    "            CostFunction.average_daily_peak(env.net_electricity_consumption_without_storage)[-1],\n",
    "        }, {\n",
    "        'kpi': 'peak_demand',\n",
    "        'value': CostFunction.peak_demand(env.net_electricity_consumption)[-1]/\\\n",
    "            CostFunction.peak_demand(env.net_electricity_consumption_without_storage)[-1],\n",
    "        }])\n",
    "\n",
    "    district_kpis = pd.concat([district_kpis, building_kpis], ignore_index=True, sort=False)\n",
    "    district_kpis = district_kpis.groupby(['kpi'])[['value']].mean().reset_index()\n",
    "    district_kpis['building_name'] = 'District'\n",
    "    district_kpis['level'] = 'district'\n",
    "    kpis = pd.concat([district_kpis, building_kpis], ignore_index=True, sort=False)\n",
    "\n",
    "    return kpis\n",
    "\n",
    "def parse_kpis(kpis):\n",
    "    kpis['value'] = kpis['value'].round(3)\n",
    "    kpis = kpis.pivot(index='kpi', columns='building_name', values='value')\n",
    "    kpis = kpis.to_dict()\n",
    "    kpis = {b: {kpi: v for kpi, v in b_kpis.items() if not math.isnan(v)} for b, b_kpis in kpis.items()}\n",
    "\n",
    "    return kpis"
   ]
  },
  {
   "attachments": {},
   "cell_type": "markdown",
   "metadata": {},
   "source": [
    "# RBC Agent\n",
    "***\n",
    "Use the RBC agent to control the CityLearn Challenge 2022 Phase I environment."
   ]
  },
  {
   "cell_type": "code",
   "execution_count": 11,
   "metadata": {},
   "outputs": [
    {
     "name": "stdout",
     "output_type": "stream",
     "text": [
      "KPIs: {'Building_1': {'carbon_emissions': 1.046, 'electricity_consumption': 1.066, 'zero_net_energy': 1.042}, 'Building_2': {'carbon_emissions': 1.044, 'electricity_consumption': 1.066, 'zero_net_energy': 1.036}, 'Building_3': {'carbon_emissions': 1.076, 'electricity_consumption': 1.107, 'zero_net_energy': 1.106}, 'Building_4': {'carbon_emissions': 1.043, 'electricity_consumption': 1.066, 'zero_net_energy': 1.031}, 'Building_5': {'carbon_emissions': 1.068, 'electricity_consumption': 1.099, 'zero_net_energy': 1.052}, 'District': {'1 - load_factor': 0.991, 'average_daily_peak': 1.018, 'carbon_emissions': 1.055, 'electricity_consumption': 1.081, 'peak_demand': 0.992, 'ramping': 1.081, 'zero_net_energy': 1.053}}\n"
     ]
    }
   ],
   "source": [
    "schema = Path('../citylearn/data/citylearn_challenge_2022_phase_1/schema.json') # replace with applicable path to schema\n",
    "env = CityLearnEnv(schema)\n",
    "agents = RBCAgent(\n",
    "    action_space=env.action_space,\n",
    "    observation_space=env.observation_space,\n",
    "    building_information=env.get_building_information(),\n",
    "    observation_names=env.observation_names,\n",
    ")\n",
    "observations = env.reset()\n",
    "\n",
    "while not env.done:\n",
    "    actions = agents.select_actions(observations)\n",
    "\n",
    "    # apply actions to env\n",
    "    observations, rewards, _, _ = env.step(actions)\n",
    "\n",
    "print('KPIs:', parse_kpis(get_kpis(env)))"
   ]
  },
  {
   "attachments": {},
   "cell_type": "markdown",
   "metadata": {},
   "source": [
    "# SAC Agent\n",
    "***\n",
    "Use the SAC agent to control the CityLearn Challenge 2022 Phase I environment."
   ]
  },
  {
   "cell_type": "code",
   "execution_count": 12,
   "metadata": {},
   "outputs": [],
   "source": [
    "schema = Path('../citylearn/data/citylearn_challenge_2022_phase_1/schema.json') # replace with applicable path to schema\n",
    "env = CityLearnEnv(schema)\n",
    "agents = SACAgent(\n",
    "    building_ids=[b.uid for b in env.buildings],\n",
    "    action_space=env.action_space,\n",
    "    observation_space=env.observation_space,\n",
    "    building_information=env.get_building_information(),\n",
    "    observation_names=env.observation_names,\n",
    "    hidden_dimension=[256, 256],\n",
    "    discount=0.99,\n",
    "    tau=0.005,\n",
    "    lr=0.003,\n",
    "    batch_size=256,\n",
    "    replay_buffer_capacity=1e5,\n",
    "    start_training_time_step=6000,\n",
    "    end_exploration_time_step=7000,\n",
    "    deterministic_start_time_step=7500,\n",
    "    action_scaling_coef=0.5,\n",
    "    reward_scaling=5.0,\n",
    "    update_per_time_step=2\n",
    ")\n",
    "episodes = 1 # number of training episodes\n",
    "\n",
    "for e in range(episodes):\n",
    "    observations = env.reset()\n",
    "\n",
    "    while not env.done:\n",
    "        actions = agents.select_actions(observations)\n",
    "\n",
    "        # apply actions to env\n",
    "        next_observations, rewards, _, _ = env.step(actions)\n",
    "\n",
    "        # update agents\n",
    "        agents.add_to_buffer(observations, actions, rewards, next_observations, done=env.done)\n",
    "        observations = [o for o in next_observations]\n",
    "\n",
    "    print('Episode:', e, '; KPIs:', parse_kpis(get_kpis(env)))"
   ]
  }
 ],
 "metadata": {
  "kernelspec": {
   "display_name": "test_env",
   "language": "python",
   "name": "python3"
  },
  "language_info": {
   "codemirror_mode": {
    "name": "ipython",
    "version": 3
   },
   "file_extension": ".py",
   "mimetype": "text/x-python",
   "name": "python",
   "nbconvert_exporter": "python",
   "pygments_lexer": "ipython3",
   "version": "3.7.7"
  },
  "orig_nbformat": 4,
  "vscode": {
   "interpreter": {
    "hash": "24d13602916ce501dab33551801634a98323f75b1378db411e4ca12af6dc15d7"
   }
  }
 },
 "nbformat": 4,
 "nbformat_minor": 2
}
