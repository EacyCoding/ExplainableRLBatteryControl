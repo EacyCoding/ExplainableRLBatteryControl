{
 "cells": [
  {
   "cell_type": "markdown",
   "id": "289e4147",
   "metadata": {},
   "source": [
    "# Simple PPO Agent (CityLearn)\n",
    "Minimal end-to-end example: load schema, keep only electrical storage, wrap env for single-building central agent, train PPO briefly, evaluate, and plot rewards."
   ]
  },
  {
   "cell_type": "code",
   "execution_count": 2,
   "id": "c072d202",
   "metadata": {},
   "outputs": [
    {
     "name": "stdout",
     "output_type": "stream",
     "text": [
      "Couldn't import dot_parser, loading of dot files will not be possible.\n"
     ]
    },
    {
     "name": "stderr",
     "output_type": "stream",
     "text": [
      "2025-08-19 17:51:22.615563: I tensorflow/core/util/port.cc:153] oneDNN custom operations are on. You may see slightly different numerical results due to floating-point round-off errors from different computation orders. To turn them off, set the environment variable `TF_ENABLE_ONEDNN_OPTS=0`.\n",
      "2025-08-19 17:51:22.629079: E external/local_xla/xla/stream_executor/cuda/cuda_fft.cc:467] Unable to register cuFFT factory: Attempting to register factory for plugin cuFFT when one has already been registered\n",
      "WARNING: All log messages before absl::InitializeLog() is called are written to STDERR\n",
      "E0000 00:00:1755618682.644063 1173551 cuda_dnn.cc:8579] Unable to register cuDNN factory: Attempting to register factory for plugin cuDNN when one has already been registered\n",
      "E0000 00:00:1755618682.648556 1173551 cuda_blas.cc:1407] Unable to register cuBLAS factory: Attempting to register factory for plugin cuBLAS when one has already been registered\n",
      "W0000 00:00:1755618682.659944 1173551 computation_placer.cc:177] computation placer already registered. Please check linkage and avoid linking the same target more than once.\n",
      "W0000 00:00:1755618682.659957 1173551 computation_placer.cc:177] computation placer already registered. Please check linkage and avoid linking the same target more than once.\n",
      "W0000 00:00:1755618682.659958 1173551 computation_placer.cc:177] computation placer already registered. Please check linkage and avoid linking the same target more than once.\n",
      "W0000 00:00:1755618682.659960 1173551 computation_placer.cc:177] computation placer already registered. Please check linkage and avoid linking the same target more than once.\n",
      "2025-08-19 17:51:22.664175: I tensorflow/core/platform/cpu_feature_guard.cc:210] This TensorFlow binary is optimized to use available CPU instructions in performance-critical operations.\n",
      "To enable the following instructions: AVX2 AVX512F AVX512_VNNI FMA, in other operations, rebuild TensorFlow with the appropriate compiler flags.\n"
     ]
    },
    {
     "name": "stdout",
     "output_type": "stream",
     "text": [
      "Python: 3.11.7\n",
      "Torch : 2.7.0+cu126\n"
     ]
    }
   ],
   "source": [
    "# Basic imports & versions\n",
    "import sys, os, json, time, math, pathlib\n",
    "import numpy as np\n",
    "import pandas as pd\n",
    "import matplotlib.pyplot as plt\n",
    "import gymnasium as gym\n",
    "from gymnasium import spaces\n",
    "import torch as th\n",
    "from stable_baselines3 import PPO\n",
    "from stable_baselines3.common.monitor import Monitor\n",
    "from stable_baselines3.common.callbacks import BaseCallback\n",
    "from citylearn.data import DataSet\n",
    "from citylearn.citylearn import CityLearnEnv\n",
    "print('Python:', sys.version.split()[0])\n",
    "print('Torch :', th.__version__)"
   ]
  },
  {
   "cell_type": "code",
   "execution_count": 3,
   "id": "0d4ade5a",
   "metadata": {},
   "outputs": [],
   "source": [
    "# Configuration\n",
    "DATASET_NAME = 'citylearn_challenge_2023_phase_3_1'  # adjust if needed\n",
    "ROOT_DIR = r'/hkfs/home/haicore/iai/cj9272/Bachelorthesis_DQN_Agent/data/datasets/citylearn_challenge_2023_phase_3_1'\n",
    "REWARD_FN = {  # CostReward \n",
    "    'type': 'citylearn.reward_function.CostReward',\n",
    "    'attributes': {}\n",
    "}\n",
    "ONLY_ELECTRICAL_STORAGE = True\n",
    "TOTAL_TIMESTEPS = 2208 * 5\n",
    "EVAL_EPISODES = 1"
   ]
  },
  {
   "cell_type": "code",
   "execution_count": 4,
   "id": "fe668f24",
   "metadata": {},
   "outputs": [
    {
     "name": "stderr",
     "output_type": "stream",
     "text": [
      "INFO:root:Go here /home/iai/cj9272/.cache/citylearn/v2.4.1/datasets/citylearn_challenge_2023_phase_3_1/schema.json \n"
     ]
    },
    {
     "name": "stdout",
     "output_type": "stream",
     "text": [
      "/hkfs/home/haicore/iai/cj9272/Bachelorthesis_DQN_Agent/data/datasets/citylearn_challenge_2023_phase_3_1\n",
      "Dataset '/hkfs/home/haicore/iai/cj9272/Bachelorthesis_DQN_Agent/data/datasets/citylearn_challenge_2023_phase_3_1' copied to '/hkfs/home/haicore/iai/cj9272/Bachelorthesis_DQN_Agent/data/datasets/citylearn_challenge_2023_phase_3_1/../../../../results/2025-08-19_17-51-26'\n",
      "Underlying CL action_space building0: Box(-1.0, 1.0, (6,), float32)\n",
      "Observation length (building0): 85\n"
     ]
    }
   ],
   "source": [
    "def keep_only_electrical_storage(schema: dict) -> dict:\n",
    "    if 'actions' in schema:\n",
    "        for a in list(schema['actions'].keys()):\n",
    "            schema['actions'][a]['active'] = (a == 'electrical_storage')\n",
    "    if 'buildings' in schema:\n",
    "        for b in schema['buildings']:\n",
    "            if 'actions' in b:\n",
    "                for a in list(b['actions'].keys()):\n",
    "                    b['actions'][a]['active'] = (a == 'electrical_storage')\n",
    "    return schema\n",
    "\n",
    "# --- Load schema ---\n",
    "dataset = DataSet()\n",
    "schema = dataset.get_schema(DATASET_NAME)\n",
    "schema['root_directory'] = ROOT_DIR\n",
    "\n",
    "# Action 1: actually deactivate all actions except electrical storage if flag is set\n",
    "if ONLY_ELECTRICAL_STORAGE:\n",
    "    schema = keep_only_electrical_storage(schema)\n",
    "\n",
    "# Always set reward function (was previously inside the conditional)\n",
    "schema['reward_function'] = REWARD_FN\n",
    "\n",
    "# (Optional) custom pricing file override example\n",
    "# for bname, bconf in schema['buildings'].items():\n",
    "#     bconf['pricing'] = 'pricing_germany_2023_june_to_august.csv'\n",
    "\n",
    "# Create underlying CityLearn environment (central agent)\n",
    "cl_env = CityLearnEnv(schema, central_agent=True)\n",
    "print('Underlying CL action_space building0:', cl_env.action_space[0])\n",
    "print('Observation length (building0):', len(cl_env.observations[0]))"
   ]
  },
  {
   "cell_type": "markdown",
   "id": "d4c1aa47",
   "metadata": {},
   "source": [
    "### Wrapper Environment (Continuous [-1,1] Storage Control)"
   ]
  },
  {
   "cell_type": "code",
   "execution_count": 5,
   "id": "4b4201da",
   "metadata": {},
   "outputs": [],
   "source": [
    "class CityLearnPPOWrapper(gym.Env):\n",
    "    metadata = {'render_modes': []}\n",
    "    def __init__(self, cl_env: CityLearnEnv):\n",
    "        super().__init__()\n",
    "        self.cl = cl_env\n",
    "        self.cl.reset()\n",
    "        obs0 = np.array(self.cl.observations[0], dtype=np.float32)\n",
    "        self.observation_space = spaces.Box(low=-np.inf, high=np.inf, shape=obs0.shape, dtype=np.float32)\n",
    "        # Determine original action dimension\n",
    "        orig_dim = self.cl.action_space[0].shape[0]\n",
    "        # If only electrical storage remains, orig_dim should be 1.\n",
    "        # We still define a 1D agent action space; we'll expand to full if needed.\n",
    "        self.agent_action_space = spaces.Box(low=-1.0, high=1.0, shape=(1,), dtype=np.float32)\n",
    "        self.action_space = self.agent_action_space\n",
    "        # Try to find index of electrical storage if multiple dims survived (fallback 0)\n",
    "        try:\n",
    "            b0 = self.cl.buildings[0]\n",
    "            # Attempt to parse device ordering from building actions structure\n",
    "            # If not available, default to index 0\n",
    "            self.storage_index = 0\n",
    "        except Exception:\n",
    "            self.storage_index = 0\n",
    "        self.orig_dim = orig_dim\n",
    "\n",
    "    def reset(self, *, seed=None, options=None):\n",
    "        super().reset(seed=seed)\n",
    "        self.cl.reset(seed=seed)\n",
    "        obs = np.array(self.cl.observations[0], dtype=np.float32)\n",
    "        return obs, {}\n",
    "\n",
    "    def step(self, action):\n",
    "        # Expect a single scalar in [-1,1]\n",
    "        a = np.clip(np.array(action, dtype=np.float32).reshape(-1), -1.0, 1.0)\n",
    "        if a.size != 1:\n",
    "            raise ValueError(f\"Expected single action value, got shape {a.shape}\")\n",
    "        frac = float(a[0])\n",
    "        if self.orig_dim == 1:\n",
    "            actions = [[frac]]\n",
    "        else:\n",
    "            # Build full vector of zeros, insert frac at storage index; others neutral (0)\n",
    "            full = np.zeros(self.orig_dim, dtype=np.float32)\n",
    "            full[self.storage_index] = frac\n",
    "            actions = [full.tolist()]\n",
    "        obs_all, rewards, terminated, truncated, info = self.cl.step(actions)\n",
    "        obs = np.array(obs_all[0], dtype=np.float32)\n",
    "        reward = float(rewards[0])\n",
    "        return obs, reward, bool(terminated), bool(truncated), info\n",
    "\n",
    "    def render(self):\n",
    "        pass"
   ]
  },
  {
   "cell_type": "markdown",
   "id": "92bef2da",
   "metadata": {},
   "source": [
    "### PPO Callback for Logging"
   ]
  },
  {
   "cell_type": "code",
   "execution_count": 6,
   "id": "ce62d4dd",
   "metadata": {},
   "outputs": [],
   "source": [
    "class PPOTrainLogger(BaseCallback):\n",
    "    def __init__(self):\n",
    "        super().__init__()\n",
    "        self.rows = []  # per step\n",
    "        self.ep_returns = []\n",
    "        self._ep_ret = 0.0\n",
    "    def _on_step(self):\n",
    "        # Access locals: 'rewards', 'dones' if vectorized wrapper is used\n",
    "        r = float(self.locals.get('rewards', [0])[0]) if isinstance(self.locals.get('rewards'), (list, tuple, np.ndarray)) else float(self.locals.get('rewards', 0))\n",
    "        d = bool(self.locals.get('dones', [False])[0]) if isinstance(self.locals.get('dones'), (list, tuple, np.ndarray)) else bool(self.locals.get('dones', False))\n",
    "        self._ep_ret += r\n",
    "        self.rows.append({'timestep': int(self.num_timesteps), 'reward': r})\n",
    "        if d:\n",
    "            self.ep_returns.append(self._ep_ret)\n",
    "            self._ep_ret = 0.0\n",
    "            return True\n",
    "    def _on_training_end(self):\n",
    "        import pandas as pd\n",
    "        self.step_df = pd.DataFrame(self.rows)\n",
    "        self.ep_df = pd.DataFrame({'episode': range(1, len(self.ep_returns)+1), 'return': self.ep_returns})"
   ]
  },
  {
   "cell_type": "markdown",
   "id": "fa30c5b8",
   "metadata": {},
   "source": [
    "### Build & Train PPO"
   ]
  },
  {
   "cell_type": "code",
   "execution_count": 7,
   "id": "61a82ad5",
   "metadata": {},
   "outputs": [
    {
     "name": "stdout",
     "output_type": "stream",
     "text": [
      "Using cuda device\n",
      "Wrapping the env in a DummyVecEnv.\n"
     ]
    },
    {
     "name": "stderr",
     "output_type": "stream",
     "text": [
      "/hkfs/home/haicore/iai/cj9272/citylearn_env/lib64/python3.11/site-packages/stable_baselines3/ppo/ppo.py:155: UserWarning: You have specified a mini-batch size of 256, but because the `RolloutBuffer` is of size `n_steps * n_envs = 2208`, after every 8 untruncated mini-batches, there will be a truncated mini-batch of size 160\n",
      "We recommend using a `batch_size` that is a factor of `n_steps * n_envs`.\n",
      "Info: (n_steps=2208 and n_envs=1)\n",
      "  warnings.warn(\n",
      "/hkfs/home/haicore/iai/cj9272/citylearn_env/lib64/python3.11/site-packages/stable_baselines3/common/on_policy_algorithm.py:150: UserWarning: You are trying to run PPO on the GPU, but it is primarily intended to run on the CPU when not using a CNN policy (you are using ActorCriticPolicy which should be a MlpPolicy). See https://github.com/DLR-RM/stable-baselines3/issues/1245 for more info. You can pass `device='cpu'` or `export CUDA_VISIBLE_DEVICES=` to force using the CPU.Note: The model will train, but the GPU utilization will be poor and the training might take longer than on CPU.\n",
      "  warnings.warn(\n",
      "/hkfs/home/haicore/iai/cj9272/citylearn_env/lib64/python3.11/site-packages/stable_baselines3/common/on_policy_algorithm.py:150: UserWarning: You are trying to run PPO on the GPU, but it is primarily intended to run on the CPU when not using a CNN policy (you are using ActorCriticPolicy which should be a MlpPolicy). See https://github.com/DLR-RM/stable-baselines3/issues/1245 for more info. You can pass `device='cpu'` or `export CUDA_VISIBLE_DEVICES=` to force using the CPU.Note: The model will train, but the GPU utilization will be poor and the training might take longer than on CPU.\n",
      "  warnings.warn(\n"
     ]
    },
    {
     "data": {
      "text/plain": [
       "<stable_baselines3.ppo.ppo.PPO at 0x14e26ead0950>"
      ]
     },
     "execution_count": 7,
     "metadata": {},
     "output_type": "execute_result"
    }
   ],
   "source": [
    "env = Monitor(CityLearnPPOWrapper(cl_env))\n",
    "logger_cb = PPOTrainLogger()\n",
    "model = PPO(\n",
    "    policy='MlpPolicy',\n",
    "    env=env,\n",
    "    learning_rate=3e-4,\n",
    "    n_steps=2208,\n",
    "    batch_size=256, # mini-batch size within each optimization epoch\n",
    "    gamma=0.99, # discount factor future rewards\n",
    "    gae_lambda=0.95, \n",
    "    clip_range=0.2,\n",
    "    ent_coef=0.0,\n",
    "    vf_coef=0.5,\n",
    "    max_grad_norm=0.5,\n",
    "    verbose=1,\n",
    "    policy_kwargs=dict(net_arch=[256,256], activation_fn=th.nn.ReLU)\n",
    ")\n",
    "model.learn(total_timesteps=TOTAL_TIMESTEPS, callback=logger_cb)"
   ]
  },
  {
   "cell_type": "markdown",
   "id": "e6a188e8",
   "metadata": {},
   "source": [
    "### Quick Evaluation"
   ]
  },
  {
   "cell_type": "code",
   "execution_count": 8,
   "id": "d816f763",
   "metadata": {},
   "outputs": [
    {
     "name": "stdout",
     "output_type": "stream",
     "text": [
      "Return of episode 1: -563.5993097923139\n",
      "Eval mean return over 1 ep(s): -563.5993097923139\n"
     ]
    }
   ],
   "source": [
    "def evaluate(model, env, episodes=1):\n",
    "    returns = []\n",
    "    for i in range(episodes):\n",
    "        obs, _ = env.reset()\n",
    "        done = False\n",
    "        ret = 0.0\n",
    "        while not done:\n",
    "            action, _ = model.predict(obs, deterministic=True)\n",
    "            # action expected shape (1,) from wrapper\n",
    "            obs, r, term, trunc, _ = env.step(action)\n",
    "            ret += r\n",
    "            done = term or trunc\n",
    "        returns.append(ret)\n",
    "        print(f\"Return of episode {i + 1}: {ret}\")\n",
    "    return np.array(returns)\n",
    "\n",
    "eval_returns = evaluate(model, env, episodes=EVAL_EPISODES)\n",
    "print(f'Eval mean return over {EVAL_EPISODES} ep(s):', eval_returns.mean())"
   ]
  },
  {
   "cell_type": "markdown",
   "id": "b0916808",
   "metadata": {},
   "source": [
    "### Plots"
   ]
  },
  {
   "cell_type": "code",
   "execution_count": 9,
   "id": "6f4dae3b",
   "metadata": {},
   "outputs": [
    {
     "data": {
      "image/png": "[encoded data removed]",
      "text/plain": [
       "<Figure size 600x300 with 1 Axes>"
      ]
     },
     "metadata": {},
     "output_type": "display_data"
    }
   ],
   "source": [
    "import pandas as pd\n",
    "if hasattr(logger_cb, 'step_df'):\n",
    "    step_df = logger_cb.step_df.copy()\n",
    "    if not step_df.empty:\n",
    "        # Reward moving average\n",
    "        window = min(1000, max(10, len(step_df)//20))\n",
    "        step_df['reward_ma'] = step_df['reward'].rolling(window, min_periods=1).mean()\n",
    "        plt.figure(figsize=(6,3))\n",
    "        plt.plot(step_df['timestep'], step_df['reward'], alpha=0.3, label='reward')\n",
    "        plt.plot(step_df['timestep'], step_df['reward_ma'], color='C3', label=f'MA({window})')\n",
    "        plt.xlabel('Timestep'); plt.ylabel('Reward'); plt.title('Training Rewards'); plt.grid(True); plt.legend(); plt.tight_layout(); plt.show()\n",
    "if hasattr(logger_cb, 'ep_df') and len(logger_cb.ep_df):\n",
    "    ep_df = logger_cb.ep_df\n",
    "    plt.figure(figsize=(5,3))\n",
    "    plt.plot(ep_df['episode'], ep_df['return'], marker='o')\n",
    "    plt.xlabel('Episode'); plt.ylabel('Return'); plt.title('Episode Returns'); plt.grid(True); plt.tight_layout(); plt.show()"
   ]
  },
  {
   "cell_type": "markdown",
   "id": "cf113d3b",
   "metadata": {},
   "source": [
    "### Save Artifacts (Optional)"
   ]
  },
  {
   "cell_type": "code",
   "execution_count": 10,
   "id": "d3e9361f",
   "metadata": {},
   "outputs": [
    {
     "name": "stdout",
     "output_type": "stream",
     "text": [
      "Saved model to ppo_logs/ppo_model.zip\n"
     ]
    }
   ],
   "source": [
    "OUT_DIR = 'ppo_logs'\n",
    "os.makedirs(OUT_DIR, exist_ok=True)\n",
    "model_path = os.path.join(OUT_DIR, 'ppo_model.zip')\n",
    "model.save(model_path)\n",
    "print('Saved model to', model_path)\n",
    "if hasattr(logger_cb, 'step_df'): logger_cb.step_df.to_csv(os.path.join(OUT_DIR,'train_steps.csv'), index=False)\n",
    "if hasattr(logger_cb, 'ep_df'): logger_cb.ep_df.to_csv(os.path.join(OUT_DIR,'episode_returns.csv'), index=False)"
   ]
  },
  {
   "cell_type": "markdown",
   "id": "7c344ffb",
   "metadata": {},
   "source": [
    "### Next Ideas\n",
    "- Add VecNormalize for observation/reward normalization.\n",
    "- Add EvalCallback for periodic evaluation.\n",
    "- Tune hyperparameters (n_steps, batch_size, gamma).\n",
    "- Switch reward function (ComfortReward etc.).\n",
    "- Multi-building or multi-agent variants."
   ]
  }
 ],
 "metadata": {
  "kernelspec": {
   "display_name": "Python (citylearn_env)",
   "language": "python",
   "name": "citylearn_env"
  },
  "language_info": {
   "codemirror_mode": {
    "name": "ipython",
    "version": 3
   },
   "file_extension": ".py",
   "mimetype": "text/x-python",
   "name": "python",
   "nbconvert_exporter": "python",
   "pygments_lexer": "ipython3",
   "version": "3.11.7"
  }
 },
 "nbformat": 4,
 "nbformat_minor": 5
}
